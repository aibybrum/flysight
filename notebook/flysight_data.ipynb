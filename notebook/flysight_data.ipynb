{
 "cells": [
  {
   "cell_type": "markdown",
   "id": "2f354f5c",
   "metadata": {},
   "source": [
    "# Sw00pGenerator3000"
   ]
  },
  {
   "cell_type": "code",
   "execution_count": 1,
   "id": "e3e08494",
   "metadata": {
    "scrolled": false
   },
   "outputs": [],
   "source": [
    "%matplotlib inline\n",
    "import numpy as np\n",
    "import pandas as pd\n",
    "import plotly.express as px\n",
    "import plotly.graph_objects as go\n",
    "import plotly.io as pio\n",
    "import peakutils as pu\n",
    "from plotly.subplots import make_subplots\n",
    "\n",
    "import matplotlib.pylab as pl\n",
    "import matplotlib.pyplot as plt\n",
    "import matplotlib.gridspec as gridspec\n",
    "\n",
    "from math import sqrt, degrees, atan\n",
    "import geopy.distance\n",
    "import pyproj\n",
    "import utm\n",
    "\n",
    "from jupyter_dash import JupyterDash \n",
    "from dash import Dash, dcc, html, Input, Output, callback\n",
    "\n",
    "import logging\n",
    "logging.basicConfig(level=logging.INFO)\n",
    "\n",
    "themes = [\"plotly_white\", \"plotly_dark\", \"ggplot2\", \"simple_white\"]\n",
    "pio.templates.default = themes[0]"
   ]
  },
  {
   "cell_type": "code",
   "execution_count": 2,
   "id": "cfcfc2ec",
   "metadata": {
    "scrolled": false
   },
   "outputs": [
    {
     "data": {
      "text/html": [
       "<div>\n",
       "<style scoped>\n",
       "    .dataframe tbody tr th:only-of-type {\n",
       "        vertical-align: middle;\n",
       "    }\n",
       "\n",
       "    .dataframe tbody tr th {\n",
       "        vertical-align: top;\n",
       "    }\n",
       "\n",
       "    .dataframe thead th {\n",
       "        text-align: right;\n",
       "    }\n",
       "</style>\n",
       "<table border=\"1\" class=\"dataframe\">\n",
       "  <thead>\n",
       "    <tr style=\"text-align: right;\">\n",
       "      <th></th>\n",
       "      <th>time</th>\n",
       "      <th>lat</th>\n",
       "      <th>lon</th>\n",
       "      <th>hMSL</th>\n",
       "      <th>velN</th>\n",
       "      <th>velE</th>\n",
       "      <th>velD</th>\n",
       "      <th>hAcc</th>\n",
       "      <th>vAcc</th>\n",
       "      <th>sAcc</th>\n",
       "      <th>heading</th>\n",
       "      <th>cAcc</th>\n",
       "      <th>gpsFix</th>\n",
       "      <th>numSV</th>\n",
       "    </tr>\n",
       "  </thead>\n",
       "  <tbody>\n",
       "    <tr>\n",
       "      <th>0</th>\n",
       "      <td>2023-04-09T07:28:07.40Z</td>\n",
       "      <td>51.024551</td>\n",
       "      <td>5.520155</td>\n",
       "      <td>1348.562</td>\n",
       "      <td>-16.88</td>\n",
       "      <td>5.83</td>\n",
       "      <td>21.29</td>\n",
       "      <td>4307.536</td>\n",
       "      <td>5007.471</td>\n",
       "      <td>224.70</td>\n",
       "      <td>160.95330</td>\n",
       "      <td>7.66592</td>\n",
       "      <td>3</td>\n",
       "      <td>4</td>\n",
       "    </tr>\n",
       "    <tr>\n",
       "      <th>1</th>\n",
       "      <td>2023-04-09T07:28:07.60Z</td>\n",
       "      <td>51.023893</td>\n",
       "      <td>5.520543</td>\n",
       "      <td>1260.528</td>\n",
       "      <td>-18.41</td>\n",
       "      <td>6.39</td>\n",
       "      <td>23.06</td>\n",
       "      <td>1904.139</td>\n",
       "      <td>2209.380</td>\n",
       "      <td>96.17</td>\n",
       "      <td>160.86574</td>\n",
       "      <td>3.90365</td>\n",
       "      <td>3</td>\n",
       "      <td>4</td>\n",
       "    </tr>\n",
       "    <tr>\n",
       "      <th>2</th>\n",
       "      <td>2023-04-09T07:28:07.80Z</td>\n",
       "      <td>51.016739</td>\n",
       "      <td>5.524668</td>\n",
       "      <td>283.871</td>\n",
       "      <td>-1.86</td>\n",
       "      <td>0.36</td>\n",
       "      <td>2.70</td>\n",
       "      <td>1174.856</td>\n",
       "      <td>1382.874</td>\n",
       "      <td>39.04</td>\n",
       "      <td>160.86574</td>\n",
       "      <td>4.71886</td>\n",
       "      <td>3</td>\n",
       "      <td>4</td>\n",
       "    </tr>\n",
       "    <tr>\n",
       "      <th>3</th>\n",
       "      <td>2023-04-09T07:28:08.00Z</td>\n",
       "      <td>51.015957</td>\n",
       "      <td>5.525116</td>\n",
       "      <td>174.914</td>\n",
       "      <td>0.29</td>\n",
       "      <td>-0.04</td>\n",
       "      <td>-0.66</td>\n",
       "      <td>803.097</td>\n",
       "      <td>952.791</td>\n",
       "      <td>23.55</td>\n",
       "      <td>160.86574</td>\n",
       "      <td>5.14861</td>\n",
       "      <td>3</td>\n",
       "      <td>4</td>\n",
       "    </tr>\n",
       "    <tr>\n",
       "      <th>4</th>\n",
       "      <td>2023-04-09T07:28:08.20Z</td>\n",
       "      <td>51.015678</td>\n",
       "      <td>5.525263</td>\n",
       "      <td>134.521</td>\n",
       "      <td>0.00</td>\n",
       "      <td>-0.01</td>\n",
       "      <td>-0.04</td>\n",
       "      <td>607.534</td>\n",
       "      <td>727.155</td>\n",
       "      <td>14.30</td>\n",
       "      <td>160.86574</td>\n",
       "      <td>5.39289</td>\n",
       "      <td>3</td>\n",
       "      <td>5</td>\n",
       "    </tr>\n",
       "  </tbody>\n",
       "</table>\n",
       "</div>"
      ],
      "text/plain": [
       "                      time        lat       lon      hMSL   velN  velE   velD  \\\n",
       "0  2023-04-09T07:28:07.40Z  51.024551  5.520155  1348.562 -16.88  5.83  21.29   \n",
       "1  2023-04-09T07:28:07.60Z  51.023893  5.520543  1260.528 -18.41  6.39  23.06   \n",
       "2  2023-04-09T07:28:07.80Z  51.016739  5.524668   283.871  -1.86  0.36   2.70   \n",
       "3  2023-04-09T07:28:08.00Z  51.015957  5.525116   174.914   0.29 -0.04  -0.66   \n",
       "4  2023-04-09T07:28:08.20Z  51.015678  5.525263   134.521   0.00 -0.01  -0.04   \n",
       "\n",
       "       hAcc      vAcc    sAcc    heading     cAcc  gpsFix  numSV  \n",
       "0  4307.536  5007.471  224.70  160.95330  7.66592       3      4  \n",
       "1  1904.139  2209.380   96.17  160.86574  3.90365       3      4  \n",
       "2  1174.856  1382.874   39.04  160.86574  4.71886       3      4  \n",
       "3   803.097   952.791   23.55  160.86574  5.14861       3      4  \n",
       "4   607.534   727.155   14.30  160.86574  5.39289       3      5  "
      ]
     },
     "execution_count": 2,
     "metadata": {},
     "output_type": "execute_result"
    }
   ],
   "source": [
    "token = \"pk.eyJ1IjoiYWlieWJydW0iLCJhIjoiY2xhdmRldnhyMDRkNTNybWg0NTl6eHgwZSJ9.phqQCg9UWIXx5wFkc_i0kg\"\n",
    "\n",
    "raw_df = pd.read_csv('../data/raw_own/23-04-09/J1.CSV', skiprows=[1])\n",
    "raw_df.head()"
   ]
  },
  {
   "cell_type": "code",
   "execution_count": 3,
   "id": "425ed094",
   "metadata": {},
   "outputs": [],
   "source": [
    "def validate_metric(speed_metric, distance_metric):\n",
    "    if speed_metric != 'km/u' and speed_metric != 'mph':\n",
    "        raise ValueError(\"Wrong speed metric\")\n",
    "    if distance_metric != 'm' and distance_metric != 'ft':\n",
    "        raise ValueError(\"Wrong distance metric\")\n",
    "\n",
    "\n",
    "def get_y_axis_settings(df, speed_metric='km/u', distance_metric='m'):\n",
    "    validate_metric(speed_metric, distance_metric)\n",
    "    return {\n",
    "        'Elevation':\n",
    "        {\n",
    "            'col': df.elevation, \n",
    "            'color': '#636EFA', \n",
    "            'metric': \"ft\",\n",
    "            'hovertemplate': 'Elevation: %{y:.2f} ft <extra></extra>'\n",
    "        },\n",
    "        'Horizontal speed': \n",
    "        {\n",
    "            'col': df['horz_speed_km/u'] if speed_metric == 'km/u' else df['horz_speed_mph'], \n",
    "            'color': '#FF0B0B', \n",
    "            'metric': speed_metric,\n",
    "            'hovertemplate': 'Horz speed: %{y:.2f} ' + speed_metric + '<extra></extra>'\n",
    "        },\n",
    "        'Vertical speed':   \n",
    "        {\n",
    "            'col': df['vert_speed_km/u'] if speed_metric == 'km/u' else df['vert_speed_mph'],\n",
    "            'color': '#00CC96', \n",
    "            'metric': speed_metric,\n",
    "            'hovertemplate': 'Vert speed: %{y:.2f} ' + speed_metric + '<extra></extra>'\n",
    "        },\n",
    "        'Dive angle':       \n",
    "        {\n",
    "            'col': df.dive_angle,\n",
    "            'color': '#AB63FA', \n",
    "            'metric': 'deg',\n",
    "            'hovertemplate': 'Dive angle: %{y:.2f}° <extra></extra>'\n",
    "        },\n",
    "        'Distance':   \n",
    "        {\n",
    "            'col': df['y_axis_distance_m'] if distance_metric == \"m\" else df['y_axis_distance_ft'],\n",
    "            'color': '#636EFA', \n",
    "            'metric': distance_metric,\n",
    "            'hovertemplate': 'yaxis distance: %{y:.2f} ' + distance_metric + '<extra></extra>'\n",
    "        },\n",
    "    }\n",
    "\n",
    "def get_x_axis_settings(df, speed_metric='km/u', distance_metric='m'):\n",
    "    validate_metric(speed_metric, distance_metric)\n",
    "    return {\n",
    "        'Time': \n",
    "        {\n",
    "            'col': df.time,\n",
    "            'metric': 's'\n",
    "        },\n",
    "        'Horizontal Distance': \n",
    "        {\n",
    "            'col': df['horz_distance_m'] if distance_metric == \"m\" else df['horz_distance_ft'],\n",
    "            'metric': distance_metric\n",
    "        },\n",
    "        'Distance': \n",
    "        {\n",
    "            'col': df['x_axis_distance_m'] if distance_metric == \"m\" else df['x_axis_distance_ft'],\n",
    "            'metric': distance_metric\n",
    "        }\n",
    "    }\n",
    "\n",
    "def get_metrics(df, idke, speed_metric):\n",
    "    y_axis = get_yaxis_settings(df, speed_metric)\n",
    "    return {\n",
    "        'y_axis':\n",
    "        {\n",
    "            'values': [y_axis[col]['col'].loc[y_axis[col]['col'].index == idke].values[0] for col in y_axis.keys()], \n",
    "            'metric': [y_axis[col]['metric'] for col in y_axis.keys()],\n",
    "        },\n",
    "        \n",
    "    }"
   ]
  },
  {
   "cell_type": "code",
   "execution_count": 4,
   "id": "40fb7c5c",
   "metadata": {},
   "outputs": [],
   "source": [
    "# Dataset helpers\n",
    "def meters_to_feet(meters):\n",
    "    return meters * 3.280839895\n",
    "\n",
    "\n",
    "def feet_to_meters(feet):\n",
    "    return feet / 3.280839895\n",
    "\n",
    "\n",
    "def meter_per_second_to_miles_per_hour(meter_per_second):\n",
    "    return meter_per_second * 2.236936\n",
    "\n",
    "\n",
    "def meter_per_second_to_kilometers_per_hour(meter_per_second):\n",
    "    return meter_per_second * 3.6\n",
    "\n",
    "\n",
    "def calc_horizontal_speed(n, e):\n",
    "    return sqrt((n**2) + (e**2))\n",
    "\n",
    "\n",
    "def calc_dive_angle(v_speed, h_speed):\n",
    "    try:\n",
    "        return degrees(atan(v_speed/h_speed))\n",
    "    except ZeroDivisionError:\n",
    "        return 0\n",
    "\n",
    "\n",
    "def calc_distance_geo(metric, lat1, lat2, lon1, lon2):\n",
    "    coordinates_1 = (lat1, lon1)\n",
    "    coordinates_2 = (lat2, lon2)\n",
    "    if metric == 'ft':\n",
    "        return geopy.distance.geodesic(coordinates_1, coordinates_2).miles * 5280\n",
    "    elif metric == 'm':\n",
    "        return geopy.distance.geodesic(coordinates_1, coordinates_2).kilometers * 1000\n",
    "\n",
    "\n",
    "def to_utm(lat, lon):\n",
    "    zone = utm.from_latlon(lat[0], lon[0])[2]\n",
    "    p = pyproj.Proj(proj='utm', zone=zone, ellps='WGS84')\n",
    "    return p(lon, lat)\n",
    "\n",
    "\n",
    "def calc_axis_distance(metric, lat, lon):\n",
    "    x, y = to_utm(lat, lon)\n",
    "    if metric == 'ft':\n",
    "        return [meters_to_feet(x_cor) for x_cor in x], [meters_to_feet(y_cor) for y_cor in y]\n",
    "    elif metric == 'm':\n",
    "        return x, y"
   ]
  },
  {
   "cell_type": "code",
   "execution_count": 5,
   "id": "88298591",
   "metadata": {},
   "outputs": [
    {
     "data": {
      "text/html": [
       "<div>\n",
       "<style scoped>\n",
       "    .dataframe tbody tr th:only-of-type {\n",
       "        vertical-align: middle;\n",
       "    }\n",
       "\n",
       "    .dataframe tbody tr th {\n",
       "        vertical-align: top;\n",
       "    }\n",
       "\n",
       "    .dataframe thead th {\n",
       "        text-align: right;\n",
       "    }\n",
       "</style>\n",
       "<table border=\"1\" class=\"dataframe\">\n",
       "  <thead>\n",
       "    <tr style=\"text-align: right;\">\n",
       "      <th></th>\n",
       "      <th>timestamp</th>\n",
       "      <th>time</th>\n",
       "      <th>lat</th>\n",
       "      <th>lon</th>\n",
       "      <th>elevation</th>\n",
       "      <th>horz_distance_ft</th>\n",
       "      <th>horz_distance_m</th>\n",
       "      <th>x_axis_distance_ft</th>\n",
       "      <th>x_axis_distance_m</th>\n",
       "      <th>y_axis_distance_ft</th>\n",
       "      <th>y_axis_distance_m</th>\n",
       "      <th>vert_speed_mph</th>\n",
       "      <th>horz_speed_mph</th>\n",
       "      <th>vert_speed_km/u</th>\n",
       "      <th>horz_speed_km/u</th>\n",
       "      <th>heading</th>\n",
       "      <th>dive_angle</th>\n",
       "      <th>user</th>\n",
       "    </tr>\n",
       "  </thead>\n",
       "  <tbody>\n",
       "    <tr>\n",
       "      <th>0</th>\n",
       "      <td>2023-04-15 11:03:47.200000+00:00</td>\n",
       "      <td>0.0</td>\n",
       "      <td>50.849336</td>\n",
       "      <td>3.144861</td>\n",
       "      <td>209.317585</td>\n",
       "      <td>0.000000</td>\n",
       "      <td>0.000000</td>\n",
       "      <td>0.000000</td>\n",
       "      <td>0.000000</td>\n",
       "      <td>0.000000</td>\n",
       "      <td>0.000000</td>\n",
       "      <td>7.762168</td>\n",
       "      <td>1.361778</td>\n",
       "      <td>12.492</td>\n",
       "      <td>2.191569</td>\n",
       "      <td>0.00000</td>\n",
       "      <td>80.049416</td>\n",
       "      <td>0</td>\n",
       "    </tr>\n",
       "    <tr>\n",
       "      <th>1</th>\n",
       "      <td>2023-04-15 11:03:47.400000+00:00</td>\n",
       "      <td>0.2</td>\n",
       "      <td>50.848892</td>\n",
       "      <td>3.144476</td>\n",
       "      <td>-6.725722</td>\n",
       "      <td>184.927293</td>\n",
       "      <td>56.365839</td>\n",
       "      <td>-88.741362</td>\n",
       "      <td>-27.048367</td>\n",
       "      <td>-162.159824</td>\n",
       "      <td>-49.426314</td>\n",
       "      <td>-1.051360</td>\n",
       "      <td>2.381680</td>\n",
       "      <td>-1.692</td>\n",
       "      <td>3.832944</td>\n",
       "      <td>0.00000</td>\n",
       "      <td>-23.818399</td>\n",
       "      <td>0</td>\n",
       "    </tr>\n",
       "    <tr>\n",
       "      <th>2</th>\n",
       "      <td>2023-04-15 11:03:47.600000+00:00</td>\n",
       "      <td>0.4</td>\n",
       "      <td>50.848911</td>\n",
       "      <td>3.144473</td>\n",
       "      <td>8.585958</td>\n",
       "      <td>192.211499</td>\n",
       "      <td>58.586065</td>\n",
       "      <td>-89.309868</td>\n",
       "      <td>-27.221648</td>\n",
       "      <td>-154.900749</td>\n",
       "      <td>-47.213748</td>\n",
       "      <td>0.223694</td>\n",
       "      <td>2.721074</td>\n",
       "      <td>0.360</td>\n",
       "      <td>4.379145</td>\n",
       "      <td>0.00000</td>\n",
       "      <td>4.699594</td>\n",
       "      <td>0</td>\n",
       "    </tr>\n",
       "    <tr>\n",
       "      <th>3</th>\n",
       "      <td>2023-04-15 11:03:47.800000+00:00</td>\n",
       "      <td>0.6</td>\n",
       "      <td>50.848913</td>\n",
       "      <td>3.144479</td>\n",
       "      <td>8.431759</td>\n",
       "      <td>193.601181</td>\n",
       "      <td>59.009640</td>\n",
       "      <td>-88.087054</td>\n",
       "      <td>-26.848934</td>\n",
       "      <td>-154.241658</td>\n",
       "      <td>-47.012857</td>\n",
       "      <td>-0.984252</td>\n",
       "      <td>2.784334</td>\n",
       "      <td>-1.584</td>\n",
       "      <td>4.480952</td>\n",
       "      <td>0.00000</td>\n",
       "      <td>-19.468315</td>\n",
       "      <td>0</td>\n",
       "    </tr>\n",
       "    <tr>\n",
       "      <th>4</th>\n",
       "      <td>2023-04-15 11:03:48+00:00</td>\n",
       "      <td>0.8</td>\n",
       "      <td>50.848921</td>\n",
       "      <td>3.144480</td>\n",
       "      <td>9.730971</td>\n",
       "      <td>196.495690</td>\n",
       "      <td>59.891886</td>\n",
       "      <td>-87.838632</td>\n",
       "      <td>-26.773215</td>\n",
       "      <td>-151.358988</td>\n",
       "      <td>-46.134220</td>\n",
       "      <td>0.246063</td>\n",
       "      <td>3.768490</td>\n",
       "      <td>0.396</td>\n",
       "      <td>6.064798</td>\n",
       "      <td>298.86286</td>\n",
       "      <td>3.735815</td>\n",
       "      <td>0</td>\n",
       "    </tr>\n",
       "  </tbody>\n",
       "</table>\n",
       "</div>"
      ],
      "text/plain": [
       "                         timestamp  time        lat       lon   elevation  \\\n",
       "0 2023-04-15 11:03:47.200000+00:00   0.0  50.849336  3.144861  209.317585   \n",
       "1 2023-04-15 11:03:47.400000+00:00   0.2  50.848892  3.144476   -6.725722   \n",
       "2 2023-04-15 11:03:47.600000+00:00   0.4  50.848911  3.144473    8.585958   \n",
       "3 2023-04-15 11:03:47.800000+00:00   0.6  50.848913  3.144479    8.431759   \n",
       "4        2023-04-15 11:03:48+00:00   0.8  50.848921  3.144480    9.730971   \n",
       "\n",
       "   horz_distance_ft  horz_distance_m  x_axis_distance_ft  x_axis_distance_m  \\\n",
       "0          0.000000         0.000000            0.000000           0.000000   \n",
       "1        184.927293        56.365839          -88.741362         -27.048367   \n",
       "2        192.211499        58.586065          -89.309868         -27.221648   \n",
       "3        193.601181        59.009640          -88.087054         -26.848934   \n",
       "4        196.495690        59.891886          -87.838632         -26.773215   \n",
       "\n",
       "   y_axis_distance_ft  y_axis_distance_m  vert_speed_mph  horz_speed_mph  \\\n",
       "0            0.000000           0.000000        7.762168        1.361778   \n",
       "1         -162.159824         -49.426314       -1.051360        2.381680   \n",
       "2         -154.900749         -47.213748        0.223694        2.721074   \n",
       "3         -154.241658         -47.012857       -0.984252        2.784334   \n",
       "4         -151.358988         -46.134220        0.246063        3.768490   \n",
       "\n",
       "   vert_speed_km/u  horz_speed_km/u    heading  dive_angle  user  \n",
       "0           12.492         2.191569    0.00000   80.049416     0  \n",
       "1           -1.692         3.832944    0.00000  -23.818399     0  \n",
       "2            0.360         4.379145    0.00000    4.699594     0  \n",
       "3           -1.584         4.480952    0.00000  -19.468315     0  \n",
       "4            0.396         6.064798  298.86286    3.735815     0  "
      ]
     },
     "execution_count": 5,
     "metadata": {},
     "output_type": "execute_result"
    }
   ],
   "source": [
    "# Creating dataset\n",
    "\n",
    "class Dataset:\n",
    "    def __init__(self, filename, df):\n",
    "        self.filename = filename\n",
    "        self.df = df\n",
    "\n",
    "    def get_total_seconds(self):\n",
    "        datetimes = [pd.to_datetime(d) for d in self.df.time]\n",
    "        l = []\n",
    "        for i, d in enumerate(datetimes):\n",
    "            duration = datetimes[i] - datetimes[0]\n",
    "            l.append(duration.total_seconds())\n",
    "        return l\n",
    "\n",
    "    def get_fixed_elevation(self, elevation):\n",
    "        ground_elevation = meters_to_feet(self.df.hMSL.iloc[-1])\n",
    "        return [meters_to_feet(self.df.hMSL[i]) - ground_elevation - elevation for i in\n",
    "                range(0, len(self.df.hMSL))]\n",
    "        # return [helpers.meters_to_feet(self.df.hMSL[i]) - elevation for i in range(0, len(self.df.hMSL))]\n",
    "\n",
    "    def get_vertical_speed(self, metric):\n",
    "        if metric == 'mph':\n",
    "            return [meter_per_second_to_miles_per_hour(meter) for meter in self.df.velD]\n",
    "        elif metric == 'km/u':\n",
    "            return [meter_per_second_to_kilometers_per_hour(meter) for meter in self.df.velD]\n",
    "        else:\n",
    "            raise ValueError('Invalid metric')\n",
    "\n",
    "    def get_horizontal_speed(self, metric):\n",
    "        speed = [calc_horizontal_speed(self.df.velN[i], self.df.velE[i]) for i in range(0, len(self.df))]\n",
    "        if metric == 'mph':\n",
    "            return [meter_per_second_to_miles_per_hour(s) for s in speed]\n",
    "        elif metric == 'km/u':\n",
    "            return [meter_per_second_to_kilometers_per_hour(s) for s in speed]\n",
    "        else:\n",
    "            raise ValueError('Invalid metric')\n",
    "\n",
    "    def get_dive_angle(self, v_speed, h_speed):\n",
    "        return [calc_dive_angle(v_speed[i], h_speed[i]) for i in range(0, len(self.df))]\n",
    "\n",
    "    def get_horizontal_distance(self, metric):\n",
    "        lis, dis = [0], 0.0\n",
    "        for i in range(0, len(self.df) - 1):\n",
    "            dis += calc_distance_geo(metric, self.df.lat[i], self.df.lat[i + 1], self.df.lon[i],\n",
    "                                             self.df.lon[i + 1])\n",
    "            lis.append(dis)\n",
    "        return lis\n",
    "\n",
    "    def get_axis_distance(self, metric, axis):\n",
    "        x, y = calc_axis_distance(metric, self.df.lat, self.df.lon)\n",
    "        axis_value = x if axis == 'x' else y\n",
    "        lis, dis = [0], 0.0\n",
    "        for i in range(0, len(axis_value) - 1):\n",
    "            dis += axis_value[i + 1] - axis_value[i]\n",
    "            lis.append(dis)\n",
    "        return lis\n",
    "\n",
    "    def create(self):\n",
    "        df = pd.DataFrame({\n",
    "            'timestamp': pd.to_datetime(self.df.time),\n",
    "            'time': np.array(self.get_total_seconds()),\n",
    "            'lat': self.df.lat,\n",
    "            'lon': self.df.lon,\n",
    "            'elevation': self.get_fixed_elevation(0),\n",
    "            'horz_distance_ft': self.get_horizontal_distance('ft'),\n",
    "            'horz_distance_m': self.get_horizontal_distance('m'),\n",
    "            'x_axis_distance_ft': self.get_axis_distance('ft', 'x'),\n",
    "            'x_axis_distance_m': self.get_axis_distance('m', 'x'),\n",
    "            'y_axis_distance_ft': self.get_axis_distance('ft', 'y'),\n",
    "            'y_axis_distance_m': self.get_axis_distance('m', 'y'),\n",
    "            'vert_speed_mph': self.get_vertical_speed('mph'),\n",
    "            'horz_speed_mph': self.get_horizontal_speed('mph'),\n",
    "            'vert_speed_km/u': self.get_vertical_speed('km/u'),\n",
    "            'horz_speed_km/u': self.get_horizontal_speed('km/u'),\n",
    "            'heading': self.df.heading,\n",
    "            'dive_angle': self.get_dive_angle(self.get_vertical_speed('mph'), self.get_horizontal_speed('mph')),\n",
    "            'user': 0})\n",
    "        #df.set_index('timestamp', inplace=True)\n",
    "        return df\n",
    "\n",
    "    def get_name(self):\n",
    "        return pd.to_datetime(self.df.time[0]).strftime(\"D%m-%d-%YT%H%M\") + self.filename\n",
    "\n",
    "    def save(self, path):\n",
    "        dataframe = self.create()\n",
    "        dataframe.to_csv(os.path.join(path, self.get_name() + '.csv'), index=False)\n",
    "\n",
    "    def __str__(self):\n",
    "        return f'{self.get_name()}'\n",
    "\n",
    "raw = pd.read_csv('../data/raw_own/23-04-15/J3.CSV', skiprows=[1])\n",
    "\n",
    "#raw = pd.read_csv('../data/raw_own/23-04-09/12-26-52.CSV', skiprows=[1])\n",
    "#raw = pd.read_csv('../data/raw_own/23-04-08/12-10-38.CSV', skiprows=[1])\n",
    "#raw = pd.read_csv('../data/raw_own/23-04-08/15-27-08.CSV', skiprows=[1])\n",
    "#raw = pd.read_csv('../data/raw_own/23-04-08/15-29-54.CSV', skiprows=[1])\n",
    "#raw = pd.read_csv('../data/raw_own/23-04-08/17-17-49.CSV', skiprows=[1])\n",
    "\n",
    "\n",
    "#raw = pd.read_csv('../data/raw/J2.CSV', skiprows=[1])\n",
    "dataset = Dataset(\"v1\", raw).create()\n",
    "dataset.head()"
   ]
  },
  {
   "cell_type": "code",
   "execution_count": 6,
   "id": "153bdbdf",
   "metadata": {},
   "outputs": [],
   "source": [
    "def closest_value(input_list, input_value):\n",
    "    difference = lambda input_list : abs(input_list - input_value)\n",
    "    res = min(input_list, key=difference)\n",
    "    return res\n",
    "\n",
    "class Exit:\n",
    "    def __init__(self, df):\n",
    "        self.df = df\n",
    "        self.exit_df = self.df.iloc[self.get_exit():].reset_index(drop=True)\n",
    "\n",
    "    def get_exit_df(self):\n",
    "        return self.exit_df\n",
    "\n",
    "    def get_skydive_elevation(self):\n",
    "        peaks = pu.indexes(self.df.elevation, thres=0.9, min_dist=1)\n",
    "        # offset because the exit point can be to late to measure horz, vert speed\n",
    "        offset = peaks[-1] - 20\n",
    "        jmp_df = self.df.iloc[offset:].reset_index()\n",
    "        return {'plane_on_altitude': jmp_df, 'peaks': peaks}\n",
    "\n",
    "    def get_skydive_horz_speed(self):\n",
    "        jmp_df = self.get_skydive_elevation()['plane_on_altitude']\n",
    "        # Get horz speed before exit / plane on attitude\n",
    "        horz_speed_peaks = pu.indexes(jmp_df.horz_speed_mph, thres=0.5, min_dist=1)\n",
    "        horz_speed_lows = pu.indexes(-jmp_df.horz_speed_mph, thres=0.5, min_dist=1)\n",
    "        peak = [p for p in horz_speed_peaks if p < horz_speed_lows[0]]\n",
    "        return {'plane_on_altitude': jmp_df, 'exit': peak[-1], 'peaks': horz_speed_peaks, 'lows': horz_speed_lows}\n",
    "\n",
    "    def get_skydive_vert_speed(self):\n",
    "        jmp_df = self.get_skydive_elevation()['plane_on_altitude']\n",
    "        # Get horz speed before exit / plane on attitude\n",
    "        vert_speed_peaks = pu.indexes(jmp_df.vert_speed_mph, thres=0.5, min_dist=1)\n",
    "        vert_speed_lows = pu.indexes(-jmp_df.vert_speed_mph, thres=0.5, min_dist=1)\n",
    "        drop = [l for l in vert_speed_lows if l < vert_speed_peaks[0]]\n",
    "        return {'plane_on_altitude': jmp_df, 'exit': drop[-1], 'peaks': vert_speed_peaks, 'lows': vert_speed_lows}\n",
    "\n",
    "    def get_exit(self):\n",
    "        jmp_df = self.get_skydive_elevation()['plane_on_altitude']\n",
    "        mean = np.mean([jmp_df.time[self.get_skydive_vert_speed()['exit']], jmp_df.time[self.get_skydive_horz_speed()['exit']]])\n",
    "        return self.df.index[self.df['time'] == closest_value(self.df.time, mean)][0]\n",
    "\n",
    "    def plt_exit_point(self):\n",
    "        jmp_df = self.get_skydive_elevation()['plane_on_altitude']\n",
    "\n",
    "        gs = gridspec.GridSpec(2, 2)\n",
    "        pl.figure(figsize=(15,10))\n",
    "\n",
    "        ax = pl.subplot(gs[1, 0]) # row 0, col 0\n",
    "        horz_speed = self.get_skydive_horz_speed()\n",
    "\n",
    "        pl.plot(jmp_df.time, jmp_df.horz_speed_mph)\n",
    "        pl.axvline(x = jmp_df.time[horz_speed['exit']], color='grey', linestyle =\"--\")\n",
    "        pl.plot(jmp_df.time[horz_speed['peaks']], jmp_df.horz_speed_mph[horz_speed['peaks']], marker=\"8\", color='g', ls=\"\")\n",
    "        pl.plot(jmp_df.time[horz_speed['lows'][0]], jmp_df.horz_speed_mph[horz_speed['lows'][0]], marker=\"8\", color='r', ls=\"\")\n",
    "        pl.title(\"exit - Horizontal speed\")\n",
    "        pl.xlabel(\"Time (s)\")\n",
    "        pl.ylabel(\"Horizontal speed (mph)\")\n",
    "\n",
    "        ax = pl.subplot(gs[1, 1]) # row 0, col 1\n",
    "        vert_speed = self.get_skydive_vert_speed()\n",
    "\n",
    "        pl.plot(jmp_df.time, jmp_df.vert_speed_mph)\n",
    "        pl.axvline(x = jmp_df.time[vert_speed['exit']], color='grey', linestyle =\"--\")\n",
    "        pl.plot(jmp_df.time[vert_speed['peaks'][0]], jmp_df.vert_speed_mph[vert_speed['peaks'][0]], marker=\"8\", color='g', ls=\"\")\n",
    "        pl.plot(jmp_df.time[vert_speed['lows']], jmp_df.vert_speed_mph[vert_speed['lows']], marker=\"8\", color='r', ls=\"\")\n",
    "        pl.title(\"exit - Vertical speed\")\n",
    "        pl.xlabel(\"Time (s)\")\n",
    "        pl.ylabel(\"Vertical speed (mph)\")\n",
    "\n",
    "        ax = pl.subplot(gs[0, :]) # row 1, span all columns\n",
    "        peaks = self.get_skydive_elevation()['peaks']\n",
    "\n",
    "        pl.plot(self.df.time, self.df.elevation)\n",
    "        pl.axvline(x = self.df.time[peaks[-1]], color='grey', linestyle =\"--\")\n",
    "        pl.plot(self.df.time[peaks], self.df.elevation[peaks], marker=\"8\", color='g', ls=\"\")\n",
    "        pl.title(\"Plane on altitude - Elevation\")\n",
    "        pl.xlabel(\"Time (s)\")\n",
    "        pl.ylabel(\"Elevation (feet)\")\n",
    "\n",
    "        pl.show()\n",
    "\n",
    "    def plt_exit(self):\n",
    "        fig, ax = plt.subplots(figsize=(15,8))\n",
    "        fig.subplots_adjust(right=0.75)\n",
    "\n",
    "        twin1 = ax.twinx()\n",
    "        twin2 = ax.twinx()\n",
    "\n",
    "        twin2.spines.right.set_position((\"axes\", 1.08))\n",
    "\n",
    "        p1, = ax.plot(self.exit_df.horz_distance_m, self.exit_df.elevation, \"b\", label=\"Elevation\")\n",
    "        p2, = twin1.plot(self.exit_df.horz_distance_m, self.exit_df.horz_speed_mph, \"r\", label=\"Horz speed\")\n",
    "        p3, = twin2.plot(self.exit_df.horz_distance_m, self.exit_df.vert_speed_mph, \"g\", label=\"Vert speed\")\n",
    "\n",
    "        ax.set_xlabel(\"Distance (feet)\")\n",
    "        ax.set_ylabel(\"Elevation (feet)\")\n",
    "        twin1.set_ylabel(\"Horizontal speed (mph)\")\n",
    "        twin2.set_ylabel(\"Vertical speed (mph)\")\n",
    "\n",
    "        ax.yaxis.label.set_color(p1.get_color())\n",
    "        twin1.yaxis.label.set_color(p2.get_color())\n",
    "        twin2.yaxis.label.set_color(p3.get_color())\n",
    "\n",
    "        tkw = dict(size=4, width=1.5)\n",
    "        ax.tick_params(axis='y', colors=p1.get_color(), **tkw)\n",
    "        twin1.tick_params(axis='y', colors=p2.get_color(), **tkw)\n",
    "        twin2.tick_params(axis='y', colors=p3.get_color(), **tkw)\n",
    "        ax.tick_params(axis='x', **tkw)\n",
    "\n",
    "        ax.legend(handles=[p1, p2, p3])\n",
    "        plt.show()"
   ]
  },
  {
   "cell_type": "code",
   "execution_count": 7,
   "id": "47b28cdd",
   "metadata": {},
   "outputs": [],
   "source": [
    "class Landing:\n",
    "    def __init__(self, df):\n",
    "        self.df = df\n",
    "        self.exit_df = Exit(df).get_exit_df()\n",
    "        self.landing_df = self.exit_df.iloc[self.get_landing_index():].reset_index(drop=True)\n",
    "    \n",
    "    def get_landing_df(self):\n",
    "        return self.landing_df\n",
    "        \n",
    "    # Get landing\n",
    "    def get_landing_elevation(self):\n",
    "        jmp_df = self.exit_df[self.exit_df.elevation <= 1200].reset_index()\n",
    "        peaks = pu.indexes(jmp_df.elevation, thres=0.5, min_dist=0.1)\n",
    "        lows = pu.indexes(-jmp_df.elevation, thres=0.1, min_dist=0.1)\n",
    "        return {'start_landing': jmp_df, 'peaks': peaks, 'lows': lows}\n",
    "\n",
    "    def get_landing_vert_speed(self):\n",
    "        jmp_df = self.get_landing_elevation()['start_landing']\n",
    "        peaks = pu.indexes(jmp_df.vert_speed_mph, thres=0.5, min_dist=0.1)\n",
    "        lows = pu.indexes(-jmp_df.vert_speed_mph, thres=0.75, min_dist=5)\n",
    "        \n",
    "        lows_keys = [low for low in lows if low <= peaks[-1]]\n",
    "        lows_values = [jmp_df.vert_speed_mph[low] for low in lows_keys]\n",
    "        \n",
    "        # landing_point is where the vertspeed is the lowest and start to increase\n",
    "        return {'landing_point': lows_keys[lows_values.index(min(lows_values))], 'peaks': peaks, 'lows': lows}\n",
    "    \n",
    "    def get_landing(self):\n",
    "        # change landing point if there is a dip in elevation\n",
    "        elevation_low = self.get_landing_elevation()['lows'][0]\n",
    "        vert_speed_low = self.get_landing_vert_speed()['landing_point']\n",
    "        if elevation_low <= vert_speed_low:\n",
    "            return elevation_low\n",
    "        return vert_speed_low\n",
    "    \n",
    "    def get_landing_index(self):\n",
    "        try:\n",
    "            jmp_df = self.get_landing_elevation()['start_landing']\n",
    "            return self.exit_df.index[self.exit_df['time'] == jmp_df.time[self.get_landing()]][0]\n",
    "        except:\n",
    "            logging.info(f'No high performance landing detected')\n",
    "        \n",
    "    # Get features of landing\n",
    "    def get_stop(self):\n",
    "        offset = 1.5\n",
    "        horz_speed_peaks = pu.indexes(self.landing_df.horz_speed_mph, thres=0.1, min_dist=1)\n",
    "        horz_speed_lows = pu.indexes(-self.landing_df.horz_speed_mph, thres=0.5, min_dist=1)\n",
    "        return [l for l in horz_speed_lows if l > horz_speed_peaks[-1] and self.landing_df.horz_speed_mph[l] < offset][0]\n",
    "    \n",
    "    def get_top_of_turn(self):\n",
    "        peaks = pu.indexes(self.landing_df.elevation, thres=0.01, min_dist=1)\n",
    "        if len(peaks) == 0 or peaks[0] >= self.get_stop():\n",
    "            return None\n",
    "        return peaks[0]\n",
    "\n",
    "    def get_max_horz_speed(self):\n",
    "        return self.landing_df.idxmax().horz_speed_mph\n",
    "        \n",
    "    # Visualisations\n",
    "    def plt_landing_point(self):\n",
    "        jmp_df = self.get_landing_elevation()['start_landing']\n",
    "        elevation = self.get_landing_elevation()\n",
    "        vert_speed = self.get_landing_vert_speed()\n",
    "        \n",
    "        gs = gridspec.GridSpec(2, 1)\n",
    "        pl.figure(figsize=(15,10))\n",
    "        \n",
    "        ax = pl.subplot(gs[0, 0]) # row 1, span all columns\n",
    "        \n",
    "        pl.plot(jmp_df.time, jmp_df.elevation)\n",
    "        pl.axvline(x = jmp_df.time[vert_speed['landing_point']], color='grey', linestyle =\"--\")\n",
    "        pl.plot(jmp_df.time[elevation['peaks']], jmp_df.elevation[elevation['peaks']], marker=\"8\", color='g', ls=\"\")\n",
    "        pl.plot(jmp_df.time[elevation['lows']], jmp_df.elevation[elevation['lows']], marker=\"8\", color='r', ls=\"\")\n",
    "        pl.title(\"Landing - Elevation\")\n",
    "        pl.xlabel(\"Time (s)\")\n",
    "        pl.ylabel(\"Elevation (feet)\")\n",
    "\n",
    "        ax = pl.subplot(gs[1, 0]) # row 0, col 1\n",
    "\n",
    "        pl.plot(jmp_df.time, jmp_df.vert_speed_mph)\n",
    "        pl.axvline(x = jmp_df.time[vert_speed['landing_point']], color='grey', linestyle =\"--\")\n",
    "        pl.plot(jmp_df.time[vert_speed['peaks']], jmp_df.vert_speed_mph[vert_speed['peaks']], marker=\"8\", color='g', ls=\"\")\n",
    "        pl.plot(jmp_df.time[vert_speed['lows']], jmp_df.vert_speed_mph[vert_speed['lows']], marker=\"8\", color='r', ls=\"\")\n",
    "        pl.title(\"Landing - Vertical speed\")\n",
    "        pl.xlabel(\"Time (s)\")\n",
    "        pl.ylabel(\"Vertical speed (mph)\")\n",
    "\n",
    "        pl.show() \n",
    "        \n",
    "    def plt_side_view(self, distance_metric):\n",
    "        x_axis = get_x_axis_settings(self.landing_df, distance_metric=distance_metric)\n",
    "        y_axis = get_y_axis_settings(self.landing_df)\n",
    "        \n",
    "        top = self.get_top_of_turn()\n",
    "\n",
    "        fig = go.Figure()\n",
    "        fig.add_trace(go.Scatter(\n",
    "            x=x_axis['Horizontal Distance']['col'].iloc[:self.get_stop()+1],\n",
    "            y=y_axis['Elevation']['col'].iloc[:self.get_stop()+1],\n",
    "            name='Elevation',\n",
    "            line=dict(color=y_axis['Elevation']['color'], width=1.2),\n",
    "            hovertemplate=y_axis['Elevation']['hovertemplate'],\n",
    "            showlegend=False\n",
    "        ))\n",
    "        if top is not None:\n",
    "            fig.add_trace(go.Scatter(\n",
    "                x=[x_axis['Horizontal Distance']['col'][top]],\n",
    "                y=[y_axis['Elevation']['col'][top]],\n",
    "                name='Top of turn',\n",
    "                text=['Top of turn'],\n",
    "                textposition='top right',\n",
    "                hovertemplate='Top of turn: %{y:.2f}' + y_axis['Elevation']['metric'] + ' <extra></extra>',\n",
    "                mode='markers+text',\n",
    "                showlegend=False\n",
    "            ))\n",
    "        fig.add_trace(go.Scatter(\n",
    "            x=[x_axis['Horizontal Distance']['col'][self.get_stop()]],\n",
    "            y=[y_axis['Elevation']['col'][self.get_stop()]],\n",
    "            name='Stop',\n",
    "            text=['stop'],\n",
    "            textposition='top left',\n",
    "            hovertemplate='Stop: %{y:.2f}' + x_axis['Distance']['metric'] + ' <extra></extra>',\n",
    "            mode='markers+text',\n",
    "            showlegend=False\n",
    "        ))\n",
    "        fig.update_layout(hovermode='x unified',\n",
    "                          legend=dict(yanchor=\"top\", y=1, xanchor=\"right\", x=1))\n",
    "        fig.update_xaxes(title=f\"Horizontal distance ({x_axis['Horizontal Distance']['metric']})\")\n",
    "        fig.update_yaxes(title=f\"Elevation ({y_axis['Elevation']['metric']})\")\n",
    "\n",
    "        return fig\n",
    "    \n",
    "    def plt_speed(self, speed_metric, distance_metric):\n",
    "        x_axis = get_x_axis_settings(self.landing_df, distance_metric=distance_metric)\n",
    "        y_axis = get_y_axis_settings(self.landing_df, speed_metric=speed_metric)\n",
    "\n",
    "        fig = go.Figure()\n",
    "        fig.add_trace(go.Scatter(\n",
    "            x=x_axis['Horizontal Distance']['col'].iloc[self.get_max_horz_speed():self.get_stop() + 1],\n",
    "            y=y_axis['Horizontal speed']['col'].iloc[self.get_max_horz_speed():self.get_stop() + 1],\n",
    "            line=dict(color=y_axis['Horizontal speed']['color'], width=1.2),\n",
    "            hovertemplate=y_axis['Horizontal speed']['hovertemplate'],\n",
    "            showlegend=False\n",
    "        ))\n",
    "        fig.add_trace(go.Scatter(\n",
    "            x=[x_axis['Horizontal Distance']['col'].iloc[self.get_max_horz_speed()]],\n",
    "            y=[y_axis['Horizontal speed']['col'][self.get_max_horz_speed()]],\n",
    "            name=f\"max horz speed ({round(y_axis['Horizontal speed']['col'][self.get_max_horz_speed()], 2)} {y_axis['Horizontal speed']['metric']})\",\n",
    "            text=[\"Max Horz Speed\"],\n",
    "            textposition=\"top right\",\n",
    "            hovertemplate='max horz speed: %{y:.2f}' + y_axis['Horizontal speed']['metric'] + ' <extra></extra>',\n",
    "            mode='markers+text'\n",
    "        ))\n",
    "        fig.add_trace(go.Scatter(\n",
    "            x=[x_axis['Horizontal Distance']['col'].iloc[self.get_stop()]],\n",
    "            y=[y_axis['Horizontal speed']['col'][self.get_stop()]],\n",
    "            text=['stop'],\n",
    "            textposition='top left',\n",
    "            hovertemplate='Stop: %{y:.2f}' + x_axis['Horizontal Distance']['metric'] + ' <extra></extra>',\n",
    "            mode='markers+text',\n",
    "            showlegend=False\n",
    "        ))\n",
    "\n",
    "        fig.update_layout(hovermode='x unified',\n",
    "                          legend=dict(yanchor=\"top\", y=1, xanchor=\"right\", x=1))\n",
    "        fig.update_xaxes(title=f\"Horizontal distance ({x_axis['Horizontal Distance']['metric']})\")\n",
    "        fig.update_yaxes(title=f\"Horizontal speed ({y_axis['Horizontal speed']['metric']})\")\n",
    "        return fig"
   ]
  },
  {
   "cell_type": "code",
   "execution_count": 8,
   "id": "cd8fb602",
   "metadata": {},
   "outputs": [],
   "source": [
    "class Jump(Landing, Exit):\n",
    "    def __init__(self, name=\"empty\", df=pd.DataFrame()):\n",
    "        self.name = name\n",
    "        if not df.empty:\n",
    "            self.df = df\n",
    "            super().__init__(self.df)\n",
    "\n",
    "    def get_df(self):\n",
    "        return self.df\n",
    "\n",
    "    def get_name(self):\n",
    "        return self.name\n",
    "\n",
    "    def set_name(self, name):\n",
    "        self.name = name\n",
    "\n",
    "    def __str__(self):\n",
    "        return f'{self.name}'"
   ]
  },
  {
   "cell_type": "code",
   "execution_count": 9,
   "id": "f0e34289",
   "metadata": {},
   "outputs": [
    {
     "ename": "IndexError",
     "evalue": "list index out of range",
     "output_type": "error",
     "traceback": [
      "\u001b[1;31m---------------------------------------------------------------------------\u001b[0m",
      "\u001b[1;31mIndexError\u001b[0m                                Traceback (most recent call last)",
      "Cell \u001b[1;32mIn[9], line 1\u001b[0m\n\u001b[1;32m----> 1\u001b[0m jump \u001b[38;5;241m=\u001b[39m \u001b[43mJump\u001b[49m\u001b[43m(\u001b[49m\u001b[43mname\u001b[49m\u001b[38;5;241;43m=\u001b[39;49m\u001b[38;5;124;43m\"\u001b[39;49m\u001b[38;5;124;43mtest\u001b[39;49m\u001b[38;5;124;43m\"\u001b[39;49m\u001b[43m,\u001b[49m\u001b[43m \u001b[49m\u001b[43mdf\u001b[49m\u001b[38;5;241;43m=\u001b[39;49m\u001b[43mdataset\u001b[49m\u001b[43m)\u001b[49m\n",
      "Cell \u001b[1;32mIn[8], line 6\u001b[0m, in \u001b[0;36mJump.__init__\u001b[1;34m(self, name, df)\u001b[0m\n\u001b[0;32m      4\u001b[0m \u001b[38;5;28;01mif\u001b[39;00m \u001b[38;5;129;01mnot\u001b[39;00m df\u001b[38;5;241m.\u001b[39mempty:\n\u001b[0;32m      5\u001b[0m     \u001b[38;5;28mself\u001b[39m\u001b[38;5;241m.\u001b[39mdf \u001b[38;5;241m=\u001b[39m df\n\u001b[1;32m----> 6\u001b[0m     \u001b[38;5;28;43msuper\u001b[39;49m\u001b[43m(\u001b[49m\u001b[43m)\u001b[49m\u001b[38;5;241;43m.\u001b[39;49m\u001b[38;5;21;43m__init__\u001b[39;49m\u001b[43m(\u001b[49m\u001b[38;5;28;43mself\u001b[39;49m\u001b[38;5;241;43m.\u001b[39;49m\u001b[43mdf\u001b[49m\u001b[43m)\u001b[49m\n",
      "Cell \u001b[1;32mIn[7], line 4\u001b[0m, in \u001b[0;36mLanding.__init__\u001b[1;34m(self, df)\u001b[0m\n\u001b[0;32m      2\u001b[0m \u001b[38;5;28;01mdef\u001b[39;00m \u001b[38;5;21m__init__\u001b[39m(\u001b[38;5;28mself\u001b[39m, df):\n\u001b[0;32m      3\u001b[0m     \u001b[38;5;28mself\u001b[39m\u001b[38;5;241m.\u001b[39mdf \u001b[38;5;241m=\u001b[39m df\n\u001b[1;32m----> 4\u001b[0m     \u001b[38;5;28mself\u001b[39m\u001b[38;5;241m.\u001b[39mexit_df \u001b[38;5;241m=\u001b[39m \u001b[43mExit\u001b[49m\u001b[43m(\u001b[49m\u001b[43mdf\u001b[49m\u001b[43m)\u001b[49m\u001b[38;5;241m.\u001b[39mget_exit_df()\n\u001b[0;32m      5\u001b[0m     \u001b[38;5;28mself\u001b[39m\u001b[38;5;241m.\u001b[39mlanding_df \u001b[38;5;241m=\u001b[39m \u001b[38;5;28mself\u001b[39m\u001b[38;5;241m.\u001b[39mexit_df\u001b[38;5;241m.\u001b[39miloc[\u001b[38;5;28mself\u001b[39m\u001b[38;5;241m.\u001b[39mget_landing_index():]\u001b[38;5;241m.\u001b[39mreset_index(drop\u001b[38;5;241m=\u001b[39m\u001b[38;5;28;01mTrue\u001b[39;00m)\n",
      "Cell \u001b[1;32mIn[6], line 9\u001b[0m, in \u001b[0;36mExit.__init__\u001b[1;34m(self, df)\u001b[0m\n\u001b[0;32m      7\u001b[0m \u001b[38;5;28;01mdef\u001b[39;00m \u001b[38;5;21m__init__\u001b[39m(\u001b[38;5;28mself\u001b[39m, df):\n\u001b[0;32m      8\u001b[0m     \u001b[38;5;28mself\u001b[39m\u001b[38;5;241m.\u001b[39mdf \u001b[38;5;241m=\u001b[39m df\n\u001b[1;32m----> 9\u001b[0m     \u001b[38;5;28mself\u001b[39m\u001b[38;5;241m.\u001b[39mexit_df \u001b[38;5;241m=\u001b[39m \u001b[38;5;28mself\u001b[39m\u001b[38;5;241m.\u001b[39mdf\u001b[38;5;241m.\u001b[39miloc[\u001b[38;5;28;43mself\u001b[39;49m\u001b[38;5;241;43m.\u001b[39;49m\u001b[43mget_exit\u001b[49m\u001b[43m(\u001b[49m\u001b[43m)\u001b[49m:]\u001b[38;5;241m.\u001b[39mreset_index(drop\u001b[38;5;241m=\u001b[39m\u001b[38;5;28;01mTrue\u001b[39;00m)\n",
      "Cell \u001b[1;32mIn[6], line 39\u001b[0m, in \u001b[0;36mExit.get_exit\u001b[1;34m(self)\u001b[0m\n\u001b[0;32m     37\u001b[0m \u001b[38;5;28;01mdef\u001b[39;00m \u001b[38;5;21mget_exit\u001b[39m(\u001b[38;5;28mself\u001b[39m):\n\u001b[0;32m     38\u001b[0m     jmp_df \u001b[38;5;241m=\u001b[39m \u001b[38;5;28mself\u001b[39m\u001b[38;5;241m.\u001b[39mget_skydive_elevation()[\u001b[38;5;124m'\u001b[39m\u001b[38;5;124mplane_on_altitude\u001b[39m\u001b[38;5;124m'\u001b[39m]\n\u001b[1;32m---> 39\u001b[0m     mean \u001b[38;5;241m=\u001b[39m np\u001b[38;5;241m.\u001b[39mmean([jmp_df\u001b[38;5;241m.\u001b[39mtime[\u001b[38;5;28;43mself\u001b[39;49m\u001b[38;5;241;43m.\u001b[39;49m\u001b[43mget_skydive_vert_speed\u001b[49m\u001b[43m(\u001b[49m\u001b[43m)\u001b[49m[\u001b[38;5;124m'\u001b[39m\u001b[38;5;124mexit\u001b[39m\u001b[38;5;124m'\u001b[39m]], jmp_df\u001b[38;5;241m.\u001b[39mtime[\u001b[38;5;28mself\u001b[39m\u001b[38;5;241m.\u001b[39mget_skydive_horz_speed()[\u001b[38;5;124m'\u001b[39m\u001b[38;5;124mexit\u001b[39m\u001b[38;5;124m'\u001b[39m]]])\n\u001b[0;32m     40\u001b[0m     \u001b[38;5;28;01mreturn\u001b[39;00m \u001b[38;5;28mself\u001b[39m\u001b[38;5;241m.\u001b[39mdf\u001b[38;5;241m.\u001b[39mindex[\u001b[38;5;28mself\u001b[39m\u001b[38;5;241m.\u001b[39mdf[\u001b[38;5;124m'\u001b[39m\u001b[38;5;124mtime\u001b[39m\u001b[38;5;124m'\u001b[39m] \u001b[38;5;241m==\u001b[39m closest_value(\u001b[38;5;28mself\u001b[39m\u001b[38;5;241m.\u001b[39mdf\u001b[38;5;241m.\u001b[39mtime, mean)][\u001b[38;5;241m0\u001b[39m]\n",
      "Cell \u001b[1;32mIn[6], line 35\u001b[0m, in \u001b[0;36mExit.get_skydive_vert_speed\u001b[1;34m(self)\u001b[0m\n\u001b[0;32m     33\u001b[0m vert_speed_lows \u001b[38;5;241m=\u001b[39m pu\u001b[38;5;241m.\u001b[39mindexes(\u001b[38;5;241m-\u001b[39mjmp_df\u001b[38;5;241m.\u001b[39mvert_speed_mph, thres\u001b[38;5;241m=\u001b[39m\u001b[38;5;241m0.5\u001b[39m, min_dist\u001b[38;5;241m=\u001b[39m\u001b[38;5;241m1\u001b[39m)\n\u001b[0;32m     34\u001b[0m drop \u001b[38;5;241m=\u001b[39m [l \u001b[38;5;28;01mfor\u001b[39;00m l \u001b[38;5;129;01min\u001b[39;00m vert_speed_lows \u001b[38;5;28;01mif\u001b[39;00m l \u001b[38;5;241m<\u001b[39m vert_speed_peaks[\u001b[38;5;241m0\u001b[39m]]\n\u001b[1;32m---> 35\u001b[0m \u001b[38;5;28;01mreturn\u001b[39;00m {\u001b[38;5;124m'\u001b[39m\u001b[38;5;124mplane_on_altitude\u001b[39m\u001b[38;5;124m'\u001b[39m: jmp_df, \u001b[38;5;124m'\u001b[39m\u001b[38;5;124mexit\u001b[39m\u001b[38;5;124m'\u001b[39m: \u001b[43mdrop\u001b[49m\u001b[43m[\u001b[49m\u001b[38;5;241;43m-\u001b[39;49m\u001b[38;5;241;43m1\u001b[39;49m\u001b[43m]\u001b[49m, \u001b[38;5;124m'\u001b[39m\u001b[38;5;124mpeaks\u001b[39m\u001b[38;5;124m'\u001b[39m: vert_speed_peaks, \u001b[38;5;124m'\u001b[39m\u001b[38;5;124mlows\u001b[39m\u001b[38;5;124m'\u001b[39m: vert_speed_lows}\n",
      "\u001b[1;31mIndexError\u001b[0m: list index out of range"
     ]
    }
   ],
   "source": [
    "jump = Jump(name=\"test\", df=dataset)"
   ]
  },
  {
   "cell_type": "code",
   "execution_count": 16,
   "id": "53c81b5b",
   "metadata": {},
   "outputs": [
    {
     "ename": "NameError",
     "evalue": "name 'jump' is not defined",
     "output_type": "error",
     "traceback": [
      "\u001b[1;31m---------------------------------------------------------------------------\u001b[0m",
      "\u001b[1;31mNameError\u001b[0m                                 Traceback (most recent call last)",
      "Cell \u001b[1;32mIn[16], line 1\u001b[0m\n\u001b[1;32m----> 1\u001b[0m \u001b[43mjump\u001b[49m\u001b[38;5;241m.\u001b[39mplt_exit_point()\n",
      "\u001b[1;31mNameError\u001b[0m: name 'jump' is not defined"
     ]
    }
   ],
   "source": [
    "jump.plt_exit_point()"
   ]
  },
  {
   "cell_type": "code",
   "execution_count": null,
   "id": "98e84c2a",
   "metadata": {},
   "outputs": [],
   "source": [
    "jump.plt_landing_point()"
   ]
  },
  {
   "cell_type": "code",
   "execution_count": null,
   "id": "e3c0473e",
   "metadata": {},
   "outputs": [],
   "source": [
    "jump.plt_side_view('ft')"
   ]
  },
  {
   "cell_type": "code",
   "execution_count": 188,
   "id": "d4ba4cdd",
   "metadata": {},
   "outputs": [],
   "source": [
    "# OLD Code\n",
    "\n",
    "#def get_difference(df, fase, between=None):\n",
    "#    if fase == '1':\n",
    "#        lis, diff = [0], 0.0\n",
    "#    if fase == '2':\n",
    "#        lis, diff = [round(between, 6)], between\n",
    "#    for i in range(0, len(df)-1):\n",
    "#        diff += df[i+1] - df[i]\n",
    "#        lis.append(round(diff, 6))\n",
    "#    return lis\n",
    "\n",
    "#def shift_df(dataframe, key, col):\n",
    "#    first = dataframe.iloc[:key+1][::-1][col].reset_index(drop=True)\n",
    "#    second = dataframe.iloc[key+1:][col].reset_index(drop=True)\n",
    "#    if key < 0:\n",
    "#        raise ValueError(\"key cannot be equal or smaller then 0\")\n",
    "#    if key > len(dataframe):\n",
    "#        raise ValueError(\"key cannot be bigger then length of dataframe\")\n",
    "#    if key == len(dataframe):\n",
    "#        return get_difference(first, '1')[::-1]\n",
    "#    between = second.iloc[0] - first.iloc[0]\n",
    "#    return np.concatenate((get_difference(first, '1')[::-1], get_difference(second, '2', between)))"
   ]
  },
  {
   "cell_type": "code",
   "execution_count": 182,
   "id": "27321ffa",
   "metadata": {},
   "outputs": [],
   "source": [
    "def cumulative_sum(df, fase='1', between=0.0):\n",
    "    lis, diff = [0.0], 0.0\n",
    "    if fase == '2':\n",
    "        lis[0] = round(between, 6)\n",
    "        diff = lis[0]\n",
    "    for i in range(len(df) - 1):\n",
    "        diff += df[i+1] - df[i]\n",
    "        lis.append(round(diff, 6))\n",
    "    return lis\n",
    "\n",
    "\n",
    "def shift_df(dataframe, key, col):\n",
    "    if key < 0:\n",
    "        raise ValueError(\"key must be positive\")\n",
    "    if key >= len(dataframe):\n",
    "        raise ValueError(\"key must be less than the length of dataframe\")\n",
    "    first = dataframe.iloc[:key+1][col][::-1].reset_index(drop=True)\n",
    "    second = dataframe.iloc[key+1:][col].reset_index(drop=True)\n",
    "    between = second.iloc[0] - first.iloc[0]\n",
    "    return np.concatenate((cumulative_sum(first, fase='1')[::-1], cumulative_sum(second, fase='2', between=between)))\n",
    "\n",
    "\n",
    "def set_start_point(df, key):\n",
    "    df2 = df.copy()\n",
    "    df2['time'] = shift_df(df2, key, 'time')\n",
    "    df2['horz_distance_m'] = shift_df(df2, key, 'horz_distance_m')\n",
    "    df2['horz_distance_ft'] = shift_df(df2, key, 'horz_distance_ft')\n",
    "    df2['x_axis_distance_m'] = shift_df(df2, key, 'x_axis_distance_m')\n",
    "    df2['x_axis_distance_ft'] = shift_df(df2, key, 'x_axis_distance_ft')\n",
    "    df2['y_axis_distance_m'] = shift_df(df2, key, 'y_axis_distance_m')\n",
    "    df2['y_axis_distance_ft'] = shift_df(df2, key, 'y_axis_distance_ft')\n",
    "    return df2"
   ]
  },
  {
   "cell_type": "code",
   "execution_count": 30,
   "id": "16d077d1",
   "metadata": {},
   "outputs": [
    {
     "data": {
      "application/vnd.plotly.v1+json": {
       "config": {
        "plotlyServerURL": "https://plot.ly"
       },
       "data": [
        {
         "hovertemplate": "Elevation: %{y:.2f} ft <extra></extra>",
         "line": {
          "color": "#636EFA",
          "width": 1.2
         },
         "name": "Elevation",
         "showlegend": false,
         "type": "scatter",
         "x": [
          -23.880825,
          -20.05813,
          -16.537518,
          -13.299837,
          -10.314415,
          -7.547604,
          -4.932584,
          -2.428527,
          0,
          2.439631,
          4.935184,
          7.423338,
          9.829233,
          12.267866,
          14.651194,
          17.029022,
          19.345378,
          21.707446,
          24.137632,
          26.635951,
          29.216876,
          31.913792,
          34.698363,
          37.573994,
          40.549601,
          43.665028,
          46.876304,
          50.217522,
          53.713112,
          57.359654,
          61.179123,
          65.121466,
          69.214862,
          73.448926,
          77.750328,
          82.101547,
          86.473014,
          90.866769,
          95.241829,
          99.551612,
          103.770795,
          107.926125,
          111.859664,
          115.408236,
          118.751857,
          121.999641,
          124.981757,
          127.576602,
          129.768189,
          131.580861,
          133.024302,
          134.156423,
          135.228593,
          136.469396,
          137.989973,
          139.897002,
          142.200857,
          144.886521,
          147.952572,
          151.34617,
          155.018609,
          158.966624,
          163.161458,
          167.589574,
          172.20427,
          176.8945,
          181.6046,
          186.331447,
          191.021714,
          195.666761,
          200.1507,
          204.509275,
          208.717972,
          212.792053,
          216.707485,
          220.431418,
          223.980996,
          227.33749,
          230.496397,
          233.462627,
          236.346355,
          239.158902,
          241.837878,
          244.354951,
          246.653671,
          248.729809,
          250.688835,
          252.472534,
          254.086417,
          255.572566,
          256.91814,
          258.067394,
          259.016669,
          259.801068,
          260.435289,
          260.962698,
          261.298763,
          261.549388,
          261.663279,
          261.864085,
          262.251169,
          262.558919,
          262.678988,
          262.755025,
          262.852706,
          263.023829,
          263.120383,
          263.143502,
          263.172536,
          263.255789,
          263.400538,
          263.523175,
          263.585409,
          263.651379,
          263.707266,
          263.740251,
          263.773611,
          263.806596,
          263.839956,
          263.86899,
          263.893829,
          263.944739,
          263.975788,
          264.047633,
          264.074854,
          264.105903,
          264.112112,
          264.137611,
          264.15036,
          264.16704,
          264.179789,
          264.202058,
          264.259044,
          264.29793,
          264.357794,
          264.418757,
          264.469753,
          264.536743,
          264.578369,
          264.611729,
          264.66877,
          264.681519,
          264.717157,
          264.773175,
          264.811422,
          264.84706,
          264.872558,
          264.885307,
          264.91434,
          264.972408,
          265.005393,
          265.005393,
          265.028511,
          265.045191,
          265.108279,
          265.201412,
          265.297966,
          265.358929,
          265.400555,
          265.423674,
          265.440354,
          265.440354,
          265.451489,
          265.464238,
          265.498213,
          265.527247,
          265.64014,
          265.768161,
          265.830396,
          265.863756,
          265.899393,
          265.9428,
          265.981009,
          265.999638,
          266.055656,
          266.113723,
          266.176811,
          266.274873,
          266.391533,
          266.517709,
          266.586918,
          266.645625,
          266.757143,
          266.904007,
          267.030361,
          267.106855,
          267.173845,
          267.192474,
          267.209154,
          267.215364,
          267.263641,
          267.307048,
          267.378893,
          267.474664,
          267.536899,
          267.559168,
          267.593144,
          267.638113,
          267.716054,
          267.774761,
          267.81297,
          267.851857,
          267.887494,
          267.916528,
          267.938231,
          267.963729,
          267.985432,
          268.060777,
          268.115597,
          268.17127,
          268.204673,
          268.238033,
          268.27692,
          268.2936,
          268.330858,
          268.393946,
          268.438818,
          268.471803,
          268.471803,
          268.504788,
          268.580825,
          268.618083,
          268.639787,
          268.650921,
          268.672624,
          268.685373,
          268.710871,
          268.73399,
          268.797078,
          268.834336,
          268.873223,
          268.928043,
          269.054219,
          269.146417,
          269.216929,
          269.2618,
          269.289021,
          269.332427,
          269.374054,
          269.407414,
          269.440398,
          269.473758,
          269.507118,
          269.534339,
          269.547088,
          269.569357,
          269.661555,
          269.732066,
          269.776604,
          269.81058,
          269.84394,
          269.865643,
          269.888762,
          269.91426,
          269.92668,
          269.94336,
          269.956109,
          269.972789,
          269.978998,
          269.990133,
          270.014972,
          270.096633,
          270.147544,
          270.158678,
          270.169813,
          270.182562,
          270.204265,
          270.237625,
          270.281031,
          270.407143,
          270.499341,
          270.532701,
          270.583697,
          270.628666,
          270.641415,
          270.670448,
          270.692152,
          270.708832,
          270.721581,
          270.748801,
          270.803622,
          270.882507,
          270.957121,
          271.024111,
          271.051332,
          271.068012,
          271.086641,
          271.10527,
          271.148738,
          271.224083,
          271.273761,
          271.27997,
          271.291105,
          271.404995,
          271.47961,
          271.556104,
          271.716161,
          271.833574,
          271.889247,
          271.935484,
          271.952164,
          272.000441,
          272.075056,
          272.142046,
          272.193042,
          272.21616,
          272.340049,
          272.440259,
          272.469293,
          272.504931,
          272.528049,
          272.557083,
          272.568218,
          272.580967,
          272.592101,
          272.604521,
          272.631741,
          272.653444,
          272.676563,
          272.750232,
          272.800272,
          272.816952,
          272.838655,
          272.880282,
          272.896962,
          272.909711,
          272.915921,
          272.915921,
          272.927055,
          272.933265,
          272.933265,
          272.960486,
          272.979115,
          272.985325,
          272.985325,
          273.054533,
          273.14147,
          273.166309,
          273.182989,
          273.210209,
          273.228838,
          273.247468,
          273.264148,
          273.340566,
          273.408873,
          273.519598,
          273.645773,
          273.695813,
          273.724847,
          273.763056,
          273.808661,
          273.875381,
          273.88813,
          273.922106,
          273.945224,
          273.957644,
          273.963854,
          273.976273,
          274.057764,
          274.117628,
          274.143126,
          274.174175,
          274.237263,
          274.307775,
          274.351181,
          274.372884,
          274.384018,
          274.407137,
          274.430256,
          274.455095,
          274.512081,
          274.556952,
          274.573632,
          274.654359,
          274.774428,
          274.829248,
          274.862652,
          274.898289,
          274.997944,
          275.081343,
          275.131383,
          275.176988,
          275.225829,
          275.264716,
          275.277465,
          275.294145,
          275.306894,
          275.332392,
          275.338602,
          275.351021,
          275.37586,
          275.406909,
          275.425538,
          275.492528,
          275.572231,
          275.593935,
          275.606684,
          275.706763,
          275.785649,
          275.798068,
          275.829117,
          275.85082,
          275.875659,
          275.909019,
          275.925699,
          275.938448,
          275.998312,
          276.069776,
          276.107985,
          276.129688,
          276.142108,
          276.213953,
          276.300766,
          276.345637,
          276.372858,
          276.385607,
          276.398356,
          276.404566,
          276.410775,
          276.423524,
          276.423524,
          276.435944,
          276.452624,
          276.469304,
          276.485984,
          276.485984,
          276.563757,
          276.647499,
          276.690967,
          276.734436,
          276.753065,
          276.771694,
          276.777904,
          276.789038,
          276.801458,
          276.818138,
          276.842977,
          276.855726,
          276.855726,
          276.861936,
          276.868145,
          276.880565,
          276.891699,
          276.94054,
          277.065233,
          277.121121,
          277.121121,
          277.127331,
          277.13975,
          277.15217,
          277.164919,
          277.181599,
          277.206438,
          277.245324,
          277.299765,
          277.397828,
          277.490025,
          277.506705,
          277.532203,
          277.57383,
          277.630816,
          277.680494,
          277.707715,
          277.762007,
          277.806976,
          277.864017,
          277.918309,
          277.972602,
          277.994305,
          278.006724,
          278.028427,
          278.040847
         ],
         "y": [
          741.2073490784,
          741.7486876610751,
          743.218503934035,
          745.3904199445251,
          747.608267713545,
          749.9967191571051,
          751.95538057442,
          753.2053805744151,
          753.526902884125,
          752.568897634785,
          750.20997375028,
          746.7454068211599,
          742.457349078395,
          738.0216535403549,
          731.67322834353,
          726.22703411783,
          719.4881889735,
          711.8569553777301,
          703.500656165165,
          694.3503936980101,
          684.54724409175,
          674.2585301810301,
          663.47112860627,
          652.2933070840049,
          640.8070866116101,
          629.1305774253051,
          617.38188976131,
          605.57086613931,
          593.7171915986751,
          582.0078740134201,
          570.64960629693,
          559.478346454455,
          548.139763777335,
          536.7946194204251,
          525.593832018895,
          514.0419947486,
          502.1095800504851,
          489.438976375995,
          475.5347769009851,
          461.1417322816201,
          445.889107609765,
          429.25853018201,
          411.52230970964,
          393.093832019425,
          374.110892386955,
          353.41535432929504,
          332.162073489485,
          310.367454067,
          287.71653543192,
          265.055774277155,
          242.903543306115,
          221.77165354242,
          200.62992125904,
          179.76377952683998,
          159.320866141095,
          139.20603674485,
          119.80314960582,
          101.22703412033,
          83.56299212565,
          67.03740157453501,
          51.614173228139975,
          37.40157480300002,
          24.688320209875,
          13.382545931704982,
          3.4481627296449915,
          -5.2427821522099975,
          -12.736220472390016,
          -18.92388451436001,
          -23.94685039360502,
          -27.59842519674001,
          -29.603018372585,
          -30.87270341195,
          -31.07611548544,
          -31.25328083977,
          -30.97769028859001,
          -30.344488188855,
          -29.917979002505007,
          -29.412729658675005,
          -28.832020997260003,
          -28.284120734795,
          -28.17585301826001,
          -28.113517060254992,
          -28.01509186340499,
          -27.719816272855013,
          -27.358923884405016,
          -26.729002624565013,
          -26.466535432965017,
          -26.253280839789998,
          -26.20078740147001,
          -26.59776902876501,
          -27.473753280729994,
          -27.949475065505013,
          -27.77887139096501,
          -27.913385826660004,
          -27.67060367443001,
          -27.89370078729,
          -27.562335957895,
          -27.24081364818501,
          -27.10629921249001,
          -27.221128608815008,
          -27.93635170592502,
          -28.513779527445,
          -27.61154855632,
          -26.98818897627001,
          -26.788057742675008,
          -26.4435695537,
          -26.36482939621999,
          -26.230314960525007,
          -25.951443569450007,
          -25.823490813544996,
          -26.06299212588,
          -25.958005249240017,
          -25.83333333323,
          -25.498687663940004,
          -25.08858267706501,
          -24.721128608825,
          -24.340551181005,
          -23.99606299203002,
          -23.60564304452501,
          -23.123359579959995,
          -22.73950131224501,
          -22.62139107602501,
          -22.286745406735008,
          -21.91272965870499,
          -21.630577427735005,
          -21.499343831935008,
          -21.397637795190008,
          -21.148293963170005,
          -20.964566929050008,
          -20.93832020989001,
          -20.59711286081001,
          -20.416666666585016,
          -20.17388451435501,
          -20.22637795267501,
          -19.750656167900004,
          -19.45866141724501,
          -19.143700787325017,
          -18.802493438244998,
          -18.49737532801001,
          -18.20538057735501,
          -17.929790026175,
          -17.647637795205,
          -17.349081364759996,
          -17.152230971059993,
          -16.837270341140012,
          -16.532152230904998,
          -16.276246719095013,
          -15.980971128544994,
          -15.62992125977999,
          -15.456036745345015,
          -15.114829396265009,
          -14.924540682355,
          -14.642388451385017,
          -14.379921259784991,
          -14.143700787345011,
          -14.15354330703002,
          -14.314304461885,
          -14.366797900205,
          -14.396325459259998,
          -14.330708661360006,
          -14.222440944825024,
          -14.071522309654997,
          -13.99278215217501,
          -13.914041994694998,
          -13.795931758475009,
          -13.92716535427499,
          -14.055118110180018,
          -14.219160104930012,
          -14.189632545874986,
          -14.005905511755005,
          -13.83202099732,
          -13.736876640365011,
          -13.671259842464991,
          -13.727034120680004,
          -13.776246719105018,
          -13.602362204670015,
          -13.441601049815006,
          -13.238188976325006,
          -12.84776902882001,
          -12.75262467186502,
          -12.62139107606498,
          -12.385170603625,
          -12.267060367405008,
          -12.089895013074994,
          -11.847112860845016,
          -11.80774278210501,
          -11.804461942209995,
          -11.709317585255008,
          -11.59448818893,
          -11.610892388405006,
          -11.473097112815026,
          -11.35826771648999,
          -11.0892388451,
          -10.81364829392001,
          -10.390419947465006,
          -10.049212598384996,
          -9.648950131194994,
          -9.471784776865007,
          -9.616141732245012,
          -9.557086614134988,
          -9.445538057704994,
          -9.383202099700014,
          -9.498031496024993,
          -9.448818897600006,
          -9.47506561676002,
          -9.47506561676002,
          -9.353674540645017,
          -9.14370078736502,
          -9.235564304424996,
          -9.274934383165004,
          -9.330708661379989,
          -9.383202099700014,
          -9.40944881886,
          -9.402887139070003,
          -9.29461942253502,
          -9.222440944845005,
          -9.11089238841501,
          -8.96981627292999,
          -8.809055118075008,
          -8.530183727000008,
          -8.129921259810004,
          -8.067585301804996,
          -8.021653543275022,
          -7.8937007873700225,
          -7.828083989470002,
          -7.778871391044987,
          -7.683727034089998,
          -7.624671915980002,
          -7.536089238815009,
          -7.424540682385015,
          -7.293307086585003,
          -7.116141732255016,
          -7.066929133830001,
          -6.925853018345009,
          -6.886482939605003,
          -6.948818897609982,
          -6.925853018345009,
          -6.768372703384983,
          -6.617454068215011,
          -6.512467191575013,
          -6.450131233570005,
          -6.364829396299996,
          -6.272965879240019,
          -6.177821522285001,
          -6.079396325434999,
          -5.958005249319996,
          -5.803805774255011,
          -5.833333333310009,
          -5.859580052469994,
          -5.862860892365006,
          -5.833333333310009,
          -5.849737532784985,
          -5.816929133835004,
          -5.807086614149995,
          -5.734908136460007,
          -5.7841207348849935,
          -5.7611548556200205,
          -5.774278215200013,
          -5.734908136460007,
          -5.65288713908501,
          -5.662729658770019,
          -5.731627296565023,
          -5.738188976354991,
          -5.656167978979994,
          -5.623359580030012,
          -5.528215223074994,
          -5.410104986855004,
          -5.318241469794998,
          -5.219816272944996,
          -5.193569553785011,
          -5.154199475045004,
          -5.28871391074,
          -5.318241469794998,
          -5.337926509164987,
          -5.3707349081150255,
          -5.501968503915009,
          -5.554461942235008,
          -5.538057742760003,
          -5.633202099715021,
          -5.803805774255011,
          -5.944881889740003,
          -5.9809711285850256,
          -6.0597112860649816,
          -6.1876640419700095,
          -6.30577427819,
          -6.361548556405012,
          -6.3779527558799884,
          -6.469816272939994,
          -6.5780839894750045,
          -6.617454068215011,
          -6.548556430420007,
          -6.35826771651,
          -6.266404199449994,
          -6.082677165330011,
          -6.1876640419700095,
          -6.1876640419700095,
          -6.266404199449994,
          -6.384514435670013,
          -6.437007873990012,
          -6.450131233570005,
          -6.446850393674993,
          -6.496062992100008,
          -6.535433070840014,
          -6.610892388425015,
          -6.722440944855009,
          -6.5780839894750045,
          -6.519028871365009,
          -6.335301837244998,
          -6.414041994725011,
          -6.473097112835006,
          -6.564960629895012,
          -6.656824146954989,
          -6.768372703384983,
          -6.804461942230006,
          -6.9881889763499885,
          -7.11942257215,
          -7.227690288685011,
          -7.349081364799986,
          -7.460629921230009,
          -7.680446194194985,
          -7.601706036715001,
          -7.598425196819988,
          -7.64435695535002,
          -7.677165354300001,
          -7.713254593144995,
          -7.716535433040008,
          -7.769028871360007,
          -7.801837270310017,
          -7.847769028839991,
          -7.8937007873700225,
          -7.844488188945007,
          -7.81496062989001,
          -7.903543307055003,
          -7.88057742779003,
          -7.90026246715999,
          -7.982283464535016,
          -8.005249343800017,
          -7.972440944850007,
          -7.81496062989001,
          -7.680446194194985,
          -7.555774278184998,
          -7.378608923854983,
          -7.234251968475007,
          -6.912729658765016,
          -6.912729658765016,
          -7.017716535404986,
          -7.112860892360004,
          -7.155511810994994,
          -7.280183727004982,
          -7.286745406795006,
          -7.1522309711000105,
          -6.748687664014994,
          -6.755249343804991,
          -6.7454068241200105,
          -6.70275590548502,
          -6.683070866115003,
          -6.643700787374996,
          -6.525590551155005,
          -6.650262467165021,
          -6.604330708635018,
          -6.624015748005007,
          -6.558398950104987,
          -6.512467191575013,
          -6.433727034095,
          -6.397637795250006,
          -6.328740157455002,
          -6.361548556405012,
          -6.3713910760900205,
          -6.440288713885025,
          -6.535433070840014,
          -6.532152230945002,
          -6.5223097112600215,
          -6.459973753254985,
          -6.768372703384983,
          -6.945538057714998,
          -6.912729658765016,
          -6.87335958002501,
          -6.650262467165021,
          -5.994094488165018,
          -5.826771653520012,
          -5.790682414675018,
          -5.711942257195005,
          -5.643044619400001,
          -5.547900262444983,
          -5.472440944860011,
          -5.387139107590002,
          -5.24606299210501,
          -5.167322834624997,
          -5.0393700787199975,
          -4.9671916010300095,
          -4.865485564284995,
          -4.806430446175,
          -4.753937007855001,
          -4.822834645650005,
          -4.990157480295011,
          -4.996719160085007,
          -4.799868766385004,
          -4.229002624654981,
          -3.963254593160002,
          -3.946850393684997,
          -3.963254593160002,
          -3.8385826771499865,
          -3.77952755904002,
          -3.858267716520004,
          -3.789370078725,
          -3.717191601035012,
          -3.7532808398800057,
          -3.805774278200005,
          -3.841863517044999,
          -3.65157480313502,
          -3.4973753280700066,
          -2.9954068241349887,
          -3.047900262454988,
          -3.113517060355008,
          -3.047900262454988,
          -3.0905511810900066,
          -3.011811023610022,
          -3.011811023610022,
          -3.028215223084999,
          -2.946194225710002,
          -2.9363517060249933,
          -2.982283464554996,
          -2.9265091863399846,
          -2.7591863516949786,
          -2.7132545931650043,
          -2.64435695537,
          -2.572178477680012,
          -2.654199475055009,
          -2.716535433059988,
          -2.6804461942150226,
          -2.6968503936899992,
          -2.6049868766299937,
          -2.5426509186250144,
          -2.4737532808300102,
          -2.3129921259750006,
          -2.20472440943999,
          -2.1784776902800047,
          -2.1981627296499937,
          -2.047244094479993,
          -1.9389763779449825,
          -1.8700787401500063,
          -1.83070866141,
          -1.7290026246650143,
          -1.3320209973699946,
          -1.486220472435008,
          -1.3845144356899937,
          -1.2893700787350042,
          -1.2532808398900102,
          -1.1942257217800147,
          -1.184383202095006,
          -1.1450131233549996,
          -1.1286089238799946,
          -1.0203412073450124,
          -0.9383202099699872,
          -0.8825459317550042,
          -0.948162729654996,
          -0.9153543307050144,
          -0.8792650918600202,
          -0.7808398950100184,
          -0.7677165354299973,
          -0.6299212598400175,
          -0.5479002624649922,
          -0.4593175853000275,
          -0.5610236220450133,
          -0.4330708661400138,
          -0.2854330708649968,
          -0.2165354330699926,
          -0.2230971128600174,
          -0.0918635170600055,
          -0.0656167978999917,
          -0.1017060367450142,
          0
         ]
        },
        {
         "hovertemplate": "Top of turn: %{y:.2f}ft <extra></extra>",
         "mode": "markers+text",
         "name": "Top of turn",
         "showlegend": false,
         "text": [
          "Top of turn"
         ],
         "textposition": "top right",
         "type": "scatter",
         "x": [
          0
         ],
         "y": [
          753.526902884125
         ]
        },
        {
         "hovertemplate": "Stop: %{y:.2f}m <extra></extra>",
         "mode": "markers+text",
         "name": "Stop",
         "showlegend": false,
         "text": [
          "stop"
         ],
         "textposition": "top left",
         "type": "scatter",
         "x": [
          261.663279
         ],
         "y": [
          -27.10629921249001
         ]
        }
       ],
       "layout": {
        "hovermode": "x unified",
        "legend": {
         "x": 1,
         "xanchor": "right",
         "y": 1,
         "yanchor": "top"
        },
        "template": {
         "data": {
          "bar": [
           {
            "error_x": {
             "color": "#2a3f5f"
            },
            "error_y": {
             "color": "#2a3f5f"
            },
            "marker": {
             "line": {
              "color": "white",
              "width": 0.5
             },
             "pattern": {
              "fillmode": "overlay",
              "size": 10,
              "solidity": 0.2
             }
            },
            "type": "bar"
           }
          ],
          "barpolar": [
           {
            "marker": {
             "line": {
              "color": "white",
              "width": 0.5
             },
             "pattern": {
              "fillmode": "overlay",
              "size": 10,
              "solidity": 0.2
             }
            },
            "type": "barpolar"
           }
          ],
          "carpet": [
           {
            "aaxis": {
             "endlinecolor": "#2a3f5f",
             "gridcolor": "#C8D4E3",
             "linecolor": "#C8D4E3",
             "minorgridcolor": "#C8D4E3",
             "startlinecolor": "#2a3f5f"
            },
            "baxis": {
             "endlinecolor": "#2a3f5f",
             "gridcolor": "#C8D4E3",
             "linecolor": "#C8D4E3",
             "minorgridcolor": "#C8D4E3",
             "startlinecolor": "#2a3f5f"
            },
            "type": "carpet"
           }
          ],
          "choropleth": [
           {
            "colorbar": {
             "outlinewidth": 0,
             "ticks": ""
            },
            "type": "choropleth"
           }
          ],
          "contour": [
           {
            "colorbar": {
             "outlinewidth": 0,
             "ticks": ""
            },
            "colorscale": [
             [
              0,
              "#0d0887"
             ],
             [
              0.1111111111111111,
              "#46039f"
             ],
             [
              0.2222222222222222,
              "#7201a8"
             ],
             [
              0.3333333333333333,
              "#9c179e"
             ],
             [
              0.4444444444444444,
              "#bd3786"
             ],
             [
              0.5555555555555556,
              "#d8576b"
             ],
             [
              0.6666666666666666,
              "#ed7953"
             ],
             [
              0.7777777777777778,
              "#fb9f3a"
             ],
             [
              0.8888888888888888,
              "#fdca26"
             ],
             [
              1,
              "#f0f921"
             ]
            ],
            "type": "contour"
           }
          ],
          "contourcarpet": [
           {
            "colorbar": {
             "outlinewidth": 0,
             "ticks": ""
            },
            "type": "contourcarpet"
           }
          ],
          "heatmap": [
           {
            "colorbar": {
             "outlinewidth": 0,
             "ticks": ""
            },
            "colorscale": [
             [
              0,
              "#0d0887"
             ],
             [
              0.1111111111111111,
              "#46039f"
             ],
             [
              0.2222222222222222,
              "#7201a8"
             ],
             [
              0.3333333333333333,
              "#9c179e"
             ],
             [
              0.4444444444444444,
              "#bd3786"
             ],
             [
              0.5555555555555556,
              "#d8576b"
             ],
             [
              0.6666666666666666,
              "#ed7953"
             ],
             [
              0.7777777777777778,
              "#fb9f3a"
             ],
             [
              0.8888888888888888,
              "#fdca26"
             ],
             [
              1,
              "#f0f921"
             ]
            ],
            "type": "heatmap"
           }
          ],
          "heatmapgl": [
           {
            "colorbar": {
             "outlinewidth": 0,
             "ticks": ""
            },
            "colorscale": [
             [
              0,
              "#0d0887"
             ],
             [
              0.1111111111111111,
              "#46039f"
             ],
             [
              0.2222222222222222,
              "#7201a8"
             ],
             [
              0.3333333333333333,
              "#9c179e"
             ],
             [
              0.4444444444444444,
              "#bd3786"
             ],
             [
              0.5555555555555556,
              "#d8576b"
             ],
             [
              0.6666666666666666,
              "#ed7953"
             ],
             [
              0.7777777777777778,
              "#fb9f3a"
             ],
             [
              0.8888888888888888,
              "#fdca26"
             ],
             [
              1,
              "#f0f921"
             ]
            ],
            "type": "heatmapgl"
           }
          ],
          "histogram": [
           {
            "marker": {
             "pattern": {
              "fillmode": "overlay",
              "size": 10,
              "solidity": 0.2
             }
            },
            "type": "histogram"
           }
          ],
          "histogram2d": [
           {
            "colorbar": {
             "outlinewidth": 0,
             "ticks": ""
            },
            "colorscale": [
             [
              0,
              "#0d0887"
             ],
             [
              0.1111111111111111,
              "#46039f"
             ],
             [
              0.2222222222222222,
              "#7201a8"
             ],
             [
              0.3333333333333333,
              "#9c179e"
             ],
             [
              0.4444444444444444,
              "#bd3786"
             ],
             [
              0.5555555555555556,
              "#d8576b"
             ],
             [
              0.6666666666666666,
              "#ed7953"
             ],
             [
              0.7777777777777778,
              "#fb9f3a"
             ],
             [
              0.8888888888888888,
              "#fdca26"
             ],
             [
              1,
              "#f0f921"
             ]
            ],
            "type": "histogram2d"
           }
          ],
          "histogram2dcontour": [
           {
            "colorbar": {
             "outlinewidth": 0,
             "ticks": ""
            },
            "colorscale": [
             [
              0,
              "#0d0887"
             ],
             [
              0.1111111111111111,
              "#46039f"
             ],
             [
              0.2222222222222222,
              "#7201a8"
             ],
             [
              0.3333333333333333,
              "#9c179e"
             ],
             [
              0.4444444444444444,
              "#bd3786"
             ],
             [
              0.5555555555555556,
              "#d8576b"
             ],
             [
              0.6666666666666666,
              "#ed7953"
             ],
             [
              0.7777777777777778,
              "#fb9f3a"
             ],
             [
              0.8888888888888888,
              "#fdca26"
             ],
             [
              1,
              "#f0f921"
             ]
            ],
            "type": "histogram2dcontour"
           }
          ],
          "mesh3d": [
           {
            "colorbar": {
             "outlinewidth": 0,
             "ticks": ""
            },
            "type": "mesh3d"
           }
          ],
          "parcoords": [
           {
            "line": {
             "colorbar": {
              "outlinewidth": 0,
              "ticks": ""
             }
            },
            "type": "parcoords"
           }
          ],
          "pie": [
           {
            "automargin": true,
            "type": "pie"
           }
          ],
          "scatter": [
           {
            "fillpattern": {
             "fillmode": "overlay",
             "size": 10,
             "solidity": 0.2
            },
            "type": "scatter"
           }
          ],
          "scatter3d": [
           {
            "line": {
             "colorbar": {
              "outlinewidth": 0,
              "ticks": ""
             }
            },
            "marker": {
             "colorbar": {
              "outlinewidth": 0,
              "ticks": ""
             }
            },
            "type": "scatter3d"
           }
          ],
          "scattercarpet": [
           {
            "marker": {
             "colorbar": {
              "outlinewidth": 0,
              "ticks": ""
             }
            },
            "type": "scattercarpet"
           }
          ],
          "scattergeo": [
           {
            "marker": {
             "colorbar": {
              "outlinewidth": 0,
              "ticks": ""
             }
            },
            "type": "scattergeo"
           }
          ],
          "scattergl": [
           {
            "marker": {
             "colorbar": {
              "outlinewidth": 0,
              "ticks": ""
             }
            },
            "type": "scattergl"
           }
          ],
          "scattermapbox": [
           {
            "marker": {
             "colorbar": {
              "outlinewidth": 0,
              "ticks": ""
             }
            },
            "type": "scattermapbox"
           }
          ],
          "scatterpolar": [
           {
            "marker": {
             "colorbar": {
              "outlinewidth": 0,
              "ticks": ""
             }
            },
            "type": "scatterpolar"
           }
          ],
          "scatterpolargl": [
           {
            "marker": {
             "colorbar": {
              "outlinewidth": 0,
              "ticks": ""
             }
            },
            "type": "scatterpolargl"
           }
          ],
          "scatterternary": [
           {
            "marker": {
             "colorbar": {
              "outlinewidth": 0,
              "ticks": ""
             }
            },
            "type": "scatterternary"
           }
          ],
          "surface": [
           {
            "colorbar": {
             "outlinewidth": 0,
             "ticks": ""
            },
            "colorscale": [
             [
              0,
              "#0d0887"
             ],
             [
              0.1111111111111111,
              "#46039f"
             ],
             [
              0.2222222222222222,
              "#7201a8"
             ],
             [
              0.3333333333333333,
              "#9c179e"
             ],
             [
              0.4444444444444444,
              "#bd3786"
             ],
             [
              0.5555555555555556,
              "#d8576b"
             ],
             [
              0.6666666666666666,
              "#ed7953"
             ],
             [
              0.7777777777777778,
              "#fb9f3a"
             ],
             [
              0.8888888888888888,
              "#fdca26"
             ],
             [
              1,
              "#f0f921"
             ]
            ],
            "type": "surface"
           }
          ],
          "table": [
           {
            "cells": {
             "fill": {
              "color": "#EBF0F8"
             },
             "line": {
              "color": "white"
             }
            },
            "header": {
             "fill": {
              "color": "#C8D4E3"
             },
             "line": {
              "color": "white"
             }
            },
            "type": "table"
           }
          ]
         },
         "layout": {
          "annotationdefaults": {
           "arrowcolor": "#2a3f5f",
           "arrowhead": 0,
           "arrowwidth": 1
          },
          "autotypenumbers": "strict",
          "coloraxis": {
           "colorbar": {
            "outlinewidth": 0,
            "ticks": ""
           }
          },
          "colorscale": {
           "diverging": [
            [
             0,
             "#8e0152"
            ],
            [
             0.1,
             "#c51b7d"
            ],
            [
             0.2,
             "#de77ae"
            ],
            [
             0.3,
             "#f1b6da"
            ],
            [
             0.4,
             "#fde0ef"
            ],
            [
             0.5,
             "#f7f7f7"
            ],
            [
             0.6,
             "#e6f5d0"
            ],
            [
             0.7,
             "#b8e186"
            ],
            [
             0.8,
             "#7fbc41"
            ],
            [
             0.9,
             "#4d9221"
            ],
            [
             1,
             "#276419"
            ]
           ],
           "sequential": [
            [
             0,
             "#0d0887"
            ],
            [
             0.1111111111111111,
             "#46039f"
            ],
            [
             0.2222222222222222,
             "#7201a8"
            ],
            [
             0.3333333333333333,
             "#9c179e"
            ],
            [
             0.4444444444444444,
             "#bd3786"
            ],
            [
             0.5555555555555556,
             "#d8576b"
            ],
            [
             0.6666666666666666,
             "#ed7953"
            ],
            [
             0.7777777777777778,
             "#fb9f3a"
            ],
            [
             0.8888888888888888,
             "#fdca26"
            ],
            [
             1,
             "#f0f921"
            ]
           ],
           "sequentialminus": [
            [
             0,
             "#0d0887"
            ],
            [
             0.1111111111111111,
             "#46039f"
            ],
            [
             0.2222222222222222,
             "#7201a8"
            ],
            [
             0.3333333333333333,
             "#9c179e"
            ],
            [
             0.4444444444444444,
             "#bd3786"
            ],
            [
             0.5555555555555556,
             "#d8576b"
            ],
            [
             0.6666666666666666,
             "#ed7953"
            ],
            [
             0.7777777777777778,
             "#fb9f3a"
            ],
            [
             0.8888888888888888,
             "#fdca26"
            ],
            [
             1,
             "#f0f921"
            ]
           ]
          },
          "colorway": [
           "#636efa",
           "#EF553B",
           "#00cc96",
           "#ab63fa",
           "#FFA15A",
           "#19d3f3",
           "#FF6692",
           "#B6E880",
           "#FF97FF",
           "#FECB52"
          ],
          "font": {
           "color": "#2a3f5f"
          },
          "geo": {
           "bgcolor": "white",
           "lakecolor": "white",
           "landcolor": "white",
           "showlakes": true,
           "showland": true,
           "subunitcolor": "#C8D4E3"
          },
          "hoverlabel": {
           "align": "left"
          },
          "hovermode": "closest",
          "mapbox": {
           "style": "light"
          },
          "paper_bgcolor": "white",
          "plot_bgcolor": "white",
          "polar": {
           "angularaxis": {
            "gridcolor": "#EBF0F8",
            "linecolor": "#EBF0F8",
            "ticks": ""
           },
           "bgcolor": "white",
           "radialaxis": {
            "gridcolor": "#EBF0F8",
            "linecolor": "#EBF0F8",
            "ticks": ""
           }
          },
          "scene": {
           "xaxis": {
            "backgroundcolor": "white",
            "gridcolor": "#DFE8F3",
            "gridwidth": 2,
            "linecolor": "#EBF0F8",
            "showbackground": true,
            "ticks": "",
            "zerolinecolor": "#EBF0F8"
           },
           "yaxis": {
            "backgroundcolor": "white",
            "gridcolor": "#DFE8F3",
            "gridwidth": 2,
            "linecolor": "#EBF0F8",
            "showbackground": true,
            "ticks": "",
            "zerolinecolor": "#EBF0F8"
           },
           "zaxis": {
            "backgroundcolor": "white",
            "gridcolor": "#DFE8F3",
            "gridwidth": 2,
            "linecolor": "#EBF0F8",
            "showbackground": true,
            "ticks": "",
            "zerolinecolor": "#EBF0F8"
           }
          },
          "shapedefaults": {
           "line": {
            "color": "#2a3f5f"
           }
          },
          "ternary": {
           "aaxis": {
            "gridcolor": "#DFE8F3",
            "linecolor": "#A2B1C6",
            "ticks": ""
           },
           "baxis": {
            "gridcolor": "#DFE8F3",
            "linecolor": "#A2B1C6",
            "ticks": ""
           },
           "bgcolor": "white",
           "caxis": {
            "gridcolor": "#DFE8F3",
            "linecolor": "#A2B1C6",
            "ticks": ""
           }
          },
          "title": {
           "x": 0.05
          },
          "xaxis": {
           "automargin": true,
           "gridcolor": "#EBF0F8",
           "linecolor": "#EBF0F8",
           "ticks": "",
           "title": {
            "standoff": 15
           },
           "zerolinecolor": "#EBF0F8",
           "zerolinewidth": 2
          },
          "yaxis": {
           "automargin": true,
           "gridcolor": "#EBF0F8",
           "linecolor": "#EBF0F8",
           "ticks": "",
           "title": {
            "standoff": 15
           },
           "zerolinecolor": "#EBF0F8",
           "zerolinewidth": 2
          }
         }
        },
        "title": {
         "text": "Side view of flight path"
        },
        "xaxis": {
         "title": {
          "text": "Horizontal distance (m)"
         }
        },
        "yaxis": {
         "title": {
          "text": "Elevation (ft)"
         }
        }
       }
      },
      "text/html": [
       "<div>                            <div id=\"5100f4d9-6284-4ede-815b-a042b88eb3d3\" class=\"plotly-graph-div\" style=\"height:525px; width:100%;\"></div>            <script type=\"text/javascript\">                require([\"plotly\"], function(Plotly) {                    window.PLOTLYENV=window.PLOTLYENV || {};                                    if (document.getElementById(\"5100f4d9-6284-4ede-815b-a042b88eb3d3\")) {                    Plotly.newPlot(                        \"5100f4d9-6284-4ede-815b-a042b88eb3d3\",                        [{\"hovertemplate\":\"Elevation: %{y:.2f} ft <extra></extra>\",\"line\":{\"color\":\"#636EFA\",\"width\":1.2},\"name\":\"Elevation\",\"showlegend\":false,\"x\":[-23.880825,-20.05813,-16.537518,-13.299837,-10.314415,-7.547604,-4.932584,-2.428527,0.0,2.439631,4.935184,7.423338,9.829233,12.267866,14.651194,17.029022,19.345378,21.707446,24.137632,26.635951,29.216876,31.913792,34.698363,37.573994,40.549601,43.665028,46.876304,50.217522,53.713112,57.359654,61.179123,65.121466,69.214862,73.448926,77.750328,82.101547,86.473014,90.866769,95.241829,99.551612,103.770795,107.926125,111.859664,115.408236,118.751857,121.999641,124.981757,127.576602,129.768189,131.580861,133.024302,134.156423,135.228593,136.469396,137.989973,139.897002,142.200857,144.886521,147.952572,151.34617,155.018609,158.966624,163.161458,167.589574,172.20427,176.8945,181.6046,186.331447,191.021714,195.666761,200.1507,204.509275,208.717972,212.792053,216.707485,220.431418,223.980996,227.33749,230.496397,233.462627,236.346355,239.158902,241.837878,244.354951,246.653671,248.729809,250.688835,252.472534,254.086417,255.572566,256.91814,258.067394,259.016669,259.801068,260.435289,260.962698,261.298763,261.549388,261.663279,261.864085,262.251169,262.558919,262.678988,262.755025,262.852706,263.023829,263.120383,263.143502,263.172536,263.255789,263.400538,263.523175,263.585409,263.651379,263.707266,263.740251,263.773611,263.806596,263.839956,263.86899,263.893829,263.944739,263.975788,264.047633,264.074854,264.105903,264.112112,264.137611,264.15036,264.16704,264.179789,264.202058,264.259044,264.29793,264.357794,264.418757,264.469753,264.536743,264.578369,264.611729,264.66877,264.681519,264.717157,264.773175,264.811422,264.84706,264.872558,264.885307,264.91434,264.972408,265.005393,265.005393,265.028511,265.045191,265.108279,265.201412,265.297966,265.358929,265.400555,265.423674,265.440354,265.440354,265.451489,265.464238,265.498213,265.527247,265.64014,265.768161,265.830396,265.863756,265.899393,265.9428,265.981009,265.999638,266.055656,266.113723,266.176811,266.274873,266.391533,266.517709,266.586918,266.645625,266.757143,266.904007,267.030361,267.106855,267.173845,267.192474,267.209154,267.215364,267.263641,267.307048,267.378893,267.474664,267.536899,267.559168,267.593144,267.638113,267.716054,267.774761,267.81297,267.851857,267.887494,267.916528,267.938231,267.963729,267.985432,268.060777,268.115597,268.17127,268.204673,268.238033,268.27692,268.2936,268.330858,268.393946,268.438818,268.471803,268.471803,268.504788,268.580825,268.618083,268.639787,268.650921,268.672624,268.685373,268.710871,268.73399,268.797078,268.834336,268.873223,268.928043,269.054219,269.146417,269.216929,269.2618,269.289021,269.332427,269.374054,269.407414,269.440398,269.473758,269.507118,269.534339,269.547088,269.569357,269.661555,269.732066,269.776604,269.81058,269.84394,269.865643,269.888762,269.91426,269.92668,269.94336,269.956109,269.972789,269.978998,269.990133,270.014972,270.096633,270.147544,270.158678,270.169813,270.182562,270.204265,270.237625,270.281031,270.407143,270.499341,270.532701,270.583697,270.628666,270.641415,270.670448,270.692152,270.708832,270.721581,270.748801,270.803622,270.882507,270.957121,271.024111,271.051332,271.068012,271.086641,271.10527,271.148738,271.224083,271.273761,271.27997,271.291105,271.404995,271.47961,271.556104,271.716161,271.833574,271.889247,271.935484,271.952164,272.000441,272.075056,272.142046,272.193042,272.21616,272.340049,272.440259,272.469293,272.504931,272.528049,272.557083,272.568218,272.580967,272.592101,272.604521,272.631741,272.653444,272.676563,272.750232,272.800272,272.816952,272.838655,272.880282,272.896962,272.909711,272.915921,272.915921,272.927055,272.933265,272.933265,272.960486,272.979115,272.985325,272.985325,273.054533,273.14147,273.166309,273.182989,273.210209,273.228838,273.247468,273.264148,273.340566,273.408873,273.519598,273.645773,273.695813,273.724847,273.763056,273.808661,273.875381,273.88813,273.922106,273.945224,273.957644,273.963854,273.976273,274.057764,274.117628,274.143126,274.174175,274.237263,274.307775,274.351181,274.372884,274.384018,274.407137,274.430256,274.455095,274.512081,274.556952,274.573632,274.654359,274.774428,274.829248,274.862652,274.898289,274.997944,275.081343,275.131383,275.176988,275.225829,275.264716,275.277465,275.294145,275.306894,275.332392,275.338602,275.351021,275.37586,275.406909,275.425538,275.492528,275.572231,275.593935,275.606684,275.706763,275.785649,275.798068,275.829117,275.85082,275.875659,275.909019,275.925699,275.938448,275.998312,276.069776,276.107985,276.129688,276.142108,276.213953,276.300766,276.345637,276.372858,276.385607,276.398356,276.404566,276.410775,276.423524,276.423524,276.435944,276.452624,276.469304,276.485984,276.485984,276.563757,276.647499,276.690967,276.734436,276.753065,276.771694,276.777904,276.789038,276.801458,276.818138,276.842977,276.855726,276.855726,276.861936,276.868145,276.880565,276.891699,276.94054,277.065233,277.121121,277.121121,277.127331,277.13975,277.15217,277.164919,277.181599,277.206438,277.245324,277.299765,277.397828,277.490025,277.506705,277.532203,277.57383,277.630816,277.680494,277.707715,277.762007,277.806976,277.864017,277.918309,277.972602,277.994305,278.006724,278.028427,278.040847],\"y\":[741.2073490784,741.7486876610751,743.218503934035,745.3904199445251,747.608267713545,749.9967191571051,751.95538057442,753.2053805744151,753.526902884125,752.568897634785,750.20997375028,746.7454068211599,742.457349078395,738.0216535403549,731.67322834353,726.22703411783,719.4881889735,711.8569553777301,703.500656165165,694.3503936980101,684.54724409175,674.2585301810301,663.47112860627,652.2933070840049,640.8070866116101,629.1305774253051,617.38188976131,605.57086613931,593.7171915986751,582.0078740134201,570.64960629693,559.478346454455,548.139763777335,536.7946194204251,525.593832018895,514.0419947486,502.1095800504851,489.438976375995,475.5347769009851,461.1417322816201,445.889107609765,429.25853018201,411.52230970964,393.093832019425,374.110892386955,353.41535432929504,332.162073489485,310.367454067,287.71653543192,265.055774277155,242.903543306115,221.77165354242,200.62992125904,179.76377952683998,159.320866141095,139.20603674485,119.80314960582,101.22703412033,83.56299212565,67.03740157453501,51.614173228139975,37.40157480300002,24.688320209875,13.382545931704982,3.4481627296449915,-5.2427821522099975,-12.736220472390016,-18.92388451436001,-23.94685039360502,-27.59842519674001,-29.603018372585,-30.87270341195,-31.07611548544,-31.25328083977,-30.97769028859001,-30.344488188855,-29.917979002505007,-29.412729658675005,-28.832020997260003,-28.284120734795,-28.17585301826001,-28.113517060254992,-28.01509186340499,-27.719816272855013,-27.358923884405016,-26.729002624565013,-26.466535432965017,-26.253280839789998,-26.20078740147001,-26.59776902876501,-27.473753280729994,-27.949475065505013,-27.77887139096501,-27.913385826660004,-27.67060367443001,-27.89370078729,-27.562335957895,-27.24081364818501,-27.10629921249001,-27.221128608815008,-27.93635170592502,-28.513779527445,-27.61154855632,-26.98818897627001,-26.788057742675008,-26.4435695537,-26.36482939621999,-26.230314960525007,-25.951443569450007,-25.823490813544996,-26.06299212588,-25.958005249240017,-25.83333333323,-25.498687663940004,-25.08858267706501,-24.721128608825,-24.340551181005,-23.99606299203002,-23.60564304452501,-23.123359579959995,-22.73950131224501,-22.62139107602501,-22.286745406735008,-21.91272965870499,-21.630577427735005,-21.499343831935008,-21.397637795190008,-21.148293963170005,-20.964566929050008,-20.93832020989001,-20.59711286081001,-20.416666666585016,-20.17388451435501,-20.22637795267501,-19.750656167900004,-19.45866141724501,-19.143700787325017,-18.802493438244998,-18.49737532801001,-18.20538057735501,-17.929790026175,-17.647637795205,-17.349081364759996,-17.152230971059993,-16.837270341140012,-16.532152230904998,-16.276246719095013,-15.980971128544994,-15.62992125977999,-15.456036745345015,-15.114829396265009,-14.924540682355,-14.642388451385017,-14.379921259784991,-14.143700787345011,-14.15354330703002,-14.314304461885,-14.366797900205,-14.396325459259998,-14.330708661360006,-14.222440944825024,-14.071522309654997,-13.99278215217501,-13.914041994694998,-13.795931758475009,-13.92716535427499,-14.055118110180018,-14.219160104930012,-14.189632545874986,-14.005905511755005,-13.83202099732,-13.736876640365011,-13.671259842464991,-13.727034120680004,-13.776246719105018,-13.602362204670015,-13.441601049815006,-13.238188976325006,-12.84776902882001,-12.75262467186502,-12.62139107606498,-12.385170603625,-12.267060367405008,-12.089895013074994,-11.847112860845016,-11.80774278210501,-11.804461942209995,-11.709317585255008,-11.59448818893,-11.610892388405006,-11.473097112815026,-11.35826771648999,-11.0892388451,-10.81364829392001,-10.390419947465006,-10.049212598384996,-9.648950131194994,-9.471784776865007,-9.616141732245012,-9.557086614134988,-9.445538057704994,-9.383202099700014,-9.498031496024993,-9.448818897600006,-9.47506561676002,-9.47506561676002,-9.353674540645017,-9.14370078736502,-9.235564304424996,-9.274934383165004,-9.330708661379989,-9.383202099700014,-9.40944881886,-9.402887139070003,-9.29461942253502,-9.222440944845005,-9.11089238841501,-8.96981627292999,-8.809055118075008,-8.530183727000008,-8.129921259810004,-8.067585301804996,-8.021653543275022,-7.8937007873700225,-7.828083989470002,-7.778871391044987,-7.683727034089998,-7.624671915980002,-7.536089238815009,-7.424540682385015,-7.293307086585003,-7.116141732255016,-7.066929133830001,-6.925853018345009,-6.886482939605003,-6.948818897609982,-6.925853018345009,-6.768372703384983,-6.617454068215011,-6.512467191575013,-6.450131233570005,-6.364829396299996,-6.272965879240019,-6.177821522285001,-6.079396325434999,-5.958005249319996,-5.803805774255011,-5.833333333310009,-5.859580052469994,-5.862860892365006,-5.833333333310009,-5.849737532784985,-5.816929133835004,-5.807086614149995,-5.734908136460007,-5.7841207348849935,-5.7611548556200205,-5.774278215200013,-5.734908136460007,-5.65288713908501,-5.662729658770019,-5.731627296565023,-5.738188976354991,-5.656167978979994,-5.623359580030012,-5.528215223074994,-5.410104986855004,-5.318241469794998,-5.219816272944996,-5.193569553785011,-5.154199475045004,-5.28871391074,-5.318241469794998,-5.337926509164987,-5.3707349081150255,-5.501968503915009,-5.554461942235008,-5.538057742760003,-5.633202099715021,-5.803805774255011,-5.944881889740003,-5.9809711285850256,-6.0597112860649816,-6.1876640419700095,-6.30577427819,-6.361548556405012,-6.3779527558799884,-6.469816272939994,-6.5780839894750045,-6.617454068215011,-6.548556430420007,-6.35826771651,-6.266404199449994,-6.082677165330011,-6.1876640419700095,-6.1876640419700095,-6.266404199449994,-6.384514435670013,-6.437007873990012,-6.450131233570005,-6.446850393674993,-6.496062992100008,-6.535433070840014,-6.610892388425015,-6.722440944855009,-6.5780839894750045,-6.519028871365009,-6.335301837244998,-6.414041994725011,-6.473097112835006,-6.564960629895012,-6.656824146954989,-6.768372703384983,-6.804461942230006,-6.9881889763499885,-7.11942257215,-7.227690288685011,-7.349081364799986,-7.460629921230009,-7.680446194194985,-7.601706036715001,-7.598425196819988,-7.64435695535002,-7.677165354300001,-7.713254593144995,-7.716535433040008,-7.769028871360007,-7.801837270310017,-7.847769028839991,-7.8937007873700225,-7.844488188945007,-7.81496062989001,-7.903543307055003,-7.88057742779003,-7.90026246715999,-7.982283464535016,-8.005249343800017,-7.972440944850007,-7.81496062989001,-7.680446194194985,-7.555774278184998,-7.378608923854983,-7.234251968475007,-6.912729658765016,-6.912729658765016,-7.017716535404986,-7.112860892360004,-7.155511810994994,-7.280183727004982,-7.286745406795006,-7.1522309711000105,-6.748687664014994,-6.755249343804991,-6.7454068241200105,-6.70275590548502,-6.683070866115003,-6.643700787374996,-6.525590551155005,-6.650262467165021,-6.604330708635018,-6.624015748005007,-6.558398950104987,-6.512467191575013,-6.433727034095,-6.397637795250006,-6.328740157455002,-6.361548556405012,-6.3713910760900205,-6.440288713885025,-6.535433070840014,-6.532152230945002,-6.5223097112600215,-6.459973753254985,-6.768372703384983,-6.945538057714998,-6.912729658765016,-6.87335958002501,-6.650262467165021,-5.994094488165018,-5.826771653520012,-5.790682414675018,-5.711942257195005,-5.643044619400001,-5.547900262444983,-5.472440944860011,-5.387139107590002,-5.24606299210501,-5.167322834624997,-5.0393700787199975,-4.9671916010300095,-4.865485564284995,-4.806430446175,-4.753937007855001,-4.822834645650005,-4.990157480295011,-4.996719160085007,-4.799868766385004,-4.229002624654981,-3.963254593160002,-3.946850393684997,-3.963254593160002,-3.8385826771499865,-3.77952755904002,-3.858267716520004,-3.789370078725,-3.717191601035012,-3.7532808398800057,-3.805774278200005,-3.841863517044999,-3.65157480313502,-3.4973753280700066,-2.9954068241349887,-3.047900262454988,-3.113517060355008,-3.047900262454988,-3.0905511810900066,-3.011811023610022,-3.011811023610022,-3.028215223084999,-2.946194225710002,-2.9363517060249933,-2.982283464554996,-2.9265091863399846,-2.7591863516949786,-2.7132545931650043,-2.64435695537,-2.572178477680012,-2.654199475055009,-2.716535433059988,-2.6804461942150226,-2.6968503936899992,-2.6049868766299937,-2.5426509186250144,-2.4737532808300102,-2.3129921259750006,-2.20472440943999,-2.1784776902800047,-2.1981627296499937,-2.047244094479993,-1.9389763779449825,-1.8700787401500063,-1.83070866141,-1.7290026246650143,-1.3320209973699946,-1.486220472435008,-1.3845144356899937,-1.2893700787350042,-1.2532808398900102,-1.1942257217800147,-1.184383202095006,-1.1450131233549996,-1.1286089238799946,-1.0203412073450124,-0.9383202099699872,-0.8825459317550042,-0.948162729654996,-0.9153543307050144,-0.8792650918600202,-0.7808398950100184,-0.7677165354299973,-0.6299212598400175,-0.5479002624649922,-0.4593175853000275,-0.5610236220450133,-0.4330708661400138,-0.2854330708649968,-0.2165354330699926,-0.2230971128600174,-0.0918635170600055,-0.0656167978999917,-0.1017060367450142,0.0],\"type\":\"scatter\"},{\"hovertemplate\":\"Top of turn: %{y:.2f}ft <extra></extra>\",\"mode\":\"markers+text\",\"name\":\"Top of turn\",\"showlegend\":false,\"text\":[\"Top of turn\"],\"textposition\":\"top right\",\"x\":[0.0],\"y\":[753.526902884125],\"type\":\"scatter\"},{\"hovertemplate\":\"Stop: %{y:.2f}m <extra></extra>\",\"mode\":\"markers+text\",\"name\":\"Stop\",\"showlegend\":false,\"text\":[\"stop\"],\"textposition\":\"top left\",\"x\":[261.663279],\"y\":[-27.10629921249001],\"type\":\"scatter\"}],                        {\"template\":{\"data\":{\"histogram2dcontour\":[{\"type\":\"histogram2dcontour\",\"colorbar\":{\"outlinewidth\":0,\"ticks\":\"\"},\"colorscale\":[[0.0,\"#0d0887\"],[0.1111111111111111,\"#46039f\"],[0.2222222222222222,\"#7201a8\"],[0.3333333333333333,\"#9c179e\"],[0.4444444444444444,\"#bd3786\"],[0.5555555555555556,\"#d8576b\"],[0.6666666666666666,\"#ed7953\"],[0.7777777777777778,\"#fb9f3a\"],[0.8888888888888888,\"#fdca26\"],[1.0,\"#f0f921\"]]}],\"choropleth\":[{\"type\":\"choropleth\",\"colorbar\":{\"outlinewidth\":0,\"ticks\":\"\"}}],\"histogram2d\":[{\"type\":\"histogram2d\",\"colorbar\":{\"outlinewidth\":0,\"ticks\":\"\"},\"colorscale\":[[0.0,\"#0d0887\"],[0.1111111111111111,\"#46039f\"],[0.2222222222222222,\"#7201a8\"],[0.3333333333333333,\"#9c179e\"],[0.4444444444444444,\"#bd3786\"],[0.5555555555555556,\"#d8576b\"],[0.6666666666666666,\"#ed7953\"],[0.7777777777777778,\"#fb9f3a\"],[0.8888888888888888,\"#fdca26\"],[1.0,\"#f0f921\"]]}],\"heatmap\":[{\"type\":\"heatmap\",\"colorbar\":{\"outlinewidth\":0,\"ticks\":\"\"},\"colorscale\":[[0.0,\"#0d0887\"],[0.1111111111111111,\"#46039f\"],[0.2222222222222222,\"#7201a8\"],[0.3333333333333333,\"#9c179e\"],[0.4444444444444444,\"#bd3786\"],[0.5555555555555556,\"#d8576b\"],[0.6666666666666666,\"#ed7953\"],[0.7777777777777778,\"#fb9f3a\"],[0.8888888888888888,\"#fdca26\"],[1.0,\"#f0f921\"]]}],\"heatmapgl\":[{\"type\":\"heatmapgl\",\"colorbar\":{\"outlinewidth\":0,\"ticks\":\"\"},\"colorscale\":[[0.0,\"#0d0887\"],[0.1111111111111111,\"#46039f\"],[0.2222222222222222,\"#7201a8\"],[0.3333333333333333,\"#9c179e\"],[0.4444444444444444,\"#bd3786\"],[0.5555555555555556,\"#d8576b\"],[0.6666666666666666,\"#ed7953\"],[0.7777777777777778,\"#fb9f3a\"],[0.8888888888888888,\"#fdca26\"],[1.0,\"#f0f921\"]]}],\"contourcarpet\":[{\"type\":\"contourcarpet\",\"colorbar\":{\"outlinewidth\":0,\"ticks\":\"\"}}],\"contour\":[{\"type\":\"contour\",\"colorbar\":{\"outlinewidth\":0,\"ticks\":\"\"},\"colorscale\":[[0.0,\"#0d0887\"],[0.1111111111111111,\"#46039f\"],[0.2222222222222222,\"#7201a8\"],[0.3333333333333333,\"#9c179e\"],[0.4444444444444444,\"#bd3786\"],[0.5555555555555556,\"#d8576b\"],[0.6666666666666666,\"#ed7953\"],[0.7777777777777778,\"#fb9f3a\"],[0.8888888888888888,\"#fdca26\"],[1.0,\"#f0f921\"]]}],\"surface\":[{\"type\":\"surface\",\"colorbar\":{\"outlinewidth\":0,\"ticks\":\"\"},\"colorscale\":[[0.0,\"#0d0887\"],[0.1111111111111111,\"#46039f\"],[0.2222222222222222,\"#7201a8\"],[0.3333333333333333,\"#9c179e\"],[0.4444444444444444,\"#bd3786\"],[0.5555555555555556,\"#d8576b\"],[0.6666666666666666,\"#ed7953\"],[0.7777777777777778,\"#fb9f3a\"],[0.8888888888888888,\"#fdca26\"],[1.0,\"#f0f921\"]]}],\"mesh3d\":[{\"type\":\"mesh3d\",\"colorbar\":{\"outlinewidth\":0,\"ticks\":\"\"}}],\"scatter\":[{\"fillpattern\":{\"fillmode\":\"overlay\",\"size\":10,\"solidity\":0.2},\"type\":\"scatter\"}],\"parcoords\":[{\"type\":\"parcoords\",\"line\":{\"colorbar\":{\"outlinewidth\":0,\"ticks\":\"\"}}}],\"scatterpolargl\":[{\"type\":\"scatterpolargl\",\"marker\":{\"colorbar\":{\"outlinewidth\":0,\"ticks\":\"\"}}}],\"bar\":[{\"error_x\":{\"color\":\"#2a3f5f\"},\"error_y\":{\"color\":\"#2a3f5f\"},\"marker\":{\"line\":{\"color\":\"white\",\"width\":0.5},\"pattern\":{\"fillmode\":\"overlay\",\"size\":10,\"solidity\":0.2}},\"type\":\"bar\"}],\"scattergeo\":[{\"type\":\"scattergeo\",\"marker\":{\"colorbar\":{\"outlinewidth\":0,\"ticks\":\"\"}}}],\"scatterpolar\":[{\"type\":\"scatterpolar\",\"marker\":{\"colorbar\":{\"outlinewidth\":0,\"ticks\":\"\"}}}],\"histogram\":[{\"marker\":{\"pattern\":{\"fillmode\":\"overlay\",\"size\":10,\"solidity\":0.2}},\"type\":\"histogram\"}],\"scattergl\":[{\"type\":\"scattergl\",\"marker\":{\"colorbar\":{\"outlinewidth\":0,\"ticks\":\"\"}}}],\"scatter3d\":[{\"type\":\"scatter3d\",\"line\":{\"colorbar\":{\"outlinewidth\":0,\"ticks\":\"\"}},\"marker\":{\"colorbar\":{\"outlinewidth\":0,\"ticks\":\"\"}}}],\"scattermapbox\":[{\"type\":\"scattermapbox\",\"marker\":{\"colorbar\":{\"outlinewidth\":0,\"ticks\":\"\"}}}],\"scatterternary\":[{\"type\":\"scatterternary\",\"marker\":{\"colorbar\":{\"outlinewidth\":0,\"ticks\":\"\"}}}],\"scattercarpet\":[{\"type\":\"scattercarpet\",\"marker\":{\"colorbar\":{\"outlinewidth\":0,\"ticks\":\"\"}}}],\"carpet\":[{\"aaxis\":{\"endlinecolor\":\"#2a3f5f\",\"gridcolor\":\"#C8D4E3\",\"linecolor\":\"#C8D4E3\",\"minorgridcolor\":\"#C8D4E3\",\"startlinecolor\":\"#2a3f5f\"},\"baxis\":{\"endlinecolor\":\"#2a3f5f\",\"gridcolor\":\"#C8D4E3\",\"linecolor\":\"#C8D4E3\",\"minorgridcolor\":\"#C8D4E3\",\"startlinecolor\":\"#2a3f5f\"},\"type\":\"carpet\"}],\"table\":[{\"cells\":{\"fill\":{\"color\":\"#EBF0F8\"},\"line\":{\"color\":\"white\"}},\"header\":{\"fill\":{\"color\":\"#C8D4E3\"},\"line\":{\"color\":\"white\"}},\"type\":\"table\"}],\"barpolar\":[{\"marker\":{\"line\":{\"color\":\"white\",\"width\":0.5},\"pattern\":{\"fillmode\":\"overlay\",\"size\":10,\"solidity\":0.2}},\"type\":\"barpolar\"}],\"pie\":[{\"automargin\":true,\"type\":\"pie\"}]},\"layout\":{\"autotypenumbers\":\"strict\",\"colorway\":[\"#636efa\",\"#EF553B\",\"#00cc96\",\"#ab63fa\",\"#FFA15A\",\"#19d3f3\",\"#FF6692\",\"#B6E880\",\"#FF97FF\",\"#FECB52\"],\"font\":{\"color\":\"#2a3f5f\"},\"hovermode\":\"closest\",\"hoverlabel\":{\"align\":\"left\"},\"paper_bgcolor\":\"white\",\"plot_bgcolor\":\"white\",\"polar\":{\"bgcolor\":\"white\",\"angularaxis\":{\"gridcolor\":\"#EBF0F8\",\"linecolor\":\"#EBF0F8\",\"ticks\":\"\"},\"radialaxis\":{\"gridcolor\":\"#EBF0F8\",\"linecolor\":\"#EBF0F8\",\"ticks\":\"\"}},\"ternary\":{\"bgcolor\":\"white\",\"aaxis\":{\"gridcolor\":\"#DFE8F3\",\"linecolor\":\"#A2B1C6\",\"ticks\":\"\"},\"baxis\":{\"gridcolor\":\"#DFE8F3\",\"linecolor\":\"#A2B1C6\",\"ticks\":\"\"},\"caxis\":{\"gridcolor\":\"#DFE8F3\",\"linecolor\":\"#A2B1C6\",\"ticks\":\"\"}},\"coloraxis\":{\"colorbar\":{\"outlinewidth\":0,\"ticks\":\"\"}},\"colorscale\":{\"sequential\":[[0.0,\"#0d0887\"],[0.1111111111111111,\"#46039f\"],[0.2222222222222222,\"#7201a8\"],[0.3333333333333333,\"#9c179e\"],[0.4444444444444444,\"#bd3786\"],[0.5555555555555556,\"#d8576b\"],[0.6666666666666666,\"#ed7953\"],[0.7777777777777778,\"#fb9f3a\"],[0.8888888888888888,\"#fdca26\"],[1.0,\"#f0f921\"]],\"sequentialminus\":[[0.0,\"#0d0887\"],[0.1111111111111111,\"#46039f\"],[0.2222222222222222,\"#7201a8\"],[0.3333333333333333,\"#9c179e\"],[0.4444444444444444,\"#bd3786\"],[0.5555555555555556,\"#d8576b\"],[0.6666666666666666,\"#ed7953\"],[0.7777777777777778,\"#fb9f3a\"],[0.8888888888888888,\"#fdca26\"],[1.0,\"#f0f921\"]],\"diverging\":[[0,\"#8e0152\"],[0.1,\"#c51b7d\"],[0.2,\"#de77ae\"],[0.3,\"#f1b6da\"],[0.4,\"#fde0ef\"],[0.5,\"#f7f7f7\"],[0.6,\"#e6f5d0\"],[0.7,\"#b8e186\"],[0.8,\"#7fbc41\"],[0.9,\"#4d9221\"],[1,\"#276419\"]]},\"xaxis\":{\"gridcolor\":\"#EBF0F8\",\"linecolor\":\"#EBF0F8\",\"ticks\":\"\",\"title\":{\"standoff\":15},\"zerolinecolor\":\"#EBF0F8\",\"automargin\":true,\"zerolinewidth\":2},\"yaxis\":{\"gridcolor\":\"#EBF0F8\",\"linecolor\":\"#EBF0F8\",\"ticks\":\"\",\"title\":{\"standoff\":15},\"zerolinecolor\":\"#EBF0F8\",\"automargin\":true,\"zerolinewidth\":2},\"scene\":{\"xaxis\":{\"backgroundcolor\":\"white\",\"gridcolor\":\"#DFE8F3\",\"linecolor\":\"#EBF0F8\",\"showbackground\":true,\"ticks\":\"\",\"zerolinecolor\":\"#EBF0F8\",\"gridwidth\":2},\"yaxis\":{\"backgroundcolor\":\"white\",\"gridcolor\":\"#DFE8F3\",\"linecolor\":\"#EBF0F8\",\"showbackground\":true,\"ticks\":\"\",\"zerolinecolor\":\"#EBF0F8\",\"gridwidth\":2},\"zaxis\":{\"backgroundcolor\":\"white\",\"gridcolor\":\"#DFE8F3\",\"linecolor\":\"#EBF0F8\",\"showbackground\":true,\"ticks\":\"\",\"zerolinecolor\":\"#EBF0F8\",\"gridwidth\":2}},\"shapedefaults\":{\"line\":{\"color\":\"#2a3f5f\"}},\"annotationdefaults\":{\"arrowcolor\":\"#2a3f5f\",\"arrowhead\":0,\"arrowwidth\":1},\"geo\":{\"bgcolor\":\"white\",\"landcolor\":\"white\",\"subunitcolor\":\"#C8D4E3\",\"showland\":true,\"showlakes\":true,\"lakecolor\":\"white\"},\"title\":{\"x\":0.05},\"mapbox\":{\"style\":\"light\"}}},\"legend\":{\"yanchor\":\"top\",\"y\":1,\"xanchor\":\"right\",\"x\":1},\"hovermode\":\"x unified\",\"title\":{\"text\":\"Side view of flight path\"},\"xaxis\":{\"title\":{\"text\":\"Horizontal distance (m)\"}},\"yaxis\":{\"title\":{\"text\":\"Elevation (ft)\"}}},                        {\"responsive\": true}                    ).then(function(){\n",
       "                            \n",
       "var gd = document.getElementById('5100f4d9-6284-4ede-815b-a042b88eb3d3');\n",
       "var x = new MutationObserver(function (mutations, observer) {{\n",
       "        var display = window.getComputedStyle(gd).display;\n",
       "        if (!display || display === 'none') {{\n",
       "            console.log([gd, 'removed!']);\n",
       "            Plotly.purge(gd);\n",
       "            observer.disconnect();\n",
       "        }}\n",
       "}});\n",
       "\n",
       "// Listen for the removal of the full notebook cells\n",
       "var notebookContainer = gd.closest('#notebook-container');\n",
       "if (notebookContainer) {{\n",
       "    x.observe(notebookContainer, {childList: true});\n",
       "}}\n",
       "\n",
       "// Listen for the clearing of the current output cell\n",
       "var outputEl = gd.closest('.output');\n",
       "if (outputEl) {{\n",
       "    x.observe(outputEl, {childList: true});\n",
       "}}\n",
       "\n",
       "                        })                };                });            </script>        </div>"
      ]
     },
     "metadata": {},
     "output_type": "display_data"
    }
   ],
   "source": [
    "test_df = set_start_point(landing_df, get_top_of_turn())\n",
    "# test_df = set_start_point(landing_df, 0)\n",
    "plt_side_view(test_df, 'm')"
   ]
  },
  {
   "cell_type": "code",
   "execution_count": 35,
   "id": "cf8fabf6",
   "metadata": {},
   "outputs": [
    {
     "data": {
      "application/vnd.plotly.v1+json": {
       "config": {
        "plotlyServerURL": "https://plot.ly"
       },
       "data": [
        {
         "hovertemplate": "yaxis distance: %{y:.2f} m<extra></extra>",
         "line": {
          "color": "#636EFA",
          "width": 1.2
         },
         "showlegend": false,
         "type": "scatter",
         "x": [
          -11.495262,
          -10.113277,
          -8.687622,
          -7.218303,
          -5.723963,
          -4.229462,
          -2.790736,
          -1.401607,
          0,
          1.389176,
          2.728628,
          3.999775,
          5.277192,
          6.598054,
          7.968637,
          9.345434,
          10.678807,
          12.012142,
          13.351634,
          14.678652,
          15.962138,
          17.20207,
          18.392263,
          19.532716,
          20.611008,
          21.608487,
          22.500354,
          23.267964,
          23.942347,
          24.542133,
          25.12318,
          25.78485,
          26.663703,
          27.809419,
          29.246891,
          31.038235,
          33.220752,
          35.757212,
          38.579362,
          41.631374,
          44.938156,
          48.518389,
          52.092717,
          55.412798,
          58.696042,
          61.942466,
          64.885032,
          67.35605,
          69.293397,
          70.659783,
          71.424086,
          71.555179,
          71.096477,
          70.097586,
          68.651595,
          66.758516,
          64.455603,
          61.780113,
          58.73212,
          55.367482,
          51.742045,
          47.862015,
          43.752244,
          39.425154,
          34.924212,
          30.361155,
          25.785665,
          21.203941,
          16.665656,
          12.177025,
          7.837413,
          3.615771,
          -0.45688,
          -4.399155,
          -8.186225,
          -11.787047,
          -15.238815,
          -18.510521,
          -21.589772,
          -24.488962,
          -27.319821,
          -30.088572,
          -32.733135,
          -35.22248,
          -37.500736,
          -39.561702,
          -41.50473,
          -43.267761,
          -44.856995,
          -46.309691,
          -47.625806,
          -48.743281,
          -49.643523,
          -50.388548,
          -51.003165,
          -51.524624,
          -51.85983,
          -52.108099,
          -52.20738,
          -52.219669,
          -52.300125,
          -52.486189,
          -52.604113,
          -52.672371,
          -52.759245,
          -52.796384,
          -52.833571,
          -52.827378,
          -52.846014,
          -52.89563,
          -52.895539,
          -52.889254,
          -52.932677,
          -52.994736,
          -53.050601,
          -53.08163,
          -53.056787,
          -53.025744,
          -53.000901,
          -52.982265,
          -52.957436,
          -52.907771,
          -52.876735,
          -52.808441,
          -52.783605,
          -52.814641,
          -52.808434,
          -52.796005,
          -52.789791,
          -52.777369,
          -52.771169,
          -52.771183,
          -52.715311,
          -52.67806,
          -52.628423,
          -52.653287,
          -52.678144,
          -52.715353,
          -52.740161,
          -52.765004,
          -52.777454,
          -52.771253,
          -52.758818,
          -52.752575,
          -52.733933,
          -52.721497,
          -52.709069,
          -52.702854,
          -52.684219,
          -52.646947,
          -52.615904,
          -52.615904,
          -52.609682,
          -52.597261,
          -52.535195,
          -52.448273,
          -52.410973,
          -52.435767,
          -52.460575,
          -52.466768,
          -52.479176,
          -52.479176,
          -52.479183,
          -52.472982,
          -52.479211,
          -52.497819,
          -52.51637,
          -52.47905,
          -52.435571,
          -52.460414,
          -52.472849,
          -52.43562,
          -52.404598,
          -52.385976,
          -52.392148,
          -52.429364,
          -52.491429,
          -52.572089,
          -52.683798,
          -52.807929,
          -52.876202,
          -52.894789,
          -52.900926,
          -52.876006,
          -52.844893,
          -52.807607,
          -52.770329,
          -52.78895,
          -52.801358,
          -52.807565,
          -52.826215,
          -52.863473,
          -52.931766,
          -53.024861,
          -53.068284,
          -53.06827,
          -53.062042,
          -53.055807,
          -53.055758,
          -53.074344,
          -53.105367,
          -53.142603,
          -53.154997,
          -53.136361,
          -53.117732,
          -53.105304,
          -53.123918,
          -53.198399,
          -53.241828,
          -53.241793,
          -53.241772,
          -53.266587,
          -53.303824,
          -53.316232,
          -53.353475,
          -53.415555,
          -53.459013,
          -53.490056,
          -53.490056,
          -53.459027,
          -53.390768,
          -53.353524,
          -53.334909,
          -53.334916,
          -53.353531,
          -53.359731,
          -53.372132,
          -53.365911,
          -53.427976,
          -53.46522,
          -53.427983,
          -53.384554,
          -53.260422,
          -53.179756,
          -53.241849,
          -53.285307,
          -53.260485,
          -53.223256,
          -53.198448,
          -53.173633,
          -53.142603,
          -53.117788,
          -53.092973,
          -53.068151,
          -53.061937,
          -53.061923,
          -52.9812,
          -52.919107,
          -52.919079,
          -52.91285,
          -52.937666,
          -52.95628,
          -52.962474,
          -52.974874,
          -52.987289,
          -52.999696,
          -53.005896,
          -53.018304,
          -53.024511,
          -53.024518,
          -53.049347,
          -53.123813,
          -53.173465,
          -53.173472,
          -53.173479,
          -53.167278,
          -53.148663,
          -53.123848,
          -53.086619,
          -52.968709,
          -52.888042,
          -52.863227,
          -52.838426,
          -52.832247,
          -52.838461,
          -52.857097,
          -52.875726,
          -52.888148,
          -52.894362,
          -52.919184,
          -52.962614,
          -53.018444,
          -53.068067,
          -53.105276,
          -53.130098,
          -53.142505,
          -53.161127,
          -53.179749,
          -53.2232,
          -53.297694,
          -53.347352,
          -53.353559,
          -53.353566,
          -53.254285,
          -53.204662,
          -53.241948,
          -53.310318,
          -53.347632,
          -53.347667,
          -53.335281,
          -53.322873,
          -53.341467,
          -53.39109,
          -53.428299,
          -53.4531,
          -53.459293,
          -53.477838,
          -53.477775,
          -53.459139,
          -53.446703,
          -53.452896,
          -53.471504,
          -53.471497,
          -53.465283,
          -53.465276,
          -53.47769,
          -53.502513,
          -53.521127,
          -53.514906,
          -53.483828,
          -53.446563,
          -53.434142,
          -53.45277,
          -53.47762,
          -53.490042,
          -53.496256,
          -53.490049,
          -53.490049,
          -53.490042,
          -53.496249,
          -53.496249,
          -53.521085,
          -53.539707,
          -53.545914,
          -53.545914,
          -53.614201,
          -53.701103,
          -53.725932,
          -53.713524,
          -53.688688,
          -53.670067,
          -53.651445,
          -53.639037,
          -53.576993,
          -53.508713,
          -53.403168,
          -53.279009,
          -53.241786,
          -53.223179,
          -53.192156,
          -53.223214,
          -53.2729,
          -53.279114,
          -53.272886,
          -53.266665,
          -53.25425,
          -53.248043,
          -53.260457,
          -53.341145,
          -53.390782,
          -53.403182,
          -53.434219,
          -53.496298,
          -53.558392,
          -53.59565,
          -53.614278,
          -53.614285,
          -53.608064,
          -53.601843,
          -53.577014,
          -53.521141,
          -53.477683,
          -53.465276,
          -53.54597,
          -53.663894,
          -53.707324,
          -53.707303,
          -53.694868,
          -53.632746,
          -53.570638,
          -53.533416,
          -53.5024,
          -53.458964,
          -53.421727,
          -53.415527,
          -53.427948,
          -53.434163,
          -53.421734,
          -53.415527,
          -53.427941,
          -53.45277,
          -53.483807,
          -53.502429,
          -53.539707,
          -53.5832,
          -53.601829,
          -53.608029,
          -53.5335,
          -53.477599,
          -53.465185,
          -53.434149,
          -53.415534,
          -53.390705,
          -53.365862,
          -53.35344,
          -53.35964,
          -53.40932,
          -53.465213,
          -53.496263,
          -53.514878,
          -53.502464,
          -53.43417,
          -53.359654,
          -53.316197,
          -53.291361,
          -53.285146,
          -53.278932,
          -53.272725,
          -53.278932,
          -53.285146,
          -53.285146,
          -53.297561,
          -53.309982,
          -53.322404,
          -53.334825,
          -53.334825,
          -53.409327,
          -53.490035,
          -53.533486,
          -53.576937,
          -53.595558,
          -53.61418,
          -53.620388,
          -53.620395,
          -53.60798,
          -53.620402,
          -53.645231,
          -53.639016,
          -53.639016,
          -53.632809,
          -53.626602,
          -53.614187,
          -53.614194,
          -53.570757,
          -53.446605,
          -53.39074,
          -53.39074,
          -53.396947,
          -53.409362,
          -53.421776,
          -53.42799,
          -53.440412,
          -53.465241,
          -53.502478,
          -53.552122,
          -53.632781,
          -53.713447,
          -53.725855,
          -53.713454,
          -53.688646,
          -53.632788,
          -53.58313,
          -53.558308,
          -53.527244,
          -53.521008,
          -53.533388,
          -53.502323,
          -53.471259,
          -53.45263,
          -53.440216,
          -53.421587,
          -53.409172
         ],
         "y": [
          -20.820578,
          -17.258075,
          -14.040575,
          -11.156949,
          -8.573818,
          -6.246677,
          -4.064263,
          -1.98205,
          0,
          2.004303,
          4.108745,
          6.246534,
          8.284156,
          10.332938,
          12.28158,
          14.219098,
          16.112067,
          18.060687,
          20.087222,
          22.20279,
          24.440761,
          26.834525,
          29.350688,
          31.98925,
          34.761333,
          37.711445,
          40.795049,
          44.045525,
          47.474021,
          51.06942,
          54.842888,
          58.727708,
          62.723971,
          66.798317,
          70.850592,
          74.814057,
          78.599696,
          82.185225,
          85.526079,
          88.566574,
          91.184295,
          93.290213,
          94.928669,
          96.177408,
          96.802842,
          96.782711,
          96.30605,
          95.51744,
          94.494748,
          93.30473,
          92.080926,
          90.956876,
          89.988258,
          89.253017,
          88.784602,
          88.560756,
          88.570373,
          88.791218,
          89.111991,
          89.54386,
          90.120251,
          90.841171,
          91.673244,
          92.605351,
          93.615259,
          94.691913,
          95.801953,
          96.956514,
          98.133369,
          99.32139,
          100.442732,
          101.519633,
          102.574375,
          103.595813,
          104.583964,
          105.527717,
          106.349138,
          107.092766,
          107.791998,
          108.413437,
          108.957011,
          109.444975,
          109.86624,
          110.231955,
          110.531024,
          110.774581,
          111.018214,
          111.284222,
          111.56147,
          111.872195,
          112.149616,
          112.416033,
          112.715978,
          112.96037,
          113.115804,
          113.193386,
          113.215435,
          113.181888,
          113.126175,
          112.925827,
          112.547354,
          112.302375,
          112.280041,
          112.246608,
          112.202033,
          112.035058,
          111.945994,
          111.968258,
          111.990507,
          111.923695,
          111.779004,
          111.656578,
          111.61203,
          111.589731,
          111.589696,
          111.578546,
          111.556302,
          111.545191,
          111.522947,
          111.500698,
          111.500714,
          111.489615,
          111.489635,
          111.467417,
          111.456303,
          111.456283,
          111.456287,
          111.434035,
          111.422909,
          111.411787,
          111.422921,
          111.445181,
          111.434086,
          111.422979,
          111.456401,
          111.512035,
          111.55654,
          111.500866,
          111.46746,
          111.489705,
          111.545347,
          111.556481,
          111.523099,
          111.467453,
          111.434074,
          111.400692,
          111.378439,
          111.367313,
          111.345065,
          111.300568,
          111.289458,
          111.289458,
          111.267201,
          111.256079,
          111.267248,
          111.233913,
          111.144896,
          111.08923,
          111.055824,
          111.03356,
          111.022422,
          111.022422,
          111.033552,
          111.044686,
          111.078072,
          111.055801,
          110.944488,
          110.822081,
          110.777588,
          110.799833,
          110.833215,
          110.855499,
          110.877778,
          110.87779,
          110.822136,
          110.777592,
          110.766423,
          110.710722,
          110.677261,
          110.654923,
          110.64375,
          110.588088,
          110.476784,
          110.332108,
          110.209697,
          110.14294,
          110.087313,
          110.087302,
          110.076164,
          110.07616,
          110.120668,
          110.142905,
          110.165122,
          110.142804,
          110.098256,
          110.075996,
          110.04261,
          109.998093,
          109.920183,
          109.864521,
          109.842241,
          109.831088,
          109.79769,
          109.775441,
          109.764323,
          109.742071,
          109.730929,
          109.719752,
          109.686334,
          109.630684,
          109.597294,
          109.575018,
          109.563865,
          109.552727,
          109.552703,
          109.563794,
          109.574897,
          109.586008,
          109.586008,
          109.597157,
          109.63059,
          109.630614,
          109.641756,
          109.652886,
          109.641744,
          109.63061,
          109.608342,
          109.586086,
          109.574917,
          109.574893,
          109.586047,
          109.619464,
          109.641802,
          109.686373,
          109.719725,
          109.730827,
          109.741973,
          109.764257,
          109.797662,
          109.819938,
          109.831088,
          109.853363,
          109.875639,
          109.886785,
          109.875659,
          109.853399,
          109.808929,
          109.775578,
          109.731058,
          109.697671,
          109.675396,
          109.664254,
          109.64199,
          109.619722,
          109.619714,
          109.608576,
          109.597442,
          109.586304,
          109.586301,
          109.597431,
          109.597415,
          109.563978,
          109.552817,
          109.563947,
          109.575077,
          109.586211,
          109.597352,
          109.619628,
          109.641912,
          109.686506,
          109.731077,
          109.753353,
          109.797889,
          109.842413,
          109.853539,
          109.875788,
          109.886906,
          109.898028,
          109.909154,
          109.898009,
          109.864591,
          109.808906,
          109.753224,
          109.69755,
          109.686405,
          109.675267,
          109.675255,
          109.675243,
          109.675216,
          109.686299,
          109.686268,
          109.686264,
          109.697394,
          109.753107,
          109.808788,
          109.875545,
          110.020193,
          110.13147,
          110.187121,
          110.231649,
          110.242787,
          110.198255,
          110.142573,
          110.086899,
          110.042364,
          110.020099,
          109.897657,
          109.797487,
          109.775238,
          109.741856,
          109.719592,
          109.69732,
          109.68619,
          109.675064,
          109.663934,
          109.663926,
          109.65278,
          109.641638,
          109.619382,
          109.552621,
          109.519255,
          109.508132,
          109.519251,
          109.552625,
          109.563747,
          109.574874,
          109.574878,
          109.574878,
          109.563747,
          109.563744,
          109.563744,
          109.574858,
          109.574846,
          109.574842,
          109.574842,
          109.585929,
          109.585875,
          109.585859,
          109.596997,
          109.585883,
          109.585894,
          109.585906,
          109.597044,
          109.641603,
          109.641646,
          109.608322,
          109.58614,
          109.619554,
          109.641826,
          109.664106,
          109.697476,
          109.741965,
          109.753091,
          109.719705,
          109.697449,
          109.697457,
          109.697461,
          109.697453,
          109.686272,
          109.65285,
          109.630583,
          109.630563,
          109.641654,
          109.675005,
          109.697242,
          109.70836,
          109.71949,
          109.697234,
          109.674978,
          109.674993,
          109.663898,
          109.652796,
          109.663934,
          109.663883,
          109.641549,
          109.608131,
          109.574741,
          109.541358,
          109.463487,
          109.407876,
          109.441289,
          109.474699,
          109.496987,
          109.50814,
          109.519274,
          109.530396,
          109.541523,
          109.51927,
          109.519274,
          109.519266,
          109.519251,
          109.519231,
          109.519219,
          109.574846,
          109.641599,
          109.652718,
          109.641584,
          109.57485,
          109.519235,
          109.519243,
          109.519262,
          109.530404,
          109.53042,
          109.508175,
          109.497053,
          109.485919,
          109.519278,
          109.563763,
          109.586004,
          109.574862,
          109.57487,
          109.552653,
          109.508179,
          109.497076,
          109.485962,
          109.474836,
          109.46371,
          109.463714,
          109.46371,
          109.474836,
          109.474836,
          109.474828,
          109.48595,
          109.497073,
          109.508195,
          109.508195,
          109.530408,
          109.552617,
          109.55259,
          109.552563,
          109.552551,
          109.552539,
          109.552535,
          109.563665,
          109.563673,
          109.574796,
          109.57478,
          109.563654,
          109.563654,
          109.563658,
          109.563662,
          109.563669,
          109.574799,
          109.597087,
          109.586035,
          109.58607,
          109.58607,
          109.586066,
          109.586058,
          109.586051,
          109.597177,
          109.608299,
          109.608283,
          109.59713,
          109.574838,
          109.519137,
          109.474566,
          109.463429,
          109.485696,
          109.519102,
          109.530267,
          109.530299,
          109.541444,
          109.496944,
          109.452427,
          109.396769,
          109.352269,
          109.307768,
          109.296649,
          109.296657,
          109.285539,
          109.285547
         ]
        }
       ],
       "layout": {
        "height": 700,
        "hovermode": "x unified",
        "legend": {
         "x": 1,
         "xanchor": "right",
         "y": 1,
         "yanchor": "top"
        },
        "template": {
         "data": {
          "bar": [
           {
            "error_x": {
             "color": "#2a3f5f"
            },
            "error_y": {
             "color": "#2a3f5f"
            },
            "marker": {
             "line": {
              "color": "white",
              "width": 0.5
             },
             "pattern": {
              "fillmode": "overlay",
              "size": 10,
              "solidity": 0.2
             }
            },
            "type": "bar"
           }
          ],
          "barpolar": [
           {
            "marker": {
             "line": {
              "color": "white",
              "width": 0.5
             },
             "pattern": {
              "fillmode": "overlay",
              "size": 10,
              "solidity": 0.2
             }
            },
            "type": "barpolar"
           }
          ],
          "carpet": [
           {
            "aaxis": {
             "endlinecolor": "#2a3f5f",
             "gridcolor": "#C8D4E3",
             "linecolor": "#C8D4E3",
             "minorgridcolor": "#C8D4E3",
             "startlinecolor": "#2a3f5f"
            },
            "baxis": {
             "endlinecolor": "#2a3f5f",
             "gridcolor": "#C8D4E3",
             "linecolor": "#C8D4E3",
             "minorgridcolor": "#C8D4E3",
             "startlinecolor": "#2a3f5f"
            },
            "type": "carpet"
           }
          ],
          "choropleth": [
           {
            "colorbar": {
             "outlinewidth": 0,
             "ticks": ""
            },
            "type": "choropleth"
           }
          ],
          "contour": [
           {
            "colorbar": {
             "outlinewidth": 0,
             "ticks": ""
            },
            "colorscale": [
             [
              0,
              "#0d0887"
             ],
             [
              0.1111111111111111,
              "#46039f"
             ],
             [
              0.2222222222222222,
              "#7201a8"
             ],
             [
              0.3333333333333333,
              "#9c179e"
             ],
             [
              0.4444444444444444,
              "#bd3786"
             ],
             [
              0.5555555555555556,
              "#d8576b"
             ],
             [
              0.6666666666666666,
              "#ed7953"
             ],
             [
              0.7777777777777778,
              "#fb9f3a"
             ],
             [
              0.8888888888888888,
              "#fdca26"
             ],
             [
              1,
              "#f0f921"
             ]
            ],
            "type": "contour"
           }
          ],
          "contourcarpet": [
           {
            "colorbar": {
             "outlinewidth": 0,
             "ticks": ""
            },
            "type": "contourcarpet"
           }
          ],
          "heatmap": [
           {
            "colorbar": {
             "outlinewidth": 0,
             "ticks": ""
            },
            "colorscale": [
             [
              0,
              "#0d0887"
             ],
             [
              0.1111111111111111,
              "#46039f"
             ],
             [
              0.2222222222222222,
              "#7201a8"
             ],
             [
              0.3333333333333333,
              "#9c179e"
             ],
             [
              0.4444444444444444,
              "#bd3786"
             ],
             [
              0.5555555555555556,
              "#d8576b"
             ],
             [
              0.6666666666666666,
              "#ed7953"
             ],
             [
              0.7777777777777778,
              "#fb9f3a"
             ],
             [
              0.8888888888888888,
              "#fdca26"
             ],
             [
              1,
              "#f0f921"
             ]
            ],
            "type": "heatmap"
           }
          ],
          "heatmapgl": [
           {
            "colorbar": {
             "outlinewidth": 0,
             "ticks": ""
            },
            "colorscale": [
             [
              0,
              "#0d0887"
             ],
             [
              0.1111111111111111,
              "#46039f"
             ],
             [
              0.2222222222222222,
              "#7201a8"
             ],
             [
              0.3333333333333333,
              "#9c179e"
             ],
             [
              0.4444444444444444,
              "#bd3786"
             ],
             [
              0.5555555555555556,
              "#d8576b"
             ],
             [
              0.6666666666666666,
              "#ed7953"
             ],
             [
              0.7777777777777778,
              "#fb9f3a"
             ],
             [
              0.8888888888888888,
              "#fdca26"
             ],
             [
              1,
              "#f0f921"
             ]
            ],
            "type": "heatmapgl"
           }
          ],
          "histogram": [
           {
            "marker": {
             "pattern": {
              "fillmode": "overlay",
              "size": 10,
              "solidity": 0.2
             }
            },
            "type": "histogram"
           }
          ],
          "histogram2d": [
           {
            "colorbar": {
             "outlinewidth": 0,
             "ticks": ""
            },
            "colorscale": [
             [
              0,
              "#0d0887"
             ],
             [
              0.1111111111111111,
              "#46039f"
             ],
             [
              0.2222222222222222,
              "#7201a8"
             ],
             [
              0.3333333333333333,
              "#9c179e"
             ],
             [
              0.4444444444444444,
              "#bd3786"
             ],
             [
              0.5555555555555556,
              "#d8576b"
             ],
             [
              0.6666666666666666,
              "#ed7953"
             ],
             [
              0.7777777777777778,
              "#fb9f3a"
             ],
             [
              0.8888888888888888,
              "#fdca26"
             ],
             [
              1,
              "#f0f921"
             ]
            ],
            "type": "histogram2d"
           }
          ],
          "histogram2dcontour": [
           {
            "colorbar": {
             "outlinewidth": 0,
             "ticks": ""
            },
            "colorscale": [
             [
              0,
              "#0d0887"
             ],
             [
              0.1111111111111111,
              "#46039f"
             ],
             [
              0.2222222222222222,
              "#7201a8"
             ],
             [
              0.3333333333333333,
              "#9c179e"
             ],
             [
              0.4444444444444444,
              "#bd3786"
             ],
             [
              0.5555555555555556,
              "#d8576b"
             ],
             [
              0.6666666666666666,
              "#ed7953"
             ],
             [
              0.7777777777777778,
              "#fb9f3a"
             ],
             [
              0.8888888888888888,
              "#fdca26"
             ],
             [
              1,
              "#f0f921"
             ]
            ],
            "type": "histogram2dcontour"
           }
          ],
          "mesh3d": [
           {
            "colorbar": {
             "outlinewidth": 0,
             "ticks": ""
            },
            "type": "mesh3d"
           }
          ],
          "parcoords": [
           {
            "line": {
             "colorbar": {
              "outlinewidth": 0,
              "ticks": ""
             }
            },
            "type": "parcoords"
           }
          ],
          "pie": [
           {
            "automargin": true,
            "type": "pie"
           }
          ],
          "scatter": [
           {
            "fillpattern": {
             "fillmode": "overlay",
             "size": 10,
             "solidity": 0.2
            },
            "type": "scatter"
           }
          ],
          "scatter3d": [
           {
            "line": {
             "colorbar": {
              "outlinewidth": 0,
              "ticks": ""
             }
            },
            "marker": {
             "colorbar": {
              "outlinewidth": 0,
              "ticks": ""
             }
            },
            "type": "scatter3d"
           }
          ],
          "scattercarpet": [
           {
            "marker": {
             "colorbar": {
              "outlinewidth": 0,
              "ticks": ""
             }
            },
            "type": "scattercarpet"
           }
          ],
          "scattergeo": [
           {
            "marker": {
             "colorbar": {
              "outlinewidth": 0,
              "ticks": ""
             }
            },
            "type": "scattergeo"
           }
          ],
          "scattergl": [
           {
            "marker": {
             "colorbar": {
              "outlinewidth": 0,
              "ticks": ""
             }
            },
            "type": "scattergl"
           }
          ],
          "scattermapbox": [
           {
            "marker": {
             "colorbar": {
              "outlinewidth": 0,
              "ticks": ""
             }
            },
            "type": "scattermapbox"
           }
          ],
          "scatterpolar": [
           {
            "marker": {
             "colorbar": {
              "outlinewidth": 0,
              "ticks": ""
             }
            },
            "type": "scatterpolar"
           }
          ],
          "scatterpolargl": [
           {
            "marker": {
             "colorbar": {
              "outlinewidth": 0,
              "ticks": ""
             }
            },
            "type": "scatterpolargl"
           }
          ],
          "scatterternary": [
           {
            "marker": {
             "colorbar": {
              "outlinewidth": 0,
              "ticks": ""
             }
            },
            "type": "scatterternary"
           }
          ],
          "surface": [
           {
            "colorbar": {
             "outlinewidth": 0,
             "ticks": ""
            },
            "colorscale": [
             [
              0,
              "#0d0887"
             ],
             [
              0.1111111111111111,
              "#46039f"
             ],
             [
              0.2222222222222222,
              "#7201a8"
             ],
             [
              0.3333333333333333,
              "#9c179e"
             ],
             [
              0.4444444444444444,
              "#bd3786"
             ],
             [
              0.5555555555555556,
              "#d8576b"
             ],
             [
              0.6666666666666666,
              "#ed7953"
             ],
             [
              0.7777777777777778,
              "#fb9f3a"
             ],
             [
              0.8888888888888888,
              "#fdca26"
             ],
             [
              1,
              "#f0f921"
             ]
            ],
            "type": "surface"
           }
          ],
          "table": [
           {
            "cells": {
             "fill": {
              "color": "#EBF0F8"
             },
             "line": {
              "color": "white"
             }
            },
            "header": {
             "fill": {
              "color": "#C8D4E3"
             },
             "line": {
              "color": "white"
             }
            },
            "type": "table"
           }
          ]
         },
         "layout": {
          "annotationdefaults": {
           "arrowcolor": "#2a3f5f",
           "arrowhead": 0,
           "arrowwidth": 1
          },
          "autotypenumbers": "strict",
          "coloraxis": {
           "colorbar": {
            "outlinewidth": 0,
            "ticks": ""
           }
          },
          "colorscale": {
           "diverging": [
            [
             0,
             "#8e0152"
            ],
            [
             0.1,
             "#c51b7d"
            ],
            [
             0.2,
             "#de77ae"
            ],
            [
             0.3,
             "#f1b6da"
            ],
            [
             0.4,
             "#fde0ef"
            ],
            [
             0.5,
             "#f7f7f7"
            ],
            [
             0.6,
             "#e6f5d0"
            ],
            [
             0.7,
             "#b8e186"
            ],
            [
             0.8,
             "#7fbc41"
            ],
            [
             0.9,
             "#4d9221"
            ],
            [
             1,
             "#276419"
            ]
           ],
           "sequential": [
            [
             0,
             "#0d0887"
            ],
            [
             0.1111111111111111,
             "#46039f"
            ],
            [
             0.2222222222222222,
             "#7201a8"
            ],
            [
             0.3333333333333333,
             "#9c179e"
            ],
            [
             0.4444444444444444,
             "#bd3786"
            ],
            [
             0.5555555555555556,
             "#d8576b"
            ],
            [
             0.6666666666666666,
             "#ed7953"
            ],
            [
             0.7777777777777778,
             "#fb9f3a"
            ],
            [
             0.8888888888888888,
             "#fdca26"
            ],
            [
             1,
             "#f0f921"
            ]
           ],
           "sequentialminus": [
            [
             0,
             "#0d0887"
            ],
            [
             0.1111111111111111,
             "#46039f"
            ],
            [
             0.2222222222222222,
             "#7201a8"
            ],
            [
             0.3333333333333333,
             "#9c179e"
            ],
            [
             0.4444444444444444,
             "#bd3786"
            ],
            [
             0.5555555555555556,
             "#d8576b"
            ],
            [
             0.6666666666666666,
             "#ed7953"
            ],
            [
             0.7777777777777778,
             "#fb9f3a"
            ],
            [
             0.8888888888888888,
             "#fdca26"
            ],
            [
             1,
             "#f0f921"
            ]
           ]
          },
          "colorway": [
           "#636efa",
           "#EF553B",
           "#00cc96",
           "#ab63fa",
           "#FFA15A",
           "#19d3f3",
           "#FF6692",
           "#B6E880",
           "#FF97FF",
           "#FECB52"
          ],
          "font": {
           "color": "#2a3f5f"
          },
          "geo": {
           "bgcolor": "white",
           "lakecolor": "white",
           "landcolor": "white",
           "showlakes": true,
           "showland": true,
           "subunitcolor": "#C8D4E3"
          },
          "hoverlabel": {
           "align": "left"
          },
          "hovermode": "closest",
          "mapbox": {
           "style": "light"
          },
          "paper_bgcolor": "white",
          "plot_bgcolor": "white",
          "polar": {
           "angularaxis": {
            "gridcolor": "#EBF0F8",
            "linecolor": "#EBF0F8",
            "ticks": ""
           },
           "bgcolor": "white",
           "radialaxis": {
            "gridcolor": "#EBF0F8",
            "linecolor": "#EBF0F8",
            "ticks": ""
           }
          },
          "scene": {
           "xaxis": {
            "backgroundcolor": "white",
            "gridcolor": "#DFE8F3",
            "gridwidth": 2,
            "linecolor": "#EBF0F8",
            "showbackground": true,
            "ticks": "",
            "zerolinecolor": "#EBF0F8"
           },
           "yaxis": {
            "backgroundcolor": "white",
            "gridcolor": "#DFE8F3",
            "gridwidth": 2,
            "linecolor": "#EBF0F8",
            "showbackground": true,
            "ticks": "",
            "zerolinecolor": "#EBF0F8"
           },
           "zaxis": {
            "backgroundcolor": "white",
            "gridcolor": "#DFE8F3",
            "gridwidth": 2,
            "linecolor": "#EBF0F8",
            "showbackground": true,
            "ticks": "",
            "zerolinecolor": "#EBF0F8"
           }
          },
          "shapedefaults": {
           "line": {
            "color": "#2a3f5f"
           }
          },
          "ternary": {
           "aaxis": {
            "gridcolor": "#DFE8F3",
            "linecolor": "#A2B1C6",
            "ticks": ""
           },
           "baxis": {
            "gridcolor": "#DFE8F3",
            "linecolor": "#A2B1C6",
            "ticks": ""
           },
           "bgcolor": "white",
           "caxis": {
            "gridcolor": "#DFE8F3",
            "linecolor": "#A2B1C6",
            "ticks": ""
           }
          },
          "title": {
           "x": 0.05
          },
          "xaxis": {
           "automargin": true,
           "gridcolor": "#EBF0F8",
           "linecolor": "#EBF0F8",
           "ticks": "",
           "title": {
            "standoff": 15
           },
           "zerolinecolor": "#EBF0F8",
           "zerolinewidth": 2
          },
          "yaxis": {
           "automargin": true,
           "gridcolor": "#EBF0F8",
           "linecolor": "#EBF0F8",
           "ticks": "",
           "title": {
            "standoff": 15
           },
           "zerolinecolor": "#EBF0F8",
           "zerolinewidth": 2
          }
         }
        },
        "title": {
         "text": "Overhead view of flight path"
        },
        "width": 700,
        "xaxis": {
         "title": {
          "text": "X-axis distance (m)"
         }
        },
        "yaxis": {
         "title": {
          "text": "Y-axis distance (m)"
         }
        }
       }
      },
      "text/html": [
       "<div>                            <div id=\"33b632b5-066e-47b2-b8d1-d61162f262ef\" class=\"plotly-graph-div\" style=\"height:700px; width:700px;\"></div>            <script type=\"text/javascript\">                require([\"plotly\"], function(Plotly) {                    window.PLOTLYENV=window.PLOTLYENV || {};                                    if (document.getElementById(\"33b632b5-066e-47b2-b8d1-d61162f262ef\")) {                    Plotly.newPlot(                        \"33b632b5-066e-47b2-b8d1-d61162f262ef\",                        [{\"hovertemplate\":\"yaxis distance: %{y:.2f} m<extra></extra>\",\"line\":{\"color\":\"#636EFA\",\"width\":1.2},\"showlegend\":false,\"x\":[-11.495262,-10.113277,-8.687622,-7.218303,-5.723963,-4.229462,-2.790736,-1.401607,0.0,1.389176,2.728628,3.999775,5.277192,6.598054,7.968637,9.345434,10.678807,12.012142,13.351634,14.678652,15.962138,17.20207,18.392263,19.532716,20.611008,21.608487,22.500354,23.267964,23.942347,24.542133,25.12318,25.78485,26.663703,27.809419,29.246891,31.038235,33.220752,35.757212,38.579362,41.631374,44.938156,48.518389,52.092717,55.412798,58.696042,61.942466,64.885032,67.35605,69.293397,70.659783,71.424086,71.555179,71.096477,70.097586,68.651595,66.758516,64.455603,61.780113,58.73212,55.367482,51.742045,47.862015,43.752244,39.425154,34.924212,30.361155,25.785665,21.203941,16.665656,12.177025,7.837413,3.615771,-0.45688,-4.399155,-8.186225,-11.787047,-15.238815,-18.510521,-21.589772,-24.488962,-27.319821,-30.088572,-32.733135,-35.22248,-37.500736,-39.561702,-41.50473,-43.267761,-44.856995,-46.309691,-47.625806,-48.743281,-49.643523,-50.388548,-51.003165,-51.524624,-51.85983,-52.108099,-52.20738,-52.219669,-52.300125,-52.486189,-52.604113,-52.672371,-52.759245,-52.796384,-52.833571,-52.827378,-52.846014,-52.89563,-52.895539,-52.889254,-52.932677,-52.994736,-53.050601,-53.08163,-53.056787,-53.025744,-53.000901,-52.982265,-52.957436,-52.907771,-52.876735,-52.808441,-52.783605,-52.814641,-52.808434,-52.796005,-52.789791,-52.777369,-52.771169,-52.771183,-52.715311,-52.67806,-52.628423,-52.653287,-52.678144,-52.715353,-52.740161,-52.765004,-52.777454,-52.771253,-52.758818,-52.752575,-52.733933,-52.721497,-52.709069,-52.702854,-52.684219,-52.646947,-52.615904,-52.615904,-52.609682,-52.597261,-52.535195,-52.448273,-52.410973,-52.435767,-52.460575,-52.466768,-52.479176,-52.479176,-52.479183,-52.472982,-52.479211,-52.497819,-52.51637,-52.47905,-52.435571,-52.460414,-52.472849,-52.43562,-52.404598,-52.385976,-52.392148,-52.429364,-52.491429,-52.572089,-52.683798,-52.807929,-52.876202,-52.894789,-52.900926,-52.876006,-52.844893,-52.807607,-52.770329,-52.78895,-52.801358,-52.807565,-52.826215,-52.863473,-52.931766,-53.024861,-53.068284,-53.06827,-53.062042,-53.055807,-53.055758,-53.074344,-53.105367,-53.142603,-53.154997,-53.136361,-53.117732,-53.105304,-53.123918,-53.198399,-53.241828,-53.241793,-53.241772,-53.266587,-53.303824,-53.316232,-53.353475,-53.415555,-53.459013,-53.490056,-53.490056,-53.459027,-53.390768,-53.353524,-53.334909,-53.334916,-53.353531,-53.359731,-53.372132,-53.365911,-53.427976,-53.46522,-53.427983,-53.384554,-53.260422,-53.179756,-53.241849,-53.285307,-53.260485,-53.223256,-53.198448,-53.173633,-53.142603,-53.117788,-53.092973,-53.068151,-53.061937,-53.061923,-52.9812,-52.919107,-52.919079,-52.91285,-52.937666,-52.95628,-52.962474,-52.974874,-52.987289,-52.999696,-53.005896,-53.018304,-53.024511,-53.024518,-53.049347,-53.123813,-53.173465,-53.173472,-53.173479,-53.167278,-53.148663,-53.123848,-53.086619,-52.968709,-52.888042,-52.863227,-52.838426,-52.832247,-52.838461,-52.857097,-52.875726,-52.888148,-52.894362,-52.919184,-52.962614,-53.018444,-53.068067,-53.105276,-53.130098,-53.142505,-53.161127,-53.179749,-53.2232,-53.297694,-53.347352,-53.353559,-53.353566,-53.254285,-53.204662,-53.241948,-53.310318,-53.347632,-53.347667,-53.335281,-53.322873,-53.341467,-53.39109,-53.428299,-53.4531,-53.459293,-53.477838,-53.477775,-53.459139,-53.446703,-53.452896,-53.471504,-53.471497,-53.465283,-53.465276,-53.47769,-53.502513,-53.521127,-53.514906,-53.483828,-53.446563,-53.434142,-53.45277,-53.47762,-53.490042,-53.496256,-53.490049,-53.490049,-53.490042,-53.496249,-53.496249,-53.521085,-53.539707,-53.545914,-53.545914,-53.614201,-53.701103,-53.725932,-53.713524,-53.688688,-53.670067,-53.651445,-53.639037,-53.576993,-53.508713,-53.403168,-53.279009,-53.241786,-53.223179,-53.192156,-53.223214,-53.2729,-53.279114,-53.272886,-53.266665,-53.25425,-53.248043,-53.260457,-53.341145,-53.390782,-53.403182,-53.434219,-53.496298,-53.558392,-53.59565,-53.614278,-53.614285,-53.608064,-53.601843,-53.577014,-53.521141,-53.477683,-53.465276,-53.54597,-53.663894,-53.707324,-53.707303,-53.694868,-53.632746,-53.570638,-53.533416,-53.5024,-53.458964,-53.421727,-53.415527,-53.427948,-53.434163,-53.421734,-53.415527,-53.427941,-53.45277,-53.483807,-53.502429,-53.539707,-53.5832,-53.601829,-53.608029,-53.5335,-53.477599,-53.465185,-53.434149,-53.415534,-53.390705,-53.365862,-53.35344,-53.35964,-53.40932,-53.465213,-53.496263,-53.514878,-53.502464,-53.43417,-53.359654,-53.316197,-53.291361,-53.285146,-53.278932,-53.272725,-53.278932,-53.285146,-53.285146,-53.297561,-53.309982,-53.322404,-53.334825,-53.334825,-53.409327,-53.490035,-53.533486,-53.576937,-53.595558,-53.61418,-53.620388,-53.620395,-53.60798,-53.620402,-53.645231,-53.639016,-53.639016,-53.632809,-53.626602,-53.614187,-53.614194,-53.570757,-53.446605,-53.39074,-53.39074,-53.396947,-53.409362,-53.421776,-53.42799,-53.440412,-53.465241,-53.502478,-53.552122,-53.632781,-53.713447,-53.725855,-53.713454,-53.688646,-53.632788,-53.58313,-53.558308,-53.527244,-53.521008,-53.533388,-53.502323,-53.471259,-53.45263,-53.440216,-53.421587,-53.409172],\"y\":[-20.820578,-17.258075,-14.040575,-11.156949,-8.573818,-6.246677,-4.064263,-1.98205,0.0,2.004303,4.108745,6.246534,8.284156,10.332938,12.28158,14.219098,16.112067,18.060687,20.087222,22.20279,24.440761,26.834525,29.350688,31.98925,34.761333,37.711445,40.795049,44.045525,47.474021,51.06942,54.842888,58.727708,62.723971,66.798317,70.850592,74.814057,78.599696,82.185225,85.526079,88.566574,91.184295,93.290213,94.928669,96.177408,96.802842,96.782711,96.30605,95.51744,94.494748,93.30473,92.080926,90.956876,89.988258,89.253017,88.784602,88.560756,88.570373,88.791218,89.111991,89.54386,90.120251,90.841171,91.673244,92.605351,93.615259,94.691913,95.801953,96.956514,98.133369,99.32139,100.442732,101.519633,102.574375,103.595813,104.583964,105.527717,106.349138,107.092766,107.791998,108.413437,108.957011,109.444975,109.86624,110.231955,110.531024,110.774581,111.018214,111.284222,111.56147,111.872195,112.149616,112.416033,112.715978,112.96037,113.115804,113.193386,113.215435,113.181888,113.126175,112.925827,112.547354,112.302375,112.280041,112.246608,112.202033,112.035058,111.945994,111.968258,111.990507,111.923695,111.779004,111.656578,111.61203,111.589731,111.589696,111.578546,111.556302,111.545191,111.522947,111.500698,111.500714,111.489615,111.489635,111.467417,111.456303,111.456283,111.456287,111.434035,111.422909,111.411787,111.422921,111.445181,111.434086,111.422979,111.456401,111.512035,111.55654,111.500866,111.46746,111.489705,111.545347,111.556481,111.523099,111.467453,111.434074,111.400692,111.378439,111.367313,111.345065,111.300568,111.289458,111.289458,111.267201,111.256079,111.267248,111.233913,111.144896,111.08923,111.055824,111.03356,111.022422,111.022422,111.033552,111.044686,111.078072,111.055801,110.944488,110.822081,110.777588,110.799833,110.833215,110.855499,110.877778,110.87779,110.822136,110.777592,110.766423,110.710722,110.677261,110.654923,110.64375,110.588088,110.476784,110.332108,110.209697,110.14294,110.087313,110.087302,110.076164,110.07616,110.120668,110.142905,110.165122,110.142804,110.098256,110.075996,110.04261,109.998093,109.920183,109.864521,109.842241,109.831088,109.79769,109.775441,109.764323,109.742071,109.730929,109.719752,109.686334,109.630684,109.597294,109.575018,109.563865,109.552727,109.552703,109.563794,109.574897,109.586008,109.586008,109.597157,109.63059,109.630614,109.641756,109.652886,109.641744,109.63061,109.608342,109.586086,109.574917,109.574893,109.586047,109.619464,109.641802,109.686373,109.719725,109.730827,109.741973,109.764257,109.797662,109.819938,109.831088,109.853363,109.875639,109.886785,109.875659,109.853399,109.808929,109.775578,109.731058,109.697671,109.675396,109.664254,109.64199,109.619722,109.619714,109.608576,109.597442,109.586304,109.586301,109.597431,109.597415,109.563978,109.552817,109.563947,109.575077,109.586211,109.597352,109.619628,109.641912,109.686506,109.731077,109.753353,109.797889,109.842413,109.853539,109.875788,109.886906,109.898028,109.909154,109.898009,109.864591,109.808906,109.753224,109.69755,109.686405,109.675267,109.675255,109.675243,109.675216,109.686299,109.686268,109.686264,109.697394,109.753107,109.808788,109.875545,110.020193,110.13147,110.187121,110.231649,110.242787,110.198255,110.142573,110.086899,110.042364,110.020099,109.897657,109.797487,109.775238,109.741856,109.719592,109.69732,109.68619,109.675064,109.663934,109.663926,109.65278,109.641638,109.619382,109.552621,109.519255,109.508132,109.519251,109.552625,109.563747,109.574874,109.574878,109.574878,109.563747,109.563744,109.563744,109.574858,109.574846,109.574842,109.574842,109.585929,109.585875,109.585859,109.596997,109.585883,109.585894,109.585906,109.597044,109.641603,109.641646,109.608322,109.58614,109.619554,109.641826,109.664106,109.697476,109.741965,109.753091,109.719705,109.697449,109.697457,109.697461,109.697453,109.686272,109.65285,109.630583,109.630563,109.641654,109.675005,109.697242,109.70836,109.71949,109.697234,109.674978,109.674993,109.663898,109.652796,109.663934,109.663883,109.641549,109.608131,109.574741,109.541358,109.463487,109.407876,109.441289,109.474699,109.496987,109.50814,109.519274,109.530396,109.541523,109.51927,109.519274,109.519266,109.519251,109.519231,109.519219,109.574846,109.641599,109.652718,109.641584,109.57485,109.519235,109.519243,109.519262,109.530404,109.53042,109.508175,109.497053,109.485919,109.519278,109.563763,109.586004,109.574862,109.57487,109.552653,109.508179,109.497076,109.485962,109.474836,109.46371,109.463714,109.46371,109.474836,109.474836,109.474828,109.48595,109.497073,109.508195,109.508195,109.530408,109.552617,109.55259,109.552563,109.552551,109.552539,109.552535,109.563665,109.563673,109.574796,109.57478,109.563654,109.563654,109.563658,109.563662,109.563669,109.574799,109.597087,109.586035,109.58607,109.58607,109.586066,109.586058,109.586051,109.597177,109.608299,109.608283,109.59713,109.574838,109.519137,109.474566,109.463429,109.485696,109.519102,109.530267,109.530299,109.541444,109.496944,109.452427,109.396769,109.352269,109.307768,109.296649,109.296657,109.285539,109.285547],\"type\":\"scatter\"}],                        {\"template\":{\"data\":{\"histogram2dcontour\":[{\"type\":\"histogram2dcontour\",\"colorbar\":{\"outlinewidth\":0,\"ticks\":\"\"},\"colorscale\":[[0.0,\"#0d0887\"],[0.1111111111111111,\"#46039f\"],[0.2222222222222222,\"#7201a8\"],[0.3333333333333333,\"#9c179e\"],[0.4444444444444444,\"#bd3786\"],[0.5555555555555556,\"#d8576b\"],[0.6666666666666666,\"#ed7953\"],[0.7777777777777778,\"#fb9f3a\"],[0.8888888888888888,\"#fdca26\"],[1.0,\"#f0f921\"]]}],\"choropleth\":[{\"type\":\"choropleth\",\"colorbar\":{\"outlinewidth\":0,\"ticks\":\"\"}}],\"histogram2d\":[{\"type\":\"histogram2d\",\"colorbar\":{\"outlinewidth\":0,\"ticks\":\"\"},\"colorscale\":[[0.0,\"#0d0887\"],[0.1111111111111111,\"#46039f\"],[0.2222222222222222,\"#7201a8\"],[0.3333333333333333,\"#9c179e\"],[0.4444444444444444,\"#bd3786\"],[0.5555555555555556,\"#d8576b\"],[0.6666666666666666,\"#ed7953\"],[0.7777777777777778,\"#fb9f3a\"],[0.8888888888888888,\"#fdca26\"],[1.0,\"#f0f921\"]]}],\"heatmap\":[{\"type\":\"heatmap\",\"colorbar\":{\"outlinewidth\":0,\"ticks\":\"\"},\"colorscale\":[[0.0,\"#0d0887\"],[0.1111111111111111,\"#46039f\"],[0.2222222222222222,\"#7201a8\"],[0.3333333333333333,\"#9c179e\"],[0.4444444444444444,\"#bd3786\"],[0.5555555555555556,\"#d8576b\"],[0.6666666666666666,\"#ed7953\"],[0.7777777777777778,\"#fb9f3a\"],[0.8888888888888888,\"#fdca26\"],[1.0,\"#f0f921\"]]}],\"heatmapgl\":[{\"type\":\"heatmapgl\",\"colorbar\":{\"outlinewidth\":0,\"ticks\":\"\"},\"colorscale\":[[0.0,\"#0d0887\"],[0.1111111111111111,\"#46039f\"],[0.2222222222222222,\"#7201a8\"],[0.3333333333333333,\"#9c179e\"],[0.4444444444444444,\"#bd3786\"],[0.5555555555555556,\"#d8576b\"],[0.6666666666666666,\"#ed7953\"],[0.7777777777777778,\"#fb9f3a\"],[0.8888888888888888,\"#fdca26\"],[1.0,\"#f0f921\"]]}],\"contourcarpet\":[{\"type\":\"contourcarpet\",\"colorbar\":{\"outlinewidth\":0,\"ticks\":\"\"}}],\"contour\":[{\"type\":\"contour\",\"colorbar\":{\"outlinewidth\":0,\"ticks\":\"\"},\"colorscale\":[[0.0,\"#0d0887\"],[0.1111111111111111,\"#46039f\"],[0.2222222222222222,\"#7201a8\"],[0.3333333333333333,\"#9c179e\"],[0.4444444444444444,\"#bd3786\"],[0.5555555555555556,\"#d8576b\"],[0.6666666666666666,\"#ed7953\"],[0.7777777777777778,\"#fb9f3a\"],[0.8888888888888888,\"#fdca26\"],[1.0,\"#f0f921\"]]}],\"surface\":[{\"type\":\"surface\",\"colorbar\":{\"outlinewidth\":0,\"ticks\":\"\"},\"colorscale\":[[0.0,\"#0d0887\"],[0.1111111111111111,\"#46039f\"],[0.2222222222222222,\"#7201a8\"],[0.3333333333333333,\"#9c179e\"],[0.4444444444444444,\"#bd3786\"],[0.5555555555555556,\"#d8576b\"],[0.6666666666666666,\"#ed7953\"],[0.7777777777777778,\"#fb9f3a\"],[0.8888888888888888,\"#fdca26\"],[1.0,\"#f0f921\"]]}],\"mesh3d\":[{\"type\":\"mesh3d\",\"colorbar\":{\"outlinewidth\":0,\"ticks\":\"\"}}],\"scatter\":[{\"fillpattern\":{\"fillmode\":\"overlay\",\"size\":10,\"solidity\":0.2},\"type\":\"scatter\"}],\"parcoords\":[{\"type\":\"parcoords\",\"line\":{\"colorbar\":{\"outlinewidth\":0,\"ticks\":\"\"}}}],\"scatterpolargl\":[{\"type\":\"scatterpolargl\",\"marker\":{\"colorbar\":{\"outlinewidth\":0,\"ticks\":\"\"}}}],\"bar\":[{\"error_x\":{\"color\":\"#2a3f5f\"},\"error_y\":{\"color\":\"#2a3f5f\"},\"marker\":{\"line\":{\"color\":\"white\",\"width\":0.5},\"pattern\":{\"fillmode\":\"overlay\",\"size\":10,\"solidity\":0.2}},\"type\":\"bar\"}],\"scattergeo\":[{\"type\":\"scattergeo\",\"marker\":{\"colorbar\":{\"outlinewidth\":0,\"ticks\":\"\"}}}],\"scatterpolar\":[{\"type\":\"scatterpolar\",\"marker\":{\"colorbar\":{\"outlinewidth\":0,\"ticks\":\"\"}}}],\"histogram\":[{\"marker\":{\"pattern\":{\"fillmode\":\"overlay\",\"size\":10,\"solidity\":0.2}},\"type\":\"histogram\"}],\"scattergl\":[{\"type\":\"scattergl\",\"marker\":{\"colorbar\":{\"outlinewidth\":0,\"ticks\":\"\"}}}],\"scatter3d\":[{\"type\":\"scatter3d\",\"line\":{\"colorbar\":{\"outlinewidth\":0,\"ticks\":\"\"}},\"marker\":{\"colorbar\":{\"outlinewidth\":0,\"ticks\":\"\"}}}],\"scattermapbox\":[{\"type\":\"scattermapbox\",\"marker\":{\"colorbar\":{\"outlinewidth\":0,\"ticks\":\"\"}}}],\"scatterternary\":[{\"type\":\"scatterternary\",\"marker\":{\"colorbar\":{\"outlinewidth\":0,\"ticks\":\"\"}}}],\"scattercarpet\":[{\"type\":\"scattercarpet\",\"marker\":{\"colorbar\":{\"outlinewidth\":0,\"ticks\":\"\"}}}],\"carpet\":[{\"aaxis\":{\"endlinecolor\":\"#2a3f5f\",\"gridcolor\":\"#C8D4E3\",\"linecolor\":\"#C8D4E3\",\"minorgridcolor\":\"#C8D4E3\",\"startlinecolor\":\"#2a3f5f\"},\"baxis\":{\"endlinecolor\":\"#2a3f5f\",\"gridcolor\":\"#C8D4E3\",\"linecolor\":\"#C8D4E3\",\"minorgridcolor\":\"#C8D4E3\",\"startlinecolor\":\"#2a3f5f\"},\"type\":\"carpet\"}],\"table\":[{\"cells\":{\"fill\":{\"color\":\"#EBF0F8\"},\"line\":{\"color\":\"white\"}},\"header\":{\"fill\":{\"color\":\"#C8D4E3\"},\"line\":{\"color\":\"white\"}},\"type\":\"table\"}],\"barpolar\":[{\"marker\":{\"line\":{\"color\":\"white\",\"width\":0.5},\"pattern\":{\"fillmode\":\"overlay\",\"size\":10,\"solidity\":0.2}},\"type\":\"barpolar\"}],\"pie\":[{\"automargin\":true,\"type\":\"pie\"}]},\"layout\":{\"autotypenumbers\":\"strict\",\"colorway\":[\"#636efa\",\"#EF553B\",\"#00cc96\",\"#ab63fa\",\"#FFA15A\",\"#19d3f3\",\"#FF6692\",\"#B6E880\",\"#FF97FF\",\"#FECB52\"],\"font\":{\"color\":\"#2a3f5f\"},\"hovermode\":\"closest\",\"hoverlabel\":{\"align\":\"left\"},\"paper_bgcolor\":\"white\",\"plot_bgcolor\":\"white\",\"polar\":{\"bgcolor\":\"white\",\"angularaxis\":{\"gridcolor\":\"#EBF0F8\",\"linecolor\":\"#EBF0F8\",\"ticks\":\"\"},\"radialaxis\":{\"gridcolor\":\"#EBF0F8\",\"linecolor\":\"#EBF0F8\",\"ticks\":\"\"}},\"ternary\":{\"bgcolor\":\"white\",\"aaxis\":{\"gridcolor\":\"#DFE8F3\",\"linecolor\":\"#A2B1C6\",\"ticks\":\"\"},\"baxis\":{\"gridcolor\":\"#DFE8F3\",\"linecolor\":\"#A2B1C6\",\"ticks\":\"\"},\"caxis\":{\"gridcolor\":\"#DFE8F3\",\"linecolor\":\"#A2B1C6\",\"ticks\":\"\"}},\"coloraxis\":{\"colorbar\":{\"outlinewidth\":0,\"ticks\":\"\"}},\"colorscale\":{\"sequential\":[[0.0,\"#0d0887\"],[0.1111111111111111,\"#46039f\"],[0.2222222222222222,\"#7201a8\"],[0.3333333333333333,\"#9c179e\"],[0.4444444444444444,\"#bd3786\"],[0.5555555555555556,\"#d8576b\"],[0.6666666666666666,\"#ed7953\"],[0.7777777777777778,\"#fb9f3a\"],[0.8888888888888888,\"#fdca26\"],[1.0,\"#f0f921\"]],\"sequentialminus\":[[0.0,\"#0d0887\"],[0.1111111111111111,\"#46039f\"],[0.2222222222222222,\"#7201a8\"],[0.3333333333333333,\"#9c179e\"],[0.4444444444444444,\"#bd3786\"],[0.5555555555555556,\"#d8576b\"],[0.6666666666666666,\"#ed7953\"],[0.7777777777777778,\"#fb9f3a\"],[0.8888888888888888,\"#fdca26\"],[1.0,\"#f0f921\"]],\"diverging\":[[0,\"#8e0152\"],[0.1,\"#c51b7d\"],[0.2,\"#de77ae\"],[0.3,\"#f1b6da\"],[0.4,\"#fde0ef\"],[0.5,\"#f7f7f7\"],[0.6,\"#e6f5d0\"],[0.7,\"#b8e186\"],[0.8,\"#7fbc41\"],[0.9,\"#4d9221\"],[1,\"#276419\"]]},\"xaxis\":{\"gridcolor\":\"#EBF0F8\",\"linecolor\":\"#EBF0F8\",\"ticks\":\"\",\"title\":{\"standoff\":15},\"zerolinecolor\":\"#EBF0F8\",\"automargin\":true,\"zerolinewidth\":2},\"yaxis\":{\"gridcolor\":\"#EBF0F8\",\"linecolor\":\"#EBF0F8\",\"ticks\":\"\",\"title\":{\"standoff\":15},\"zerolinecolor\":\"#EBF0F8\",\"automargin\":true,\"zerolinewidth\":2},\"scene\":{\"xaxis\":{\"backgroundcolor\":\"white\",\"gridcolor\":\"#DFE8F3\",\"linecolor\":\"#EBF0F8\",\"showbackground\":true,\"ticks\":\"\",\"zerolinecolor\":\"#EBF0F8\",\"gridwidth\":2},\"yaxis\":{\"backgroundcolor\":\"white\",\"gridcolor\":\"#DFE8F3\",\"linecolor\":\"#EBF0F8\",\"showbackground\":true,\"ticks\":\"\",\"zerolinecolor\":\"#EBF0F8\",\"gridwidth\":2},\"zaxis\":{\"backgroundcolor\":\"white\",\"gridcolor\":\"#DFE8F3\",\"linecolor\":\"#EBF0F8\",\"showbackground\":true,\"ticks\":\"\",\"zerolinecolor\":\"#EBF0F8\",\"gridwidth\":2}},\"shapedefaults\":{\"line\":{\"color\":\"#2a3f5f\"}},\"annotationdefaults\":{\"arrowcolor\":\"#2a3f5f\",\"arrowhead\":0,\"arrowwidth\":1},\"geo\":{\"bgcolor\":\"white\",\"landcolor\":\"white\",\"subunitcolor\":\"#C8D4E3\",\"showland\":true,\"showlakes\":true,\"lakecolor\":\"white\"},\"title\":{\"x\":0.05},\"mapbox\":{\"style\":\"light\"}}},\"legend\":{\"yanchor\":\"top\",\"y\":1,\"xanchor\":\"right\",\"x\":1},\"hovermode\":\"x unified\",\"height\":700,\"width\":700,\"title\":{\"text\":\"Overhead view of flight path\"},\"xaxis\":{\"title\":{\"text\":\"X-axis distance (m)\"}},\"yaxis\":{\"title\":{\"text\":\"Y-axis distance (m)\"}}},                        {\"responsive\": true}                    ).then(function(){\n",
       "                            \n",
       "var gd = document.getElementById('33b632b5-066e-47b2-b8d1-d61162f262ef');\n",
       "var x = new MutationObserver(function (mutations, observer) {{\n",
       "        var display = window.getComputedStyle(gd).display;\n",
       "        if (!display || display === 'none') {{\n",
       "            console.log([gd, 'removed!']);\n",
       "            Plotly.purge(gd);\n",
       "            observer.disconnect();\n",
       "        }}\n",
       "}});\n",
       "\n",
       "// Listen for the removal of the full notebook cells\n",
       "var notebookContainer = gd.closest('#notebook-container');\n",
       "if (notebookContainer) {{\n",
       "    x.observe(notebookContainer, {childList: true});\n",
       "}}\n",
       "\n",
       "// Listen for the clearing of the current output cell\n",
       "var outputEl = gd.closest('.output');\n",
       "if (outputEl) {{\n",
       "    x.observe(outputEl, {childList: true});\n",
       "}}\n",
       "\n",
       "                        })                };                });            </script>        </div>"
      ]
     },
     "metadata": {},
     "output_type": "display_data"
    }
   ],
   "source": [
    "def plt_overhead(df, distance_metric):\n",
    "    x_axis = get_xaxis_settings(df, distance_metric=distance_metric)\n",
    "    y_axis = get_yaxis_settings(df, distance_metric=distance_metric)\n",
    "    \n",
    "    fig = go.Figure()\n",
    "    fig.add_trace(go.Scatter(\n",
    "        x=x_axis['Distance']['col'],\n",
    "        y=y_axis['Distance']['col'],\n",
    "        line=dict(color=y_axis['Distance']['color'], width=1.2),\n",
    "        hovertemplate=y_axis['Distance']['hovertemplate'],\n",
    "        showlegend=False\n",
    "    ))\n",
    "    fig.update_layout(hovermode='x unified',  height=700, width=700, title='Overhead view of flight path', legend=dict(yanchor=\"top\", y=1, xanchor=\"right\", x=1))\n",
    "    fig.update_xaxes(title=f\"X-axis distance ({ x_axis['Distance']['metric'] })\")\n",
    "    fig.update_yaxes(title=f\"Y-axis distance ({ y_axis['Distance']['metric'] })\")\n",
    "    return fig\n",
    "\n",
    "plt_overhead(test_df, 'm')"
   ]
  },
  {
   "cell_type": "code",
   "execution_count": 65,
   "id": "286e36ce",
   "metadata": {},
   "outputs": [
    {
     "data": {
      "application/vnd.plotly.v1+json": {
       "config": {
        "plotlyServerURL": "https://plot.ly"
       },
       "data": [
        {
         "line": {
          "color": [
           741.2073490784,
           741.7486876610751,
           743.218503934035,
           745.3904199445251,
           747.608267713545,
           749.9967191571051,
           751.95538057442,
           753.2053805744151,
           753.526902884125,
           752.568897634785,
           750.20997375028,
           746.7454068211599,
           742.457349078395,
           738.0216535403549,
           731.67322834353,
           726.22703411783,
           719.4881889735,
           711.8569553777301,
           703.500656165165,
           694.3503936980101,
           684.54724409175,
           674.2585301810301,
           663.47112860627,
           652.2933070840049,
           640.8070866116101,
           629.1305774253051,
           617.38188976131,
           605.57086613931,
           593.7171915986751,
           582.0078740134201,
           570.64960629693,
           559.478346454455,
           548.139763777335,
           536.7946194204251,
           525.593832018895,
           514.0419947486,
           502.1095800504851,
           489.438976375995,
           475.5347769009851,
           461.1417322816201,
           445.889107609765,
           429.25853018201,
           411.52230970964,
           393.093832019425,
           374.110892386955,
           353.41535432929504,
           332.162073489485,
           310.367454067,
           287.71653543192,
           265.055774277155,
           242.903543306115,
           221.77165354242,
           200.62992125904,
           179.76377952683998,
           159.320866141095,
           139.20603674485,
           119.80314960582,
           101.22703412033,
           83.56299212565,
           67.03740157453501,
           51.614173228139975,
           37.40157480300002,
           24.688320209875,
           13.382545931704982,
           3.4481627296449915,
           -5.2427821522099975,
           -12.736220472390016,
           -18.92388451436001,
           -23.94685039360502,
           -27.59842519674001,
           -29.603018372585,
           -30.87270341195,
           -31.07611548544,
           -31.25328083977,
           -30.97769028859001,
           -30.344488188855,
           -29.917979002505007,
           -29.412729658675005,
           -28.832020997260003,
           -28.284120734795,
           -28.17585301826001,
           -28.113517060254992,
           -28.01509186340499,
           -27.719816272855013,
           -27.358923884405016,
           -26.729002624565013,
           -26.466535432965017,
           -26.253280839789998,
           -26.20078740147001,
           -26.59776902876501,
           -27.473753280729994,
           -27.949475065505013,
           -27.77887139096501,
           -27.913385826660004,
           -27.67060367443001,
           -27.89370078729,
           -27.562335957895,
           -27.24081364818501,
           -27.10629921249001,
           -27.221128608815008,
           -27.93635170592502,
           -28.513779527445,
           -27.61154855632,
           -26.98818897627001,
           -26.788057742675008,
           -26.4435695537,
           -26.36482939621999,
           -26.230314960525007,
           -25.951443569450007,
           -25.823490813544996,
           -26.06299212588,
           -25.958005249240017,
           -25.83333333323,
           -25.498687663940004,
           -25.08858267706501,
           -24.721128608825,
           -24.340551181005,
           -23.99606299203002,
           -23.60564304452501,
           -23.123359579959995,
           -22.73950131224501,
           -22.62139107602501,
           -22.286745406735008,
           -21.91272965870499,
           -21.630577427735005,
           -21.499343831935008,
           -21.397637795190008,
           -21.148293963170005,
           -20.964566929050008,
           -20.93832020989001,
           -20.59711286081001,
           -20.416666666585016,
           -20.17388451435501,
           -20.22637795267501,
           -19.750656167900004,
           -19.45866141724501,
           -19.143700787325017,
           -18.802493438244998,
           -18.49737532801001,
           -18.20538057735501,
           -17.929790026175,
           -17.647637795205,
           -17.349081364759996,
           -17.152230971059993,
           -16.837270341140012,
           -16.532152230904998,
           -16.276246719095013,
           -15.980971128544994,
           -15.62992125977999,
           -15.456036745345015,
           -15.114829396265009,
           -14.924540682355,
           -14.642388451385017,
           -14.379921259784991,
           -14.143700787345011,
           -14.15354330703002,
           -14.314304461885,
           -14.366797900205,
           -14.396325459259998,
           -14.330708661360006,
           -14.222440944825024,
           -14.071522309654997,
           -13.99278215217501,
           -13.914041994694998,
           -13.795931758475009,
           -13.92716535427499,
           -14.055118110180018,
           -14.219160104930012,
           -14.189632545874986,
           -14.005905511755005,
           -13.83202099732,
           -13.736876640365011,
           -13.671259842464991,
           -13.727034120680004,
           -13.776246719105018,
           -13.602362204670015,
           -13.441601049815006,
           -13.238188976325006,
           -12.84776902882001,
           -12.75262467186502,
           -12.62139107606498,
           -12.385170603625,
           -12.267060367405008,
           -12.089895013074994,
           -11.847112860845016,
           -11.80774278210501,
           -11.804461942209995,
           -11.709317585255008,
           -11.59448818893,
           -11.610892388405006,
           -11.473097112815026,
           -11.35826771648999,
           -11.0892388451,
           -10.81364829392001,
           -10.390419947465006,
           -10.049212598384996,
           -9.648950131194994,
           -9.471784776865007,
           -9.616141732245012,
           -9.557086614134988,
           -9.445538057704994,
           -9.383202099700014,
           -9.498031496024993,
           -9.448818897600006,
           -9.47506561676002,
           -9.47506561676002,
           -9.353674540645017,
           -9.14370078736502,
           -9.235564304424996,
           -9.274934383165004,
           -9.330708661379989,
           -9.383202099700014,
           -9.40944881886,
           -9.402887139070003,
           -9.29461942253502,
           -9.222440944845005,
           -9.11089238841501,
           -8.96981627292999,
           -8.809055118075008,
           -8.530183727000008,
           -8.129921259810004,
           -8.067585301804996,
           -8.021653543275022,
           -7.8937007873700225,
           -7.828083989470002,
           -7.778871391044987,
           -7.683727034089998,
           -7.624671915980002,
           -7.536089238815009,
           -7.424540682385015,
           -7.293307086585003,
           -7.116141732255016,
           -7.066929133830001,
           -6.925853018345009,
           -6.886482939605003,
           -6.948818897609982,
           -6.925853018345009,
           -6.768372703384983,
           -6.617454068215011,
           -6.512467191575013,
           -6.450131233570005,
           -6.364829396299996,
           -6.272965879240019,
           -6.177821522285001,
           -6.079396325434999,
           -5.958005249319996,
           -5.803805774255011,
           -5.833333333310009,
           -5.859580052469994,
           -5.862860892365006,
           -5.833333333310009,
           -5.849737532784985,
           -5.816929133835004,
           -5.807086614149995,
           -5.734908136460007,
           -5.7841207348849935,
           -5.7611548556200205,
           -5.774278215200013,
           -5.734908136460007,
           -5.65288713908501,
           -5.662729658770019,
           -5.731627296565023,
           -5.738188976354991,
           -5.656167978979994,
           -5.623359580030012,
           -5.528215223074994,
           -5.410104986855004,
           -5.318241469794998,
           -5.219816272944996,
           -5.193569553785011,
           -5.154199475045004,
           -5.28871391074,
           -5.318241469794998,
           -5.337926509164987,
           -5.3707349081150255,
           -5.501968503915009,
           -5.554461942235008,
           -5.538057742760003,
           -5.633202099715021,
           -5.803805774255011,
           -5.944881889740003,
           -5.9809711285850256,
           -6.0597112860649816,
           -6.1876640419700095,
           -6.30577427819,
           -6.361548556405012,
           -6.3779527558799884,
           -6.469816272939994,
           -6.5780839894750045,
           -6.617454068215011,
           -6.548556430420007,
           -6.35826771651,
           -6.266404199449994,
           -6.082677165330011,
           -6.1876640419700095,
           -6.1876640419700095,
           -6.266404199449994,
           -6.384514435670013,
           -6.437007873990012,
           -6.450131233570005,
           -6.446850393674993,
           -6.496062992100008,
           -6.535433070840014,
           -6.610892388425015,
           -6.722440944855009,
           -6.5780839894750045,
           -6.519028871365009,
           -6.335301837244998,
           -6.414041994725011,
           -6.473097112835006,
           -6.564960629895012,
           -6.656824146954989,
           -6.768372703384983,
           -6.804461942230006,
           -6.9881889763499885,
           -7.11942257215,
           -7.227690288685011,
           -7.349081364799986,
           -7.460629921230009,
           -7.680446194194985,
           -7.601706036715001,
           -7.598425196819988,
           -7.64435695535002,
           -7.677165354300001,
           -7.713254593144995,
           -7.716535433040008,
           -7.769028871360007,
           -7.801837270310017,
           -7.847769028839991,
           -7.8937007873700225,
           -7.844488188945007,
           -7.81496062989001,
           -7.903543307055003,
           -7.88057742779003,
           -7.90026246715999,
           -7.982283464535016,
           -8.005249343800017,
           -7.972440944850007,
           -7.81496062989001,
           -7.680446194194985,
           -7.555774278184998,
           -7.378608923854983,
           -7.234251968475007,
           -6.912729658765016,
           -6.912729658765016,
           -7.017716535404986,
           -7.112860892360004,
           -7.155511810994994,
           -7.280183727004982,
           -7.286745406795006,
           -7.1522309711000105,
           -6.748687664014994,
           -6.755249343804991,
           -6.7454068241200105,
           -6.70275590548502,
           -6.683070866115003,
           -6.643700787374996,
           -6.525590551155005,
           -6.650262467165021,
           -6.604330708635018,
           -6.624015748005007,
           -6.558398950104987,
           -6.512467191575013,
           -6.433727034095,
           -6.397637795250006,
           -6.328740157455002,
           -6.361548556405012,
           -6.3713910760900205,
           -6.440288713885025,
           -6.535433070840014,
           -6.532152230945002,
           -6.5223097112600215,
           -6.459973753254985,
           -6.768372703384983,
           -6.945538057714998,
           -6.912729658765016,
           -6.87335958002501,
           -6.650262467165021,
           -5.994094488165018,
           -5.826771653520012,
           -5.790682414675018,
           -5.711942257195005,
           -5.643044619400001,
           -5.547900262444983,
           -5.472440944860011,
           -5.387139107590002,
           -5.24606299210501,
           -5.167322834624997,
           -5.0393700787199975,
           -4.9671916010300095,
           -4.865485564284995,
           -4.806430446175,
           -4.753937007855001,
           -4.822834645650005,
           -4.990157480295011,
           -4.996719160085007,
           -4.799868766385004,
           -4.229002624654981,
           -3.963254593160002,
           -3.946850393684997,
           -3.963254593160002,
           -3.8385826771499865,
           -3.77952755904002,
           -3.858267716520004,
           -3.789370078725,
           -3.717191601035012,
           -3.7532808398800057,
           -3.805774278200005,
           -3.841863517044999,
           -3.65157480313502,
           -3.4973753280700066,
           -2.9954068241349887,
           -3.047900262454988,
           -3.113517060355008,
           -3.047900262454988,
           -3.0905511810900066,
           -3.011811023610022,
           -3.011811023610022,
           -3.028215223084999,
           -2.946194225710002,
           -2.9363517060249933,
           -2.982283464554996,
           -2.9265091863399846,
           -2.7591863516949786,
           -2.7132545931650043,
           -2.64435695537,
           -2.572178477680012,
           -2.654199475055009,
           -2.716535433059988,
           -2.6804461942150226,
           -2.6968503936899992,
           -2.6049868766299937,
           -2.5426509186250144,
           -2.4737532808300102,
           -2.3129921259750006,
           -2.20472440943999,
           -2.1784776902800047,
           -2.1981627296499937,
           -2.047244094479993,
           -1.9389763779449825,
           -1.8700787401500063,
           -1.83070866141,
           -1.7290026246650143,
           -1.3320209973699946,
           -1.486220472435008,
           -1.3845144356899937,
           -1.2893700787350042,
           -1.2532808398900102,
           -1.1942257217800147,
           -1.184383202095006,
           -1.1450131233549996,
           -1.1286089238799946,
           -1.0203412073450124,
           -0.9383202099699872,
           -0.8825459317550042,
           -0.948162729654996,
           -0.9153543307050144,
           -0.8792650918600202,
           -0.7808398950100184,
           -0.7677165354299973,
           -0.6299212598400175,
           -0.5479002624649922,
           -0.4593175853000275,
           -0.5610236220450133,
           -0.4330708661400138,
           -0.2854330708649968,
           -0.2165354330699926,
           -0.2230971128600174,
           -0.0918635170600055,
           -0.0656167978999917,
           -0.1017060367450142,
           0
          ],
          "colorscale": [
           [
            0,
            "#30123b"
           ],
           [
            0.07142857142857142,
            "#4145ab"
           ],
           [
            0.14285714285714285,
            "#4675ed"
           ],
           [
            0.21428571428571427,
            "#39a2fc"
           ],
           [
            0.2857142857142857,
            "#1bcfd4"
           ],
           [
            0.35714285714285715,
            "#24eca6"
           ],
           [
            0.42857142857142855,
            "#61fc6c"
           ],
           [
            0.5,
            "#a4fc3b"
           ],
           [
            0.5714285714285714,
            "#d1e834"
           ],
           [
            0.6428571428571429,
            "#f3c63a"
           ],
           [
            0.7142857142857143,
            "#fe9b2d"
           ],
           [
            0.7857142857142857,
            "#f36315"
           ],
           [
            0.8571428571428571,
            "#d93806"
           ],
           [
            0.9285714285714286,
            "#b11901"
           ],
           [
            1,
            "#7a0402"
           ]
          ],
          "width": 3
         },
         "mode": "lines",
         "type": "scatter3d",
         "x": [
          -11.495262,
          -10.113277,
          -8.687622,
          -7.218303,
          -5.723963,
          -4.229462,
          -2.790736,
          -1.401607,
          0,
          1.389176,
          2.728628,
          3.999775,
          5.277192,
          6.598054,
          7.968637,
          9.345434,
          10.678807,
          12.012142,
          13.351634,
          14.678652,
          15.962138,
          17.20207,
          18.392263,
          19.532716,
          20.611008,
          21.608487,
          22.500354,
          23.267964,
          23.942347,
          24.542133,
          25.12318,
          25.78485,
          26.663703,
          27.809419,
          29.246891,
          31.038235,
          33.220752,
          35.757212,
          38.579362,
          41.631374,
          44.938156,
          48.518389,
          52.092717,
          55.412798,
          58.696042,
          61.942466,
          64.885032,
          67.35605,
          69.293397,
          70.659783,
          71.424086,
          71.555179,
          71.096477,
          70.097586,
          68.651595,
          66.758516,
          64.455603,
          61.780113,
          58.73212,
          55.367482,
          51.742045,
          47.862015,
          43.752244,
          39.425154,
          34.924212,
          30.361155,
          25.785665,
          21.203941,
          16.665656,
          12.177025,
          7.837413,
          3.615771,
          -0.45688,
          -4.399155,
          -8.186225,
          -11.787047,
          -15.238815,
          -18.510521,
          -21.589772,
          -24.488962,
          -27.319821,
          -30.088572,
          -32.733135,
          -35.22248,
          -37.500736,
          -39.561702,
          -41.50473,
          -43.267761,
          -44.856995,
          -46.309691,
          -47.625806,
          -48.743281,
          -49.643523,
          -50.388548,
          -51.003165,
          -51.524624,
          -51.85983,
          -52.108099,
          -52.20738,
          -52.219669,
          -52.300125,
          -52.486189,
          -52.604113,
          -52.672371,
          -52.759245,
          -52.796384,
          -52.833571,
          -52.827378,
          -52.846014,
          -52.89563,
          -52.895539,
          -52.889254,
          -52.932677,
          -52.994736,
          -53.050601,
          -53.08163,
          -53.056787,
          -53.025744,
          -53.000901,
          -52.982265,
          -52.957436,
          -52.907771,
          -52.876735,
          -52.808441,
          -52.783605,
          -52.814641,
          -52.808434,
          -52.796005,
          -52.789791,
          -52.777369,
          -52.771169,
          -52.771183,
          -52.715311,
          -52.67806,
          -52.628423,
          -52.653287,
          -52.678144,
          -52.715353,
          -52.740161,
          -52.765004,
          -52.777454,
          -52.771253,
          -52.758818,
          -52.752575,
          -52.733933,
          -52.721497,
          -52.709069,
          -52.702854,
          -52.684219,
          -52.646947,
          -52.615904,
          -52.615904,
          -52.609682,
          -52.597261,
          -52.535195,
          -52.448273,
          -52.410973,
          -52.435767,
          -52.460575,
          -52.466768,
          -52.479176,
          -52.479176,
          -52.479183,
          -52.472982,
          -52.479211,
          -52.497819,
          -52.51637,
          -52.47905,
          -52.435571,
          -52.460414,
          -52.472849,
          -52.43562,
          -52.404598,
          -52.385976,
          -52.392148,
          -52.429364,
          -52.491429,
          -52.572089,
          -52.683798,
          -52.807929,
          -52.876202,
          -52.894789,
          -52.900926,
          -52.876006,
          -52.844893,
          -52.807607,
          -52.770329,
          -52.78895,
          -52.801358,
          -52.807565,
          -52.826215,
          -52.863473,
          -52.931766,
          -53.024861,
          -53.068284,
          -53.06827,
          -53.062042,
          -53.055807,
          -53.055758,
          -53.074344,
          -53.105367,
          -53.142603,
          -53.154997,
          -53.136361,
          -53.117732,
          -53.105304,
          -53.123918,
          -53.198399,
          -53.241828,
          -53.241793,
          -53.241772,
          -53.266587,
          -53.303824,
          -53.316232,
          -53.353475,
          -53.415555,
          -53.459013,
          -53.490056,
          -53.490056,
          -53.459027,
          -53.390768,
          -53.353524,
          -53.334909,
          -53.334916,
          -53.353531,
          -53.359731,
          -53.372132,
          -53.365911,
          -53.427976,
          -53.46522,
          -53.427983,
          -53.384554,
          -53.260422,
          -53.179756,
          -53.241849,
          -53.285307,
          -53.260485,
          -53.223256,
          -53.198448,
          -53.173633,
          -53.142603,
          -53.117788,
          -53.092973,
          -53.068151,
          -53.061937,
          -53.061923,
          -52.9812,
          -52.919107,
          -52.919079,
          -52.91285,
          -52.937666,
          -52.95628,
          -52.962474,
          -52.974874,
          -52.987289,
          -52.999696,
          -53.005896,
          -53.018304,
          -53.024511,
          -53.024518,
          -53.049347,
          -53.123813,
          -53.173465,
          -53.173472,
          -53.173479,
          -53.167278,
          -53.148663,
          -53.123848,
          -53.086619,
          -52.968709,
          -52.888042,
          -52.863227,
          -52.838426,
          -52.832247,
          -52.838461,
          -52.857097,
          -52.875726,
          -52.888148,
          -52.894362,
          -52.919184,
          -52.962614,
          -53.018444,
          -53.068067,
          -53.105276,
          -53.130098,
          -53.142505,
          -53.161127,
          -53.179749,
          -53.2232,
          -53.297694,
          -53.347352,
          -53.353559,
          -53.353566,
          -53.254285,
          -53.204662,
          -53.241948,
          -53.310318,
          -53.347632,
          -53.347667,
          -53.335281,
          -53.322873,
          -53.341467,
          -53.39109,
          -53.428299,
          -53.4531,
          -53.459293,
          -53.477838,
          -53.477775,
          -53.459139,
          -53.446703,
          -53.452896,
          -53.471504,
          -53.471497,
          -53.465283,
          -53.465276,
          -53.47769,
          -53.502513,
          -53.521127,
          -53.514906,
          -53.483828,
          -53.446563,
          -53.434142,
          -53.45277,
          -53.47762,
          -53.490042,
          -53.496256,
          -53.490049,
          -53.490049,
          -53.490042,
          -53.496249,
          -53.496249,
          -53.521085,
          -53.539707,
          -53.545914,
          -53.545914,
          -53.614201,
          -53.701103,
          -53.725932,
          -53.713524,
          -53.688688,
          -53.670067,
          -53.651445,
          -53.639037,
          -53.576993,
          -53.508713,
          -53.403168,
          -53.279009,
          -53.241786,
          -53.223179,
          -53.192156,
          -53.223214,
          -53.2729,
          -53.279114,
          -53.272886,
          -53.266665,
          -53.25425,
          -53.248043,
          -53.260457,
          -53.341145,
          -53.390782,
          -53.403182,
          -53.434219,
          -53.496298,
          -53.558392,
          -53.59565,
          -53.614278,
          -53.614285,
          -53.608064,
          -53.601843,
          -53.577014,
          -53.521141,
          -53.477683,
          -53.465276,
          -53.54597,
          -53.663894,
          -53.707324,
          -53.707303,
          -53.694868,
          -53.632746,
          -53.570638,
          -53.533416,
          -53.5024,
          -53.458964,
          -53.421727,
          -53.415527,
          -53.427948,
          -53.434163,
          -53.421734,
          -53.415527,
          -53.427941,
          -53.45277,
          -53.483807,
          -53.502429,
          -53.539707,
          -53.5832,
          -53.601829,
          -53.608029,
          -53.5335,
          -53.477599,
          -53.465185,
          -53.434149,
          -53.415534,
          -53.390705,
          -53.365862,
          -53.35344,
          -53.35964,
          -53.40932,
          -53.465213,
          -53.496263,
          -53.514878,
          -53.502464,
          -53.43417,
          -53.359654,
          -53.316197,
          -53.291361,
          -53.285146,
          -53.278932,
          -53.272725,
          -53.278932,
          -53.285146,
          -53.285146,
          -53.297561,
          -53.309982,
          -53.322404,
          -53.334825,
          -53.334825,
          -53.409327,
          -53.490035,
          -53.533486,
          -53.576937,
          -53.595558,
          -53.61418,
          -53.620388,
          -53.620395,
          -53.60798,
          -53.620402,
          -53.645231,
          -53.639016,
          -53.639016,
          -53.632809,
          -53.626602,
          -53.614187,
          -53.614194,
          -53.570757,
          -53.446605,
          -53.39074,
          -53.39074,
          -53.396947,
          -53.409362,
          -53.421776,
          -53.42799,
          -53.440412,
          -53.465241,
          -53.502478,
          -53.552122,
          -53.632781,
          -53.713447,
          -53.725855,
          -53.713454,
          -53.688646,
          -53.632788,
          -53.58313,
          -53.558308,
          -53.527244,
          -53.521008,
          -53.533388,
          -53.502323,
          -53.471259,
          -53.45263,
          -53.440216,
          -53.421587,
          -53.409172
         ],
         "y": [
          -20.820578,
          -17.258075,
          -14.040575,
          -11.156949,
          -8.573818,
          -6.246677,
          -4.064263,
          -1.98205,
          0,
          2.004303,
          4.108745,
          6.246534,
          8.284156,
          10.332938,
          12.28158,
          14.219098,
          16.112067,
          18.060687,
          20.087222,
          22.20279,
          24.440761,
          26.834525,
          29.350688,
          31.98925,
          34.761333,
          37.711445,
          40.795049,
          44.045525,
          47.474021,
          51.06942,
          54.842888,
          58.727708,
          62.723971,
          66.798317,
          70.850592,
          74.814057,
          78.599696,
          82.185225,
          85.526079,
          88.566574,
          91.184295,
          93.290213,
          94.928669,
          96.177408,
          96.802842,
          96.782711,
          96.30605,
          95.51744,
          94.494748,
          93.30473,
          92.080926,
          90.956876,
          89.988258,
          89.253017,
          88.784602,
          88.560756,
          88.570373,
          88.791218,
          89.111991,
          89.54386,
          90.120251,
          90.841171,
          91.673244,
          92.605351,
          93.615259,
          94.691913,
          95.801953,
          96.956514,
          98.133369,
          99.32139,
          100.442732,
          101.519633,
          102.574375,
          103.595813,
          104.583964,
          105.527717,
          106.349138,
          107.092766,
          107.791998,
          108.413437,
          108.957011,
          109.444975,
          109.86624,
          110.231955,
          110.531024,
          110.774581,
          111.018214,
          111.284222,
          111.56147,
          111.872195,
          112.149616,
          112.416033,
          112.715978,
          112.96037,
          113.115804,
          113.193386,
          113.215435,
          113.181888,
          113.126175,
          112.925827,
          112.547354,
          112.302375,
          112.280041,
          112.246608,
          112.202033,
          112.035058,
          111.945994,
          111.968258,
          111.990507,
          111.923695,
          111.779004,
          111.656578,
          111.61203,
          111.589731,
          111.589696,
          111.578546,
          111.556302,
          111.545191,
          111.522947,
          111.500698,
          111.500714,
          111.489615,
          111.489635,
          111.467417,
          111.456303,
          111.456283,
          111.456287,
          111.434035,
          111.422909,
          111.411787,
          111.422921,
          111.445181,
          111.434086,
          111.422979,
          111.456401,
          111.512035,
          111.55654,
          111.500866,
          111.46746,
          111.489705,
          111.545347,
          111.556481,
          111.523099,
          111.467453,
          111.434074,
          111.400692,
          111.378439,
          111.367313,
          111.345065,
          111.300568,
          111.289458,
          111.289458,
          111.267201,
          111.256079,
          111.267248,
          111.233913,
          111.144896,
          111.08923,
          111.055824,
          111.03356,
          111.022422,
          111.022422,
          111.033552,
          111.044686,
          111.078072,
          111.055801,
          110.944488,
          110.822081,
          110.777588,
          110.799833,
          110.833215,
          110.855499,
          110.877778,
          110.87779,
          110.822136,
          110.777592,
          110.766423,
          110.710722,
          110.677261,
          110.654923,
          110.64375,
          110.588088,
          110.476784,
          110.332108,
          110.209697,
          110.14294,
          110.087313,
          110.087302,
          110.076164,
          110.07616,
          110.120668,
          110.142905,
          110.165122,
          110.142804,
          110.098256,
          110.075996,
          110.04261,
          109.998093,
          109.920183,
          109.864521,
          109.842241,
          109.831088,
          109.79769,
          109.775441,
          109.764323,
          109.742071,
          109.730929,
          109.719752,
          109.686334,
          109.630684,
          109.597294,
          109.575018,
          109.563865,
          109.552727,
          109.552703,
          109.563794,
          109.574897,
          109.586008,
          109.586008,
          109.597157,
          109.63059,
          109.630614,
          109.641756,
          109.652886,
          109.641744,
          109.63061,
          109.608342,
          109.586086,
          109.574917,
          109.574893,
          109.586047,
          109.619464,
          109.641802,
          109.686373,
          109.719725,
          109.730827,
          109.741973,
          109.764257,
          109.797662,
          109.819938,
          109.831088,
          109.853363,
          109.875639,
          109.886785,
          109.875659,
          109.853399,
          109.808929,
          109.775578,
          109.731058,
          109.697671,
          109.675396,
          109.664254,
          109.64199,
          109.619722,
          109.619714,
          109.608576,
          109.597442,
          109.586304,
          109.586301,
          109.597431,
          109.597415,
          109.563978,
          109.552817,
          109.563947,
          109.575077,
          109.586211,
          109.597352,
          109.619628,
          109.641912,
          109.686506,
          109.731077,
          109.753353,
          109.797889,
          109.842413,
          109.853539,
          109.875788,
          109.886906,
          109.898028,
          109.909154,
          109.898009,
          109.864591,
          109.808906,
          109.753224,
          109.69755,
          109.686405,
          109.675267,
          109.675255,
          109.675243,
          109.675216,
          109.686299,
          109.686268,
          109.686264,
          109.697394,
          109.753107,
          109.808788,
          109.875545,
          110.020193,
          110.13147,
          110.187121,
          110.231649,
          110.242787,
          110.198255,
          110.142573,
          110.086899,
          110.042364,
          110.020099,
          109.897657,
          109.797487,
          109.775238,
          109.741856,
          109.719592,
          109.69732,
          109.68619,
          109.675064,
          109.663934,
          109.663926,
          109.65278,
          109.641638,
          109.619382,
          109.552621,
          109.519255,
          109.508132,
          109.519251,
          109.552625,
          109.563747,
          109.574874,
          109.574878,
          109.574878,
          109.563747,
          109.563744,
          109.563744,
          109.574858,
          109.574846,
          109.574842,
          109.574842,
          109.585929,
          109.585875,
          109.585859,
          109.596997,
          109.585883,
          109.585894,
          109.585906,
          109.597044,
          109.641603,
          109.641646,
          109.608322,
          109.58614,
          109.619554,
          109.641826,
          109.664106,
          109.697476,
          109.741965,
          109.753091,
          109.719705,
          109.697449,
          109.697457,
          109.697461,
          109.697453,
          109.686272,
          109.65285,
          109.630583,
          109.630563,
          109.641654,
          109.675005,
          109.697242,
          109.70836,
          109.71949,
          109.697234,
          109.674978,
          109.674993,
          109.663898,
          109.652796,
          109.663934,
          109.663883,
          109.641549,
          109.608131,
          109.574741,
          109.541358,
          109.463487,
          109.407876,
          109.441289,
          109.474699,
          109.496987,
          109.50814,
          109.519274,
          109.530396,
          109.541523,
          109.51927,
          109.519274,
          109.519266,
          109.519251,
          109.519231,
          109.519219,
          109.574846,
          109.641599,
          109.652718,
          109.641584,
          109.57485,
          109.519235,
          109.519243,
          109.519262,
          109.530404,
          109.53042,
          109.508175,
          109.497053,
          109.485919,
          109.519278,
          109.563763,
          109.586004,
          109.574862,
          109.57487,
          109.552653,
          109.508179,
          109.497076,
          109.485962,
          109.474836,
          109.46371,
          109.463714,
          109.46371,
          109.474836,
          109.474836,
          109.474828,
          109.48595,
          109.497073,
          109.508195,
          109.508195,
          109.530408,
          109.552617,
          109.55259,
          109.552563,
          109.552551,
          109.552539,
          109.552535,
          109.563665,
          109.563673,
          109.574796,
          109.57478,
          109.563654,
          109.563654,
          109.563658,
          109.563662,
          109.563669,
          109.574799,
          109.597087,
          109.586035,
          109.58607,
          109.58607,
          109.586066,
          109.586058,
          109.586051,
          109.597177,
          109.608299,
          109.608283,
          109.59713,
          109.574838,
          109.519137,
          109.474566,
          109.463429,
          109.485696,
          109.519102,
          109.530267,
          109.530299,
          109.541444,
          109.496944,
          109.452427,
          109.396769,
          109.352269,
          109.307768,
          109.296649,
          109.296657,
          109.285539,
          109.285547
         ],
         "z": [
          741.2073490784,
          741.7486876610751,
          743.218503934035,
          745.3904199445251,
          747.608267713545,
          749.9967191571051,
          751.95538057442,
          753.2053805744151,
          753.526902884125,
          752.568897634785,
          750.20997375028,
          746.7454068211599,
          742.457349078395,
          738.0216535403549,
          731.67322834353,
          726.22703411783,
          719.4881889735,
          711.8569553777301,
          703.500656165165,
          694.3503936980101,
          684.54724409175,
          674.2585301810301,
          663.47112860627,
          652.2933070840049,
          640.8070866116101,
          629.1305774253051,
          617.38188976131,
          605.57086613931,
          593.7171915986751,
          582.0078740134201,
          570.64960629693,
          559.478346454455,
          548.139763777335,
          536.7946194204251,
          525.593832018895,
          514.0419947486,
          502.1095800504851,
          489.438976375995,
          475.5347769009851,
          461.1417322816201,
          445.889107609765,
          429.25853018201,
          411.52230970964,
          393.093832019425,
          374.110892386955,
          353.41535432929504,
          332.162073489485,
          310.367454067,
          287.71653543192,
          265.055774277155,
          242.903543306115,
          221.77165354242,
          200.62992125904,
          179.76377952683998,
          159.320866141095,
          139.20603674485,
          119.80314960582,
          101.22703412033,
          83.56299212565,
          67.03740157453501,
          51.614173228139975,
          37.40157480300002,
          24.688320209875,
          13.382545931704982,
          3.4481627296449915,
          -5.2427821522099975,
          -12.736220472390016,
          -18.92388451436001,
          -23.94685039360502,
          -27.59842519674001,
          -29.603018372585,
          -30.87270341195,
          -31.07611548544,
          -31.25328083977,
          -30.97769028859001,
          -30.344488188855,
          -29.917979002505007,
          -29.412729658675005,
          -28.832020997260003,
          -28.284120734795,
          -28.17585301826001,
          -28.113517060254992,
          -28.01509186340499,
          -27.719816272855013,
          -27.358923884405016,
          -26.729002624565013,
          -26.466535432965017,
          -26.253280839789998,
          -26.20078740147001,
          -26.59776902876501,
          -27.473753280729994,
          -27.949475065505013,
          -27.77887139096501,
          -27.913385826660004,
          -27.67060367443001,
          -27.89370078729,
          -27.562335957895,
          -27.24081364818501,
          -27.10629921249001,
          -27.221128608815008,
          -27.93635170592502,
          -28.513779527445,
          -27.61154855632,
          -26.98818897627001,
          -26.788057742675008,
          -26.4435695537,
          -26.36482939621999,
          -26.230314960525007,
          -25.951443569450007,
          -25.823490813544996,
          -26.06299212588,
          -25.958005249240017,
          -25.83333333323,
          -25.498687663940004,
          -25.08858267706501,
          -24.721128608825,
          -24.340551181005,
          -23.99606299203002,
          -23.60564304452501,
          -23.123359579959995,
          -22.73950131224501,
          -22.62139107602501,
          -22.286745406735008,
          -21.91272965870499,
          -21.630577427735005,
          -21.499343831935008,
          -21.397637795190008,
          -21.148293963170005,
          -20.964566929050008,
          -20.93832020989001,
          -20.59711286081001,
          -20.416666666585016,
          -20.17388451435501,
          -20.22637795267501,
          -19.750656167900004,
          -19.45866141724501,
          -19.143700787325017,
          -18.802493438244998,
          -18.49737532801001,
          -18.20538057735501,
          -17.929790026175,
          -17.647637795205,
          -17.349081364759996,
          -17.152230971059993,
          -16.837270341140012,
          -16.532152230904998,
          -16.276246719095013,
          -15.980971128544994,
          -15.62992125977999,
          -15.456036745345015,
          -15.114829396265009,
          -14.924540682355,
          -14.642388451385017,
          -14.379921259784991,
          -14.143700787345011,
          -14.15354330703002,
          -14.314304461885,
          -14.366797900205,
          -14.396325459259998,
          -14.330708661360006,
          -14.222440944825024,
          -14.071522309654997,
          -13.99278215217501,
          -13.914041994694998,
          -13.795931758475009,
          -13.92716535427499,
          -14.055118110180018,
          -14.219160104930012,
          -14.189632545874986,
          -14.005905511755005,
          -13.83202099732,
          -13.736876640365011,
          -13.671259842464991,
          -13.727034120680004,
          -13.776246719105018,
          -13.602362204670015,
          -13.441601049815006,
          -13.238188976325006,
          -12.84776902882001,
          -12.75262467186502,
          -12.62139107606498,
          -12.385170603625,
          -12.267060367405008,
          -12.089895013074994,
          -11.847112860845016,
          -11.80774278210501,
          -11.804461942209995,
          -11.709317585255008,
          -11.59448818893,
          -11.610892388405006,
          -11.473097112815026,
          -11.35826771648999,
          -11.0892388451,
          -10.81364829392001,
          -10.390419947465006,
          -10.049212598384996,
          -9.648950131194994,
          -9.471784776865007,
          -9.616141732245012,
          -9.557086614134988,
          -9.445538057704994,
          -9.383202099700014,
          -9.498031496024993,
          -9.448818897600006,
          -9.47506561676002,
          -9.47506561676002,
          -9.353674540645017,
          -9.14370078736502,
          -9.235564304424996,
          -9.274934383165004,
          -9.330708661379989,
          -9.383202099700014,
          -9.40944881886,
          -9.402887139070003,
          -9.29461942253502,
          -9.222440944845005,
          -9.11089238841501,
          -8.96981627292999,
          -8.809055118075008,
          -8.530183727000008,
          -8.129921259810004,
          -8.067585301804996,
          -8.021653543275022,
          -7.8937007873700225,
          -7.828083989470002,
          -7.778871391044987,
          -7.683727034089998,
          -7.624671915980002,
          -7.536089238815009,
          -7.424540682385015,
          -7.293307086585003,
          -7.116141732255016,
          -7.066929133830001,
          -6.925853018345009,
          -6.886482939605003,
          -6.948818897609982,
          -6.925853018345009,
          -6.768372703384983,
          -6.617454068215011,
          -6.512467191575013,
          -6.450131233570005,
          -6.364829396299996,
          -6.272965879240019,
          -6.177821522285001,
          -6.079396325434999,
          -5.958005249319996,
          -5.803805774255011,
          -5.833333333310009,
          -5.859580052469994,
          -5.862860892365006,
          -5.833333333310009,
          -5.849737532784985,
          -5.816929133835004,
          -5.807086614149995,
          -5.734908136460007,
          -5.7841207348849935,
          -5.7611548556200205,
          -5.774278215200013,
          -5.734908136460007,
          -5.65288713908501,
          -5.662729658770019,
          -5.731627296565023,
          -5.738188976354991,
          -5.656167978979994,
          -5.623359580030012,
          -5.528215223074994,
          -5.410104986855004,
          -5.318241469794998,
          -5.219816272944996,
          -5.193569553785011,
          -5.154199475045004,
          -5.28871391074,
          -5.318241469794998,
          -5.337926509164987,
          -5.3707349081150255,
          -5.501968503915009,
          -5.554461942235008,
          -5.538057742760003,
          -5.633202099715021,
          -5.803805774255011,
          -5.944881889740003,
          -5.9809711285850256,
          -6.0597112860649816,
          -6.1876640419700095,
          -6.30577427819,
          -6.361548556405012,
          -6.3779527558799884,
          -6.469816272939994,
          -6.5780839894750045,
          -6.617454068215011,
          -6.548556430420007,
          -6.35826771651,
          -6.266404199449994,
          -6.082677165330011,
          -6.1876640419700095,
          -6.1876640419700095,
          -6.266404199449994,
          -6.384514435670013,
          -6.437007873990012,
          -6.450131233570005,
          -6.446850393674993,
          -6.496062992100008,
          -6.535433070840014,
          -6.610892388425015,
          -6.722440944855009,
          -6.5780839894750045,
          -6.519028871365009,
          -6.335301837244998,
          -6.414041994725011,
          -6.473097112835006,
          -6.564960629895012,
          -6.656824146954989,
          -6.768372703384983,
          -6.804461942230006,
          -6.9881889763499885,
          -7.11942257215,
          -7.227690288685011,
          -7.349081364799986,
          -7.460629921230009,
          -7.680446194194985,
          -7.601706036715001,
          -7.598425196819988,
          -7.64435695535002,
          -7.677165354300001,
          -7.713254593144995,
          -7.716535433040008,
          -7.769028871360007,
          -7.801837270310017,
          -7.847769028839991,
          -7.8937007873700225,
          -7.844488188945007,
          -7.81496062989001,
          -7.903543307055003,
          -7.88057742779003,
          -7.90026246715999,
          -7.982283464535016,
          -8.005249343800017,
          -7.972440944850007,
          -7.81496062989001,
          -7.680446194194985,
          -7.555774278184998,
          -7.378608923854983,
          -7.234251968475007,
          -6.912729658765016,
          -6.912729658765016,
          -7.017716535404986,
          -7.112860892360004,
          -7.155511810994994,
          -7.280183727004982,
          -7.286745406795006,
          -7.1522309711000105,
          -6.748687664014994,
          -6.755249343804991,
          -6.7454068241200105,
          -6.70275590548502,
          -6.683070866115003,
          -6.643700787374996,
          -6.525590551155005,
          -6.650262467165021,
          -6.604330708635018,
          -6.624015748005007,
          -6.558398950104987,
          -6.512467191575013,
          -6.433727034095,
          -6.397637795250006,
          -6.328740157455002,
          -6.361548556405012,
          -6.3713910760900205,
          -6.440288713885025,
          -6.535433070840014,
          -6.532152230945002,
          -6.5223097112600215,
          -6.459973753254985,
          -6.768372703384983,
          -6.945538057714998,
          -6.912729658765016,
          -6.87335958002501,
          -6.650262467165021,
          -5.994094488165018,
          -5.826771653520012,
          -5.790682414675018,
          -5.711942257195005,
          -5.643044619400001,
          -5.547900262444983,
          -5.472440944860011,
          -5.387139107590002,
          -5.24606299210501,
          -5.167322834624997,
          -5.0393700787199975,
          -4.9671916010300095,
          -4.865485564284995,
          -4.806430446175,
          -4.753937007855001,
          -4.822834645650005,
          -4.990157480295011,
          -4.996719160085007,
          -4.799868766385004,
          -4.229002624654981,
          -3.963254593160002,
          -3.946850393684997,
          -3.963254593160002,
          -3.8385826771499865,
          -3.77952755904002,
          -3.858267716520004,
          -3.789370078725,
          -3.717191601035012,
          -3.7532808398800057,
          -3.805774278200005,
          -3.841863517044999,
          -3.65157480313502,
          -3.4973753280700066,
          -2.9954068241349887,
          -3.047900262454988,
          -3.113517060355008,
          -3.047900262454988,
          -3.0905511810900066,
          -3.011811023610022,
          -3.011811023610022,
          -3.028215223084999,
          -2.946194225710002,
          -2.9363517060249933,
          -2.982283464554996,
          -2.9265091863399846,
          -2.7591863516949786,
          -2.7132545931650043,
          -2.64435695537,
          -2.572178477680012,
          -2.654199475055009,
          -2.716535433059988,
          -2.6804461942150226,
          -2.6968503936899992,
          -2.6049868766299937,
          -2.5426509186250144,
          -2.4737532808300102,
          -2.3129921259750006,
          -2.20472440943999,
          -2.1784776902800047,
          -2.1981627296499937,
          -2.047244094479993,
          -1.9389763779449825,
          -1.8700787401500063,
          -1.83070866141,
          -1.7290026246650143,
          -1.3320209973699946,
          -1.486220472435008,
          -1.3845144356899937,
          -1.2893700787350042,
          -1.2532808398900102,
          -1.1942257217800147,
          -1.184383202095006,
          -1.1450131233549996,
          -1.1286089238799946,
          -1.0203412073450124,
          -0.9383202099699872,
          -0.8825459317550042,
          -0.948162729654996,
          -0.9153543307050144,
          -0.8792650918600202,
          -0.7808398950100184,
          -0.7677165354299973,
          -0.6299212598400175,
          -0.5479002624649922,
          -0.4593175853000275,
          -0.5610236220450133,
          -0.4330708661400138,
          -0.2854330708649968,
          -0.2165354330699926,
          -0.2230971128600174,
          -0.0918635170600055,
          -0.0656167978999917,
          -0.1017060367450142,
          0
         ]
        }
       ],
       "layout": {
        "template": {
         "data": {
          "bar": [
           {
            "error_x": {
             "color": "#2a3f5f"
            },
            "error_y": {
             "color": "#2a3f5f"
            },
            "marker": {
             "line": {
              "color": "white",
              "width": 0.5
             },
             "pattern": {
              "fillmode": "overlay",
              "size": 10,
              "solidity": 0.2
             }
            },
            "type": "bar"
           }
          ],
          "barpolar": [
           {
            "marker": {
             "line": {
              "color": "white",
              "width": 0.5
             },
             "pattern": {
              "fillmode": "overlay",
              "size": 10,
              "solidity": 0.2
             }
            },
            "type": "barpolar"
           }
          ],
          "carpet": [
           {
            "aaxis": {
             "endlinecolor": "#2a3f5f",
             "gridcolor": "#C8D4E3",
             "linecolor": "#C8D4E3",
             "minorgridcolor": "#C8D4E3",
             "startlinecolor": "#2a3f5f"
            },
            "baxis": {
             "endlinecolor": "#2a3f5f",
             "gridcolor": "#C8D4E3",
             "linecolor": "#C8D4E3",
             "minorgridcolor": "#C8D4E3",
             "startlinecolor": "#2a3f5f"
            },
            "type": "carpet"
           }
          ],
          "choropleth": [
           {
            "colorbar": {
             "outlinewidth": 0,
             "ticks": ""
            },
            "type": "choropleth"
           }
          ],
          "contour": [
           {
            "colorbar": {
             "outlinewidth": 0,
             "ticks": ""
            },
            "colorscale": [
             [
              0,
              "#0d0887"
             ],
             [
              0.1111111111111111,
              "#46039f"
             ],
             [
              0.2222222222222222,
              "#7201a8"
             ],
             [
              0.3333333333333333,
              "#9c179e"
             ],
             [
              0.4444444444444444,
              "#bd3786"
             ],
             [
              0.5555555555555556,
              "#d8576b"
             ],
             [
              0.6666666666666666,
              "#ed7953"
             ],
             [
              0.7777777777777778,
              "#fb9f3a"
             ],
             [
              0.8888888888888888,
              "#fdca26"
             ],
             [
              1,
              "#f0f921"
             ]
            ],
            "type": "contour"
           }
          ],
          "contourcarpet": [
           {
            "colorbar": {
             "outlinewidth": 0,
             "ticks": ""
            },
            "type": "contourcarpet"
           }
          ],
          "heatmap": [
           {
            "colorbar": {
             "outlinewidth": 0,
             "ticks": ""
            },
            "colorscale": [
             [
              0,
              "#0d0887"
             ],
             [
              0.1111111111111111,
              "#46039f"
             ],
             [
              0.2222222222222222,
              "#7201a8"
             ],
             [
              0.3333333333333333,
              "#9c179e"
             ],
             [
              0.4444444444444444,
              "#bd3786"
             ],
             [
              0.5555555555555556,
              "#d8576b"
             ],
             [
              0.6666666666666666,
              "#ed7953"
             ],
             [
              0.7777777777777778,
              "#fb9f3a"
             ],
             [
              0.8888888888888888,
              "#fdca26"
             ],
             [
              1,
              "#f0f921"
             ]
            ],
            "type": "heatmap"
           }
          ],
          "heatmapgl": [
           {
            "colorbar": {
             "outlinewidth": 0,
             "ticks": ""
            },
            "colorscale": [
             [
              0,
              "#0d0887"
             ],
             [
              0.1111111111111111,
              "#46039f"
             ],
             [
              0.2222222222222222,
              "#7201a8"
             ],
             [
              0.3333333333333333,
              "#9c179e"
             ],
             [
              0.4444444444444444,
              "#bd3786"
             ],
             [
              0.5555555555555556,
              "#d8576b"
             ],
             [
              0.6666666666666666,
              "#ed7953"
             ],
             [
              0.7777777777777778,
              "#fb9f3a"
             ],
             [
              0.8888888888888888,
              "#fdca26"
             ],
             [
              1,
              "#f0f921"
             ]
            ],
            "type": "heatmapgl"
           }
          ],
          "histogram": [
           {
            "marker": {
             "pattern": {
              "fillmode": "overlay",
              "size": 10,
              "solidity": 0.2
             }
            },
            "type": "histogram"
           }
          ],
          "histogram2d": [
           {
            "colorbar": {
             "outlinewidth": 0,
             "ticks": ""
            },
            "colorscale": [
             [
              0,
              "#0d0887"
             ],
             [
              0.1111111111111111,
              "#46039f"
             ],
             [
              0.2222222222222222,
              "#7201a8"
             ],
             [
              0.3333333333333333,
              "#9c179e"
             ],
             [
              0.4444444444444444,
              "#bd3786"
             ],
             [
              0.5555555555555556,
              "#d8576b"
             ],
             [
              0.6666666666666666,
              "#ed7953"
             ],
             [
              0.7777777777777778,
              "#fb9f3a"
             ],
             [
              0.8888888888888888,
              "#fdca26"
             ],
             [
              1,
              "#f0f921"
             ]
            ],
            "type": "histogram2d"
           }
          ],
          "histogram2dcontour": [
           {
            "colorbar": {
             "outlinewidth": 0,
             "ticks": ""
            },
            "colorscale": [
             [
              0,
              "#0d0887"
             ],
             [
              0.1111111111111111,
              "#46039f"
             ],
             [
              0.2222222222222222,
              "#7201a8"
             ],
             [
              0.3333333333333333,
              "#9c179e"
             ],
             [
              0.4444444444444444,
              "#bd3786"
             ],
             [
              0.5555555555555556,
              "#d8576b"
             ],
             [
              0.6666666666666666,
              "#ed7953"
             ],
             [
              0.7777777777777778,
              "#fb9f3a"
             ],
             [
              0.8888888888888888,
              "#fdca26"
             ],
             [
              1,
              "#f0f921"
             ]
            ],
            "type": "histogram2dcontour"
           }
          ],
          "mesh3d": [
           {
            "colorbar": {
             "outlinewidth": 0,
             "ticks": ""
            },
            "type": "mesh3d"
           }
          ],
          "parcoords": [
           {
            "line": {
             "colorbar": {
              "outlinewidth": 0,
              "ticks": ""
             }
            },
            "type": "parcoords"
           }
          ],
          "pie": [
           {
            "automargin": true,
            "type": "pie"
           }
          ],
          "scatter": [
           {
            "fillpattern": {
             "fillmode": "overlay",
             "size": 10,
             "solidity": 0.2
            },
            "type": "scatter"
           }
          ],
          "scatter3d": [
           {
            "line": {
             "colorbar": {
              "outlinewidth": 0,
              "ticks": ""
             }
            },
            "marker": {
             "colorbar": {
              "outlinewidth": 0,
              "ticks": ""
             }
            },
            "type": "scatter3d"
           }
          ],
          "scattercarpet": [
           {
            "marker": {
             "colorbar": {
              "outlinewidth": 0,
              "ticks": ""
             }
            },
            "type": "scattercarpet"
           }
          ],
          "scattergeo": [
           {
            "marker": {
             "colorbar": {
              "outlinewidth": 0,
              "ticks": ""
             }
            },
            "type": "scattergeo"
           }
          ],
          "scattergl": [
           {
            "marker": {
             "colorbar": {
              "outlinewidth": 0,
              "ticks": ""
             }
            },
            "type": "scattergl"
           }
          ],
          "scattermapbox": [
           {
            "marker": {
             "colorbar": {
              "outlinewidth": 0,
              "ticks": ""
             }
            },
            "type": "scattermapbox"
           }
          ],
          "scatterpolar": [
           {
            "marker": {
             "colorbar": {
              "outlinewidth": 0,
              "ticks": ""
             }
            },
            "type": "scatterpolar"
           }
          ],
          "scatterpolargl": [
           {
            "marker": {
             "colorbar": {
              "outlinewidth": 0,
              "ticks": ""
             }
            },
            "type": "scatterpolargl"
           }
          ],
          "scatterternary": [
           {
            "marker": {
             "colorbar": {
              "outlinewidth": 0,
              "ticks": ""
             }
            },
            "type": "scatterternary"
           }
          ],
          "surface": [
           {
            "colorbar": {
             "outlinewidth": 0,
             "ticks": ""
            },
            "colorscale": [
             [
              0,
              "#0d0887"
             ],
             [
              0.1111111111111111,
              "#46039f"
             ],
             [
              0.2222222222222222,
              "#7201a8"
             ],
             [
              0.3333333333333333,
              "#9c179e"
             ],
             [
              0.4444444444444444,
              "#bd3786"
             ],
             [
              0.5555555555555556,
              "#d8576b"
             ],
             [
              0.6666666666666666,
              "#ed7953"
             ],
             [
              0.7777777777777778,
              "#fb9f3a"
             ],
             [
              0.8888888888888888,
              "#fdca26"
             ],
             [
              1,
              "#f0f921"
             ]
            ],
            "type": "surface"
           }
          ],
          "table": [
           {
            "cells": {
             "fill": {
              "color": "#EBF0F8"
             },
             "line": {
              "color": "white"
             }
            },
            "header": {
             "fill": {
              "color": "#C8D4E3"
             },
             "line": {
              "color": "white"
             }
            },
            "type": "table"
           }
          ]
         },
         "layout": {
          "annotationdefaults": {
           "arrowcolor": "#2a3f5f",
           "arrowhead": 0,
           "arrowwidth": 1
          },
          "autotypenumbers": "strict",
          "coloraxis": {
           "colorbar": {
            "outlinewidth": 0,
            "ticks": ""
           }
          },
          "colorscale": {
           "diverging": [
            [
             0,
             "#8e0152"
            ],
            [
             0.1,
             "#c51b7d"
            ],
            [
             0.2,
             "#de77ae"
            ],
            [
             0.3,
             "#f1b6da"
            ],
            [
             0.4,
             "#fde0ef"
            ],
            [
             0.5,
             "#f7f7f7"
            ],
            [
             0.6,
             "#e6f5d0"
            ],
            [
             0.7,
             "#b8e186"
            ],
            [
             0.8,
             "#7fbc41"
            ],
            [
             0.9,
             "#4d9221"
            ],
            [
             1,
             "#276419"
            ]
           ],
           "sequential": [
            [
             0,
             "#0d0887"
            ],
            [
             0.1111111111111111,
             "#46039f"
            ],
            [
             0.2222222222222222,
             "#7201a8"
            ],
            [
             0.3333333333333333,
             "#9c179e"
            ],
            [
             0.4444444444444444,
             "#bd3786"
            ],
            [
             0.5555555555555556,
             "#d8576b"
            ],
            [
             0.6666666666666666,
             "#ed7953"
            ],
            [
             0.7777777777777778,
             "#fb9f3a"
            ],
            [
             0.8888888888888888,
             "#fdca26"
            ],
            [
             1,
             "#f0f921"
            ]
           ],
           "sequentialminus": [
            [
             0,
             "#0d0887"
            ],
            [
             0.1111111111111111,
             "#46039f"
            ],
            [
             0.2222222222222222,
             "#7201a8"
            ],
            [
             0.3333333333333333,
             "#9c179e"
            ],
            [
             0.4444444444444444,
             "#bd3786"
            ],
            [
             0.5555555555555556,
             "#d8576b"
            ],
            [
             0.6666666666666666,
             "#ed7953"
            ],
            [
             0.7777777777777778,
             "#fb9f3a"
            ],
            [
             0.8888888888888888,
             "#fdca26"
            ],
            [
             1,
             "#f0f921"
            ]
           ]
          },
          "colorway": [
           "#636efa",
           "#EF553B",
           "#00cc96",
           "#ab63fa",
           "#FFA15A",
           "#19d3f3",
           "#FF6692",
           "#B6E880",
           "#FF97FF",
           "#FECB52"
          ],
          "font": {
           "color": "#2a3f5f"
          },
          "geo": {
           "bgcolor": "white",
           "lakecolor": "white",
           "landcolor": "white",
           "showlakes": true,
           "showland": true,
           "subunitcolor": "#C8D4E3"
          },
          "hoverlabel": {
           "align": "left"
          },
          "hovermode": "closest",
          "mapbox": {
           "style": "light"
          },
          "paper_bgcolor": "white",
          "plot_bgcolor": "white",
          "polar": {
           "angularaxis": {
            "gridcolor": "#EBF0F8",
            "linecolor": "#EBF0F8",
            "ticks": ""
           },
           "bgcolor": "white",
           "radialaxis": {
            "gridcolor": "#EBF0F8",
            "linecolor": "#EBF0F8",
            "ticks": ""
           }
          },
          "scene": {
           "xaxis": {
            "backgroundcolor": "white",
            "gridcolor": "#DFE8F3",
            "gridwidth": 2,
            "linecolor": "#EBF0F8",
            "showbackground": true,
            "ticks": "",
            "zerolinecolor": "#EBF0F8"
           },
           "yaxis": {
            "backgroundcolor": "white",
            "gridcolor": "#DFE8F3",
            "gridwidth": 2,
            "linecolor": "#EBF0F8",
            "showbackground": true,
            "ticks": "",
            "zerolinecolor": "#EBF0F8"
           },
           "zaxis": {
            "backgroundcolor": "white",
            "gridcolor": "#DFE8F3",
            "gridwidth": 2,
            "linecolor": "#EBF0F8",
            "showbackground": true,
            "ticks": "",
            "zerolinecolor": "#EBF0F8"
           }
          },
          "shapedefaults": {
           "line": {
            "color": "#2a3f5f"
           }
          },
          "ternary": {
           "aaxis": {
            "gridcolor": "#DFE8F3",
            "linecolor": "#A2B1C6",
            "ticks": ""
           },
           "baxis": {
            "gridcolor": "#DFE8F3",
            "linecolor": "#A2B1C6",
            "ticks": ""
           },
           "bgcolor": "white",
           "caxis": {
            "gridcolor": "#DFE8F3",
            "linecolor": "#A2B1C6",
            "ticks": ""
           }
          },
          "title": {
           "x": 0.05
          },
          "xaxis": {
           "automargin": true,
           "gridcolor": "#EBF0F8",
           "linecolor": "#EBF0F8",
           "ticks": "",
           "title": {
            "standoff": 15
           },
           "zerolinecolor": "#EBF0F8",
           "zerolinewidth": 2
          },
          "yaxis": {
           "automargin": true,
           "gridcolor": "#EBF0F8",
           "linecolor": "#EBF0F8",
           "ticks": "",
           "title": {
            "standoff": 15
           },
           "zerolinecolor": "#EBF0F8",
           "zerolinewidth": 2
          }
         }
        },
        "title": {
         "text": "Overhead view of flight path"
        }
       }
      },
      "text/html": [
       "<div>                            <div id=\"0cea9788-1eb9-4758-bb26-27ce0060e2e1\" class=\"plotly-graph-div\" style=\"height:525px; width:100%;\"></div>            <script type=\"text/javascript\">                require([\"plotly\"], function(Plotly) {                    window.PLOTLYENV=window.PLOTLYENV || {};                                    if (document.getElementById(\"0cea9788-1eb9-4758-bb26-27ce0060e2e1\")) {                    Plotly.newPlot(                        \"0cea9788-1eb9-4758-bb26-27ce0060e2e1\",                        [{\"line\":{\"color\":[741.2073490784,741.7486876610751,743.218503934035,745.3904199445251,747.608267713545,749.9967191571051,751.95538057442,753.2053805744151,753.526902884125,752.568897634785,750.20997375028,746.7454068211599,742.457349078395,738.0216535403549,731.67322834353,726.22703411783,719.4881889735,711.8569553777301,703.500656165165,694.3503936980101,684.54724409175,674.2585301810301,663.47112860627,652.2933070840049,640.8070866116101,629.1305774253051,617.38188976131,605.57086613931,593.7171915986751,582.0078740134201,570.64960629693,559.478346454455,548.139763777335,536.7946194204251,525.593832018895,514.0419947486,502.1095800504851,489.438976375995,475.5347769009851,461.1417322816201,445.889107609765,429.25853018201,411.52230970964,393.093832019425,374.110892386955,353.41535432929504,332.162073489485,310.367454067,287.71653543192,265.055774277155,242.903543306115,221.77165354242,200.62992125904,179.76377952683998,159.320866141095,139.20603674485,119.80314960582,101.22703412033,83.56299212565,67.03740157453501,51.614173228139975,37.40157480300002,24.688320209875,13.382545931704982,3.4481627296449915,-5.2427821522099975,-12.736220472390016,-18.92388451436001,-23.94685039360502,-27.59842519674001,-29.603018372585,-30.87270341195,-31.07611548544,-31.25328083977,-30.97769028859001,-30.344488188855,-29.917979002505007,-29.412729658675005,-28.832020997260003,-28.284120734795,-28.17585301826001,-28.113517060254992,-28.01509186340499,-27.719816272855013,-27.358923884405016,-26.729002624565013,-26.466535432965017,-26.253280839789998,-26.20078740147001,-26.59776902876501,-27.473753280729994,-27.949475065505013,-27.77887139096501,-27.913385826660004,-27.67060367443001,-27.89370078729,-27.562335957895,-27.24081364818501,-27.10629921249001,-27.221128608815008,-27.93635170592502,-28.513779527445,-27.61154855632,-26.98818897627001,-26.788057742675008,-26.4435695537,-26.36482939621999,-26.230314960525007,-25.951443569450007,-25.823490813544996,-26.06299212588,-25.958005249240017,-25.83333333323,-25.498687663940004,-25.08858267706501,-24.721128608825,-24.340551181005,-23.99606299203002,-23.60564304452501,-23.123359579959995,-22.73950131224501,-22.62139107602501,-22.286745406735008,-21.91272965870499,-21.630577427735005,-21.499343831935008,-21.397637795190008,-21.148293963170005,-20.964566929050008,-20.93832020989001,-20.59711286081001,-20.416666666585016,-20.17388451435501,-20.22637795267501,-19.750656167900004,-19.45866141724501,-19.143700787325017,-18.802493438244998,-18.49737532801001,-18.20538057735501,-17.929790026175,-17.647637795205,-17.349081364759996,-17.152230971059993,-16.837270341140012,-16.532152230904998,-16.276246719095013,-15.980971128544994,-15.62992125977999,-15.456036745345015,-15.114829396265009,-14.924540682355,-14.642388451385017,-14.379921259784991,-14.143700787345011,-14.15354330703002,-14.314304461885,-14.366797900205,-14.396325459259998,-14.330708661360006,-14.222440944825024,-14.071522309654997,-13.99278215217501,-13.914041994694998,-13.795931758475009,-13.92716535427499,-14.055118110180018,-14.219160104930012,-14.189632545874986,-14.005905511755005,-13.83202099732,-13.736876640365011,-13.671259842464991,-13.727034120680004,-13.776246719105018,-13.602362204670015,-13.441601049815006,-13.238188976325006,-12.84776902882001,-12.75262467186502,-12.62139107606498,-12.385170603625,-12.267060367405008,-12.089895013074994,-11.847112860845016,-11.80774278210501,-11.804461942209995,-11.709317585255008,-11.59448818893,-11.610892388405006,-11.473097112815026,-11.35826771648999,-11.0892388451,-10.81364829392001,-10.390419947465006,-10.049212598384996,-9.648950131194994,-9.471784776865007,-9.616141732245012,-9.557086614134988,-9.445538057704994,-9.383202099700014,-9.498031496024993,-9.448818897600006,-9.47506561676002,-9.47506561676002,-9.353674540645017,-9.14370078736502,-9.235564304424996,-9.274934383165004,-9.330708661379989,-9.383202099700014,-9.40944881886,-9.402887139070003,-9.29461942253502,-9.222440944845005,-9.11089238841501,-8.96981627292999,-8.809055118075008,-8.530183727000008,-8.129921259810004,-8.067585301804996,-8.021653543275022,-7.8937007873700225,-7.828083989470002,-7.778871391044987,-7.683727034089998,-7.624671915980002,-7.536089238815009,-7.424540682385015,-7.293307086585003,-7.116141732255016,-7.066929133830001,-6.925853018345009,-6.886482939605003,-6.948818897609982,-6.925853018345009,-6.768372703384983,-6.617454068215011,-6.512467191575013,-6.450131233570005,-6.364829396299996,-6.272965879240019,-6.177821522285001,-6.079396325434999,-5.958005249319996,-5.803805774255011,-5.833333333310009,-5.859580052469994,-5.862860892365006,-5.833333333310009,-5.849737532784985,-5.816929133835004,-5.807086614149995,-5.734908136460007,-5.7841207348849935,-5.7611548556200205,-5.774278215200013,-5.734908136460007,-5.65288713908501,-5.662729658770019,-5.731627296565023,-5.738188976354991,-5.656167978979994,-5.623359580030012,-5.528215223074994,-5.410104986855004,-5.318241469794998,-5.219816272944996,-5.193569553785011,-5.154199475045004,-5.28871391074,-5.318241469794998,-5.337926509164987,-5.3707349081150255,-5.501968503915009,-5.554461942235008,-5.538057742760003,-5.633202099715021,-5.803805774255011,-5.944881889740003,-5.9809711285850256,-6.0597112860649816,-6.1876640419700095,-6.30577427819,-6.361548556405012,-6.3779527558799884,-6.469816272939994,-6.5780839894750045,-6.617454068215011,-6.548556430420007,-6.35826771651,-6.266404199449994,-6.082677165330011,-6.1876640419700095,-6.1876640419700095,-6.266404199449994,-6.384514435670013,-6.437007873990012,-6.450131233570005,-6.446850393674993,-6.496062992100008,-6.535433070840014,-6.610892388425015,-6.722440944855009,-6.5780839894750045,-6.519028871365009,-6.335301837244998,-6.414041994725011,-6.473097112835006,-6.564960629895012,-6.656824146954989,-6.768372703384983,-6.804461942230006,-6.9881889763499885,-7.11942257215,-7.227690288685011,-7.349081364799986,-7.460629921230009,-7.680446194194985,-7.601706036715001,-7.598425196819988,-7.64435695535002,-7.677165354300001,-7.713254593144995,-7.716535433040008,-7.769028871360007,-7.801837270310017,-7.847769028839991,-7.8937007873700225,-7.844488188945007,-7.81496062989001,-7.903543307055003,-7.88057742779003,-7.90026246715999,-7.982283464535016,-8.005249343800017,-7.972440944850007,-7.81496062989001,-7.680446194194985,-7.555774278184998,-7.378608923854983,-7.234251968475007,-6.912729658765016,-6.912729658765016,-7.017716535404986,-7.112860892360004,-7.155511810994994,-7.280183727004982,-7.286745406795006,-7.1522309711000105,-6.748687664014994,-6.755249343804991,-6.7454068241200105,-6.70275590548502,-6.683070866115003,-6.643700787374996,-6.525590551155005,-6.650262467165021,-6.604330708635018,-6.624015748005007,-6.558398950104987,-6.512467191575013,-6.433727034095,-6.397637795250006,-6.328740157455002,-6.361548556405012,-6.3713910760900205,-6.440288713885025,-6.535433070840014,-6.532152230945002,-6.5223097112600215,-6.459973753254985,-6.768372703384983,-6.945538057714998,-6.912729658765016,-6.87335958002501,-6.650262467165021,-5.994094488165018,-5.826771653520012,-5.790682414675018,-5.711942257195005,-5.643044619400001,-5.547900262444983,-5.472440944860011,-5.387139107590002,-5.24606299210501,-5.167322834624997,-5.0393700787199975,-4.9671916010300095,-4.865485564284995,-4.806430446175,-4.753937007855001,-4.822834645650005,-4.990157480295011,-4.996719160085007,-4.799868766385004,-4.229002624654981,-3.963254593160002,-3.946850393684997,-3.963254593160002,-3.8385826771499865,-3.77952755904002,-3.858267716520004,-3.789370078725,-3.717191601035012,-3.7532808398800057,-3.805774278200005,-3.841863517044999,-3.65157480313502,-3.4973753280700066,-2.9954068241349887,-3.047900262454988,-3.113517060355008,-3.047900262454988,-3.0905511810900066,-3.011811023610022,-3.011811023610022,-3.028215223084999,-2.946194225710002,-2.9363517060249933,-2.982283464554996,-2.9265091863399846,-2.7591863516949786,-2.7132545931650043,-2.64435695537,-2.572178477680012,-2.654199475055009,-2.716535433059988,-2.6804461942150226,-2.6968503936899992,-2.6049868766299937,-2.5426509186250144,-2.4737532808300102,-2.3129921259750006,-2.20472440943999,-2.1784776902800047,-2.1981627296499937,-2.047244094479993,-1.9389763779449825,-1.8700787401500063,-1.83070866141,-1.7290026246650143,-1.3320209973699946,-1.486220472435008,-1.3845144356899937,-1.2893700787350042,-1.2532808398900102,-1.1942257217800147,-1.184383202095006,-1.1450131233549996,-1.1286089238799946,-1.0203412073450124,-0.9383202099699872,-0.8825459317550042,-0.948162729654996,-0.9153543307050144,-0.8792650918600202,-0.7808398950100184,-0.7677165354299973,-0.6299212598400175,-0.5479002624649922,-0.4593175853000275,-0.5610236220450133,-0.4330708661400138,-0.2854330708649968,-0.2165354330699926,-0.2230971128600174,-0.0918635170600055,-0.0656167978999917,-0.1017060367450142,0.0],\"colorscale\":[[0.0,\"#30123b\"],[0.07142857142857142,\"#4145ab\"],[0.14285714285714285,\"#4675ed\"],[0.21428571428571427,\"#39a2fc\"],[0.2857142857142857,\"#1bcfd4\"],[0.35714285714285715,\"#24eca6\"],[0.42857142857142855,\"#61fc6c\"],[0.5,\"#a4fc3b\"],[0.5714285714285714,\"#d1e834\"],[0.6428571428571429,\"#f3c63a\"],[0.7142857142857143,\"#fe9b2d\"],[0.7857142857142857,\"#f36315\"],[0.8571428571428571,\"#d93806\"],[0.9285714285714286,\"#b11901\"],[1.0,\"#7a0402\"]],\"width\":3},\"mode\":\"lines\",\"x\":[-11.495262,-10.113277,-8.687622,-7.218303,-5.723963,-4.229462,-2.790736,-1.401607,0.0,1.389176,2.728628,3.999775,5.277192,6.598054,7.968637,9.345434,10.678807,12.012142,13.351634,14.678652,15.962138,17.20207,18.392263,19.532716,20.611008,21.608487,22.500354,23.267964,23.942347,24.542133,25.12318,25.78485,26.663703,27.809419,29.246891,31.038235,33.220752,35.757212,38.579362,41.631374,44.938156,48.518389,52.092717,55.412798,58.696042,61.942466,64.885032,67.35605,69.293397,70.659783,71.424086,71.555179,71.096477,70.097586,68.651595,66.758516,64.455603,61.780113,58.73212,55.367482,51.742045,47.862015,43.752244,39.425154,34.924212,30.361155,25.785665,21.203941,16.665656,12.177025,7.837413,3.615771,-0.45688,-4.399155,-8.186225,-11.787047,-15.238815,-18.510521,-21.589772,-24.488962,-27.319821,-30.088572,-32.733135,-35.22248,-37.500736,-39.561702,-41.50473,-43.267761,-44.856995,-46.309691,-47.625806,-48.743281,-49.643523,-50.388548,-51.003165,-51.524624,-51.85983,-52.108099,-52.20738,-52.219669,-52.300125,-52.486189,-52.604113,-52.672371,-52.759245,-52.796384,-52.833571,-52.827378,-52.846014,-52.89563,-52.895539,-52.889254,-52.932677,-52.994736,-53.050601,-53.08163,-53.056787,-53.025744,-53.000901,-52.982265,-52.957436,-52.907771,-52.876735,-52.808441,-52.783605,-52.814641,-52.808434,-52.796005,-52.789791,-52.777369,-52.771169,-52.771183,-52.715311,-52.67806,-52.628423,-52.653287,-52.678144,-52.715353,-52.740161,-52.765004,-52.777454,-52.771253,-52.758818,-52.752575,-52.733933,-52.721497,-52.709069,-52.702854,-52.684219,-52.646947,-52.615904,-52.615904,-52.609682,-52.597261,-52.535195,-52.448273,-52.410973,-52.435767,-52.460575,-52.466768,-52.479176,-52.479176,-52.479183,-52.472982,-52.479211,-52.497819,-52.51637,-52.47905,-52.435571,-52.460414,-52.472849,-52.43562,-52.404598,-52.385976,-52.392148,-52.429364,-52.491429,-52.572089,-52.683798,-52.807929,-52.876202,-52.894789,-52.900926,-52.876006,-52.844893,-52.807607,-52.770329,-52.78895,-52.801358,-52.807565,-52.826215,-52.863473,-52.931766,-53.024861,-53.068284,-53.06827,-53.062042,-53.055807,-53.055758,-53.074344,-53.105367,-53.142603,-53.154997,-53.136361,-53.117732,-53.105304,-53.123918,-53.198399,-53.241828,-53.241793,-53.241772,-53.266587,-53.303824,-53.316232,-53.353475,-53.415555,-53.459013,-53.490056,-53.490056,-53.459027,-53.390768,-53.353524,-53.334909,-53.334916,-53.353531,-53.359731,-53.372132,-53.365911,-53.427976,-53.46522,-53.427983,-53.384554,-53.260422,-53.179756,-53.241849,-53.285307,-53.260485,-53.223256,-53.198448,-53.173633,-53.142603,-53.117788,-53.092973,-53.068151,-53.061937,-53.061923,-52.9812,-52.919107,-52.919079,-52.91285,-52.937666,-52.95628,-52.962474,-52.974874,-52.987289,-52.999696,-53.005896,-53.018304,-53.024511,-53.024518,-53.049347,-53.123813,-53.173465,-53.173472,-53.173479,-53.167278,-53.148663,-53.123848,-53.086619,-52.968709,-52.888042,-52.863227,-52.838426,-52.832247,-52.838461,-52.857097,-52.875726,-52.888148,-52.894362,-52.919184,-52.962614,-53.018444,-53.068067,-53.105276,-53.130098,-53.142505,-53.161127,-53.179749,-53.2232,-53.297694,-53.347352,-53.353559,-53.353566,-53.254285,-53.204662,-53.241948,-53.310318,-53.347632,-53.347667,-53.335281,-53.322873,-53.341467,-53.39109,-53.428299,-53.4531,-53.459293,-53.477838,-53.477775,-53.459139,-53.446703,-53.452896,-53.471504,-53.471497,-53.465283,-53.465276,-53.47769,-53.502513,-53.521127,-53.514906,-53.483828,-53.446563,-53.434142,-53.45277,-53.47762,-53.490042,-53.496256,-53.490049,-53.490049,-53.490042,-53.496249,-53.496249,-53.521085,-53.539707,-53.545914,-53.545914,-53.614201,-53.701103,-53.725932,-53.713524,-53.688688,-53.670067,-53.651445,-53.639037,-53.576993,-53.508713,-53.403168,-53.279009,-53.241786,-53.223179,-53.192156,-53.223214,-53.2729,-53.279114,-53.272886,-53.266665,-53.25425,-53.248043,-53.260457,-53.341145,-53.390782,-53.403182,-53.434219,-53.496298,-53.558392,-53.59565,-53.614278,-53.614285,-53.608064,-53.601843,-53.577014,-53.521141,-53.477683,-53.465276,-53.54597,-53.663894,-53.707324,-53.707303,-53.694868,-53.632746,-53.570638,-53.533416,-53.5024,-53.458964,-53.421727,-53.415527,-53.427948,-53.434163,-53.421734,-53.415527,-53.427941,-53.45277,-53.483807,-53.502429,-53.539707,-53.5832,-53.601829,-53.608029,-53.5335,-53.477599,-53.465185,-53.434149,-53.415534,-53.390705,-53.365862,-53.35344,-53.35964,-53.40932,-53.465213,-53.496263,-53.514878,-53.502464,-53.43417,-53.359654,-53.316197,-53.291361,-53.285146,-53.278932,-53.272725,-53.278932,-53.285146,-53.285146,-53.297561,-53.309982,-53.322404,-53.334825,-53.334825,-53.409327,-53.490035,-53.533486,-53.576937,-53.595558,-53.61418,-53.620388,-53.620395,-53.60798,-53.620402,-53.645231,-53.639016,-53.639016,-53.632809,-53.626602,-53.614187,-53.614194,-53.570757,-53.446605,-53.39074,-53.39074,-53.396947,-53.409362,-53.421776,-53.42799,-53.440412,-53.465241,-53.502478,-53.552122,-53.632781,-53.713447,-53.725855,-53.713454,-53.688646,-53.632788,-53.58313,-53.558308,-53.527244,-53.521008,-53.533388,-53.502323,-53.471259,-53.45263,-53.440216,-53.421587,-53.409172],\"y\":[-20.820578,-17.258075,-14.040575,-11.156949,-8.573818,-6.246677,-4.064263,-1.98205,0.0,2.004303,4.108745,6.246534,8.284156,10.332938,12.28158,14.219098,16.112067,18.060687,20.087222,22.20279,24.440761,26.834525,29.350688,31.98925,34.761333,37.711445,40.795049,44.045525,47.474021,51.06942,54.842888,58.727708,62.723971,66.798317,70.850592,74.814057,78.599696,82.185225,85.526079,88.566574,91.184295,93.290213,94.928669,96.177408,96.802842,96.782711,96.30605,95.51744,94.494748,93.30473,92.080926,90.956876,89.988258,89.253017,88.784602,88.560756,88.570373,88.791218,89.111991,89.54386,90.120251,90.841171,91.673244,92.605351,93.615259,94.691913,95.801953,96.956514,98.133369,99.32139,100.442732,101.519633,102.574375,103.595813,104.583964,105.527717,106.349138,107.092766,107.791998,108.413437,108.957011,109.444975,109.86624,110.231955,110.531024,110.774581,111.018214,111.284222,111.56147,111.872195,112.149616,112.416033,112.715978,112.96037,113.115804,113.193386,113.215435,113.181888,113.126175,112.925827,112.547354,112.302375,112.280041,112.246608,112.202033,112.035058,111.945994,111.968258,111.990507,111.923695,111.779004,111.656578,111.61203,111.589731,111.589696,111.578546,111.556302,111.545191,111.522947,111.500698,111.500714,111.489615,111.489635,111.467417,111.456303,111.456283,111.456287,111.434035,111.422909,111.411787,111.422921,111.445181,111.434086,111.422979,111.456401,111.512035,111.55654,111.500866,111.46746,111.489705,111.545347,111.556481,111.523099,111.467453,111.434074,111.400692,111.378439,111.367313,111.345065,111.300568,111.289458,111.289458,111.267201,111.256079,111.267248,111.233913,111.144896,111.08923,111.055824,111.03356,111.022422,111.022422,111.033552,111.044686,111.078072,111.055801,110.944488,110.822081,110.777588,110.799833,110.833215,110.855499,110.877778,110.87779,110.822136,110.777592,110.766423,110.710722,110.677261,110.654923,110.64375,110.588088,110.476784,110.332108,110.209697,110.14294,110.087313,110.087302,110.076164,110.07616,110.120668,110.142905,110.165122,110.142804,110.098256,110.075996,110.04261,109.998093,109.920183,109.864521,109.842241,109.831088,109.79769,109.775441,109.764323,109.742071,109.730929,109.719752,109.686334,109.630684,109.597294,109.575018,109.563865,109.552727,109.552703,109.563794,109.574897,109.586008,109.586008,109.597157,109.63059,109.630614,109.641756,109.652886,109.641744,109.63061,109.608342,109.586086,109.574917,109.574893,109.586047,109.619464,109.641802,109.686373,109.719725,109.730827,109.741973,109.764257,109.797662,109.819938,109.831088,109.853363,109.875639,109.886785,109.875659,109.853399,109.808929,109.775578,109.731058,109.697671,109.675396,109.664254,109.64199,109.619722,109.619714,109.608576,109.597442,109.586304,109.586301,109.597431,109.597415,109.563978,109.552817,109.563947,109.575077,109.586211,109.597352,109.619628,109.641912,109.686506,109.731077,109.753353,109.797889,109.842413,109.853539,109.875788,109.886906,109.898028,109.909154,109.898009,109.864591,109.808906,109.753224,109.69755,109.686405,109.675267,109.675255,109.675243,109.675216,109.686299,109.686268,109.686264,109.697394,109.753107,109.808788,109.875545,110.020193,110.13147,110.187121,110.231649,110.242787,110.198255,110.142573,110.086899,110.042364,110.020099,109.897657,109.797487,109.775238,109.741856,109.719592,109.69732,109.68619,109.675064,109.663934,109.663926,109.65278,109.641638,109.619382,109.552621,109.519255,109.508132,109.519251,109.552625,109.563747,109.574874,109.574878,109.574878,109.563747,109.563744,109.563744,109.574858,109.574846,109.574842,109.574842,109.585929,109.585875,109.585859,109.596997,109.585883,109.585894,109.585906,109.597044,109.641603,109.641646,109.608322,109.58614,109.619554,109.641826,109.664106,109.697476,109.741965,109.753091,109.719705,109.697449,109.697457,109.697461,109.697453,109.686272,109.65285,109.630583,109.630563,109.641654,109.675005,109.697242,109.70836,109.71949,109.697234,109.674978,109.674993,109.663898,109.652796,109.663934,109.663883,109.641549,109.608131,109.574741,109.541358,109.463487,109.407876,109.441289,109.474699,109.496987,109.50814,109.519274,109.530396,109.541523,109.51927,109.519274,109.519266,109.519251,109.519231,109.519219,109.574846,109.641599,109.652718,109.641584,109.57485,109.519235,109.519243,109.519262,109.530404,109.53042,109.508175,109.497053,109.485919,109.519278,109.563763,109.586004,109.574862,109.57487,109.552653,109.508179,109.497076,109.485962,109.474836,109.46371,109.463714,109.46371,109.474836,109.474836,109.474828,109.48595,109.497073,109.508195,109.508195,109.530408,109.552617,109.55259,109.552563,109.552551,109.552539,109.552535,109.563665,109.563673,109.574796,109.57478,109.563654,109.563654,109.563658,109.563662,109.563669,109.574799,109.597087,109.586035,109.58607,109.58607,109.586066,109.586058,109.586051,109.597177,109.608299,109.608283,109.59713,109.574838,109.519137,109.474566,109.463429,109.485696,109.519102,109.530267,109.530299,109.541444,109.496944,109.452427,109.396769,109.352269,109.307768,109.296649,109.296657,109.285539,109.285547],\"z\":[741.2073490784,741.7486876610751,743.218503934035,745.3904199445251,747.608267713545,749.9967191571051,751.95538057442,753.2053805744151,753.526902884125,752.568897634785,750.20997375028,746.7454068211599,742.457349078395,738.0216535403549,731.67322834353,726.22703411783,719.4881889735,711.8569553777301,703.500656165165,694.3503936980101,684.54724409175,674.2585301810301,663.47112860627,652.2933070840049,640.8070866116101,629.1305774253051,617.38188976131,605.57086613931,593.7171915986751,582.0078740134201,570.64960629693,559.478346454455,548.139763777335,536.7946194204251,525.593832018895,514.0419947486,502.1095800504851,489.438976375995,475.5347769009851,461.1417322816201,445.889107609765,429.25853018201,411.52230970964,393.093832019425,374.110892386955,353.41535432929504,332.162073489485,310.367454067,287.71653543192,265.055774277155,242.903543306115,221.77165354242,200.62992125904,179.76377952683998,159.320866141095,139.20603674485,119.80314960582,101.22703412033,83.56299212565,67.03740157453501,51.614173228139975,37.40157480300002,24.688320209875,13.382545931704982,3.4481627296449915,-5.2427821522099975,-12.736220472390016,-18.92388451436001,-23.94685039360502,-27.59842519674001,-29.603018372585,-30.87270341195,-31.07611548544,-31.25328083977,-30.97769028859001,-30.344488188855,-29.917979002505007,-29.412729658675005,-28.832020997260003,-28.284120734795,-28.17585301826001,-28.113517060254992,-28.01509186340499,-27.719816272855013,-27.358923884405016,-26.729002624565013,-26.466535432965017,-26.253280839789998,-26.20078740147001,-26.59776902876501,-27.473753280729994,-27.949475065505013,-27.77887139096501,-27.913385826660004,-27.67060367443001,-27.89370078729,-27.562335957895,-27.24081364818501,-27.10629921249001,-27.221128608815008,-27.93635170592502,-28.513779527445,-27.61154855632,-26.98818897627001,-26.788057742675008,-26.4435695537,-26.36482939621999,-26.230314960525007,-25.951443569450007,-25.823490813544996,-26.06299212588,-25.958005249240017,-25.83333333323,-25.498687663940004,-25.08858267706501,-24.721128608825,-24.340551181005,-23.99606299203002,-23.60564304452501,-23.123359579959995,-22.73950131224501,-22.62139107602501,-22.286745406735008,-21.91272965870499,-21.630577427735005,-21.499343831935008,-21.397637795190008,-21.148293963170005,-20.964566929050008,-20.93832020989001,-20.59711286081001,-20.416666666585016,-20.17388451435501,-20.22637795267501,-19.750656167900004,-19.45866141724501,-19.143700787325017,-18.802493438244998,-18.49737532801001,-18.20538057735501,-17.929790026175,-17.647637795205,-17.349081364759996,-17.152230971059993,-16.837270341140012,-16.532152230904998,-16.276246719095013,-15.980971128544994,-15.62992125977999,-15.456036745345015,-15.114829396265009,-14.924540682355,-14.642388451385017,-14.379921259784991,-14.143700787345011,-14.15354330703002,-14.314304461885,-14.366797900205,-14.396325459259998,-14.330708661360006,-14.222440944825024,-14.071522309654997,-13.99278215217501,-13.914041994694998,-13.795931758475009,-13.92716535427499,-14.055118110180018,-14.219160104930012,-14.189632545874986,-14.005905511755005,-13.83202099732,-13.736876640365011,-13.671259842464991,-13.727034120680004,-13.776246719105018,-13.602362204670015,-13.441601049815006,-13.238188976325006,-12.84776902882001,-12.75262467186502,-12.62139107606498,-12.385170603625,-12.267060367405008,-12.089895013074994,-11.847112860845016,-11.80774278210501,-11.804461942209995,-11.709317585255008,-11.59448818893,-11.610892388405006,-11.473097112815026,-11.35826771648999,-11.0892388451,-10.81364829392001,-10.390419947465006,-10.049212598384996,-9.648950131194994,-9.471784776865007,-9.616141732245012,-9.557086614134988,-9.445538057704994,-9.383202099700014,-9.498031496024993,-9.448818897600006,-9.47506561676002,-9.47506561676002,-9.353674540645017,-9.14370078736502,-9.235564304424996,-9.274934383165004,-9.330708661379989,-9.383202099700014,-9.40944881886,-9.402887139070003,-9.29461942253502,-9.222440944845005,-9.11089238841501,-8.96981627292999,-8.809055118075008,-8.530183727000008,-8.129921259810004,-8.067585301804996,-8.021653543275022,-7.8937007873700225,-7.828083989470002,-7.778871391044987,-7.683727034089998,-7.624671915980002,-7.536089238815009,-7.424540682385015,-7.293307086585003,-7.116141732255016,-7.066929133830001,-6.925853018345009,-6.886482939605003,-6.948818897609982,-6.925853018345009,-6.768372703384983,-6.617454068215011,-6.512467191575013,-6.450131233570005,-6.364829396299996,-6.272965879240019,-6.177821522285001,-6.079396325434999,-5.958005249319996,-5.803805774255011,-5.833333333310009,-5.859580052469994,-5.862860892365006,-5.833333333310009,-5.849737532784985,-5.816929133835004,-5.807086614149995,-5.734908136460007,-5.7841207348849935,-5.7611548556200205,-5.774278215200013,-5.734908136460007,-5.65288713908501,-5.662729658770019,-5.731627296565023,-5.738188976354991,-5.656167978979994,-5.623359580030012,-5.528215223074994,-5.410104986855004,-5.318241469794998,-5.219816272944996,-5.193569553785011,-5.154199475045004,-5.28871391074,-5.318241469794998,-5.337926509164987,-5.3707349081150255,-5.501968503915009,-5.554461942235008,-5.538057742760003,-5.633202099715021,-5.803805774255011,-5.944881889740003,-5.9809711285850256,-6.0597112860649816,-6.1876640419700095,-6.30577427819,-6.361548556405012,-6.3779527558799884,-6.469816272939994,-6.5780839894750045,-6.617454068215011,-6.548556430420007,-6.35826771651,-6.266404199449994,-6.082677165330011,-6.1876640419700095,-6.1876640419700095,-6.266404199449994,-6.384514435670013,-6.437007873990012,-6.450131233570005,-6.446850393674993,-6.496062992100008,-6.535433070840014,-6.610892388425015,-6.722440944855009,-6.5780839894750045,-6.519028871365009,-6.335301837244998,-6.414041994725011,-6.473097112835006,-6.564960629895012,-6.656824146954989,-6.768372703384983,-6.804461942230006,-6.9881889763499885,-7.11942257215,-7.227690288685011,-7.349081364799986,-7.460629921230009,-7.680446194194985,-7.601706036715001,-7.598425196819988,-7.64435695535002,-7.677165354300001,-7.713254593144995,-7.716535433040008,-7.769028871360007,-7.801837270310017,-7.847769028839991,-7.8937007873700225,-7.844488188945007,-7.81496062989001,-7.903543307055003,-7.88057742779003,-7.90026246715999,-7.982283464535016,-8.005249343800017,-7.972440944850007,-7.81496062989001,-7.680446194194985,-7.555774278184998,-7.378608923854983,-7.234251968475007,-6.912729658765016,-6.912729658765016,-7.017716535404986,-7.112860892360004,-7.155511810994994,-7.280183727004982,-7.286745406795006,-7.1522309711000105,-6.748687664014994,-6.755249343804991,-6.7454068241200105,-6.70275590548502,-6.683070866115003,-6.643700787374996,-6.525590551155005,-6.650262467165021,-6.604330708635018,-6.624015748005007,-6.558398950104987,-6.512467191575013,-6.433727034095,-6.397637795250006,-6.328740157455002,-6.361548556405012,-6.3713910760900205,-6.440288713885025,-6.535433070840014,-6.532152230945002,-6.5223097112600215,-6.459973753254985,-6.768372703384983,-6.945538057714998,-6.912729658765016,-6.87335958002501,-6.650262467165021,-5.994094488165018,-5.826771653520012,-5.790682414675018,-5.711942257195005,-5.643044619400001,-5.547900262444983,-5.472440944860011,-5.387139107590002,-5.24606299210501,-5.167322834624997,-5.0393700787199975,-4.9671916010300095,-4.865485564284995,-4.806430446175,-4.753937007855001,-4.822834645650005,-4.990157480295011,-4.996719160085007,-4.799868766385004,-4.229002624654981,-3.963254593160002,-3.946850393684997,-3.963254593160002,-3.8385826771499865,-3.77952755904002,-3.858267716520004,-3.789370078725,-3.717191601035012,-3.7532808398800057,-3.805774278200005,-3.841863517044999,-3.65157480313502,-3.4973753280700066,-2.9954068241349887,-3.047900262454988,-3.113517060355008,-3.047900262454988,-3.0905511810900066,-3.011811023610022,-3.011811023610022,-3.028215223084999,-2.946194225710002,-2.9363517060249933,-2.982283464554996,-2.9265091863399846,-2.7591863516949786,-2.7132545931650043,-2.64435695537,-2.572178477680012,-2.654199475055009,-2.716535433059988,-2.6804461942150226,-2.6968503936899992,-2.6049868766299937,-2.5426509186250144,-2.4737532808300102,-2.3129921259750006,-2.20472440943999,-2.1784776902800047,-2.1981627296499937,-2.047244094479993,-1.9389763779449825,-1.8700787401500063,-1.83070866141,-1.7290026246650143,-1.3320209973699946,-1.486220472435008,-1.3845144356899937,-1.2893700787350042,-1.2532808398900102,-1.1942257217800147,-1.184383202095006,-1.1450131233549996,-1.1286089238799946,-1.0203412073450124,-0.9383202099699872,-0.8825459317550042,-0.948162729654996,-0.9153543307050144,-0.8792650918600202,-0.7808398950100184,-0.7677165354299973,-0.6299212598400175,-0.5479002624649922,-0.4593175853000275,-0.5610236220450133,-0.4330708661400138,-0.2854330708649968,-0.2165354330699926,-0.2230971128600174,-0.0918635170600055,-0.0656167978999917,-0.1017060367450142,0.0],\"type\":\"scatter3d\"}],                        {\"template\":{\"data\":{\"histogram2dcontour\":[{\"type\":\"histogram2dcontour\",\"colorbar\":{\"outlinewidth\":0,\"ticks\":\"\"},\"colorscale\":[[0.0,\"#0d0887\"],[0.1111111111111111,\"#46039f\"],[0.2222222222222222,\"#7201a8\"],[0.3333333333333333,\"#9c179e\"],[0.4444444444444444,\"#bd3786\"],[0.5555555555555556,\"#d8576b\"],[0.6666666666666666,\"#ed7953\"],[0.7777777777777778,\"#fb9f3a\"],[0.8888888888888888,\"#fdca26\"],[1.0,\"#f0f921\"]]}],\"choropleth\":[{\"type\":\"choropleth\",\"colorbar\":{\"outlinewidth\":0,\"ticks\":\"\"}}],\"histogram2d\":[{\"type\":\"histogram2d\",\"colorbar\":{\"outlinewidth\":0,\"ticks\":\"\"},\"colorscale\":[[0.0,\"#0d0887\"],[0.1111111111111111,\"#46039f\"],[0.2222222222222222,\"#7201a8\"],[0.3333333333333333,\"#9c179e\"],[0.4444444444444444,\"#bd3786\"],[0.5555555555555556,\"#d8576b\"],[0.6666666666666666,\"#ed7953\"],[0.7777777777777778,\"#fb9f3a\"],[0.8888888888888888,\"#fdca26\"],[1.0,\"#f0f921\"]]}],\"heatmap\":[{\"type\":\"heatmap\",\"colorbar\":{\"outlinewidth\":0,\"ticks\":\"\"},\"colorscale\":[[0.0,\"#0d0887\"],[0.1111111111111111,\"#46039f\"],[0.2222222222222222,\"#7201a8\"],[0.3333333333333333,\"#9c179e\"],[0.4444444444444444,\"#bd3786\"],[0.5555555555555556,\"#d8576b\"],[0.6666666666666666,\"#ed7953\"],[0.7777777777777778,\"#fb9f3a\"],[0.8888888888888888,\"#fdca26\"],[1.0,\"#f0f921\"]]}],\"heatmapgl\":[{\"type\":\"heatmapgl\",\"colorbar\":{\"outlinewidth\":0,\"ticks\":\"\"},\"colorscale\":[[0.0,\"#0d0887\"],[0.1111111111111111,\"#46039f\"],[0.2222222222222222,\"#7201a8\"],[0.3333333333333333,\"#9c179e\"],[0.4444444444444444,\"#bd3786\"],[0.5555555555555556,\"#d8576b\"],[0.6666666666666666,\"#ed7953\"],[0.7777777777777778,\"#fb9f3a\"],[0.8888888888888888,\"#fdca26\"],[1.0,\"#f0f921\"]]}],\"contourcarpet\":[{\"type\":\"contourcarpet\",\"colorbar\":{\"outlinewidth\":0,\"ticks\":\"\"}}],\"contour\":[{\"type\":\"contour\",\"colorbar\":{\"outlinewidth\":0,\"ticks\":\"\"},\"colorscale\":[[0.0,\"#0d0887\"],[0.1111111111111111,\"#46039f\"],[0.2222222222222222,\"#7201a8\"],[0.3333333333333333,\"#9c179e\"],[0.4444444444444444,\"#bd3786\"],[0.5555555555555556,\"#d8576b\"],[0.6666666666666666,\"#ed7953\"],[0.7777777777777778,\"#fb9f3a\"],[0.8888888888888888,\"#fdca26\"],[1.0,\"#f0f921\"]]}],\"surface\":[{\"type\":\"surface\",\"colorbar\":{\"outlinewidth\":0,\"ticks\":\"\"},\"colorscale\":[[0.0,\"#0d0887\"],[0.1111111111111111,\"#46039f\"],[0.2222222222222222,\"#7201a8\"],[0.3333333333333333,\"#9c179e\"],[0.4444444444444444,\"#bd3786\"],[0.5555555555555556,\"#d8576b\"],[0.6666666666666666,\"#ed7953\"],[0.7777777777777778,\"#fb9f3a\"],[0.8888888888888888,\"#fdca26\"],[1.0,\"#f0f921\"]]}],\"mesh3d\":[{\"type\":\"mesh3d\",\"colorbar\":{\"outlinewidth\":0,\"ticks\":\"\"}}],\"scatter\":[{\"fillpattern\":{\"fillmode\":\"overlay\",\"size\":10,\"solidity\":0.2},\"type\":\"scatter\"}],\"parcoords\":[{\"type\":\"parcoords\",\"line\":{\"colorbar\":{\"outlinewidth\":0,\"ticks\":\"\"}}}],\"scatterpolargl\":[{\"type\":\"scatterpolargl\",\"marker\":{\"colorbar\":{\"outlinewidth\":0,\"ticks\":\"\"}}}],\"bar\":[{\"error_x\":{\"color\":\"#2a3f5f\"},\"error_y\":{\"color\":\"#2a3f5f\"},\"marker\":{\"line\":{\"color\":\"white\",\"width\":0.5},\"pattern\":{\"fillmode\":\"overlay\",\"size\":10,\"solidity\":0.2}},\"type\":\"bar\"}],\"scattergeo\":[{\"type\":\"scattergeo\",\"marker\":{\"colorbar\":{\"outlinewidth\":0,\"ticks\":\"\"}}}],\"scatterpolar\":[{\"type\":\"scatterpolar\",\"marker\":{\"colorbar\":{\"outlinewidth\":0,\"ticks\":\"\"}}}],\"histogram\":[{\"marker\":{\"pattern\":{\"fillmode\":\"overlay\",\"size\":10,\"solidity\":0.2}},\"type\":\"histogram\"}],\"scattergl\":[{\"type\":\"scattergl\",\"marker\":{\"colorbar\":{\"outlinewidth\":0,\"ticks\":\"\"}}}],\"scatter3d\":[{\"type\":\"scatter3d\",\"line\":{\"colorbar\":{\"outlinewidth\":0,\"ticks\":\"\"}},\"marker\":{\"colorbar\":{\"outlinewidth\":0,\"ticks\":\"\"}}}],\"scattermapbox\":[{\"type\":\"scattermapbox\",\"marker\":{\"colorbar\":{\"outlinewidth\":0,\"ticks\":\"\"}}}],\"scatterternary\":[{\"type\":\"scatterternary\",\"marker\":{\"colorbar\":{\"outlinewidth\":0,\"ticks\":\"\"}}}],\"scattercarpet\":[{\"type\":\"scattercarpet\",\"marker\":{\"colorbar\":{\"outlinewidth\":0,\"ticks\":\"\"}}}],\"carpet\":[{\"aaxis\":{\"endlinecolor\":\"#2a3f5f\",\"gridcolor\":\"#C8D4E3\",\"linecolor\":\"#C8D4E3\",\"minorgridcolor\":\"#C8D4E3\",\"startlinecolor\":\"#2a3f5f\"},\"baxis\":{\"endlinecolor\":\"#2a3f5f\",\"gridcolor\":\"#C8D4E3\",\"linecolor\":\"#C8D4E3\",\"minorgridcolor\":\"#C8D4E3\",\"startlinecolor\":\"#2a3f5f\"},\"type\":\"carpet\"}],\"table\":[{\"cells\":{\"fill\":{\"color\":\"#EBF0F8\"},\"line\":{\"color\":\"white\"}},\"header\":{\"fill\":{\"color\":\"#C8D4E3\"},\"line\":{\"color\":\"white\"}},\"type\":\"table\"}],\"barpolar\":[{\"marker\":{\"line\":{\"color\":\"white\",\"width\":0.5},\"pattern\":{\"fillmode\":\"overlay\",\"size\":10,\"solidity\":0.2}},\"type\":\"barpolar\"}],\"pie\":[{\"automargin\":true,\"type\":\"pie\"}]},\"layout\":{\"autotypenumbers\":\"strict\",\"colorway\":[\"#636efa\",\"#EF553B\",\"#00cc96\",\"#ab63fa\",\"#FFA15A\",\"#19d3f3\",\"#FF6692\",\"#B6E880\",\"#FF97FF\",\"#FECB52\"],\"font\":{\"color\":\"#2a3f5f\"},\"hovermode\":\"closest\",\"hoverlabel\":{\"align\":\"left\"},\"paper_bgcolor\":\"white\",\"plot_bgcolor\":\"white\",\"polar\":{\"bgcolor\":\"white\",\"angularaxis\":{\"gridcolor\":\"#EBF0F8\",\"linecolor\":\"#EBF0F8\",\"ticks\":\"\"},\"radialaxis\":{\"gridcolor\":\"#EBF0F8\",\"linecolor\":\"#EBF0F8\",\"ticks\":\"\"}},\"ternary\":{\"bgcolor\":\"white\",\"aaxis\":{\"gridcolor\":\"#DFE8F3\",\"linecolor\":\"#A2B1C6\",\"ticks\":\"\"},\"baxis\":{\"gridcolor\":\"#DFE8F3\",\"linecolor\":\"#A2B1C6\",\"ticks\":\"\"},\"caxis\":{\"gridcolor\":\"#DFE8F3\",\"linecolor\":\"#A2B1C6\",\"ticks\":\"\"}},\"coloraxis\":{\"colorbar\":{\"outlinewidth\":0,\"ticks\":\"\"}},\"colorscale\":{\"sequential\":[[0.0,\"#0d0887\"],[0.1111111111111111,\"#46039f\"],[0.2222222222222222,\"#7201a8\"],[0.3333333333333333,\"#9c179e\"],[0.4444444444444444,\"#bd3786\"],[0.5555555555555556,\"#d8576b\"],[0.6666666666666666,\"#ed7953\"],[0.7777777777777778,\"#fb9f3a\"],[0.8888888888888888,\"#fdca26\"],[1.0,\"#f0f921\"]],\"sequentialminus\":[[0.0,\"#0d0887\"],[0.1111111111111111,\"#46039f\"],[0.2222222222222222,\"#7201a8\"],[0.3333333333333333,\"#9c179e\"],[0.4444444444444444,\"#bd3786\"],[0.5555555555555556,\"#d8576b\"],[0.6666666666666666,\"#ed7953\"],[0.7777777777777778,\"#fb9f3a\"],[0.8888888888888888,\"#fdca26\"],[1.0,\"#f0f921\"]],\"diverging\":[[0,\"#8e0152\"],[0.1,\"#c51b7d\"],[0.2,\"#de77ae\"],[0.3,\"#f1b6da\"],[0.4,\"#fde0ef\"],[0.5,\"#f7f7f7\"],[0.6,\"#e6f5d0\"],[0.7,\"#b8e186\"],[0.8,\"#7fbc41\"],[0.9,\"#4d9221\"],[1,\"#276419\"]]},\"xaxis\":{\"gridcolor\":\"#EBF0F8\",\"linecolor\":\"#EBF0F8\",\"ticks\":\"\",\"title\":{\"standoff\":15},\"zerolinecolor\":\"#EBF0F8\",\"automargin\":true,\"zerolinewidth\":2},\"yaxis\":{\"gridcolor\":\"#EBF0F8\",\"linecolor\":\"#EBF0F8\",\"ticks\":\"\",\"title\":{\"standoff\":15},\"zerolinecolor\":\"#EBF0F8\",\"automargin\":true,\"zerolinewidth\":2},\"scene\":{\"xaxis\":{\"backgroundcolor\":\"white\",\"gridcolor\":\"#DFE8F3\",\"linecolor\":\"#EBF0F8\",\"showbackground\":true,\"ticks\":\"\",\"zerolinecolor\":\"#EBF0F8\",\"gridwidth\":2},\"yaxis\":{\"backgroundcolor\":\"white\",\"gridcolor\":\"#DFE8F3\",\"linecolor\":\"#EBF0F8\",\"showbackground\":true,\"ticks\":\"\",\"zerolinecolor\":\"#EBF0F8\",\"gridwidth\":2},\"zaxis\":{\"backgroundcolor\":\"white\",\"gridcolor\":\"#DFE8F3\",\"linecolor\":\"#EBF0F8\",\"showbackground\":true,\"ticks\":\"\",\"zerolinecolor\":\"#EBF0F8\",\"gridwidth\":2}},\"shapedefaults\":{\"line\":{\"color\":\"#2a3f5f\"}},\"annotationdefaults\":{\"arrowcolor\":\"#2a3f5f\",\"arrowhead\":0,\"arrowwidth\":1},\"geo\":{\"bgcolor\":\"white\",\"landcolor\":\"white\",\"subunitcolor\":\"#C8D4E3\",\"showland\":true,\"showlakes\":true,\"lakecolor\":\"white\"},\"title\":{\"x\":0.05},\"mapbox\":{\"style\":\"light\"}}},\"title\":{\"text\":\"Overhead view of flight path\"}},                        {\"responsive\": true}                    ).then(function(){\n",
       "                            \n",
       "var gd = document.getElementById('0cea9788-1eb9-4758-bb26-27ce0060e2e1');\n",
       "var x = new MutationObserver(function (mutations, observer) {{\n",
       "        var display = window.getComputedStyle(gd).display;\n",
       "        if (!display || display === 'none') {{\n",
       "            console.log([gd, 'removed!']);\n",
       "            Plotly.purge(gd);\n",
       "            observer.disconnect();\n",
       "        }}\n",
       "}});\n",
       "\n",
       "// Listen for the removal of the full notebook cells\n",
       "var notebookContainer = gd.closest('#notebook-container');\n",
       "if (notebookContainer) {{\n",
       "    x.observe(notebookContainer, {childList: true});\n",
       "}}\n",
       "\n",
       "// Listen for the clearing of the current output cell\n",
       "var outputEl = gd.closest('.output');\n",
       "if (outputEl) {{\n",
       "    x.observe(outputEl, {childList: true});\n",
       "}}\n",
       "\n",
       "                        })                };                });            </script>        </div>"
      ]
     },
     "metadata": {},
     "output_type": "display_data"
    }
   ],
   "source": [
    "def plt_3d_flight_path(df, distance_metric):\n",
    "    x_axis = get_xaxis_settings(df, distance_metric=distance_metric)\n",
    "    y_axis = get_yaxis_settings(df, distance_metric=distance_metric)\n",
    "    \n",
    "    fig = go.Figure()\n",
    "    fig.add_trace(go.Scatter3d(\n",
    "        x=x_axis['Distance']['col'], \n",
    "        y=y_axis['Distance']['col'], \n",
    "        z=y_axis['Elevation']['col'], \n",
    "        mode='lines',\n",
    "        line=dict(\n",
    "            color=y_axis['Elevation']['col'],\n",
    "            colorscale='Turbo',\n",
    "            width=3\n",
    "        )\n",
    "    ))\n",
    "    #fig.add_trace(go.Surface(\n",
    "    #    x=x_axis['Distance']['col'], \n",
    "    #    y=y_axis['Distance']['col'], \n",
    "    #    z=y_axis['Elevation']['col']\n",
    "    #))\n",
    "    fig.update_layout(\n",
    "        title='Overhead view of flight path',\n",
    "    )\n",
    "    return fig\n",
    "\n",
    "plt_3d_flight_path(test_df, 'm')"
   ]
  },
  {
   "cell_type": "code",
   "execution_count": 34,
   "id": "a405bf4b",
   "metadata": {},
   "outputs": [
    {
     "data": {
      "application/vnd.plotly.v1+json": {
       "config": {
        "plotlyServerURL": "https://plot.ly"
       },
       "data": [
        {
         "hovertemplate": "Elevation: %{y:.2f} ft <extra></extra>",
         "line": {
          "color": "#636EFA",
          "width": 1.2
         },
         "name": "Elevation",
         "showlegend": false,
         "type": "scatter",
         "x": [
          -23.880825,
          -20.05813,
          -16.537518,
          -13.299837,
          -10.314415,
          -7.547604,
          -4.932584,
          -2.428527,
          0,
          2.439631,
          4.935184,
          7.423338,
          9.829233,
          12.267866,
          14.651194,
          17.029022,
          19.345378,
          21.707446,
          24.137632,
          26.635951,
          29.216876,
          31.913792,
          34.698363,
          37.573994,
          40.549601,
          43.665028,
          46.876304,
          50.217522,
          53.713112,
          57.359654,
          61.179123,
          65.121466,
          69.214862,
          73.448926,
          77.750328,
          82.101547,
          86.473014,
          90.866769,
          95.241829,
          99.551612,
          103.770795,
          107.926125,
          111.859664,
          115.408236,
          118.751857,
          121.999641,
          124.981757,
          127.576602,
          129.768189,
          131.580861,
          133.024302,
          134.156423,
          135.228593,
          136.469396,
          137.989973,
          139.897002,
          142.200857,
          144.886521,
          147.952572,
          151.34617,
          155.018609,
          158.966624,
          163.161458,
          167.589574,
          172.20427,
          176.8945,
          181.6046,
          186.331447,
          191.021714,
          195.666761,
          200.1507,
          204.509275,
          208.717972,
          212.792053,
          216.707485,
          220.431418,
          223.980996,
          227.33749,
          230.496397,
          233.462627,
          236.346355,
          239.158902,
          241.837878,
          244.354951,
          246.653671,
          248.729809,
          250.688835,
          252.472534,
          254.086417,
          255.572566,
          256.91814,
          258.067394,
          259.016669,
          259.801068,
          260.435289,
          260.962698,
          261.298763,
          261.549388,
          261.663279,
          261.864085,
          262.251169,
          262.558919,
          262.678988,
          262.755025,
          262.852706,
          263.023829,
          263.120383,
          263.143502,
          263.172536,
          263.255789,
          263.400538,
          263.523175,
          263.585409,
          263.651379,
          263.707266,
          263.740251,
          263.773611,
          263.806596,
          263.839956,
          263.86899,
          263.893829,
          263.944739,
          263.975788,
          264.047633,
          264.074854,
          264.105903,
          264.112112,
          264.137611,
          264.15036,
          264.16704,
          264.179789,
          264.202058,
          264.259044,
          264.29793,
          264.357794,
          264.418757,
          264.469753,
          264.536743,
          264.578369,
          264.611729,
          264.66877,
          264.681519,
          264.717157,
          264.773175,
          264.811422,
          264.84706,
          264.872558,
          264.885307,
          264.91434,
          264.972408,
          265.005393,
          265.005393,
          265.028511,
          265.045191,
          265.108279,
          265.201412,
          265.297966,
          265.358929,
          265.400555,
          265.423674,
          265.440354,
          265.440354,
          265.451489,
          265.464238,
          265.498213,
          265.527247,
          265.64014,
          265.768161,
          265.830396,
          265.863756,
          265.899393,
          265.9428,
          265.981009,
          265.999638,
          266.055656,
          266.113723,
          266.176811,
          266.274873,
          266.391533,
          266.517709,
          266.586918,
          266.645625,
          266.757143,
          266.904007,
          267.030361,
          267.106855,
          267.173845,
          267.192474,
          267.209154,
          267.215364,
          267.263641,
          267.307048,
          267.378893,
          267.474664,
          267.536899,
          267.559168,
          267.593144,
          267.638113,
          267.716054,
          267.774761,
          267.81297,
          267.851857,
          267.887494,
          267.916528,
          267.938231,
          267.963729,
          267.985432,
          268.060777,
          268.115597,
          268.17127,
          268.204673,
          268.238033,
          268.27692,
          268.2936,
          268.330858,
          268.393946,
          268.438818,
          268.471803,
          268.471803,
          268.504788,
          268.580825,
          268.618083,
          268.639787,
          268.650921,
          268.672624,
          268.685373,
          268.710871,
          268.73399,
          268.797078,
          268.834336,
          268.873223,
          268.928043,
          269.054219,
          269.146417,
          269.216929,
          269.2618,
          269.289021,
          269.332427,
          269.374054,
          269.407414,
          269.440398,
          269.473758,
          269.507118,
          269.534339,
          269.547088,
          269.569357,
          269.661555,
          269.732066,
          269.776604,
          269.81058,
          269.84394,
          269.865643,
          269.888762,
          269.91426,
          269.92668,
          269.94336,
          269.956109,
          269.972789,
          269.978998,
          269.990133,
          270.014972,
          270.096633,
          270.147544,
          270.158678,
          270.169813,
          270.182562,
          270.204265,
          270.237625,
          270.281031,
          270.407143,
          270.499341,
          270.532701,
          270.583697,
          270.628666,
          270.641415,
          270.670448,
          270.692152,
          270.708832,
          270.721581,
          270.748801,
          270.803622,
          270.882507,
          270.957121,
          271.024111,
          271.051332,
          271.068012,
          271.086641,
          271.10527,
          271.148738,
          271.224083,
          271.273761,
          271.27997,
          271.291105,
          271.404995,
          271.47961,
          271.556104,
          271.716161,
          271.833574,
          271.889247,
          271.935484,
          271.952164,
          272.000441,
          272.075056,
          272.142046,
          272.193042,
          272.21616,
          272.340049,
          272.440259,
          272.469293,
          272.504931,
          272.528049,
          272.557083,
          272.568218,
          272.580967,
          272.592101,
          272.604521,
          272.631741,
          272.653444,
          272.676563,
          272.750232,
          272.800272,
          272.816952,
          272.838655,
          272.880282,
          272.896962,
          272.909711,
          272.915921,
          272.915921,
          272.927055,
          272.933265,
          272.933265,
          272.960486,
          272.979115,
          272.985325,
          272.985325,
          273.054533,
          273.14147,
          273.166309,
          273.182989,
          273.210209,
          273.228838,
          273.247468,
          273.264148,
          273.340566,
          273.408873,
          273.519598,
          273.645773,
          273.695813,
          273.724847,
          273.763056,
          273.808661,
          273.875381,
          273.88813,
          273.922106,
          273.945224,
          273.957644,
          273.963854,
          273.976273,
          274.057764,
          274.117628,
          274.143126,
          274.174175,
          274.237263,
          274.307775,
          274.351181,
          274.372884,
          274.384018,
          274.407137,
          274.430256,
          274.455095,
          274.512081,
          274.556952,
          274.573632,
          274.654359,
          274.774428,
          274.829248,
          274.862652,
          274.898289,
          274.997944,
          275.081343,
          275.131383,
          275.176988,
          275.225829,
          275.264716,
          275.277465,
          275.294145,
          275.306894,
          275.332392,
          275.338602,
          275.351021,
          275.37586,
          275.406909,
          275.425538,
          275.492528,
          275.572231,
          275.593935,
          275.606684,
          275.706763,
          275.785649,
          275.798068,
          275.829117,
          275.85082,
          275.875659,
          275.909019,
          275.925699,
          275.938448,
          275.998312,
          276.069776,
          276.107985,
          276.129688,
          276.142108,
          276.213953,
          276.300766,
          276.345637,
          276.372858,
          276.385607,
          276.398356,
          276.404566,
          276.410775,
          276.423524,
          276.423524,
          276.435944,
          276.452624,
          276.469304,
          276.485984,
          276.485984,
          276.563757,
          276.647499,
          276.690967,
          276.734436,
          276.753065,
          276.771694,
          276.777904,
          276.789038,
          276.801458,
          276.818138,
          276.842977,
          276.855726,
          276.855726,
          276.861936,
          276.868145,
          276.880565,
          276.891699,
          276.94054,
          277.065233,
          277.121121,
          277.121121,
          277.127331,
          277.13975,
          277.15217,
          277.164919,
          277.181599,
          277.206438,
          277.245324,
          277.299765,
          277.397828,
          277.490025,
          277.506705,
          277.532203,
          277.57383,
          277.630816,
          277.680494,
          277.707715,
          277.762007,
          277.806976,
          277.864017,
          277.918309,
          277.972602,
          277.994305,
          278.006724,
          278.028427,
          278.040847
         ],
         "y": [
          741.2073490784,
          741.7486876610751,
          743.218503934035,
          745.3904199445251,
          747.608267713545,
          749.9967191571051,
          751.95538057442,
          753.2053805744151,
          753.526902884125,
          752.568897634785,
          750.20997375028,
          746.7454068211599,
          742.457349078395,
          738.0216535403549,
          731.67322834353,
          726.22703411783,
          719.4881889735,
          711.8569553777301,
          703.500656165165,
          694.3503936980101,
          684.54724409175,
          674.2585301810301,
          663.47112860627,
          652.2933070840049,
          640.8070866116101,
          629.1305774253051,
          617.38188976131,
          605.57086613931,
          593.7171915986751,
          582.0078740134201,
          570.64960629693,
          559.478346454455,
          548.139763777335,
          536.7946194204251,
          525.593832018895,
          514.0419947486,
          502.1095800504851,
          489.438976375995,
          475.5347769009851,
          461.1417322816201,
          445.889107609765,
          429.25853018201,
          411.52230970964,
          393.093832019425,
          374.110892386955,
          353.41535432929504,
          332.162073489485,
          310.367454067,
          287.71653543192,
          265.055774277155,
          242.903543306115,
          221.77165354242,
          200.62992125904,
          179.76377952683998,
          159.320866141095,
          139.20603674485,
          119.80314960582,
          101.22703412033,
          83.56299212565,
          67.03740157453501,
          51.614173228139975,
          37.40157480300002,
          24.688320209875,
          13.382545931704982,
          3.4481627296449915,
          -5.2427821522099975,
          -12.736220472390016,
          -18.92388451436001,
          -23.94685039360502,
          -27.59842519674001,
          -29.603018372585,
          -30.87270341195,
          -31.07611548544,
          -31.25328083977,
          -30.97769028859001,
          -30.344488188855,
          -29.917979002505007,
          -29.412729658675005,
          -28.832020997260003,
          -28.284120734795,
          -28.17585301826001,
          -28.113517060254992,
          -28.01509186340499,
          -27.719816272855013,
          -27.358923884405016,
          -26.729002624565013,
          -26.466535432965017,
          -26.253280839789998,
          -26.20078740147001,
          -26.59776902876501,
          -27.473753280729994,
          -27.949475065505013,
          -27.77887139096501,
          -27.913385826660004,
          -27.67060367443001,
          -27.89370078729,
          -27.562335957895,
          -27.24081364818501,
          -27.10629921249001,
          -27.221128608815008,
          -27.93635170592502,
          -28.513779527445,
          -27.61154855632,
          -26.98818897627001,
          -26.788057742675008,
          -26.4435695537,
          -26.36482939621999,
          -26.230314960525007,
          -25.951443569450007,
          -25.823490813544996,
          -26.06299212588,
          -25.958005249240017,
          -25.83333333323,
          -25.498687663940004,
          -25.08858267706501,
          -24.721128608825,
          -24.340551181005,
          -23.99606299203002,
          -23.60564304452501,
          -23.123359579959995,
          -22.73950131224501,
          -22.62139107602501,
          -22.286745406735008,
          -21.91272965870499,
          -21.630577427735005,
          -21.499343831935008,
          -21.397637795190008,
          -21.148293963170005,
          -20.964566929050008,
          -20.93832020989001,
          -20.59711286081001,
          -20.416666666585016,
          -20.17388451435501,
          -20.22637795267501,
          -19.750656167900004,
          -19.45866141724501,
          -19.143700787325017,
          -18.802493438244998,
          -18.49737532801001,
          -18.20538057735501,
          -17.929790026175,
          -17.647637795205,
          -17.349081364759996,
          -17.152230971059993,
          -16.837270341140012,
          -16.532152230904998,
          -16.276246719095013,
          -15.980971128544994,
          -15.62992125977999,
          -15.456036745345015,
          -15.114829396265009,
          -14.924540682355,
          -14.642388451385017,
          -14.379921259784991,
          -14.143700787345011,
          -14.15354330703002,
          -14.314304461885,
          -14.366797900205,
          -14.396325459259998,
          -14.330708661360006,
          -14.222440944825024,
          -14.071522309654997,
          -13.99278215217501,
          -13.914041994694998,
          -13.795931758475009,
          -13.92716535427499,
          -14.055118110180018,
          -14.219160104930012,
          -14.189632545874986,
          -14.005905511755005,
          -13.83202099732,
          -13.736876640365011,
          -13.671259842464991,
          -13.727034120680004,
          -13.776246719105018,
          -13.602362204670015,
          -13.441601049815006,
          -13.238188976325006,
          -12.84776902882001,
          -12.75262467186502,
          -12.62139107606498,
          -12.385170603625,
          -12.267060367405008,
          -12.089895013074994,
          -11.847112860845016,
          -11.80774278210501,
          -11.804461942209995,
          -11.709317585255008,
          -11.59448818893,
          -11.610892388405006,
          -11.473097112815026,
          -11.35826771648999,
          -11.0892388451,
          -10.81364829392001,
          -10.390419947465006,
          -10.049212598384996,
          -9.648950131194994,
          -9.471784776865007,
          -9.616141732245012,
          -9.557086614134988,
          -9.445538057704994,
          -9.383202099700014,
          -9.498031496024993,
          -9.448818897600006,
          -9.47506561676002,
          -9.47506561676002,
          -9.353674540645017,
          -9.14370078736502,
          -9.235564304424996,
          -9.274934383165004,
          -9.330708661379989,
          -9.383202099700014,
          -9.40944881886,
          -9.402887139070003,
          -9.29461942253502,
          -9.222440944845005,
          -9.11089238841501,
          -8.96981627292999,
          -8.809055118075008,
          -8.530183727000008,
          -8.129921259810004,
          -8.067585301804996,
          -8.021653543275022,
          -7.8937007873700225,
          -7.828083989470002,
          -7.778871391044987,
          -7.683727034089998,
          -7.624671915980002,
          -7.536089238815009,
          -7.424540682385015,
          -7.293307086585003,
          -7.116141732255016,
          -7.066929133830001,
          -6.925853018345009,
          -6.886482939605003,
          -6.948818897609982,
          -6.925853018345009,
          -6.768372703384983,
          -6.617454068215011,
          -6.512467191575013,
          -6.450131233570005,
          -6.364829396299996,
          -6.272965879240019,
          -6.177821522285001,
          -6.079396325434999,
          -5.958005249319996,
          -5.803805774255011,
          -5.833333333310009,
          -5.859580052469994,
          -5.862860892365006,
          -5.833333333310009,
          -5.849737532784985,
          -5.816929133835004,
          -5.807086614149995,
          -5.734908136460007,
          -5.7841207348849935,
          -5.7611548556200205,
          -5.774278215200013,
          -5.734908136460007,
          -5.65288713908501,
          -5.662729658770019,
          -5.731627296565023,
          -5.738188976354991,
          -5.656167978979994,
          -5.623359580030012,
          -5.528215223074994,
          -5.410104986855004,
          -5.318241469794998,
          -5.219816272944996,
          -5.193569553785011,
          -5.154199475045004,
          -5.28871391074,
          -5.318241469794998,
          -5.337926509164987,
          -5.3707349081150255,
          -5.501968503915009,
          -5.554461942235008,
          -5.538057742760003,
          -5.633202099715021,
          -5.803805774255011,
          -5.944881889740003,
          -5.9809711285850256,
          -6.0597112860649816,
          -6.1876640419700095,
          -6.30577427819,
          -6.361548556405012,
          -6.3779527558799884,
          -6.469816272939994,
          -6.5780839894750045,
          -6.617454068215011,
          -6.548556430420007,
          -6.35826771651,
          -6.266404199449994,
          -6.082677165330011,
          -6.1876640419700095,
          -6.1876640419700095,
          -6.266404199449994,
          -6.384514435670013,
          -6.437007873990012,
          -6.450131233570005,
          -6.446850393674993,
          -6.496062992100008,
          -6.535433070840014,
          -6.610892388425015,
          -6.722440944855009,
          -6.5780839894750045,
          -6.519028871365009,
          -6.335301837244998,
          -6.414041994725011,
          -6.473097112835006,
          -6.564960629895012,
          -6.656824146954989,
          -6.768372703384983,
          -6.804461942230006,
          -6.9881889763499885,
          -7.11942257215,
          -7.227690288685011,
          -7.349081364799986,
          -7.460629921230009,
          -7.680446194194985,
          -7.601706036715001,
          -7.598425196819988,
          -7.64435695535002,
          -7.677165354300001,
          -7.713254593144995,
          -7.716535433040008,
          -7.769028871360007,
          -7.801837270310017,
          -7.847769028839991,
          -7.8937007873700225,
          -7.844488188945007,
          -7.81496062989001,
          -7.903543307055003,
          -7.88057742779003,
          -7.90026246715999,
          -7.982283464535016,
          -8.005249343800017,
          -7.972440944850007,
          -7.81496062989001,
          -7.680446194194985,
          -7.555774278184998,
          -7.378608923854983,
          -7.234251968475007,
          -6.912729658765016,
          -6.912729658765016,
          -7.017716535404986,
          -7.112860892360004,
          -7.155511810994994,
          -7.280183727004982,
          -7.286745406795006,
          -7.1522309711000105,
          -6.748687664014994,
          -6.755249343804991,
          -6.7454068241200105,
          -6.70275590548502,
          -6.683070866115003,
          -6.643700787374996,
          -6.525590551155005,
          -6.650262467165021,
          -6.604330708635018,
          -6.624015748005007,
          -6.558398950104987,
          -6.512467191575013,
          -6.433727034095,
          -6.397637795250006,
          -6.328740157455002,
          -6.361548556405012,
          -6.3713910760900205,
          -6.440288713885025,
          -6.535433070840014,
          -6.532152230945002,
          -6.5223097112600215,
          -6.459973753254985,
          -6.768372703384983,
          -6.945538057714998,
          -6.912729658765016,
          -6.87335958002501,
          -6.650262467165021,
          -5.994094488165018,
          -5.826771653520012,
          -5.790682414675018,
          -5.711942257195005,
          -5.643044619400001,
          -5.547900262444983,
          -5.472440944860011,
          -5.387139107590002,
          -5.24606299210501,
          -5.167322834624997,
          -5.0393700787199975,
          -4.9671916010300095,
          -4.865485564284995,
          -4.806430446175,
          -4.753937007855001,
          -4.822834645650005,
          -4.990157480295011,
          -4.996719160085007,
          -4.799868766385004,
          -4.229002624654981,
          -3.963254593160002,
          -3.946850393684997,
          -3.963254593160002,
          -3.8385826771499865,
          -3.77952755904002,
          -3.858267716520004,
          -3.789370078725,
          -3.717191601035012,
          -3.7532808398800057,
          -3.805774278200005,
          -3.841863517044999,
          -3.65157480313502,
          -3.4973753280700066,
          -2.9954068241349887,
          -3.047900262454988,
          -3.113517060355008,
          -3.047900262454988,
          -3.0905511810900066,
          -3.011811023610022,
          -3.011811023610022,
          -3.028215223084999,
          -2.946194225710002,
          -2.9363517060249933,
          -2.982283464554996,
          -2.9265091863399846,
          -2.7591863516949786,
          -2.7132545931650043,
          -2.64435695537,
          -2.572178477680012,
          -2.654199475055009,
          -2.716535433059988,
          -2.6804461942150226,
          -2.6968503936899992,
          -2.6049868766299937,
          -2.5426509186250144,
          -2.4737532808300102,
          -2.3129921259750006,
          -2.20472440943999,
          -2.1784776902800047,
          -2.1981627296499937,
          -2.047244094479993,
          -1.9389763779449825,
          -1.8700787401500063,
          -1.83070866141,
          -1.7290026246650143,
          -1.3320209973699946,
          -1.486220472435008,
          -1.3845144356899937,
          -1.2893700787350042,
          -1.2532808398900102,
          -1.1942257217800147,
          -1.184383202095006,
          -1.1450131233549996,
          -1.1286089238799946,
          -1.0203412073450124,
          -0.9383202099699872,
          -0.8825459317550042,
          -0.948162729654996,
          -0.9153543307050144,
          -0.8792650918600202,
          -0.7808398950100184,
          -0.7677165354299973,
          -0.6299212598400175,
          -0.5479002624649922,
          -0.4593175853000275,
          -0.5610236220450133,
          -0.4330708661400138,
          -0.2854330708649968,
          -0.2165354330699926,
          -0.2230971128600174,
          -0.0918635170600055,
          -0.0656167978999917,
          -0.1017060367450142,
          0
         ]
        },
        {
         "marker": {
          "color": "Green",
          "size": 8
         },
         "mode": "markers",
         "showlegend": false,
         "type": "scatter",
         "x": [
          0
         ],
         "y": [
          753.526902884125
         ]
        },
        {
         "marker": {
          "color": "Red",
          "size": 8
         },
         "mode": "markers",
         "showlegend": false,
         "type": "scatter",
         "x": [
          212.792053,
          258.067394,
          259.801068,
          260.962698,
          262.558919,
          263.400538,
          264.29793,
          265.400555,
          265.768161,
          266.055656,
          267.215364,
          267.716054,
          267.887494,
          267.938231,
          268.27692,
          269.2618,
          269.81058,
          269.865643,
          269.94336,
          269.972789,
          270.147544,
          270.692152,
          271.224083,
          271.935484,
          272.193042,
          272.750232,
          272.933265,
          272.979115,
          273.14147,
          273.763056,
          273.88813,
          274.057764,
          274.143126,
          274.455095,
          274.774428,
          275.593935,
          275.829117,
          275.909019,
          276.107985,
          276.345637,
          276.385607,
          276.410775,
          276.435944,
          276.690967,
          276.753065,
          276.855726,
          277.065233,
          277.397828,
          277.762007,
          277.972602,
          278.028427
         ],
         "y": [
          -31.25328083977,
          -27.949475065505013,
          -27.913385826660004,
          -27.89370078729,
          -28.513779527445,
          -26.06299212588,
          -20.22637795267501,
          -14.396325459259998,
          -14.219160104930012,
          -13.776246719105018,
          -11.610892388405006,
          -9.616141732245012,
          -9.498031496024993,
          -9.47506561676002,
          -9.40944881886,
          -6.948818897609982,
          -5.862860892365006,
          -5.849737532784985,
          -5.7841207348849935,
          -5.774278215200013,
          -5.738188976354991,
          -5.554461942235008,
          -6.617454068215011,
          -6.450131233570005,
          -6.722440944855009,
          -7.680446194194985,
          -7.8937007873700225,
          -7.903543307055003,
          -8.005249343800017,
          -7.286745406795006,
          -6.755249343804991,
          -6.650262467165021,
          -6.624015748005007,
          -6.535433070840014,
          -6.945538057714998,
          -4.996719160085007,
          -3.963254593160002,
          -3.858267716520004,
          -3.841863517044999,
          -3.113517060355008,
          -3.0905511810900066,
          -3.028215223084999,
          -2.982283464554996,
          -2.716535433059988,
          -2.6968503936899992,
          -2.1981627296499937,
          -1.486220472435008,
          -0.948162729654996,
          -0.5610236220450133,
          -0.2230971128600174,
          -0.1017060367450142
         ]
        }
       ],
       "layout": {
        "hovermode": "x unified",
        "legend": {
         "x": 1,
         "xanchor": "right",
         "y": 1,
         "yanchor": "top"
        },
        "template": {
         "data": {
          "bar": [
           {
            "error_x": {
             "color": "#2a3f5f"
            },
            "error_y": {
             "color": "#2a3f5f"
            },
            "marker": {
             "line": {
              "color": "white",
              "width": 0.5
             },
             "pattern": {
              "fillmode": "overlay",
              "size": 10,
              "solidity": 0.2
             }
            },
            "type": "bar"
           }
          ],
          "barpolar": [
           {
            "marker": {
             "line": {
              "color": "white",
              "width": 0.5
             },
             "pattern": {
              "fillmode": "overlay",
              "size": 10,
              "solidity": 0.2
             }
            },
            "type": "barpolar"
           }
          ],
          "carpet": [
           {
            "aaxis": {
             "endlinecolor": "#2a3f5f",
             "gridcolor": "#C8D4E3",
             "linecolor": "#C8D4E3",
             "minorgridcolor": "#C8D4E3",
             "startlinecolor": "#2a3f5f"
            },
            "baxis": {
             "endlinecolor": "#2a3f5f",
             "gridcolor": "#C8D4E3",
             "linecolor": "#C8D4E3",
             "minorgridcolor": "#C8D4E3",
             "startlinecolor": "#2a3f5f"
            },
            "type": "carpet"
           }
          ],
          "choropleth": [
           {
            "colorbar": {
             "outlinewidth": 0,
             "ticks": ""
            },
            "type": "choropleth"
           }
          ],
          "contour": [
           {
            "colorbar": {
             "outlinewidth": 0,
             "ticks": ""
            },
            "colorscale": [
             [
              0,
              "#0d0887"
             ],
             [
              0.1111111111111111,
              "#46039f"
             ],
             [
              0.2222222222222222,
              "#7201a8"
             ],
             [
              0.3333333333333333,
              "#9c179e"
             ],
             [
              0.4444444444444444,
              "#bd3786"
             ],
             [
              0.5555555555555556,
              "#d8576b"
             ],
             [
              0.6666666666666666,
              "#ed7953"
             ],
             [
              0.7777777777777778,
              "#fb9f3a"
             ],
             [
              0.8888888888888888,
              "#fdca26"
             ],
             [
              1,
              "#f0f921"
             ]
            ],
            "type": "contour"
           }
          ],
          "contourcarpet": [
           {
            "colorbar": {
             "outlinewidth": 0,
             "ticks": ""
            },
            "type": "contourcarpet"
           }
          ],
          "heatmap": [
           {
            "colorbar": {
             "outlinewidth": 0,
             "ticks": ""
            },
            "colorscale": [
             [
              0,
              "#0d0887"
             ],
             [
              0.1111111111111111,
              "#46039f"
             ],
             [
              0.2222222222222222,
              "#7201a8"
             ],
             [
              0.3333333333333333,
              "#9c179e"
             ],
             [
              0.4444444444444444,
              "#bd3786"
             ],
             [
              0.5555555555555556,
              "#d8576b"
             ],
             [
              0.6666666666666666,
              "#ed7953"
             ],
             [
              0.7777777777777778,
              "#fb9f3a"
             ],
             [
              0.8888888888888888,
              "#fdca26"
             ],
             [
              1,
              "#f0f921"
             ]
            ],
            "type": "heatmap"
           }
          ],
          "heatmapgl": [
           {
            "colorbar": {
             "outlinewidth": 0,
             "ticks": ""
            },
            "colorscale": [
             [
              0,
              "#0d0887"
             ],
             [
              0.1111111111111111,
              "#46039f"
             ],
             [
              0.2222222222222222,
              "#7201a8"
             ],
             [
              0.3333333333333333,
              "#9c179e"
             ],
             [
              0.4444444444444444,
              "#bd3786"
             ],
             [
              0.5555555555555556,
              "#d8576b"
             ],
             [
              0.6666666666666666,
              "#ed7953"
             ],
             [
              0.7777777777777778,
              "#fb9f3a"
             ],
             [
              0.8888888888888888,
              "#fdca26"
             ],
             [
              1,
              "#f0f921"
             ]
            ],
            "type": "heatmapgl"
           }
          ],
          "histogram": [
           {
            "marker": {
             "pattern": {
              "fillmode": "overlay",
              "size": 10,
              "solidity": 0.2
             }
            },
            "type": "histogram"
           }
          ],
          "histogram2d": [
           {
            "colorbar": {
             "outlinewidth": 0,
             "ticks": ""
            },
            "colorscale": [
             [
              0,
              "#0d0887"
             ],
             [
              0.1111111111111111,
              "#46039f"
             ],
             [
              0.2222222222222222,
              "#7201a8"
             ],
             [
              0.3333333333333333,
              "#9c179e"
             ],
             [
              0.4444444444444444,
              "#bd3786"
             ],
             [
              0.5555555555555556,
              "#d8576b"
             ],
             [
              0.6666666666666666,
              "#ed7953"
             ],
             [
              0.7777777777777778,
              "#fb9f3a"
             ],
             [
              0.8888888888888888,
              "#fdca26"
             ],
             [
              1,
              "#f0f921"
             ]
            ],
            "type": "histogram2d"
           }
          ],
          "histogram2dcontour": [
           {
            "colorbar": {
             "outlinewidth": 0,
             "ticks": ""
            },
            "colorscale": [
             [
              0,
              "#0d0887"
             ],
             [
              0.1111111111111111,
              "#46039f"
             ],
             [
              0.2222222222222222,
              "#7201a8"
             ],
             [
              0.3333333333333333,
              "#9c179e"
             ],
             [
              0.4444444444444444,
              "#bd3786"
             ],
             [
              0.5555555555555556,
              "#d8576b"
             ],
             [
              0.6666666666666666,
              "#ed7953"
             ],
             [
              0.7777777777777778,
              "#fb9f3a"
             ],
             [
              0.8888888888888888,
              "#fdca26"
             ],
             [
              1,
              "#f0f921"
             ]
            ],
            "type": "histogram2dcontour"
           }
          ],
          "mesh3d": [
           {
            "colorbar": {
             "outlinewidth": 0,
             "ticks": ""
            },
            "type": "mesh3d"
           }
          ],
          "parcoords": [
           {
            "line": {
             "colorbar": {
              "outlinewidth": 0,
              "ticks": ""
             }
            },
            "type": "parcoords"
           }
          ],
          "pie": [
           {
            "automargin": true,
            "type": "pie"
           }
          ],
          "scatter": [
           {
            "fillpattern": {
             "fillmode": "overlay",
             "size": 10,
             "solidity": 0.2
            },
            "type": "scatter"
           }
          ],
          "scatter3d": [
           {
            "line": {
             "colorbar": {
              "outlinewidth": 0,
              "ticks": ""
             }
            },
            "marker": {
             "colorbar": {
              "outlinewidth": 0,
              "ticks": ""
             }
            },
            "type": "scatter3d"
           }
          ],
          "scattercarpet": [
           {
            "marker": {
             "colorbar": {
              "outlinewidth": 0,
              "ticks": ""
             }
            },
            "type": "scattercarpet"
           }
          ],
          "scattergeo": [
           {
            "marker": {
             "colorbar": {
              "outlinewidth": 0,
              "ticks": ""
             }
            },
            "type": "scattergeo"
           }
          ],
          "scattergl": [
           {
            "marker": {
             "colorbar": {
              "outlinewidth": 0,
              "ticks": ""
             }
            },
            "type": "scattergl"
           }
          ],
          "scattermapbox": [
           {
            "marker": {
             "colorbar": {
              "outlinewidth": 0,
              "ticks": ""
             }
            },
            "type": "scattermapbox"
           }
          ],
          "scatterpolar": [
           {
            "marker": {
             "colorbar": {
              "outlinewidth": 0,
              "ticks": ""
             }
            },
            "type": "scatterpolar"
           }
          ],
          "scatterpolargl": [
           {
            "marker": {
             "colorbar": {
              "outlinewidth": 0,
              "ticks": ""
             }
            },
            "type": "scatterpolargl"
           }
          ],
          "scatterternary": [
           {
            "marker": {
             "colorbar": {
              "outlinewidth": 0,
              "ticks": ""
             }
            },
            "type": "scatterternary"
           }
          ],
          "surface": [
           {
            "colorbar": {
             "outlinewidth": 0,
             "ticks": ""
            },
            "colorscale": [
             [
              0,
              "#0d0887"
             ],
             [
              0.1111111111111111,
              "#46039f"
             ],
             [
              0.2222222222222222,
              "#7201a8"
             ],
             [
              0.3333333333333333,
              "#9c179e"
             ],
             [
              0.4444444444444444,
              "#bd3786"
             ],
             [
              0.5555555555555556,
              "#d8576b"
             ],
             [
              0.6666666666666666,
              "#ed7953"
             ],
             [
              0.7777777777777778,
              "#fb9f3a"
             ],
             [
              0.8888888888888888,
              "#fdca26"
             ],
             [
              1,
              "#f0f921"
             ]
            ],
            "type": "surface"
           }
          ],
          "table": [
           {
            "cells": {
             "fill": {
              "color": "#EBF0F8"
             },
             "line": {
              "color": "white"
             }
            },
            "header": {
             "fill": {
              "color": "#C8D4E3"
             },
             "line": {
              "color": "white"
             }
            },
            "type": "table"
           }
          ]
         },
         "layout": {
          "annotationdefaults": {
           "arrowcolor": "#2a3f5f",
           "arrowhead": 0,
           "arrowwidth": 1
          },
          "autotypenumbers": "strict",
          "coloraxis": {
           "colorbar": {
            "outlinewidth": 0,
            "ticks": ""
           }
          },
          "colorscale": {
           "diverging": [
            [
             0,
             "#8e0152"
            ],
            [
             0.1,
             "#c51b7d"
            ],
            [
             0.2,
             "#de77ae"
            ],
            [
             0.3,
             "#f1b6da"
            ],
            [
             0.4,
             "#fde0ef"
            ],
            [
             0.5,
             "#f7f7f7"
            ],
            [
             0.6,
             "#e6f5d0"
            ],
            [
             0.7,
             "#b8e186"
            ],
            [
             0.8,
             "#7fbc41"
            ],
            [
             0.9,
             "#4d9221"
            ],
            [
             1,
             "#276419"
            ]
           ],
           "sequential": [
            [
             0,
             "#0d0887"
            ],
            [
             0.1111111111111111,
             "#46039f"
            ],
            [
             0.2222222222222222,
             "#7201a8"
            ],
            [
             0.3333333333333333,
             "#9c179e"
            ],
            [
             0.4444444444444444,
             "#bd3786"
            ],
            [
             0.5555555555555556,
             "#d8576b"
            ],
            [
             0.6666666666666666,
             "#ed7953"
            ],
            [
             0.7777777777777778,
             "#fb9f3a"
            ],
            [
             0.8888888888888888,
             "#fdca26"
            ],
            [
             1,
             "#f0f921"
            ]
           ],
           "sequentialminus": [
            [
             0,
             "#0d0887"
            ],
            [
             0.1111111111111111,
             "#46039f"
            ],
            [
             0.2222222222222222,
             "#7201a8"
            ],
            [
             0.3333333333333333,
             "#9c179e"
            ],
            [
             0.4444444444444444,
             "#bd3786"
            ],
            [
             0.5555555555555556,
             "#d8576b"
            ],
            [
             0.6666666666666666,
             "#ed7953"
            ],
            [
             0.7777777777777778,
             "#fb9f3a"
            ],
            [
             0.8888888888888888,
             "#fdca26"
            ],
            [
             1,
             "#f0f921"
            ]
           ]
          },
          "colorway": [
           "#636efa",
           "#EF553B",
           "#00cc96",
           "#ab63fa",
           "#FFA15A",
           "#19d3f3",
           "#FF6692",
           "#B6E880",
           "#FF97FF",
           "#FECB52"
          ],
          "font": {
           "color": "#2a3f5f"
          },
          "geo": {
           "bgcolor": "white",
           "lakecolor": "white",
           "landcolor": "white",
           "showlakes": true,
           "showland": true,
           "subunitcolor": "#C8D4E3"
          },
          "hoverlabel": {
           "align": "left"
          },
          "hovermode": "closest",
          "mapbox": {
           "style": "light"
          },
          "paper_bgcolor": "white",
          "plot_bgcolor": "white",
          "polar": {
           "angularaxis": {
            "gridcolor": "#EBF0F8",
            "linecolor": "#EBF0F8",
            "ticks": ""
           },
           "bgcolor": "white",
           "radialaxis": {
            "gridcolor": "#EBF0F8",
            "linecolor": "#EBF0F8",
            "ticks": ""
           }
          },
          "scene": {
           "xaxis": {
            "backgroundcolor": "white",
            "gridcolor": "#DFE8F3",
            "gridwidth": 2,
            "linecolor": "#EBF0F8",
            "showbackground": true,
            "ticks": "",
            "zerolinecolor": "#EBF0F8"
           },
           "yaxis": {
            "backgroundcolor": "white",
            "gridcolor": "#DFE8F3",
            "gridwidth": 2,
            "linecolor": "#EBF0F8",
            "showbackground": true,
            "ticks": "",
            "zerolinecolor": "#EBF0F8"
           },
           "zaxis": {
            "backgroundcolor": "white",
            "gridcolor": "#DFE8F3",
            "gridwidth": 2,
            "linecolor": "#EBF0F8",
            "showbackground": true,
            "ticks": "",
            "zerolinecolor": "#EBF0F8"
           }
          },
          "shapedefaults": {
           "line": {
            "color": "#2a3f5f"
           }
          },
          "ternary": {
           "aaxis": {
            "gridcolor": "#DFE8F3",
            "linecolor": "#A2B1C6",
            "ticks": ""
           },
           "baxis": {
            "gridcolor": "#DFE8F3",
            "linecolor": "#A2B1C6",
            "ticks": ""
           },
           "bgcolor": "white",
           "caxis": {
            "gridcolor": "#DFE8F3",
            "linecolor": "#A2B1C6",
            "ticks": ""
           }
          },
          "title": {
           "x": 0.05
          },
          "xaxis": {
           "automargin": true,
           "gridcolor": "#EBF0F8",
           "linecolor": "#EBF0F8",
           "ticks": "",
           "title": {
            "standoff": 15
           },
           "zerolinecolor": "#EBF0F8",
           "zerolinewidth": 2
          },
          "yaxis": {
           "automargin": true,
           "gridcolor": "#EBF0F8",
           "linecolor": "#EBF0F8",
           "ticks": "",
           "title": {
            "standoff": 15
           },
           "zerolinecolor": "#EBF0F8",
           "zerolinewidth": 2
          }
         }
        },
        "xaxis": {
         "title": {
          "text": "Horizontal distance (m)"
         }
        },
        "yaxis": {
         "title": {
          "text": "Elevation (ft)"
         }
        }
       }
      },
      "text/html": [
       "<div>                            <div id=\"9ad5eaa9-f4af-4f2f-88b4-114cd45a94ba\" class=\"plotly-graph-div\" style=\"height:525px; width:100%;\"></div>            <script type=\"text/javascript\">                require([\"plotly\"], function(Plotly) {                    window.PLOTLYENV=window.PLOTLYENV || {};                                    if (document.getElementById(\"9ad5eaa9-f4af-4f2f-88b4-114cd45a94ba\")) {                    Plotly.newPlot(                        \"9ad5eaa9-f4af-4f2f-88b4-114cd45a94ba\",                        [{\"hovertemplate\":\"Elevation: %{y:.2f} ft <extra></extra>\",\"line\":{\"color\":\"#636EFA\",\"width\":1.2},\"name\":\"Elevation\",\"showlegend\":false,\"x\":[-23.880825,-20.05813,-16.537518,-13.299837,-10.314415,-7.547604,-4.932584,-2.428527,0.0,2.439631,4.935184,7.423338,9.829233,12.267866,14.651194,17.029022,19.345378,21.707446,24.137632,26.635951,29.216876,31.913792,34.698363,37.573994,40.549601,43.665028,46.876304,50.217522,53.713112,57.359654,61.179123,65.121466,69.214862,73.448926,77.750328,82.101547,86.473014,90.866769,95.241829,99.551612,103.770795,107.926125,111.859664,115.408236,118.751857,121.999641,124.981757,127.576602,129.768189,131.580861,133.024302,134.156423,135.228593,136.469396,137.989973,139.897002,142.200857,144.886521,147.952572,151.34617,155.018609,158.966624,163.161458,167.589574,172.20427,176.8945,181.6046,186.331447,191.021714,195.666761,200.1507,204.509275,208.717972,212.792053,216.707485,220.431418,223.980996,227.33749,230.496397,233.462627,236.346355,239.158902,241.837878,244.354951,246.653671,248.729809,250.688835,252.472534,254.086417,255.572566,256.91814,258.067394,259.016669,259.801068,260.435289,260.962698,261.298763,261.549388,261.663279,261.864085,262.251169,262.558919,262.678988,262.755025,262.852706,263.023829,263.120383,263.143502,263.172536,263.255789,263.400538,263.523175,263.585409,263.651379,263.707266,263.740251,263.773611,263.806596,263.839956,263.86899,263.893829,263.944739,263.975788,264.047633,264.074854,264.105903,264.112112,264.137611,264.15036,264.16704,264.179789,264.202058,264.259044,264.29793,264.357794,264.418757,264.469753,264.536743,264.578369,264.611729,264.66877,264.681519,264.717157,264.773175,264.811422,264.84706,264.872558,264.885307,264.91434,264.972408,265.005393,265.005393,265.028511,265.045191,265.108279,265.201412,265.297966,265.358929,265.400555,265.423674,265.440354,265.440354,265.451489,265.464238,265.498213,265.527247,265.64014,265.768161,265.830396,265.863756,265.899393,265.9428,265.981009,265.999638,266.055656,266.113723,266.176811,266.274873,266.391533,266.517709,266.586918,266.645625,266.757143,266.904007,267.030361,267.106855,267.173845,267.192474,267.209154,267.215364,267.263641,267.307048,267.378893,267.474664,267.536899,267.559168,267.593144,267.638113,267.716054,267.774761,267.81297,267.851857,267.887494,267.916528,267.938231,267.963729,267.985432,268.060777,268.115597,268.17127,268.204673,268.238033,268.27692,268.2936,268.330858,268.393946,268.438818,268.471803,268.471803,268.504788,268.580825,268.618083,268.639787,268.650921,268.672624,268.685373,268.710871,268.73399,268.797078,268.834336,268.873223,268.928043,269.054219,269.146417,269.216929,269.2618,269.289021,269.332427,269.374054,269.407414,269.440398,269.473758,269.507118,269.534339,269.547088,269.569357,269.661555,269.732066,269.776604,269.81058,269.84394,269.865643,269.888762,269.91426,269.92668,269.94336,269.956109,269.972789,269.978998,269.990133,270.014972,270.096633,270.147544,270.158678,270.169813,270.182562,270.204265,270.237625,270.281031,270.407143,270.499341,270.532701,270.583697,270.628666,270.641415,270.670448,270.692152,270.708832,270.721581,270.748801,270.803622,270.882507,270.957121,271.024111,271.051332,271.068012,271.086641,271.10527,271.148738,271.224083,271.273761,271.27997,271.291105,271.404995,271.47961,271.556104,271.716161,271.833574,271.889247,271.935484,271.952164,272.000441,272.075056,272.142046,272.193042,272.21616,272.340049,272.440259,272.469293,272.504931,272.528049,272.557083,272.568218,272.580967,272.592101,272.604521,272.631741,272.653444,272.676563,272.750232,272.800272,272.816952,272.838655,272.880282,272.896962,272.909711,272.915921,272.915921,272.927055,272.933265,272.933265,272.960486,272.979115,272.985325,272.985325,273.054533,273.14147,273.166309,273.182989,273.210209,273.228838,273.247468,273.264148,273.340566,273.408873,273.519598,273.645773,273.695813,273.724847,273.763056,273.808661,273.875381,273.88813,273.922106,273.945224,273.957644,273.963854,273.976273,274.057764,274.117628,274.143126,274.174175,274.237263,274.307775,274.351181,274.372884,274.384018,274.407137,274.430256,274.455095,274.512081,274.556952,274.573632,274.654359,274.774428,274.829248,274.862652,274.898289,274.997944,275.081343,275.131383,275.176988,275.225829,275.264716,275.277465,275.294145,275.306894,275.332392,275.338602,275.351021,275.37586,275.406909,275.425538,275.492528,275.572231,275.593935,275.606684,275.706763,275.785649,275.798068,275.829117,275.85082,275.875659,275.909019,275.925699,275.938448,275.998312,276.069776,276.107985,276.129688,276.142108,276.213953,276.300766,276.345637,276.372858,276.385607,276.398356,276.404566,276.410775,276.423524,276.423524,276.435944,276.452624,276.469304,276.485984,276.485984,276.563757,276.647499,276.690967,276.734436,276.753065,276.771694,276.777904,276.789038,276.801458,276.818138,276.842977,276.855726,276.855726,276.861936,276.868145,276.880565,276.891699,276.94054,277.065233,277.121121,277.121121,277.127331,277.13975,277.15217,277.164919,277.181599,277.206438,277.245324,277.299765,277.397828,277.490025,277.506705,277.532203,277.57383,277.630816,277.680494,277.707715,277.762007,277.806976,277.864017,277.918309,277.972602,277.994305,278.006724,278.028427,278.040847],\"y\":[741.2073490784,741.7486876610751,743.218503934035,745.3904199445251,747.608267713545,749.9967191571051,751.95538057442,753.2053805744151,753.526902884125,752.568897634785,750.20997375028,746.7454068211599,742.457349078395,738.0216535403549,731.67322834353,726.22703411783,719.4881889735,711.8569553777301,703.500656165165,694.3503936980101,684.54724409175,674.2585301810301,663.47112860627,652.2933070840049,640.8070866116101,629.1305774253051,617.38188976131,605.57086613931,593.7171915986751,582.0078740134201,570.64960629693,559.478346454455,548.139763777335,536.7946194204251,525.593832018895,514.0419947486,502.1095800504851,489.438976375995,475.5347769009851,461.1417322816201,445.889107609765,429.25853018201,411.52230970964,393.093832019425,374.110892386955,353.41535432929504,332.162073489485,310.367454067,287.71653543192,265.055774277155,242.903543306115,221.77165354242,200.62992125904,179.76377952683998,159.320866141095,139.20603674485,119.80314960582,101.22703412033,83.56299212565,67.03740157453501,51.614173228139975,37.40157480300002,24.688320209875,13.382545931704982,3.4481627296449915,-5.2427821522099975,-12.736220472390016,-18.92388451436001,-23.94685039360502,-27.59842519674001,-29.603018372585,-30.87270341195,-31.07611548544,-31.25328083977,-30.97769028859001,-30.344488188855,-29.917979002505007,-29.412729658675005,-28.832020997260003,-28.284120734795,-28.17585301826001,-28.113517060254992,-28.01509186340499,-27.719816272855013,-27.358923884405016,-26.729002624565013,-26.466535432965017,-26.253280839789998,-26.20078740147001,-26.59776902876501,-27.473753280729994,-27.949475065505013,-27.77887139096501,-27.913385826660004,-27.67060367443001,-27.89370078729,-27.562335957895,-27.24081364818501,-27.10629921249001,-27.221128608815008,-27.93635170592502,-28.513779527445,-27.61154855632,-26.98818897627001,-26.788057742675008,-26.4435695537,-26.36482939621999,-26.230314960525007,-25.951443569450007,-25.823490813544996,-26.06299212588,-25.958005249240017,-25.83333333323,-25.498687663940004,-25.08858267706501,-24.721128608825,-24.340551181005,-23.99606299203002,-23.60564304452501,-23.123359579959995,-22.73950131224501,-22.62139107602501,-22.286745406735008,-21.91272965870499,-21.630577427735005,-21.499343831935008,-21.397637795190008,-21.148293963170005,-20.964566929050008,-20.93832020989001,-20.59711286081001,-20.416666666585016,-20.17388451435501,-20.22637795267501,-19.750656167900004,-19.45866141724501,-19.143700787325017,-18.802493438244998,-18.49737532801001,-18.20538057735501,-17.929790026175,-17.647637795205,-17.349081364759996,-17.152230971059993,-16.837270341140012,-16.532152230904998,-16.276246719095013,-15.980971128544994,-15.62992125977999,-15.456036745345015,-15.114829396265009,-14.924540682355,-14.642388451385017,-14.379921259784991,-14.143700787345011,-14.15354330703002,-14.314304461885,-14.366797900205,-14.396325459259998,-14.330708661360006,-14.222440944825024,-14.071522309654997,-13.99278215217501,-13.914041994694998,-13.795931758475009,-13.92716535427499,-14.055118110180018,-14.219160104930012,-14.189632545874986,-14.005905511755005,-13.83202099732,-13.736876640365011,-13.671259842464991,-13.727034120680004,-13.776246719105018,-13.602362204670015,-13.441601049815006,-13.238188976325006,-12.84776902882001,-12.75262467186502,-12.62139107606498,-12.385170603625,-12.267060367405008,-12.089895013074994,-11.847112860845016,-11.80774278210501,-11.804461942209995,-11.709317585255008,-11.59448818893,-11.610892388405006,-11.473097112815026,-11.35826771648999,-11.0892388451,-10.81364829392001,-10.390419947465006,-10.049212598384996,-9.648950131194994,-9.471784776865007,-9.616141732245012,-9.557086614134988,-9.445538057704994,-9.383202099700014,-9.498031496024993,-9.448818897600006,-9.47506561676002,-9.47506561676002,-9.353674540645017,-9.14370078736502,-9.235564304424996,-9.274934383165004,-9.330708661379989,-9.383202099700014,-9.40944881886,-9.402887139070003,-9.29461942253502,-9.222440944845005,-9.11089238841501,-8.96981627292999,-8.809055118075008,-8.530183727000008,-8.129921259810004,-8.067585301804996,-8.021653543275022,-7.8937007873700225,-7.828083989470002,-7.778871391044987,-7.683727034089998,-7.624671915980002,-7.536089238815009,-7.424540682385015,-7.293307086585003,-7.116141732255016,-7.066929133830001,-6.925853018345009,-6.886482939605003,-6.948818897609982,-6.925853018345009,-6.768372703384983,-6.617454068215011,-6.512467191575013,-6.450131233570005,-6.364829396299996,-6.272965879240019,-6.177821522285001,-6.079396325434999,-5.958005249319996,-5.803805774255011,-5.833333333310009,-5.859580052469994,-5.862860892365006,-5.833333333310009,-5.849737532784985,-5.816929133835004,-5.807086614149995,-5.734908136460007,-5.7841207348849935,-5.7611548556200205,-5.774278215200013,-5.734908136460007,-5.65288713908501,-5.662729658770019,-5.731627296565023,-5.738188976354991,-5.656167978979994,-5.623359580030012,-5.528215223074994,-5.410104986855004,-5.318241469794998,-5.219816272944996,-5.193569553785011,-5.154199475045004,-5.28871391074,-5.318241469794998,-5.337926509164987,-5.3707349081150255,-5.501968503915009,-5.554461942235008,-5.538057742760003,-5.633202099715021,-5.803805774255011,-5.944881889740003,-5.9809711285850256,-6.0597112860649816,-6.1876640419700095,-6.30577427819,-6.361548556405012,-6.3779527558799884,-6.469816272939994,-6.5780839894750045,-6.617454068215011,-6.548556430420007,-6.35826771651,-6.266404199449994,-6.082677165330011,-6.1876640419700095,-6.1876640419700095,-6.266404199449994,-6.384514435670013,-6.437007873990012,-6.450131233570005,-6.446850393674993,-6.496062992100008,-6.535433070840014,-6.610892388425015,-6.722440944855009,-6.5780839894750045,-6.519028871365009,-6.335301837244998,-6.414041994725011,-6.473097112835006,-6.564960629895012,-6.656824146954989,-6.768372703384983,-6.804461942230006,-6.9881889763499885,-7.11942257215,-7.227690288685011,-7.349081364799986,-7.460629921230009,-7.680446194194985,-7.601706036715001,-7.598425196819988,-7.64435695535002,-7.677165354300001,-7.713254593144995,-7.716535433040008,-7.769028871360007,-7.801837270310017,-7.847769028839991,-7.8937007873700225,-7.844488188945007,-7.81496062989001,-7.903543307055003,-7.88057742779003,-7.90026246715999,-7.982283464535016,-8.005249343800017,-7.972440944850007,-7.81496062989001,-7.680446194194985,-7.555774278184998,-7.378608923854983,-7.234251968475007,-6.912729658765016,-6.912729658765016,-7.017716535404986,-7.112860892360004,-7.155511810994994,-7.280183727004982,-7.286745406795006,-7.1522309711000105,-6.748687664014994,-6.755249343804991,-6.7454068241200105,-6.70275590548502,-6.683070866115003,-6.643700787374996,-6.525590551155005,-6.650262467165021,-6.604330708635018,-6.624015748005007,-6.558398950104987,-6.512467191575013,-6.433727034095,-6.397637795250006,-6.328740157455002,-6.361548556405012,-6.3713910760900205,-6.440288713885025,-6.535433070840014,-6.532152230945002,-6.5223097112600215,-6.459973753254985,-6.768372703384983,-6.945538057714998,-6.912729658765016,-6.87335958002501,-6.650262467165021,-5.994094488165018,-5.826771653520012,-5.790682414675018,-5.711942257195005,-5.643044619400001,-5.547900262444983,-5.472440944860011,-5.387139107590002,-5.24606299210501,-5.167322834624997,-5.0393700787199975,-4.9671916010300095,-4.865485564284995,-4.806430446175,-4.753937007855001,-4.822834645650005,-4.990157480295011,-4.996719160085007,-4.799868766385004,-4.229002624654981,-3.963254593160002,-3.946850393684997,-3.963254593160002,-3.8385826771499865,-3.77952755904002,-3.858267716520004,-3.789370078725,-3.717191601035012,-3.7532808398800057,-3.805774278200005,-3.841863517044999,-3.65157480313502,-3.4973753280700066,-2.9954068241349887,-3.047900262454988,-3.113517060355008,-3.047900262454988,-3.0905511810900066,-3.011811023610022,-3.011811023610022,-3.028215223084999,-2.946194225710002,-2.9363517060249933,-2.982283464554996,-2.9265091863399846,-2.7591863516949786,-2.7132545931650043,-2.64435695537,-2.572178477680012,-2.654199475055009,-2.716535433059988,-2.6804461942150226,-2.6968503936899992,-2.6049868766299937,-2.5426509186250144,-2.4737532808300102,-2.3129921259750006,-2.20472440943999,-2.1784776902800047,-2.1981627296499937,-2.047244094479993,-1.9389763779449825,-1.8700787401500063,-1.83070866141,-1.7290026246650143,-1.3320209973699946,-1.486220472435008,-1.3845144356899937,-1.2893700787350042,-1.2532808398900102,-1.1942257217800147,-1.184383202095006,-1.1450131233549996,-1.1286089238799946,-1.0203412073450124,-0.9383202099699872,-0.8825459317550042,-0.948162729654996,-0.9153543307050144,-0.8792650918600202,-0.7808398950100184,-0.7677165354299973,-0.6299212598400175,-0.5479002624649922,-0.4593175853000275,-0.5610236220450133,-0.4330708661400138,-0.2854330708649968,-0.2165354330699926,-0.2230971128600174,-0.0918635170600055,-0.0656167978999917,-0.1017060367450142,0.0],\"type\":\"scatter\"},{\"marker\":{\"color\":\"Green\",\"size\":8},\"mode\":\"markers\",\"showlegend\":false,\"x\":[0.0],\"y\":[753.526902884125],\"type\":\"scatter\"},{\"marker\":{\"color\":\"Red\",\"size\":8},\"mode\":\"markers\",\"showlegend\":false,\"x\":[212.792053,258.067394,259.801068,260.962698,262.558919,263.400538,264.29793,265.400555,265.768161,266.055656,267.215364,267.716054,267.887494,267.938231,268.27692,269.2618,269.81058,269.865643,269.94336,269.972789,270.147544,270.692152,271.224083,271.935484,272.193042,272.750232,272.933265,272.979115,273.14147,273.763056,273.88813,274.057764,274.143126,274.455095,274.774428,275.593935,275.829117,275.909019,276.107985,276.345637,276.385607,276.410775,276.435944,276.690967,276.753065,276.855726,277.065233,277.397828,277.762007,277.972602,278.028427],\"y\":[-31.25328083977,-27.949475065505013,-27.913385826660004,-27.89370078729,-28.513779527445,-26.06299212588,-20.22637795267501,-14.396325459259998,-14.219160104930012,-13.776246719105018,-11.610892388405006,-9.616141732245012,-9.498031496024993,-9.47506561676002,-9.40944881886,-6.948818897609982,-5.862860892365006,-5.849737532784985,-5.7841207348849935,-5.774278215200013,-5.738188976354991,-5.554461942235008,-6.617454068215011,-6.450131233570005,-6.722440944855009,-7.680446194194985,-7.8937007873700225,-7.903543307055003,-8.005249343800017,-7.286745406795006,-6.755249343804991,-6.650262467165021,-6.624015748005007,-6.535433070840014,-6.945538057714998,-4.996719160085007,-3.963254593160002,-3.858267716520004,-3.841863517044999,-3.113517060355008,-3.0905511810900066,-3.028215223084999,-2.982283464554996,-2.716535433059988,-2.6968503936899992,-2.1981627296499937,-1.486220472435008,-0.948162729654996,-0.5610236220450133,-0.2230971128600174,-0.1017060367450142],\"type\":\"scatter\"}],                        {\"template\":{\"data\":{\"histogram2dcontour\":[{\"type\":\"histogram2dcontour\",\"colorbar\":{\"outlinewidth\":0,\"ticks\":\"\"},\"colorscale\":[[0.0,\"#0d0887\"],[0.1111111111111111,\"#46039f\"],[0.2222222222222222,\"#7201a8\"],[0.3333333333333333,\"#9c179e\"],[0.4444444444444444,\"#bd3786\"],[0.5555555555555556,\"#d8576b\"],[0.6666666666666666,\"#ed7953\"],[0.7777777777777778,\"#fb9f3a\"],[0.8888888888888888,\"#fdca26\"],[1.0,\"#f0f921\"]]}],\"choropleth\":[{\"type\":\"choropleth\",\"colorbar\":{\"outlinewidth\":0,\"ticks\":\"\"}}],\"histogram2d\":[{\"type\":\"histogram2d\",\"colorbar\":{\"outlinewidth\":0,\"ticks\":\"\"},\"colorscale\":[[0.0,\"#0d0887\"],[0.1111111111111111,\"#46039f\"],[0.2222222222222222,\"#7201a8\"],[0.3333333333333333,\"#9c179e\"],[0.4444444444444444,\"#bd3786\"],[0.5555555555555556,\"#d8576b\"],[0.6666666666666666,\"#ed7953\"],[0.7777777777777778,\"#fb9f3a\"],[0.8888888888888888,\"#fdca26\"],[1.0,\"#f0f921\"]]}],\"heatmap\":[{\"type\":\"heatmap\",\"colorbar\":{\"outlinewidth\":0,\"ticks\":\"\"},\"colorscale\":[[0.0,\"#0d0887\"],[0.1111111111111111,\"#46039f\"],[0.2222222222222222,\"#7201a8\"],[0.3333333333333333,\"#9c179e\"],[0.4444444444444444,\"#bd3786\"],[0.5555555555555556,\"#d8576b\"],[0.6666666666666666,\"#ed7953\"],[0.7777777777777778,\"#fb9f3a\"],[0.8888888888888888,\"#fdca26\"],[1.0,\"#f0f921\"]]}],\"heatmapgl\":[{\"type\":\"heatmapgl\",\"colorbar\":{\"outlinewidth\":0,\"ticks\":\"\"},\"colorscale\":[[0.0,\"#0d0887\"],[0.1111111111111111,\"#46039f\"],[0.2222222222222222,\"#7201a8\"],[0.3333333333333333,\"#9c179e\"],[0.4444444444444444,\"#bd3786\"],[0.5555555555555556,\"#d8576b\"],[0.6666666666666666,\"#ed7953\"],[0.7777777777777778,\"#fb9f3a\"],[0.8888888888888888,\"#fdca26\"],[1.0,\"#f0f921\"]]}],\"contourcarpet\":[{\"type\":\"contourcarpet\",\"colorbar\":{\"outlinewidth\":0,\"ticks\":\"\"}}],\"contour\":[{\"type\":\"contour\",\"colorbar\":{\"outlinewidth\":0,\"ticks\":\"\"},\"colorscale\":[[0.0,\"#0d0887\"],[0.1111111111111111,\"#46039f\"],[0.2222222222222222,\"#7201a8\"],[0.3333333333333333,\"#9c179e\"],[0.4444444444444444,\"#bd3786\"],[0.5555555555555556,\"#d8576b\"],[0.6666666666666666,\"#ed7953\"],[0.7777777777777778,\"#fb9f3a\"],[0.8888888888888888,\"#fdca26\"],[1.0,\"#f0f921\"]]}],\"surface\":[{\"type\":\"surface\",\"colorbar\":{\"outlinewidth\":0,\"ticks\":\"\"},\"colorscale\":[[0.0,\"#0d0887\"],[0.1111111111111111,\"#46039f\"],[0.2222222222222222,\"#7201a8\"],[0.3333333333333333,\"#9c179e\"],[0.4444444444444444,\"#bd3786\"],[0.5555555555555556,\"#d8576b\"],[0.6666666666666666,\"#ed7953\"],[0.7777777777777778,\"#fb9f3a\"],[0.8888888888888888,\"#fdca26\"],[1.0,\"#f0f921\"]]}],\"mesh3d\":[{\"type\":\"mesh3d\",\"colorbar\":{\"outlinewidth\":0,\"ticks\":\"\"}}],\"scatter\":[{\"fillpattern\":{\"fillmode\":\"overlay\",\"size\":10,\"solidity\":0.2},\"type\":\"scatter\"}],\"parcoords\":[{\"type\":\"parcoords\",\"line\":{\"colorbar\":{\"outlinewidth\":0,\"ticks\":\"\"}}}],\"scatterpolargl\":[{\"type\":\"scatterpolargl\",\"marker\":{\"colorbar\":{\"outlinewidth\":0,\"ticks\":\"\"}}}],\"bar\":[{\"error_x\":{\"color\":\"#2a3f5f\"},\"error_y\":{\"color\":\"#2a3f5f\"},\"marker\":{\"line\":{\"color\":\"white\",\"width\":0.5},\"pattern\":{\"fillmode\":\"overlay\",\"size\":10,\"solidity\":0.2}},\"type\":\"bar\"}],\"scattergeo\":[{\"type\":\"scattergeo\",\"marker\":{\"colorbar\":{\"outlinewidth\":0,\"ticks\":\"\"}}}],\"scatterpolar\":[{\"type\":\"scatterpolar\",\"marker\":{\"colorbar\":{\"outlinewidth\":0,\"ticks\":\"\"}}}],\"histogram\":[{\"marker\":{\"pattern\":{\"fillmode\":\"overlay\",\"size\":10,\"solidity\":0.2}},\"type\":\"histogram\"}],\"scattergl\":[{\"type\":\"scattergl\",\"marker\":{\"colorbar\":{\"outlinewidth\":0,\"ticks\":\"\"}}}],\"scatter3d\":[{\"type\":\"scatter3d\",\"line\":{\"colorbar\":{\"outlinewidth\":0,\"ticks\":\"\"}},\"marker\":{\"colorbar\":{\"outlinewidth\":0,\"ticks\":\"\"}}}],\"scattermapbox\":[{\"type\":\"scattermapbox\",\"marker\":{\"colorbar\":{\"outlinewidth\":0,\"ticks\":\"\"}}}],\"scatterternary\":[{\"type\":\"scatterternary\",\"marker\":{\"colorbar\":{\"outlinewidth\":0,\"ticks\":\"\"}}}],\"scattercarpet\":[{\"type\":\"scattercarpet\",\"marker\":{\"colorbar\":{\"outlinewidth\":0,\"ticks\":\"\"}}}],\"carpet\":[{\"aaxis\":{\"endlinecolor\":\"#2a3f5f\",\"gridcolor\":\"#C8D4E3\",\"linecolor\":\"#C8D4E3\",\"minorgridcolor\":\"#C8D4E3\",\"startlinecolor\":\"#2a3f5f\"},\"baxis\":{\"endlinecolor\":\"#2a3f5f\",\"gridcolor\":\"#C8D4E3\",\"linecolor\":\"#C8D4E3\",\"minorgridcolor\":\"#C8D4E3\",\"startlinecolor\":\"#2a3f5f\"},\"type\":\"carpet\"}],\"table\":[{\"cells\":{\"fill\":{\"color\":\"#EBF0F8\"},\"line\":{\"color\":\"white\"}},\"header\":{\"fill\":{\"color\":\"#C8D4E3\"},\"line\":{\"color\":\"white\"}},\"type\":\"table\"}],\"barpolar\":[{\"marker\":{\"line\":{\"color\":\"white\",\"width\":0.5},\"pattern\":{\"fillmode\":\"overlay\",\"size\":10,\"solidity\":0.2}},\"type\":\"barpolar\"}],\"pie\":[{\"automargin\":true,\"type\":\"pie\"}]},\"layout\":{\"autotypenumbers\":\"strict\",\"colorway\":[\"#636efa\",\"#EF553B\",\"#00cc96\",\"#ab63fa\",\"#FFA15A\",\"#19d3f3\",\"#FF6692\",\"#B6E880\",\"#FF97FF\",\"#FECB52\"],\"font\":{\"color\":\"#2a3f5f\"},\"hovermode\":\"closest\",\"hoverlabel\":{\"align\":\"left\"},\"paper_bgcolor\":\"white\",\"plot_bgcolor\":\"white\",\"polar\":{\"bgcolor\":\"white\",\"angularaxis\":{\"gridcolor\":\"#EBF0F8\",\"linecolor\":\"#EBF0F8\",\"ticks\":\"\"},\"radialaxis\":{\"gridcolor\":\"#EBF0F8\",\"linecolor\":\"#EBF0F8\",\"ticks\":\"\"}},\"ternary\":{\"bgcolor\":\"white\",\"aaxis\":{\"gridcolor\":\"#DFE8F3\",\"linecolor\":\"#A2B1C6\",\"ticks\":\"\"},\"baxis\":{\"gridcolor\":\"#DFE8F3\",\"linecolor\":\"#A2B1C6\",\"ticks\":\"\"},\"caxis\":{\"gridcolor\":\"#DFE8F3\",\"linecolor\":\"#A2B1C6\",\"ticks\":\"\"}},\"coloraxis\":{\"colorbar\":{\"outlinewidth\":0,\"ticks\":\"\"}},\"colorscale\":{\"sequential\":[[0.0,\"#0d0887\"],[0.1111111111111111,\"#46039f\"],[0.2222222222222222,\"#7201a8\"],[0.3333333333333333,\"#9c179e\"],[0.4444444444444444,\"#bd3786\"],[0.5555555555555556,\"#d8576b\"],[0.6666666666666666,\"#ed7953\"],[0.7777777777777778,\"#fb9f3a\"],[0.8888888888888888,\"#fdca26\"],[1.0,\"#f0f921\"]],\"sequentialminus\":[[0.0,\"#0d0887\"],[0.1111111111111111,\"#46039f\"],[0.2222222222222222,\"#7201a8\"],[0.3333333333333333,\"#9c179e\"],[0.4444444444444444,\"#bd3786\"],[0.5555555555555556,\"#d8576b\"],[0.6666666666666666,\"#ed7953\"],[0.7777777777777778,\"#fb9f3a\"],[0.8888888888888888,\"#fdca26\"],[1.0,\"#f0f921\"]],\"diverging\":[[0,\"#8e0152\"],[0.1,\"#c51b7d\"],[0.2,\"#de77ae\"],[0.3,\"#f1b6da\"],[0.4,\"#fde0ef\"],[0.5,\"#f7f7f7\"],[0.6,\"#e6f5d0\"],[0.7,\"#b8e186\"],[0.8,\"#7fbc41\"],[0.9,\"#4d9221\"],[1,\"#276419\"]]},\"xaxis\":{\"gridcolor\":\"#EBF0F8\",\"linecolor\":\"#EBF0F8\",\"ticks\":\"\",\"title\":{\"standoff\":15},\"zerolinecolor\":\"#EBF0F8\",\"automargin\":true,\"zerolinewidth\":2},\"yaxis\":{\"gridcolor\":\"#EBF0F8\",\"linecolor\":\"#EBF0F8\",\"ticks\":\"\",\"title\":{\"standoff\":15},\"zerolinecolor\":\"#EBF0F8\",\"automargin\":true,\"zerolinewidth\":2},\"scene\":{\"xaxis\":{\"backgroundcolor\":\"white\",\"gridcolor\":\"#DFE8F3\",\"linecolor\":\"#EBF0F8\",\"showbackground\":true,\"ticks\":\"\",\"zerolinecolor\":\"#EBF0F8\",\"gridwidth\":2},\"yaxis\":{\"backgroundcolor\":\"white\",\"gridcolor\":\"#DFE8F3\",\"linecolor\":\"#EBF0F8\",\"showbackground\":true,\"ticks\":\"\",\"zerolinecolor\":\"#EBF0F8\",\"gridwidth\":2},\"zaxis\":{\"backgroundcolor\":\"white\",\"gridcolor\":\"#DFE8F3\",\"linecolor\":\"#EBF0F8\",\"showbackground\":true,\"ticks\":\"\",\"zerolinecolor\":\"#EBF0F8\",\"gridwidth\":2}},\"shapedefaults\":{\"line\":{\"color\":\"#2a3f5f\"}},\"annotationdefaults\":{\"arrowcolor\":\"#2a3f5f\",\"arrowhead\":0,\"arrowwidth\":1},\"geo\":{\"bgcolor\":\"white\",\"landcolor\":\"white\",\"subunitcolor\":\"#C8D4E3\",\"showland\":true,\"showlakes\":true,\"lakecolor\":\"white\"},\"title\":{\"x\":0.05},\"mapbox\":{\"style\":\"light\"}}},\"legend\":{\"yanchor\":\"top\",\"y\":1,\"xanchor\":\"right\",\"x\":1},\"hovermode\":\"x unified\",\"xaxis\":{\"title\":{\"text\":\"Horizontal distance (m)\"}},\"yaxis\":{\"title\":{\"text\":\"Elevation (ft)\"}}},                        {\"responsive\": true}                    ).then(function(){\n",
       "                            \n",
       "var gd = document.getElementById('9ad5eaa9-f4af-4f2f-88b4-114cd45a94ba');\n",
       "var x = new MutationObserver(function (mutations, observer) {{\n",
       "        var display = window.getComputedStyle(gd).display;\n",
       "        if (!display || display === 'none') {{\n",
       "            console.log([gd, 'removed!']);\n",
       "            Plotly.purge(gd);\n",
       "            observer.disconnect();\n",
       "        }}\n",
       "}});\n",
       "\n",
       "// Listen for the removal of the full notebook cells\n",
       "var notebookContainer = gd.closest('#notebook-container');\n",
       "if (notebookContainer) {{\n",
       "    x.observe(notebookContainer, {childList: true});\n",
       "}}\n",
       "\n",
       "// Listen for the clearing of the current output cell\n",
       "var outputEl = gd.closest('.output');\n",
       "if (outputEl) {{\n",
       "    x.observe(outputEl, {childList: true});\n",
       "}}\n",
       "\n",
       "                        })                };                });            </script>        </div>"
      ]
     },
     "metadata": {},
     "output_type": "display_data"
    }
   ],
   "source": [
    "def debug(df, yaxis, speed_metric='km/u', distance_metric='m'):\n",
    "    x_axis = get_xaxis_settings(df, distance_metric=distance_metric)\n",
    "    y_axis = get_yaxis_settings(df, speed_metric=speed_metric)\n",
    "    \n",
    "    vert_speed_peaks = pu.indexes(y_axis[yaxis]['col'], thres=0.5, min_dist=1)\n",
    "    vert_speed_lows = pu.indexes(-y_axis[yaxis]['col'], thres=0.5, min_dist=1)\n",
    "    \n",
    "    fig = go.Figure()\n",
    "    fig.add_trace(go.Scatter(\n",
    "        x=x_axis['Horizontal Distance']['col'], \n",
    "        y=y_axis[yaxis]['col'], \n",
    "        name=yaxis,\n",
    "        line=dict(color=y_axis[yaxis]['color'], width=1.2),\n",
    "        hovertemplate=y_axis[yaxis]['hovertemplate'],\n",
    "        showlegend=False\n",
    "    ))\n",
    "    fig.add_trace(go.Scatter(\n",
    "        x=x_axis['Horizontal Distance']['col'][vert_speed_peaks], \n",
    "        y=y_axis[yaxis]['col'][vert_speed_peaks],\n",
    "        mode='markers', \n",
    "        marker=dict(color='Green', size=8), \n",
    "        showlegend=False\n",
    "    ))\n",
    "    fig.add_trace(go.Scatter( \n",
    "        x=x_axis['Horizontal Distance']['col'][vert_speed_lows], \n",
    "        y=y_axis[yaxis]['col'][vert_speed_lows],\n",
    "        mode='markers', \n",
    "        marker=dict(color='Red', size=8),\n",
    "        showlegend=False\n",
    "    ))\n",
    "    fig.update_layout(hovermode=\"x unified\", legend=dict(yanchor=\"top\", y=1, xanchor=\"right\", x=1))\n",
    "    fig.update_xaxes(title=f\"Horizontal distance ({ x_axis['Horizontal Distance']['metric'] })\")\n",
    "    fig.update_yaxes(title=f\"{ yaxis } ({ y_axis[yaxis]['metric'] })\")\n",
    "    return fig\n",
    "    \n",
    "debug(test_df, 'Elevation', 'km/u', 'm')"
   ]
  },
  {
   "cell_type": "code",
   "execution_count": null,
   "id": "da88a421",
   "metadata": {},
   "outputs": [],
   "source": [
    "# Impossible!!!\n",
    "\n",
    "def plt_touch_down():\n",
    "    horz_speed_peaks = pu.indexes(landing_df.horz_speed_mph, thres=0.6, min_dist=1)\n",
    "    horz_speed_lows = pu.indexes(-landing_df.horz_speed_mph, thres=0.5, min_dist=1)\n",
    "    \n",
    "    new_df = landing_df.iloc[horz_speed_peaks[-1]:get_stop()+1].reset_index(drop=True)\n",
    "    s_speed_peaks = pu.indexes(np.diff(new_df.horz_speed_mph, 2), thres=0.1, min_dist=1)\n",
    "    s_speed_lows = pu.indexes(-np.diff(new_df.horz_speed_mph, 2), thres=0.1, min_dist=1)\n",
    "    \n",
    "    speed = [new_df['horz_speed_mph'][s_speed_peaks[i+1]] - new_df['horz_speed_mph'][s_speed_peaks[i]] for i in range(0, len(s_speed_peaks)-1)]\n",
    "    \n",
    "    sorted_speed = sorted(range(len(speed)), key=lambda k: speed[k])\n",
    "    print(sorted_speed)\n",
    "    l = []\n",
    "    for i in sorted_speed:\n",
    "        if new_df['vert_speed_mph'][s_speed_peaks[i]] <= -1:\n",
    "            l.append(i)\n",
    "    print(l)\n",
    "    \n",
    "    fig = go.Figure()\n",
    "    fig.add_trace(go.Scatter(x=new_df['horz_distance_m'], y=new_df['horz_speed_mph'], showlegend=False))\n",
    "    fig.add_trace(go.Scatter(x=new_df['horz_distance_m'], y=new_df['vert_speed_mph'], showlegend=False))\n",
    "    fig.add_trace(go.Scatter(mode='markers', x=new_df['horz_distance_m'][s_speed_peaks], y=new_df['horz_speed_mph'][s_speed_peaks],\n",
    "        marker=dict(color='Green', size=6),showlegend=False\n",
    "    ))\n",
    "    fig.add_trace(go.Scatter(mode='markers', x=new_df['horz_distance_m'][s_speed_peaks], y=new_df['vert_speed_mph'][s_speed_peaks],\n",
    "        marker=dict(color='Green', size=6),showlegend=False\n",
    "    ))\n",
    "    fig.add_trace(go.Scatter(mode='markers', x=[new_df['horz_distance_m'][s_speed_peaks[l[0]]]], y=[new_df['horz_speed_mph'][s_speed_peaks[l[0]]]],\n",
    "        marker=dict(color='Blue', size=6),showlegend=False\n",
    "    ))\n",
    "    fig.show()\n",
    "    \n",
    "plt_touch_down()"
   ]
  },
  {
   "cell_type": "code",
   "execution_count": null,
   "id": "d0c583dd",
   "metadata": {},
   "outputs": [],
   "source": []
  }
 ],
 "metadata": {
  "kernelspec": {
   "display_name": "Python 3 (ipykernel)",
   "language": "python",
   "name": "python3"
  },
  "language_info": {
   "codemirror_mode": {
    "name": "ipython",
    "version": 3
   },
   "file_extension": ".py",
   "mimetype": "text/x-python",
   "name": "python",
   "nbconvert_exporter": "python",
   "pygments_lexer": "ipython3",
   "version": "3.10.9"
  },
  "vscode": {
   "interpreter": {
    "hash": "54475913ceedc2ed8e3fa627f259efe0f9ecd0309282493369d913b54a513e00"
   }
  }
 },
 "nbformat": 4,
 "nbformat_minor": 5
}
