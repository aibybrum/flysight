{
 "cells": [
  {
   "cell_type": "markdown",
   "id": "2f354f5c",
   "metadata": {},
   "source": [
    "# Flysight GPS\n",
    "\n",
    "![Drag Racing](../img/product.jpg)\n",
    "\n",
    "**FlySight is not your mother's GPS.**\n",
    "\n",
    "FlySight was designed from the ground up for wingsuit pilots and does one truly revolutionary thing...\n",
    "\n",
    "**FlySight provides real-time audible indication of glide ratio, horizontal or vertical speed.**\n",
    "\n",
    "If you've used other GPS receivers, you know the drill. When you land, you review data from the jump. If you're lucky, or if you've planned a very simple jump, you might remember what you were doing when your glide ratio maxed out. On the next jump, you try to do it again.\n",
    "\n",
    "**FlySight speeds the learning process.**\n",
    "\n",
    "When you change your body position, you instantly hear a change in the tone. Your brain easily connects this feedback with your precise body position, making it astonishingly easy to remember what worked and what didn't.\n",
    "\n",
    "### Data produced\n",
    "\n",
    "https://www.monocilindro.com/wp-content/uploads/2016/03/u-blox6-Receiver-Description-Protocol-Specification.pdf\n",
    "https://www.monocilindro.com/2017/02/22/gps-data-logger-using-arduino-unonano-and-ublox-neo-6m/\n",
    "\n",
    "\n",
    "| Data   | Unity  | Meaning                                |\n",
    "| :----- | :----- | :------------------------------------- |\n",
    "| time   | object | time                                   |\n",
    "| lat    | deg    | latitude                               |\n",
    "| lon    | deg    | longitude                              |\n",
    "| hMSL   | m      | Height Above sea level                 |\n",
    "| velN   | m/s    | NED north velocity                     |\n",
    "| velE   | m/s    | NED east velocity                      |\n",
    "| velD   | m/s    | NED down velocity                      |\n",
    "| hAcc   | m      | Horizontal Accuracy Estimate           |\n",
    "| vAcc   | m      | Vertical Accuracy Estimate             |\n",
    "| sAcc   | m/s    | Speed Accuracy Estimate                |\n",
    "| gpsFix |        | Position Fix Flags in NMEA MODE        |\n",
    "| numSV  |        | Number of per-SV data blocks following |"
   ]
  },
  {
   "cell_type": "markdown",
   "id": "013d2a94",
   "metadata": {},
   "source": [
    "### Imports"
   ]
  },
  {
   "cell_type": "code",
   "execution_count": 20,
   "id": "e3e08494",
   "metadata": {
    "scrolled": true
   },
   "outputs": [],
   "source": [
    "%matplotlib inline\n",
    "import numpy as np\n",
    "import pandas as pd\n",
    "import matplotlib.pyplot as plt\n",
    "import seaborn as sns; sns.set(color_codes=True)\n",
    "import gmplot\n",
    "import plotly.express as px\n",
    "import datetime as dt\n",
    "import math\n",
    "from math import radians, cos, sin, asin, sqrt\n",
    "import requests\n",
    "import urllib\n",
    "import itertools"
   ]
  },
  {
   "cell_type": "code",
   "execution_count": 21,
   "id": "cfcfc2ec",
   "metadata": {
    "scrolled": true
   },
   "outputs": [
    {
     "data": {
      "text/html": [
       "<div>\n",
       "<style scoped>\n",
       "    .dataframe tbody tr th:only-of-type {\n",
       "        vertical-align: middle;\n",
       "    }\n",
       "\n",
       "    .dataframe tbody tr th {\n",
       "        vertical-align: top;\n",
       "    }\n",
       "\n",
       "    .dataframe thead th {\n",
       "        text-align: right;\n",
       "    }\n",
       "</style>\n",
       "<table border=\"1\" class=\"dataframe\">\n",
       "  <thead>\n",
       "    <tr style=\"text-align: right;\">\n",
       "      <th></th>\n",
       "      <th>time</th>\n",
       "      <th>lat</th>\n",
       "      <th>lon</th>\n",
       "      <th>hMSL</th>\n",
       "      <th>velN</th>\n",
       "      <th>velE</th>\n",
       "      <th>velD</th>\n",
       "      <th>hAcc</th>\n",
       "      <th>vAcc</th>\n",
       "      <th>sAcc</th>\n",
       "      <th>gpsFix</th>\n",
       "      <th>numSV</th>\n",
       "    </tr>\n",
       "  </thead>\n",
       "  <tbody>\n",
       "    <tr>\n",
       "      <th>0</th>\n",
       "      <td>2010-09-11T21:23:08.00Z</td>\n",
       "      <td>53.632216</td>\n",
       "      <td>-114.194155</td>\n",
       "      <td>4443.290</td>\n",
       "      <td>-1.38</td>\n",
       "      <td>-33.82</td>\n",
       "      <td>9.96</td>\n",
       "      <td>14.015</td>\n",
       "      <td>17.902</td>\n",
       "      <td>0.90</td>\n",
       "      <td>3</td>\n",
       "      <td>4</td>\n",
       "    </tr>\n",
       "    <tr>\n",
       "      <th>1</th>\n",
       "      <td>2010-09-11T21:23:08.20Z</td>\n",
       "      <td>53.632247</td>\n",
       "      <td>-114.194252</td>\n",
       "      <td>4440.997</td>\n",
       "      <td>2.42</td>\n",
       "      <td>-32.79</td>\n",
       "      <td>10.55</td>\n",
       "      <td>8.128</td>\n",
       "      <td>10.257</td>\n",
       "      <td>0.89</td>\n",
       "      <td>3</td>\n",
       "      <td>8</td>\n",
       "    </tr>\n",
       "    <tr>\n",
       "      <th>2</th>\n",
       "      <td>2010-09-11T21:23:08.40Z</td>\n",
       "      <td>53.632255</td>\n",
       "      <td>-114.194346</td>\n",
       "      <td>4437.749</td>\n",
       "      <td>2.70</td>\n",
       "      <td>-32.34</td>\n",
       "      <td>10.94</td>\n",
       "      <td>5.950</td>\n",
       "      <td>8.382</td>\n",
       "      <td>0.73</td>\n",
       "      <td>3</td>\n",
       "      <td>8</td>\n",
       "    </tr>\n",
       "    <tr>\n",
       "      <th>3</th>\n",
       "      <td>2010-09-11T21:23:08.60Z</td>\n",
       "      <td>53.632256</td>\n",
       "      <td>-114.194444</td>\n",
       "      <td>4435.125</td>\n",
       "      <td>3.01</td>\n",
       "      <td>-31.73</td>\n",
       "      <td>11.49</td>\n",
       "      <td>4.827</td>\n",
       "      <td>7.111</td>\n",
       "      <td>0.69</td>\n",
       "      <td>3</td>\n",
       "      <td>9</td>\n",
       "    </tr>\n",
       "    <tr>\n",
       "      <th>4</th>\n",
       "      <td>2010-09-11T21:23:08.80Z</td>\n",
       "      <td>53.632264</td>\n",
       "      <td>-114.194531</td>\n",
       "      <td>4431.909</td>\n",
       "      <td>3.05</td>\n",
       "      <td>-31.39</td>\n",
       "      <td>12.01</td>\n",
       "      <td>4.106</td>\n",
       "      <td>6.185</td>\n",
       "      <td>0.67</td>\n",
       "      <td>3</td>\n",
       "      <td>9</td>\n",
       "    </tr>\n",
       "  </tbody>\n",
       "</table>\n",
       "</div>"
      ],
      "text/plain": [
       "                      time        lat         lon      hMSL  velN   velE  \\\n",
       "0  2010-09-11T21:23:08.00Z  53.632216 -114.194155  4443.290 -1.38 -33.82   \n",
       "1  2010-09-11T21:23:08.20Z  53.632247 -114.194252  4440.997  2.42 -32.79   \n",
       "2  2010-09-11T21:23:08.40Z  53.632255 -114.194346  4437.749  2.70 -32.34   \n",
       "3  2010-09-11T21:23:08.60Z  53.632256 -114.194444  4435.125  3.01 -31.73   \n",
       "4  2010-09-11T21:23:08.80Z  53.632264 -114.194531  4431.909  3.05 -31.39   \n",
       "\n",
       "    velD    hAcc    vAcc  sAcc  gpsFix  numSV  \n",
       "0   9.96  14.015  17.902  0.90       3      4  \n",
       "1  10.55   8.128  10.257  0.89       3      8  \n",
       "2  10.94   5.950   8.382  0.73       3      8  \n",
       "3  11.49   4.827   7.111  0.69       3      9  \n",
       "4  12.01   4.106   6.185  0.67       3      9  "
      ]
     },
     "execution_count": 21,
     "metadata": {},
     "output_type": "execute_result"
    }
   ],
   "source": [
    "# inlezen van de dataset\n",
    "dataset = pd.read_csv('../data/sample.csv', skiprows=[1])\n",
    "dataset.head()"
   ]
  },
  {
   "cell_type": "code",
   "execution_count": 22,
   "id": "fa7e2908",
   "metadata": {
    "scrolled": true
   },
   "outputs": [
    {
     "data": {
      "text/plain": [
       "(604, 12)"
      ]
     },
     "execution_count": 22,
     "metadata": {},
     "output_type": "execute_result"
    }
   ],
   "source": [
    "dataset.shape"
   ]
  },
  {
   "cell_type": "code",
   "execution_count": 23,
   "id": "d92e7a8c",
   "metadata": {
    "scrolled": true
   },
   "outputs": [
    {
     "data": {
      "text/plain": [
       "Index(['time', 'lat', 'lon', 'hMSL', 'velN', 'velE', 'velD', 'hAcc', 'vAcc',\n",
       "       'sAcc', 'gpsFix', 'numSV'],\n",
       "      dtype='object')"
      ]
     },
     "execution_count": 23,
     "metadata": {},
     "output_type": "execute_result"
    }
   ],
   "source": [
    "dataset.columns"
   ]
  },
  {
   "cell_type": "markdown",
   "id": "d21d5204",
   "metadata": {},
   "source": [
    "### Converting Time"
   ]
  },
  {
   "cell_type": "code",
   "execution_count": 24,
   "id": "ec08c9ef",
   "metadata": {},
   "outputs": [],
   "source": [
    "def cal_total_seconds():\n",
    "    datetimes = [pd.to_datetime(d) for d in dataset.time]\n",
    "    l = []\n",
    "    for i, d in enumerate(datetimes):\n",
    "        duration = datetimes[i] - datetimes[0]\n",
    "        l.append(duration.total_seconds())\n",
    "    return l\n",
    "\n",
    "dataset.time = [pd.to_datetime(d) for d in dataset.time]"
   ]
  },
  {
   "cell_type": "markdown",
   "id": "c6c294fb",
   "metadata": {},
   "source": [
    "### Converting units"
   ]
  },
  {
   "cell_type": "code",
   "execution_count": 25,
   "id": "c61bb067",
   "metadata": {},
   "outputs": [],
   "source": [
    "def meters_to_feet(meters):\n",
    "    return meters * 3.280839895\n",
    "\n",
    "def meterpersecond_to_milesperhour(meterpersecond):\n",
    "    return meterpersecond * 2.236936\n",
    "\n",
    "def meterpersecond_to_kilometersperhour(meterpersecond):\n",
    "    return meterpersecond * 3.6"
   ]
  },
  {
   "cell_type": "code",
   "execution_count": 26,
   "id": "b951cd5b",
   "metadata": {},
   "outputs": [],
   "source": [
    "# Calculate Elevation | Fixed or dynamic\n",
    "def divide_dataset(l, n):\n",
    "    for i in range(0, len(l), n):\n",
    "        yield l[i:i + n]\n",
    "\n",
    "def request_earth_elevation(x):\n",
    "    s = \"https://api.open-elevation.com/api/v1/lookup?locations=\"\n",
    "    for i in range(x.index.start, x.index.stop): \n",
    "        s += str(x.lat[i]) + \",\" + str(x.lon[i]) + \"|\"\n",
    "    r = requests.get(s[:-1]).json()\n",
    "    elevation = pd.json_normalize(r, 'results')['elevation']\n",
    "    return elevation\n",
    "        \n",
    "def get_earth_elevation():\n",
    "    l = []\n",
    "    divided_dataset = list(divide_dataset(dataset, 150))\n",
    "    for i in range(0, len(divided_dataset)):\n",
    "        l.append(request_earth_elevation(divided_dataset[i]).values)\n",
    "    return list(itertools.chain(*l))\n",
    "\n",
    "def get_dynamic_elevation():\n",
    "    ground_elevation = meters_to_feet(dataset.hMSL.iloc[-1])\n",
    "    earth_elevation = [meters_to_feet(e) for e in get_earth_elevation()]\n",
    "    l = []\n",
    "    for i in range(0, len(dataset.hMSL)):\n",
    "        l.append(meters_to_feet(dataset.hMSL[i]) - ground_elevation - earth_elevation[i])\n",
    "    return l\n",
    "\n",
    "def get_fixed_elevation(elevation):\n",
    "    ground_elevation = meters_to_feet(dataset.hMSL.iloc[-1])\n",
    "    l = []\n",
    "    for i in range(0, len(dataset.hMSL)):\n",
    "        l.append(meters_to_feet(dataset.hMSL[i]) - ground_elevation - elevation)\n",
    "    return l"
   ]
  },
  {
   "cell_type": "code",
   "execution_count": 27,
   "id": "68997432",
   "metadata": {
    "scrolled": true
   },
   "outputs": [],
   "source": [
    "# Calculating speeds\n",
    "def calc_horizontal_speed(n, e):\n",
    "    return math.sqrt((n**2) + (e**2))\n",
    "\n",
    "def get_vertical_speed():\n",
    "    return [meterpersecond_to_milesperhour(meter) for meter in dataset.velD]\n",
    "\n",
    "def get_horizontal_speed():\n",
    "    l = []\n",
    "    for i in range(0,len(dataset)):\n",
    "        speed = calc_horizontal_speed(dataset.velN[i], dataset.velE[i])\n",
    "        l.append(meterpersecond_to_milesperhour(speed))\n",
    "    return l"
   ]
  },
  {
   "cell_type": "code",
   "execution_count": 28,
   "id": "3ee53a41",
   "metadata": {},
   "outputs": [],
   "source": [
    "# Calculating angle\n",
    "def calc_dive_angle(v_speed, h_speed):\n",
    "    return math.degrees(math.atan(v_speed/h_speed))\n",
    "\n",
    "def get_dive_angle(v_speed, h_speed):\n",
    "    l = []\n",
    "    for i in range(0, len(dataset)):\n",
    "        l.append(calc_dive_angle(v_speed[i], h_speed[i]))\n",
    "    return l"
   ]
  },
  {
   "cell_type": "code",
   "execution_count": 29,
   "id": "81060e59",
   "metadata": {},
   "outputs": [],
   "source": [
    "# Calculating horzintal distance\n",
    "def distance(lat1, lat2, lon1, lon2):\n",
    "    lon1 = radians(lon1)\n",
    "    lon2 = radians(lon2)\n",
    "    lat1 = radians(lat1)\n",
    "    lat2 = radians(lat2)\n",
    "      \n",
    "    # Haversine formula\n",
    "    dlon = lon2 - lon1\n",
    "    dlat = lat2 - lat1\n",
    "    a = sin(dlat / 2)**2 + cos(lat1) * cos(lat2) * sin(dlon / 2)**2\n",
    " \n",
    "    c = 2 * asin(sqrt(a))\n",
    "    \n",
    "    # Radius of earth in kilometers. Use 3956 for miles\n",
    "    r = 6371\n",
    "      \n",
    "    # calculate the result\n",
    "    return meters_to_feet((c * r) * 1000)\n",
    "\n",
    "\n",
    "def get_horizontal_distance():\n",
    "    l, f = [0], 0.0\n",
    "    for i in range(0, len(dataset)-1):\n",
    "        f += distance(dataset.lat[i], dataset.lat[i+1], dataset.lon[i], dataset.lon[i+1])\n",
    "        l.append(f)\n",
    "    return l"
   ]
  },
  {
   "cell_type": "markdown",
   "id": "a78c5c79",
   "metadata": {},
   "source": [
    "### Creating dataset"
   ]
  },
  {
   "cell_type": "code",
   "execution_count": 30,
   "id": "3202513f",
   "metadata": {},
   "outputs": [],
   "source": [
    "def create_dataset():\n",
    "    return pd.DataFrame({'time': np.array(cal_total_seconds()),\n",
    "                         'lat': dataset.lat,\n",
    "                         'lon': dataset.lon,\n",
    "                         'dynamic_elevation': get_dynamic_elevation(),\n",
    "                         'fixed_elevation': get_fixed_elevation(0),\n",
    "                         'earth_elevation': [meters_to_feet(e) for e in get_earth_elevation()],\n",
    "                         'horizontal_distance': get_horizontal_distance(),\n",
    "                         'vertical_speed': get_vertical_speed(),\n",
    "                         'horizontal_speed': get_horizontal_speed(),\n",
    "                         'dive_angle': get_dive_angle(get_vertical_speed(), get_horizontal_speed())})\n",
    "\n",
    "df = create_dataset()"
   ]
  },
  {
   "cell_type": "code",
   "execution_count": 31,
   "id": "36084b56",
   "metadata": {
    "scrolled": true
   },
   "outputs": [
    {
     "data": {
      "text/html": [
       "<div>\n",
       "<style scoped>\n",
       "    .dataframe tbody tr th:only-of-type {\n",
       "        vertical-align: middle;\n",
       "    }\n",
       "\n",
       "    .dataframe tbody tr th {\n",
       "        vertical-align: top;\n",
       "    }\n",
       "\n",
       "    .dataframe thead th {\n",
       "        text-align: right;\n",
       "    }\n",
       "</style>\n",
       "<table border=\"1\" class=\"dataframe\">\n",
       "  <thead>\n",
       "    <tr style=\"text-align: right;\">\n",
       "      <th></th>\n",
       "      <th>time</th>\n",
       "      <th>lat</th>\n",
       "      <th>lon</th>\n",
       "      <th>dynamic_elevation</th>\n",
       "      <th>fixed_elevation</th>\n",
       "      <th>earth_elevation</th>\n",
       "      <th>horizontal_distance</th>\n",
       "      <th>vertical_speed</th>\n",
       "      <th>horizontal_speed</th>\n",
       "      <th>dive_angle</th>\n",
       "    </tr>\n",
       "  </thead>\n",
       "  <tbody>\n",
       "    <tr>\n",
       "      <th>0</th>\n",
       "      <td>None</td>\n",
       "      <td>53.632216</td>\n",
       "      <td>-114.194155</td>\n",
       "      <td>5967.703412</td>\n",
       "      <td>8448.018373</td>\n",
       "      <td>2480.314961</td>\n",
       "      <td>0.000000</td>\n",
       "      <td>22.279883</td>\n",
       "      <td>75.716130</td>\n",
       "      <td>16.396806</td>\n",
       "    </tr>\n",
       "    <tr>\n",
       "      <th>1</th>\n",
       "      <td>None</td>\n",
       "      <td>53.632247</td>\n",
       "      <td>-114.194252</td>\n",
       "      <td>5960.180446</td>\n",
       "      <td>8440.495407</td>\n",
       "      <td>2480.314961</td>\n",
       "      <td>23.665580</td>\n",
       "      <td>23.599675</td>\n",
       "      <td>73.548622</td>\n",
       "      <td>17.789968</td>\n",
       "    </tr>\n",
       "    <tr>\n",
       "      <th>2</th>\n",
       "      <td>None</td>\n",
       "      <td>53.632255</td>\n",
       "      <td>-114.194346</td>\n",
       "      <td>5949.524278</td>\n",
       "      <td>8429.839239</td>\n",
       "      <td>2480.314961</td>\n",
       "      <td>44.203020</td>\n",
       "      <td>24.472080</td>\n",
       "      <td>72.594195</td>\n",
       "      <td>18.629370</td>\n",
       "    </tr>\n",
       "    <tr>\n",
       "      <th>3</th>\n",
       "      <td>None</td>\n",
       "      <td>53.632256</td>\n",
       "      <td>-114.194444</td>\n",
       "      <td>5940.915354</td>\n",
       "      <td>8421.230315</td>\n",
       "      <td>2480.314961</td>\n",
       "      <td>65.492832</td>\n",
       "      <td>25.702395</td>\n",
       "      <td>71.296628</td>\n",
       "      <td>19.824205</td>\n",
       "    </tr>\n",
       "    <tr>\n",
       "      <th>4</th>\n",
       "      <td>None</td>\n",
       "      <td>53.632264</td>\n",
       "      <td>-114.194531</td>\n",
       "      <td>5930.364173</td>\n",
       "      <td>8410.679134</td>\n",
       "      <td>2480.314961</td>\n",
       "      <td>84.462606</td>\n",
       "      <td>26.865601</td>\n",
       "      <td>70.548103</td>\n",
       "      <td>20.847460</td>\n",
       "    </tr>\n",
       "  </tbody>\n",
       "</table>\n",
       "</div>"
      ],
      "text/plain": [
       "   time        lat         lon  dynamic_elevation  fixed_elevation  \\\n",
       "0  None  53.632216 -114.194155        5967.703412      8448.018373   \n",
       "1  None  53.632247 -114.194252        5960.180446      8440.495407   \n",
       "2  None  53.632255 -114.194346        5949.524278      8429.839239   \n",
       "3  None  53.632256 -114.194444        5940.915354      8421.230315   \n",
       "4  None  53.632264 -114.194531        5930.364173      8410.679134   \n",
       "\n",
       "   earth_elevation  horizontal_distance  vertical_speed  horizontal_speed  \\\n",
       "0      2480.314961             0.000000       22.279883         75.716130   \n",
       "1      2480.314961            23.665580       23.599675         73.548622   \n",
       "2      2480.314961            44.203020       24.472080         72.594195   \n",
       "3      2480.314961            65.492832       25.702395         71.296628   \n",
       "4      2480.314961            84.462606       26.865601         70.548103   \n",
       "\n",
       "   dive_angle  \n",
       "0   16.396806  \n",
       "1   17.789968  \n",
       "2   18.629370  \n",
       "3   19.824205  \n",
       "4   20.847460  "
      ]
     },
     "execution_count": 31,
     "metadata": {},
     "output_type": "execute_result"
    }
   ],
   "source": [
    "df.head()"
   ]
  },
  {
   "cell_type": "code",
   "execution_count": 32,
   "id": "6096fb79",
   "metadata": {},
   "outputs": [
    {
     "data": {
      "text/plain": [
       "[237, 99.90956552296592]"
      ]
     },
     "execution_count": 32,
     "metadata": {},
     "output_type": "execute_result"
    }
   ],
   "source": [
    "def get_max_horizontal_speed():\n",
    "    # id, speed\n",
    "    return [df.horizontal_speed.idxmax(), df.horizontal_speed.max()]\n",
    "\n",
    "get_max_horizontal_speed()"
   ]
  },
  {
   "cell_type": "code",
   "execution_count": 33,
   "id": "c772b954",
   "metadata": {},
   "outputs": [
    {
     "data": {
      "text/plain": [
       "[413, 13.35450792]"
      ]
     },
     "execution_count": 33,
     "metadata": {},
     "output_type": "execute_result"
    }
   ],
   "source": [
    "# Vert speed hits 0, horz speed drops quicky (sliding on the ground)\n",
    "def touchdown():\n",
    "    return [df.vertical_speed.idxmin(), df.vertical_speed.min()]\n",
    "    \n",
    "touchdown()"
   ]
  },
  {
   "cell_type": "markdown",
   "id": "ff2e244d",
   "metadata": {},
   "source": [
    "## Visualisations"
   ]
  },
  {
   "cell_type": "code",
   "execution_count": 34,
   "id": "f459a68c",
   "metadata": {},
   "outputs": [
    {
     "data": {
      "image/png": "[encoded data removed]",
      "text/plain": [
       "<Figure size 1500x800 with 1 Axes>"
      ]
     },
     "metadata": {},
     "output_type": "display_data"
    }
   ],
   "source": [
    "# Speed during swoop\n",
    "max_id = get_max_horizontal_speed()[0]\n",
    "max_horz_distance = df.horizontal_distance[max_id]\n",
    "max_horz_speed = df.horizontal_speed[max_id]\n",
    "\n",
    "min_id = touchdown()[0]\n",
    "min_horz_distance = df.horizontal_distance[min_id]\n",
    "min_vert_speed = df.vertical_speed[min_id]\n",
    "\n",
    "plt.figure(figsize=(15,8))\n",
    "plt.title(\"Speed during swoop\")\n",
    "plt.plot(df.horizontal_distance.iloc[max_id:], df.horizontal_speed.iloc[max_id:], color='red', label='horz speed')\n",
    "plt.plot(df.horizontal_distance.iloc[max_id:], df.vertical_speed.iloc[max_id:], color='green', label='vert speed')\n",
    "plt.plot(max_horz_distance, max_horz_speed, \n",
    "         marker=\"o\", color='blue', label=f\"max horz speed ({round(max_horz_speed)} mph @ {round(max_horz_distance)} ft)\")\n",
    "plt.plot(min_horz_distance, min_vert_speed, \n",
    "         marker=\"o\", color='orange', label=f\"min vert speed ({round(min_vert_speed)} mph @ {round(min_horz_distance)} ft)\")\n",
    "plt.legend()   \n",
    "plt.xlabel(\"Distance ft\")\n",
    "plt.ylabel(\"Speed mph\")\n",
    "plt.show()"
   ]
  },
  {
   "cell_type": "code",
   "execution_count": null,
   "id": "f0c44d7b",
   "metadata": {},
   "outputs": [],
   "source": []
  },
  {
   "cell_type": "code",
   "execution_count": 35,
   "id": "81c7ec63",
   "metadata": {
    "scrolled": false
   },
   "outputs": [
    {
     "data": {
      "application/vnd.plotly.v1+json": {
       "config": {
        "plotlyServerURL": "https://plot.ly"
       },
       "data": [
        {
         "hovertemplate": "horizontal_distance=%{x}<br>vertical_speed=%{y}<extra></extra>",
         "legendgroup": "",
         "line": {
          "color": "#636efa",
          "dash": "solid"
         },
         "marker": {
          "symbol": "circle"
         },
         "mode": "lines",
         "name": "",
         "orientation": "v",
         "showlegend": false,
         "type": "scatter",
         "x": [
          0,
          23.665580459678836,
          44.203020031005764,
          65.49283151936993,
          84.46260558396814,
          103.95447213206691,
          123.11356782948424,
          141.82119849759033,
          159.12709074842013,
          176.84799752025245,
          194.12176589812407,
          210.93021042543793,
          228.1850786677875,
          245.4379599025301,
          262.62549753360554,
          279.87934803336833,
          297.0997213552542,
          314.595090196184,
          332.01895863281385,
          349.4211179705025,
          366.5884915717822,
          383.95372813632207,
          401.33537094285043,
          418.51916846056344,
          435.6172416211936,
          452.54323911714704,
          469.45869433808826,
          486.53533045508556,
          502.97455883102907,
          519.4034189016656,
          535.6875456617854,
          551.8807925896625,
          568.2404685702539,
          584.6022183490003,
          600.8786293886637,
          617.1735474380512,
          633.274901453476,
          649.3608671895889,
          665.6165202113256,
          681.9150804228395,
          698.2060954266653,
          714.4551309894086,
          730.7650944794747,
          747.0508838444194,
          763.3137727295525,
          779.4590327132266,
          795.6156628713853,
          811.7396791431582,
          827.8939224570747,
          843.9247684788717,
          859.9776377671667,
          875.8957324378014,
          891.8951461919586,
          907.8329878738291,
          923.8512855192697,
          939.8670898460425,
          956.0311538952261,
          972.3010131697614,
          988.6548230074329,
          1005.1403621056705,
          1021.8200474704794,
          1038.564623416233,
          1055.4814539929118,
          1072.336707984127,
          1089.2369488288805,
          1106.2052412907553,
          1123.526194104195,
          1141.013393326388,
          1158.607603587336,
          1176.309929005087,
          1194.1467692724993,
          1212.1824849246404,
          1230.3062305663311,
          1248.6278178053144,
          1267.0826569065578,
          1285.705881868227,
          1304.4743629100676,
          1323.4585182113099,
          1342.615223820351,
          1361.8854428398388,
          1381.1516850012142,
          1400.5258909546715,
          1420.0275064703173,
          1439.5034281614555,
          1459.0737558646908,
          1478.7891500430012,
          1498.5872709953312,
          1518.4495021278115,
          1538.4603005903866,
          1558.6218542110828,
          1578.8483023354224,
          1599.2697269455473,
          1619.8429256461263,
          1640.6328486734808,
          1661.5092935607017,
          1682.536740146538,
          1703.7152572648483,
          1725.022812257371,
          1746.395356546056,
          1767.8130285994137,
          1789.278052648812,
          1810.771018665052,
          1832.2542616065928,
          1853.8419735954267,
          1875.579314336136,
          1897.470413621549,
          1919.425661482432,
          1941.4455511665958,
          1963.6012200611867,
          1985.9540855552107,
          2008.3500313489594,
          2030.7147050790513,
          2053.061011627853,
          2075.5000327563084,
          2097.924275779028,
          2120.3735196522507,
          2142.8701896574394,
          2165.443322600595,
          2188.0204348960633,
          2210.5275865226695,
          2232.998445756022,
          2255.3871322780237,
          2277.572622796285,
          2299.554900960561,
          2321.325444097393,
          2342.8137644242256,
          2363.8746581632986,
          2384.5287415394278,
          2404.8100929273955,
          2424.6883313201893,
          2444.2626225119216,
          2463.5865625642555,
          2482.6763340727784,
          2501.5727513943643,
          2520.2501014097206,
          2539.0927641951866,
          2557.9361565919276,
          2576.8901128834514,
          2596.0015045741416,
          2615.3663846843297,
          2635.073668694422,
          2654.9646985310433,
          2675.1326409701296,
          2695.5619279726334,
          2716.30645482613,
          2737.37876759011,
          2758.596854424247,
          2780.1639287896137,
          2801.865562014559,
          2823.8884783180933,
          2846.0818508616844,
          2868.672864929495,
          2891.3817446021276,
          2914.3271350635378,
          2937.3865479760652,
          2960.5655921106695,
          2983.8098145151525,
          3007.150845971937,
          3030.61332539419,
          3054.2696903049614,
          3078.041047041777,
          3101.858984201087,
          3125.8138418003327,
          3149.9903692719054,
          3174.2250803172283,
          3223.07754600243,
          3247.6576628199714,
          3272.314688274385,
          3296.905584404984,
          3321.7311021010614,
          3346.7286474095813,
          3371.8683501186524,
          3397.0050748326007,
          3422.141799545243,
          3447.1352173172577,
          3472.094268264533,
          3497.123451495215,
          3522.259198982723,
          3547.069521263714,
          3572.147842895175,
          3597.0325746241924,
          3621.9730233143055,
          3646.620125716384,
          3670.923300360871,
          3694.8175082306784,
          3718.1867405868175,
          3740.9852794624053,
          3763.406989028216,
          3785.4514307168274,
          3807.4366648125533,
          3829.6140483170957,
          3851.7985711874876,
          3874.231205712654,
          3896.681561585054,
          3919.4877871619565,
          3942.489712627103,
          3965.6545997505477,
          3989.179574549714,
          4012.9067575550257,
          4036.805224655309,
          4060.9030276560798,
          4085.5505554776723,
          4110.440740467967,
          4135.541173924716,
          4160.939740707199,
          4186.442340843664,
          4212.209270219167,
          4238.126445887373,
          4264.2043253658685,
          4290.454669798999,
          4317.076372716585,
          4343.936164662403,
          4371.038107515706,
          4398.47703433891,
          4426.042406856395,
          4453.776873265692,
          4481.658409349695,
          4509.60623646107,
          4537.635646280462,
          4565.765784932602,
          4594.095438069862,
          4622.585159166909,
          4651.154568842955,
          4679.816577058976,
          4708.556844273485,
          4737.435768217368,
          4766.383915660666,
          4795.362471073446,
          4824.402632040736,
          4853.520166269142,
          4882.662158250491,
          4911.766971356011,
          4940.877906679886,
          4970.016691748605,
          4999.170719308022,
          5028.371626266933,
          5057.623690563526,
          5086.9379103346155,
          5116.271185124269,
          5145.525529916004,
          5174.736489904403,
          5203.951564952671,
          5233.137839410069,
          5262.450765350356,
          5291.74079246344,
          5321.005349969162,
          5350.167603255479,
          5379.243918151234,
          5408.198294500122,
          5437.1404199156095,
          5466.080404782797,
          5495.137090718992,
          5524.28939370003,
          5553.384439417447,
          5582.260260088086,
          5610.852552700907,
          5639.123144383234,
          5667.23588590054,
          5695.178731824113,
          5723.006847446779,
          5750.824944948772,
          5778.451185202483,
          5806.0558546330985,
          5833.690121928543,
          5861.185149609185,
          5888.64100511831,
          5916.06537526631,
          5943.499703391021,
          5970.948223724728,
          5998.318208048853,
          6025.926480979071,
          6053.3273541234375,
          6080.636136247127,
          6107.8717380723365,
          6134.856681135578,
          6161.816920942492,
          6188.548345736633,
          6215.4627590149485,
          6242.428537776601,
          6269.070855283066,
          6295.805435922075,
          6322.596855737438,
          6349.415642984821,
          6376.2211286283555,
          6403.051873745452,
          6429.8741310028145,
          6456.556639644256,
          6483.141169259817,
          6509.811070090955,
          6536.443498857285,
          6563.070812613996,
          6589.683514178948,
          6616.313695431585,
          6642.825419906094,
          6669.342999148907,
          6695.854060961611,
          6722.469087942803,
          6749.111747329818,
          6775.818317063083,
          6802.5639329570995,
          6829.347588988816,
          6855.996183637436,
          6882.537201063269,
          6909.034060126544,
          6935.330229049423,
          6961.399499474815,
          6987.433242440278,
          7013.361031412318,
          7039.322922526792,
          7065.2136232292105,
          7091.054279113936,
          7116.892567137884,
          7142.730856507963,
          7168.458878707776,
          7194.1399290720965,
          7219.598702571175,
          7245.186600775303,
          7270.882750854935,
          7296.6440994638615,
          7322.427928757789,
          7348.212144715102,
          7374.04108521837,
          7399.889464105752,
          7425.715930651758,
          7451.6159195197215,
          7477.4835499275605,
          7503.460622046968,
          7529.396531228919,
          7555.2443221838275,
          7580.776833235502,
          7605.8860474059275,
          7630.617331621034,
          7655.400362497347,
          7704.666492971523,
          7729.428114043916,
          7754.0677939266725,
          7778.745526950791,
          7803.240684680122,
          7827.5596539103,
          7851.780297271061,
          7875.971976023846,
          7900.092362278313,
          7924.130936281132,
          7947.987939904855,
          7971.706669990786,
          7995.324378897785,
          8018.880421921035,
          8042.248036379162,
          8065.423958617434,
          8088.465734022627,
          8111.273261387956,
          8133.974340714958,
          8156.5412455930855,
          8179.014739653571,
          8201.396572056283,
          8223.397078643076,
          8245.135680542671,
          8266.15775355762,
          8286.969962065152,
          8307.27318113428,
          8326.537178137654,
          8344.750799207897,
          8362.080214211053,
          8379.096766335608,
          8395.589412704838,
          8411.268779650802,
          8425.829721366199,
          8439.044762191481,
          8451.560091641251,
          8463.412185483701,
          8473.791793574697,
          8482.809285648853,
          8491.293656795651,
          8501.397489409272,
          8511.41884356963,
          8521.41897529072,
          8531.050487964834,
          8541.585126139158,
          8553.078756968644,
          8564.86350840494,
          8576.128536596592,
          8587.497916844286,
          8598.990659890478,
          8610.024895290186,
          8620.655267289154,
          8631.65084987679,
          8643.143184359107,
          8654.756214805648,
          8666.505450954739,
          8678.321033544684,
          8690.541316496858,
          8702.153024199784,
          8714.81248865283,
          8727.730635027645,
          8741.098469056722,
          8755.066958062675,
          8768.975179173394,
          8782.823189386321,
          8796.507725488595,
          8809.873851044049,
          8822.891304268269,
          8836.226349431607,
          8849.847657557413,
          8863.75718919687,
          8877.32535195362,
          8890.205603056324,
          8902.878266095771,
          8915.1014338223,
          8927.055162850771,
          8938.651711130033,
          8950.32430166011,
          8961.621087794112,
          8972.583109481475,
          8983.34901146091,
          8994.375362755725,
          9005.440155744403,
          9016.459663979726,
          9027.570304148292,
          9038.87222140071,
          9050.275336551469,
          9061.873561000244,
          9073.5706046982,
          9085.551159058106,
          9097.812527885495,
          9109.828200359005,
          9122.266014405286,
          9134.822462963899,
          9147.192393888925,
          9159.66810372892,
          9172.2629497742,
          9184.595633051062,
          9197.14956786863,
          9209.606280247577,
          9221.936925460532,
          9234.251662023786,
          9246.482308209212,
          9258.69522607259,
          9270.712848231115,
          9282.730471718534,
          9294.664878898906,
          9306.744457970082,
          9318.868398342387,
          9330.830295749858,
          9342.797595365297,
          9354.697585431793,
          9366.750812837354,
          9378.775895465227,
          9390.922105432546,
          9403.152772575557,
          9415.552214841353,
          9427.848768357915,
          9440.123825644532,
          9452.420803450139,
          9464.781042565632,
          9477.036654786332,
          9489.251348291276,
          9501.52885991865,
          9513.825848302538,
          9526.270912707287,
          9538.641443929639,
          9551.055589758798,
          9563.313437258072,
          9575.501212010864,
          9587.679098660401,
          9599.690788518688,
          9611.790660523748,
          9623.960118422903,
          9636.139052168284,
          9648.27160761207,
          9660.456081117789,
          9672.614291657086,
          9684.876859686428,
          9697.16921392105,
          9709.42708413351,
          9721.619047568047,
          9733.936557515357,
          9746.212846586062,
          9758.416570660866,
          9770.68477443875,
          9783.028701009203,
          9795.243450067206,
          9807.466491045192,
          9819.635600187989,
          9831.805416719999,
          9844.018682691281,
          9856.284142057199,
          9868.52751741351,
          9880.781572305792,
          9893.258874534795,
          9905.633752153331,
          9917.976379276854,
          9930.27664545268,
          9942.516735696508,
          9954.754470804219,
          9967.107242793374,
          9979.419645694117,
          9991.7220320931,
          10003.897373697777,
          10015.951435638062,
          10027.965297988338,
          10040.140199840385,
          10052.174841400736,
          10064.284420430002,
          10076.177379563422,
          10087.962128186799,
          10099.638729322094,
          10111.534455917534,
          10123.243838439683,
          10135.053213609994,
          10146.938067893663,
          10158.838090004383,
          10170.788961118817,
          10182.47041664965,
          10194.000827528496,
          10205.60665680437,
          10217.07862138228,
          10228.693007569904,
          10240.36782579904,
          10252.210326633889,
          10263.992696805166,
          10276.011096673183,
          10287.836097259049,
          10299.76246450342,
          10311.513061907834,
          10323.182019139516,
          10334.649606822895,
          10346.166901582415,
          10357.658155129666,
          10369.06833487416,
          10380.489558262923,
          10391.956530815558,
          10403.393920482755,
          10414.872964500371,
          10426.364548616826,
          10437.745747178293,
          10449.188556723424,
          10460.672953867786,
          10472.094459248316,
          10483.128657105199,
          10494.121415055137,
          10505.466893844909,
          10516.971492080302,
          10528.482635456505,
          10540.043047349502,
          10551.948294744428,
          10563.673932796233,
          10575.309551320863,
          10586.925987863626,
          10598.556999306165,
          10610.339970732955,
          10622.137628746108,
          10634.058050887825,
          10646.049314570106,
          10658.116546449148,
          10670.127473009892,
          10682.11669855123,
          10694.265126032238,
          10706.495531730116,
          10718.794994904598,
          10731.123713836916,
          10743.324906823826,
          10755.524009140889,
          10767.670020389018,
          10779.78661816573,
          10792.14904789298,
          10804.3725832309,
          10816.471936441118,
          10828.445345654238,
          10840.412788597536,
          10852.375206051196,
          10864.302136504324,
          10876.259868319637,
          10888.442623607072,
          10900.676267316769,
          10912.922561640533,
          10925.298404920459,
          10937.619001314451,
          10949.990144329793,
          10962.43634038914,
          10974.963141378448,
          10987.536235350364,
          11000.150754740389,
          11012.783407289648,
          11025.526574547777,
          11038.30306808429,
          11051.095430007494,
          11063.787681982545,
          11076.47993553276,
          11089.195651017244,
          11101.94484701119,
          11114.680924801276,
          11127.47249733833,
          11140.389408625544,
          11153.12400737665,
          11165.80181218137,
          11178.641512075186,
          11191.668205662676,
          11204.893648989162,
          11218.152147287596,
          11231.503866500208,
          11245.060424864856,
          11258.7018158337,
          11272.40718193557,
          11286.219664406202
         ],
         "xaxis": "x",
         "y": [
          22.27988256,
          23.599674800000003,
          24.47207984,
          25.70239464,
          26.86560136,
          27.64852896,
          28.34197912,
          30.131527920000003,
          32.07766224,
          33.75536424,
          35.4554356,
          36.99892144,
          38.11738944,
          39.14638,
          39.97404632,
          40.7122352,
          41.4951628,
          42.34519848,
          43.239972879999996,
          44.13474728,
          44.91767488,
          45.67823312,
          46.46116072,
          47.24408832,
          48.02701592,
          48.809943520000004,
          49.48102432,
          49.9955196,
          50.95740208,
          51.65085224,
          52.14297816,
          52.545626639999995,
          52.88116704,
          53.21670744,
          53.61935592,
          53.86541888,
          54.20095928,
          54.49176096,
          54.9167788,
          55.09573368,
          55.27468856,
          55.40890472,
          55.54312088,
          55.54312088,
          55.54312088,
          55.54312088,
          55.43127408,
          55.4760128,
          55.54312088,
          55.520751520000005,
          55.40890472,
          55.43127408,
          55.45364344,
          55.61022896,
          55.85629192,
          56.23657104,
          56.61685016,
          57.108976080000005,
          57.7129488,
          58.20507472,
          58.74193936,
          59.278804,
          59.79329928,
          60.35253328,
          60.91176728,
          61.51574,
          62.4105144,
          63.26055008,
          63.95400024,
          64.62508104,
          65.2066844,
          65.83302648,
          66.41462984,
          66.9962332,
          67.51072848,
          68.04759312,
          68.47261096,
          69.0094756,
          69.47923216,
          69.83714192,
          70.75428568,
          71.17930352,
          71.40299712000001,
          71.51484392,
          71.581952,
          71.6937988,
          71.67142944,
          71.60432136,
          71.73853752000001,
          71.71616816000001,
          71.71616816000001,
          71.71616816000001,
          71.55958264,
          71.33588904,
          71.1345648,
          71.00034864,
          70.7990244,
          70.70954696,
          70.66480824,
          70.75428568,
          70.84376312,
          71.00034864,
          71.22404224,
          71.44773584,
          71.55958264,
          71.73853752000001,
          71.89512304,
          71.96223112,
          72.07407792,
          72.07407792,
          72.23066344,
          72.38724896,
          72.54383448,
          72.74515872,
          73.05832975999999,
          73.32676208000001,
          73.7070412,
          73.95310416000001,
          74.35575264,
          74.69129304,
          74.937356,
          75.2728964,
          75.47422064,
          75.85449976,
          76.21240952000001,
          76.68216608,
          77.15192264000001,
          77.64404856,
          78.35986808,
          78.98621016000001,
          79.79150712,
          80.73102024,
          82.16265928,
          82.81137072000001,
          83.21401920000001,
          83.72851448,
          84.13116296,
          84.39959528,
          84.64565824,
          84.8917212,
          85.04830672000001,
          84.98119864,
          84.95882927999999,
          84.82461312000001,
          84.80224376,
          84.57855016,
          84.46670336,
          84.42196464,
          84.31011783999999,
          84.26537912,
          84.13116296,
          83.92983872,
          83.68377575999999,
          83.50482088,
          83.39297408,
          83.325866,
          83.23638856000001,
          83.03506431999999,
          82.78900136,
          82.49819968000001,
          82.16265928,
          81.89422696,
          81.51394784,
          81.04419127999999,
          80.4178492,
          79.61255224000001,
          79.1875344,
          78.82962464,
          78.53882296,
          78.13617448,
          77.68878728,
          77.28613879999999,
          76.77164352,
          76.3913644,
          76.14530144,
          75.74265296,
          75.02683344,
          74.24390584,
          73.55045568000001,
          72.96885232,
          72.38724896,
          71.60432136,
          71.15693415999999,
          71.15693415999999,
          71.40299712000001,
          71.85038431999999,
          72.56620384,
          73.37150079999999,
          74.28864456000001,
          75.31763512,
          76.2795176,
          76.88349031999999,
          77.33087752,
          77.77826472000001,
          78.4046068,
          79.03094888,
          79.81387648,
          80.46258792,
          80.84286704,
          80.93234448,
          81.31262360000001,
          81.08893,
          80.77575896,
          80.37311048,
          79.94809264,
          79.09805696,
          78.4046068,
          77.9572196,
          77.28613879999999,
          76.77164352,
          75.89923848,
          75.2728964,
          75.34000448,
          74.69129304,
          74.02021224,
          73.43860888,
          72.83463616,
          72.20829408,
          71.60432136,
          70.77665504000001,
          70.10557424,
          69.36738536,
          68.69630456,
          68.06996248,
          67.53309784000001,
          66.8843864,
          66.4369992,
          66.12382816,
          65.78828776,
          65.40800863999999,
          65.16194568,
          64.91588272,
          64.6474504,
          64.40138744,
          64.0882164,
          63.8645228,
          63.6408292,
          63.28291944,
          62.99211776,
          62.67894672,
          62.388145040000005,
          62.09734336,
          61.896019120000005,
          61.69469488,
          61.44863192,
          61.13546088,
          60.8446592,
          60.68807368,
          60.59859624,
          60.59859624,
          60.44201072,
          60.26305584000001,
          59.994623520000005,
          59.48012824,
          59.0551104,
          58.85378616,
          58.18270536000001,
          57.86953432,
          57.69057944,
          57.62347136,
          57.55636328,
          57.53399392,
          57.44451648,
          57.13134544,
          56.86291312,
          56.795805040000005,
          56.57211144,
          56.54974208,
          56.54974208,
          56.46026464,
          56.34841784,
          56.303679120000005,
          56.2589404,
          56.2589404,
          56.32604848,
          56.52737272,
          57.66821008,
          58.18270536000001,
          58.09322792,
          57.31030032,
          56.90765184000001,
          56.86291312,
          56.88528248,
          57.041868,
          57.13134544,
          57.22082288,
          57.3774084,
          57.51162456,
          57.53399392,
          57.62347136,
          57.73531816,
          57.89190368,
          58.02611984000001,
          58.070858560000005,
          58.00375048,
          58.09322792,
          57.914273040000005,
          57.7129488,
          57.51162456,
          57.265561600000005,
          56.97475992,
          56.90765184000001,
          56.90765184000001,
          56.90765184000001,
          56.952390560000005,
          57.041868,
          57.108976080000005,
          57.46688584,
          57.3774084,
          57.35503904,
          57.176084159999995,
          56.952390560000005,
          56.639219520000005,
          56.41552592,
          56.19183232,
          55.901030639999995,
          55.833922560000005,
          55.85629192,
          55.76681448,
          55.94576936000001,
          56.147093600000005,
          56.34841784,
          56.54974208,
          56.72869696,
          56.97475992,
          56.97475992,
          57.08660672,
          57.13134544,
          57.69057944,
          57.914273040000005,
          58.31692152,
          58.09322792,
          58.58535384,
          58.89852488,
          58.9432636,
          59.032741040000005,
          59.12221848,
          59.256434639999995,
          59.6143444,
          60.151209040000005,
          60.79992048,
          61.44863192,
          62.20919016,
          63.12633392,
          64.04347768,
          64.93825208,
          66.03435072,
          67.53309784000001,
          69.16606112000001,
          70.66480824,
          72.11881664,
          73.41623952,
          74.60181560000001,
          75.9439772,
          77.17429200000001,
          78.33749872000001,
          79.54544416,
          81.02182192,
          81.8718576,
          82.07318183999999,
          82.56530776,
          83.01269496,
          83.57192896,
          83.95220808,
          83.79562256,
          82.96795624,
          82.27450608000001,
          81.40210104,
          80.12704752,
          78.89673272,
          76.055824,
          72.67805064000001,
          69.47923216,
          66.52647664,
          62.7460548,
          58.160336,
          54.73782392,
          52.61273472,
          50.7784472,
          48.5415112,
          46.7519624,
          45.23084592,
          44.15711664,
          43.10575672,
          42.121504879999996,
          41.11488368,
          40.22010928,
          38.922686399999996,
          36.976552080000005,
          34.71724672,
          32.27898648,
          29.68414072,
          27.7380064,
          26.57479968,
          25.21026872,
          24.89709768,
          24.047062,
          22.481206800000002,
          21.42984688,
          20.199532079999997,
          19.7968836,
          18.76789304,
          17.73890248,
          17.291515280000002,
          16.6651732,
          15.7703988,
          15.36775032,
          14.92036312,
          14.517714640000001,
          14.18217424,
          14.00321936,
          13.80189512,
          13.6453096,
          13.35450792,
          13.421616,
          13.51109344,
          13.46635472,
          13.55583216,
          13.734787039999999,
          13.77952576,
          13.93611128,
          14.02558872,
          14.04795808,
          14.2045436,
          14.294021039999999,
          14.49534528,
          14.719038880000001,
          14.69666952,
          14.80851632,
          14.875624400000001,
          14.80851632,
          14.67430016,
          14.67430016,
          14.719038880000001,
          14.69666952,
          14.62956144,
          14.60719208,
          14.540084,
          14.49534528,
          14.36112912,
          14.294021039999999,
          14.24928232,
          14.0926968,
          14.04795808,
          13.958480640000001,
          13.98085,
          13.91374192,
          14.07032744,
          13.80189512,
          13.91374192,
          13.958480640000001,
          14.18217424,
          14.18217424,
          14.27165168,
          14.18217424,
          14.27165168,
          14.33875976,
          14.36112912,
          14.38349848,
          14.294021039999999,
          14.33875976,
          14.316390400000001,
          14.33875976,
          14.226912960000002,
          14.11506616,
          14.13743552,
          14.07032744,
          14.02558872,
          14.00321936,
          13.84663384,
          13.84663384,
          14.00321936,
          14.07032744,
          14.0926968,
          14.159804880000001,
          14.02558872,
          13.89137256,
          13.91374192,
          13.89137256,
          14.00321936,
          14.18217424,
          14.33875976,
          14.69666952,
          14.719038880000001,
          14.719038880000001,
          14.719038880000001,
          14.58482272,
          14.24928232,
          14.36112912,
          14.45060656,
          14.49534528,
          14.517714640000001,
          14.45060656,
          14.517714640000001,
          14.47297592,
          14.36112912,
          14.2045436,
          14.11506616,
          14.04795808,
          13.98085,
          13.89137256,
          13.91374192,
          13.84663384,
          13.84663384,
          14.540084,
          14.226912960000002,
          14.00321936,
          13.80189512,
          13.77952576,
          13.6453096,
          13.62294024,
          13.600570880000001,
          13.6453096,
          13.6453096,
          13.667678960000002,
          13.667678960000002,
          13.667678960000002,
          13.71241768,
          13.667678960000002,
          13.46635472,
          13.57820152,
          13.6453096,
          13.82426448,
          13.91374192,
          14.02558872,
          14.00321936,
          14.00321936,
          14.00321936,
          14.04795808,
          14.11506616,
          14.11506616,
          14.13743552,
          14.13743552,
          14.0926968,
          13.8690032,
          13.89137256,
          14.00321936,
          13.98085,
          14.36112912,
          14.159804880000001,
          14.02558872,
          13.98085,
          13.93611128,
          13.757156400000001,
          13.667678960000002,
          13.8690032,
          13.77952576,
          13.91374192,
          14.07032744,
          14.517714640000001,
          14.94273248,
          15.345380960000002,
          15.72566008,
          16.19541664,
          16.4414796,
          16.5533264,
          16.642803840000003,
          16.75465064,
          16.732281280000002,
          16.70991192,
          16.41911024,
          16.173047280000002,
          15.85987624,
          15.59144392,
          15.23353416,
          15.03220992,
          14.786146960000002,
          14.517714640000001,
          14.36112912,
          14.24928232,
          14.11506616,
          14.07032744,
          14.159804880000001,
          14.13743552,
          14.07032744,
          14.07032744,
          13.958480640000001,
          13.89137256,
          13.8690032,
          13.84663384,
          13.89137256,
          13.958480640000001,
          13.89137256,
          14.02558872,
          14.18217424,
          14.33875976,
          14.49534528,
          14.719038880000001,
          15.12168736,
          15.658552,
          16.26252472,
          16.911236159999998,
          17.6717944,
          17.962596079999997,
          18.253397760000002,
          18.566568800000002,
          18.85737048,
          19.14817216,
          19.55082064,
          19.95346912,
          20.42322568,
          21.29563072,
          21.85486472,
          22.19040512
         ],
         "yaxis": "y"
        }
       ],
       "layout": {
        "legend": {
         "tracegroupgap": 0
        },
        "margin": {
         "t": 60
        },
        "template": {
         "data": {
          "bar": [
           {
            "error_x": {
             "color": "#2a3f5f"
            },
            "error_y": {
             "color": "#2a3f5f"
            },
            "marker": {
             "line": {
              "color": "#E5ECF6",
              "width": 0.5
             },
             "pattern": {
              "fillmode": "overlay",
              "size": 10,
              "solidity": 0.2
             }
            },
            "type": "bar"
           }
          ],
          "barpolar": [
           {
            "marker": {
             "line": {
              "color": "#E5ECF6",
              "width": 0.5
             },
             "pattern": {
              "fillmode": "overlay",
              "size": 10,
              "solidity": 0.2
             }
            },
            "type": "barpolar"
           }
          ],
          "carpet": [
           {
            "aaxis": {
             "endlinecolor": "#2a3f5f",
             "gridcolor": "white",
             "linecolor": "white",
             "minorgridcolor": "white",
             "startlinecolor": "#2a3f5f"
            },
            "baxis": {
             "endlinecolor": "#2a3f5f",
             "gridcolor": "white",
             "linecolor": "white",
             "minorgridcolor": "white",
             "startlinecolor": "#2a3f5f"
            },
            "type": "carpet"
           }
          ],
          "choropleth": [
           {
            "colorbar": {
             "outlinewidth": 0,
             "ticks": ""
            },
            "type": "choropleth"
           }
          ],
          "contour": [
           {
            "colorbar": {
             "outlinewidth": 0,
             "ticks": ""
            },
            "colorscale": [
             [
              0,
              "#0d0887"
             ],
             [
              0.1111111111111111,
              "#46039f"
             ],
             [
              0.2222222222222222,
              "#7201a8"
             ],
             [
              0.3333333333333333,
              "#9c179e"
             ],
             [
              0.4444444444444444,
              "#bd3786"
             ],
             [
              0.5555555555555556,
              "#d8576b"
             ],
             [
              0.6666666666666666,
              "#ed7953"
             ],
             [
              0.7777777777777778,
              "#fb9f3a"
             ],
             [
              0.8888888888888888,
              "#fdca26"
             ],
             [
              1,
              "#f0f921"
             ]
            ],
            "type": "contour"
           }
          ],
          "contourcarpet": [
           {
            "colorbar": {
             "outlinewidth": 0,
             "ticks": ""
            },
            "type": "contourcarpet"
           }
          ],
          "heatmap": [
           {
            "colorbar": {
             "outlinewidth": 0,
             "ticks": ""
            },
            "colorscale": [
             [
              0,
              "#0d0887"
             ],
             [
              0.1111111111111111,
              "#46039f"
             ],
             [
              0.2222222222222222,
              "#7201a8"
             ],
             [
              0.3333333333333333,
              "#9c179e"
             ],
             [
              0.4444444444444444,
              "#bd3786"
             ],
             [
              0.5555555555555556,
              "#d8576b"
             ],
             [
              0.6666666666666666,
              "#ed7953"
             ],
             [
              0.7777777777777778,
              "#fb9f3a"
             ],
             [
              0.8888888888888888,
              "#fdca26"
             ],
             [
              1,
              "#f0f921"
             ]
            ],
            "type": "heatmap"
           }
          ],
          "heatmapgl": [
           {
            "colorbar": {
             "outlinewidth": 0,
             "ticks": ""
            },
            "colorscale": [
             [
              0,
              "#0d0887"
             ],
             [
              0.1111111111111111,
              "#46039f"
             ],
             [
              0.2222222222222222,
              "#7201a8"
             ],
             [
              0.3333333333333333,
              "#9c179e"
             ],
             [
              0.4444444444444444,
              "#bd3786"
             ],
             [
              0.5555555555555556,
              "#d8576b"
             ],
             [
              0.6666666666666666,
              "#ed7953"
             ],
             [
              0.7777777777777778,
              "#fb9f3a"
             ],
             [
              0.8888888888888888,
              "#fdca26"
             ],
             [
              1,
              "#f0f921"
             ]
            ],
            "type": "heatmapgl"
           }
          ],
          "histogram": [
           {
            "marker": {
             "pattern": {
              "fillmode": "overlay",
              "size": 10,
              "solidity": 0.2
             }
            },
            "type": "histogram"
           }
          ],
          "histogram2d": [
           {
            "colorbar": {
             "outlinewidth": 0,
             "ticks": ""
            },
            "colorscale": [
             [
              0,
              "#0d0887"
             ],
             [
              0.1111111111111111,
              "#46039f"
             ],
             [
              0.2222222222222222,
              "#7201a8"
             ],
             [
              0.3333333333333333,
              "#9c179e"
             ],
             [
              0.4444444444444444,
              "#bd3786"
             ],
             [
              0.5555555555555556,
              "#d8576b"
             ],
             [
              0.6666666666666666,
              "#ed7953"
             ],
             [
              0.7777777777777778,
              "#fb9f3a"
             ],
             [
              0.8888888888888888,
              "#fdca26"
             ],
             [
              1,
              "#f0f921"
             ]
            ],
            "type": "histogram2d"
           }
          ],
          "histogram2dcontour": [
           {
            "colorbar": {
             "outlinewidth": 0,
             "ticks": ""
            },
            "colorscale": [
             [
              0,
              "#0d0887"
             ],
             [
              0.1111111111111111,
              "#46039f"
             ],
             [
              0.2222222222222222,
              "#7201a8"
             ],
             [
              0.3333333333333333,
              "#9c179e"
             ],
             [
              0.4444444444444444,
              "#bd3786"
             ],
             [
              0.5555555555555556,
              "#d8576b"
             ],
             [
              0.6666666666666666,
              "#ed7953"
             ],
             [
              0.7777777777777778,
              "#fb9f3a"
             ],
             [
              0.8888888888888888,
              "#fdca26"
             ],
             [
              1,
              "#f0f921"
             ]
            ],
            "type": "histogram2dcontour"
           }
          ],
          "mesh3d": [
           {
            "colorbar": {
             "outlinewidth": 0,
             "ticks": ""
            },
            "type": "mesh3d"
           }
          ],
          "parcoords": [
           {
            "line": {
             "colorbar": {
              "outlinewidth": 0,
              "ticks": ""
             }
            },
            "type": "parcoords"
           }
          ],
          "pie": [
           {
            "automargin": true,
            "type": "pie"
           }
          ],
          "scatter": [
           {
            "fillpattern": {
             "fillmode": "overlay",
             "size": 10,
             "solidity": 0.2
            },
            "type": "scatter"
           }
          ],
          "scatter3d": [
           {
            "line": {
             "colorbar": {
              "outlinewidth": 0,
              "ticks": ""
             }
            },
            "marker": {
             "colorbar": {
              "outlinewidth": 0,
              "ticks": ""
             }
            },
            "type": "scatter3d"
           }
          ],
          "scattercarpet": [
           {
            "marker": {
             "colorbar": {
              "outlinewidth": 0,
              "ticks": ""
             }
            },
            "type": "scattercarpet"
           }
          ],
          "scattergeo": [
           {
            "marker": {
             "colorbar": {
              "outlinewidth": 0,
              "ticks": ""
             }
            },
            "type": "scattergeo"
           }
          ],
          "scattergl": [
           {
            "marker": {
             "colorbar": {
              "outlinewidth": 0,
              "ticks": ""
             }
            },
            "type": "scattergl"
           }
          ],
          "scattermapbox": [
           {
            "marker": {
             "colorbar": {
              "outlinewidth": 0,
              "ticks": ""
             }
            },
            "type": "scattermapbox"
           }
          ],
          "scatterpolar": [
           {
            "marker": {
             "colorbar": {
              "outlinewidth": 0,
              "ticks": ""
             }
            },
            "type": "scatterpolar"
           }
          ],
          "scatterpolargl": [
           {
            "marker": {
             "colorbar": {
              "outlinewidth": 0,
              "ticks": ""
             }
            },
            "type": "scatterpolargl"
           }
          ],
          "scatterternary": [
           {
            "marker": {
             "colorbar": {
              "outlinewidth": 0,
              "ticks": ""
             }
            },
            "type": "scatterternary"
           }
          ],
          "surface": [
           {
            "colorbar": {
             "outlinewidth": 0,
             "ticks": ""
            },
            "colorscale": [
             [
              0,
              "#0d0887"
             ],
             [
              0.1111111111111111,
              "#46039f"
             ],
             [
              0.2222222222222222,
              "#7201a8"
             ],
             [
              0.3333333333333333,
              "#9c179e"
             ],
             [
              0.4444444444444444,
              "#bd3786"
             ],
             [
              0.5555555555555556,
              "#d8576b"
             ],
             [
              0.6666666666666666,
              "#ed7953"
             ],
             [
              0.7777777777777778,
              "#fb9f3a"
             ],
             [
              0.8888888888888888,
              "#fdca26"
             ],
             [
              1,
              "#f0f921"
             ]
            ],
            "type": "surface"
           }
          ],
          "table": [
           {
            "cells": {
             "fill": {
              "color": "#EBF0F8"
             },
             "line": {
              "color": "white"
             }
            },
            "header": {
             "fill": {
              "color": "#C8D4E3"
             },
             "line": {
              "color": "white"
             }
            },
            "type": "table"
           }
          ]
         },
         "layout": {
          "annotationdefaults": {
           "arrowcolor": "#2a3f5f",
           "arrowhead": 0,
           "arrowwidth": 1
          },
          "autotypenumbers": "strict",
          "coloraxis": {
           "colorbar": {
            "outlinewidth": 0,
            "ticks": ""
           }
          },
          "colorscale": {
           "diverging": [
            [
             0,
             "#8e0152"
            ],
            [
             0.1,
             "#c51b7d"
            ],
            [
             0.2,
             "#de77ae"
            ],
            [
             0.3,
             "#f1b6da"
            ],
            [
             0.4,
             "#fde0ef"
            ],
            [
             0.5,
             "#f7f7f7"
            ],
            [
             0.6,
             "#e6f5d0"
            ],
            [
             0.7,
             "#b8e186"
            ],
            [
             0.8,
             "#7fbc41"
            ],
            [
             0.9,
             "#4d9221"
            ],
            [
             1,
             "#276419"
            ]
           ],
           "sequential": [
            [
             0,
             "#0d0887"
            ],
            [
             0.1111111111111111,
             "#46039f"
            ],
            [
             0.2222222222222222,
             "#7201a8"
            ],
            [
             0.3333333333333333,
             "#9c179e"
            ],
            [
             0.4444444444444444,
             "#bd3786"
            ],
            [
             0.5555555555555556,
             "#d8576b"
            ],
            [
             0.6666666666666666,
             "#ed7953"
            ],
            [
             0.7777777777777778,
             "#fb9f3a"
            ],
            [
             0.8888888888888888,
             "#fdca26"
            ],
            [
             1,
             "#f0f921"
            ]
           ],
           "sequentialminus": [
            [
             0,
             "#0d0887"
            ],
            [
             0.1111111111111111,
             "#46039f"
            ],
            [
             0.2222222222222222,
             "#7201a8"
            ],
            [
             0.3333333333333333,
             "#9c179e"
            ],
            [
             0.4444444444444444,
             "#bd3786"
            ],
            [
             0.5555555555555556,
             "#d8576b"
            ],
            [
             0.6666666666666666,
             "#ed7953"
            ],
            [
             0.7777777777777778,
             "#fb9f3a"
            ],
            [
             0.8888888888888888,
             "#fdca26"
            ],
            [
             1,
             "#f0f921"
            ]
           ]
          },
          "colorway": [
           "#636efa",
           "#EF553B",
           "#00cc96",
           "#ab63fa",
           "#FFA15A",
           "#19d3f3",
           "#FF6692",
           "#B6E880",
           "#FF97FF",
           "#FECB52"
          ],
          "font": {
           "color": "#2a3f5f"
          },
          "geo": {
           "bgcolor": "white",
           "lakecolor": "white",
           "landcolor": "#E5ECF6",
           "showlakes": true,
           "showland": true,
           "subunitcolor": "white"
          },
          "hoverlabel": {
           "align": "left"
          },
          "hovermode": "closest",
          "mapbox": {
           "style": "light"
          },
          "paper_bgcolor": "white",
          "plot_bgcolor": "#E5ECF6",
          "polar": {
           "angularaxis": {
            "gridcolor": "white",
            "linecolor": "white",
            "ticks": ""
           },
           "bgcolor": "#E5ECF6",
           "radialaxis": {
            "gridcolor": "white",
            "linecolor": "white",
            "ticks": ""
           }
          },
          "scene": {
           "xaxis": {
            "backgroundcolor": "#E5ECF6",
            "gridcolor": "white",
            "gridwidth": 2,
            "linecolor": "white",
            "showbackground": true,
            "ticks": "",
            "zerolinecolor": "white"
           },
           "yaxis": {
            "backgroundcolor": "#E5ECF6",
            "gridcolor": "white",
            "gridwidth": 2,
            "linecolor": "white",
            "showbackground": true,
            "ticks": "",
            "zerolinecolor": "white"
           },
           "zaxis": {
            "backgroundcolor": "#E5ECF6",
            "gridcolor": "white",
            "gridwidth": 2,
            "linecolor": "white",
            "showbackground": true,
            "ticks": "",
            "zerolinecolor": "white"
           }
          },
          "shapedefaults": {
           "line": {
            "color": "#2a3f5f"
           }
          },
          "ternary": {
           "aaxis": {
            "gridcolor": "white",
            "linecolor": "white",
            "ticks": ""
           },
           "baxis": {
            "gridcolor": "white",
            "linecolor": "white",
            "ticks": ""
           },
           "bgcolor": "#E5ECF6",
           "caxis": {
            "gridcolor": "white",
            "linecolor": "white",
            "ticks": ""
           }
          },
          "title": {
           "x": 0.05
          },
          "xaxis": {
           "automargin": true,
           "gridcolor": "white",
           "linecolor": "white",
           "ticks": "",
           "title": {
            "standoff": 15
           },
           "zerolinecolor": "white",
           "zerolinewidth": 2
          },
          "yaxis": {
           "automargin": true,
           "gridcolor": "white",
           "linecolor": "white",
           "ticks": "",
           "title": {
            "standoff": 15
           },
           "zerolinecolor": "white",
           "zerolinewidth": 2
          }
         }
        },
        "xaxis": {
         "anchor": "y",
         "domain": [
          0,
          1
         ],
         "showspikes": true,
         "spikecolor": "black",
         "spikethickness": 0.5,
         "title": {
          "text": "horizontal_distance"
         }
        },
        "yaxis": {
         "anchor": "x",
         "domain": [
          0,
          1
         ],
         "showspikes": true,
         "spikecolor": "black",
         "spikethickness": 0.5,
         "title": {
          "text": "vertical_speed"
         }
        }
       }
      },
      "text/html": [
       "<div>                            <div id=\"1dc1d3df-aff2-47a3-86fe-87d1250377ea\" class=\"plotly-graph-div\" style=\"height:525px; width:100%;\"></div>            <script type=\"text/javascript\">                require([\"plotly\"], function(Plotly) {                    window.PLOTLYENV=window.PLOTLYENV || {};                                    if (document.getElementById(\"1dc1d3df-aff2-47a3-86fe-87d1250377ea\")) {                    Plotly.newPlot(                        \"1dc1d3df-aff2-47a3-86fe-87d1250377ea\",                        [{\"hovertemplate\":\"horizontal_distance=%{x}<br>vertical_speed=%{y}<extra></extra>\",\"legendgroup\":\"\",\"line\":{\"color\":\"#636efa\",\"dash\":\"solid\"},\"marker\":{\"symbol\":\"circle\"},\"mode\":\"lines\",\"name\":\"\",\"orientation\":\"v\",\"showlegend\":false,\"x\":[0.0,23.665580459678836,44.203020031005764,65.49283151936993,84.46260558396814,103.95447213206691,123.11356782948424,141.82119849759033,159.12709074842013,176.84799752025245,194.12176589812407,210.93021042543793,228.1850786677875,245.4379599025301,262.62549753360554,279.87934803336833,297.0997213552542,314.595090196184,332.01895863281385,349.4211179705025,366.5884915717822,383.95372813632207,401.33537094285043,418.51916846056344,435.6172416211936,452.54323911714704,469.45869433808826,486.53533045508556,502.97455883102907,519.4034189016656,535.6875456617854,551.8807925896625,568.2404685702539,584.6022183490003,600.8786293886637,617.1735474380512,633.274901453476,649.3608671895889,665.6165202113256,681.9150804228395,698.2060954266653,714.4551309894086,730.7650944794747,747.0508838444194,763.3137727295525,779.4590327132266,795.6156628713853,811.7396791431582,827.8939224570747,843.9247684788717,859.9776377671667,875.8957324378014,891.8951461919586,907.8329878738291,923.8512855192697,939.8670898460425,956.0311538952261,972.3010131697614,988.6548230074329,1005.1403621056705,1021.8200474704794,1038.564623416233,1055.4814539929118,1072.336707984127,1089.2369488288805,1106.2052412907553,1123.526194104195,1141.013393326388,1158.607603587336,1176.309929005087,1194.1467692724993,1212.1824849246404,1230.3062305663311,1248.6278178053144,1267.0826569065578,1285.705881868227,1304.4743629100676,1323.4585182113099,1342.615223820351,1361.8854428398388,1381.1516850012142,1400.5258909546715,1420.0275064703173,1439.5034281614555,1459.0737558646908,1478.7891500430012,1498.5872709953312,1518.4495021278115,1538.4603005903866,1558.6218542110828,1578.8483023354224,1599.2697269455473,1619.8429256461263,1640.6328486734808,1661.5092935607017,1682.536740146538,1703.7152572648483,1725.022812257371,1746.395356546056,1767.8130285994137,1789.278052648812,1810.771018665052,1832.2542616065928,1853.8419735954267,1875.579314336136,1897.470413621549,1919.425661482432,1941.4455511665958,1963.6012200611867,1985.9540855552107,2008.3500313489594,2030.7147050790513,2053.061011627853,2075.5000327563084,2097.924275779028,2120.3735196522507,2142.8701896574394,2165.443322600595,2188.0204348960633,2210.5275865226695,2232.998445756022,2255.3871322780237,2277.572622796285,2299.554900960561,2321.325444097393,2342.8137644242256,2363.8746581632986,2384.5287415394278,2404.8100929273955,2424.6883313201893,2444.2626225119216,2463.5865625642555,2482.6763340727784,2501.5727513943643,2520.2501014097206,2539.0927641951866,2557.9361565919276,2576.8901128834514,2596.0015045741416,2615.3663846843297,2635.073668694422,2654.9646985310433,2675.1326409701296,2695.5619279726334,2716.30645482613,2737.37876759011,2758.596854424247,2780.1639287896137,2801.865562014559,2823.8884783180933,2846.0818508616844,2868.672864929495,2891.3817446021276,2914.3271350635378,2937.3865479760652,2960.5655921106695,2983.8098145151525,3007.150845971937,3030.61332539419,3054.2696903049614,3078.041047041777,3101.858984201087,3125.8138418003327,3149.9903692719054,3174.2250803172283,3223.07754600243,3247.6576628199714,3272.314688274385,3296.905584404984,3321.7311021010614,3346.7286474095813,3371.8683501186524,3397.0050748326007,3422.141799545243,3447.1352173172577,3472.094268264533,3497.123451495215,3522.259198982723,3547.069521263714,3572.147842895175,3597.0325746241924,3621.9730233143055,3646.620125716384,3670.923300360871,3694.8175082306784,3718.1867405868175,3740.9852794624053,3763.406989028216,3785.4514307168274,3807.4366648125533,3829.6140483170957,3851.7985711874876,3874.231205712654,3896.681561585054,3919.4877871619565,3942.489712627103,3965.6545997505477,3989.179574549714,4012.9067575550257,4036.805224655309,4060.9030276560798,4085.5505554776723,4110.440740467967,4135.541173924716,4160.939740707199,4186.442340843664,4212.209270219167,4238.126445887373,4264.2043253658685,4290.454669798999,4317.076372716585,4343.936164662403,4371.038107515706,4398.47703433891,4426.042406856395,4453.776873265692,4481.658409349695,4509.60623646107,4537.635646280462,4565.765784932602,4594.095438069862,4622.585159166909,4651.154568842955,4679.816577058976,4708.556844273485,4737.435768217368,4766.383915660666,4795.362471073446,4824.402632040736,4853.520166269142,4882.662158250491,4911.766971356011,4940.877906679886,4970.016691748605,4999.170719308022,5028.371626266933,5057.623690563526,5086.9379103346155,5116.271185124269,5145.525529916004,5174.736489904403,5203.951564952671,5233.137839410069,5262.450765350356,5291.74079246344,5321.005349969162,5350.167603255479,5379.243918151234,5408.198294500122,5437.1404199156095,5466.080404782797,5495.137090718992,5524.28939370003,5553.384439417447,5582.260260088086,5610.852552700907,5639.123144383234,5667.23588590054,5695.178731824113,5723.006847446779,5750.824944948772,5778.451185202483,5806.0558546330985,5833.690121928543,5861.185149609185,5888.64100511831,5916.06537526631,5943.499703391021,5970.948223724728,5998.318208048853,6025.926480979071,6053.3273541234375,6080.636136247127,6107.8717380723365,6134.856681135578,6161.816920942492,6188.548345736633,6215.4627590149485,6242.428537776601,6269.070855283066,6295.805435922075,6322.596855737438,6349.415642984821,6376.2211286283555,6403.051873745452,6429.8741310028145,6456.556639644256,6483.141169259817,6509.811070090955,6536.443498857285,6563.070812613996,6589.683514178948,6616.313695431585,6642.825419906094,6669.342999148907,6695.854060961611,6722.469087942803,6749.111747329818,6775.818317063083,6802.5639329570995,6829.347588988816,6855.996183637436,6882.537201063269,6909.034060126544,6935.330229049423,6961.399499474815,6987.433242440278,7013.361031412318,7039.322922526792,7065.2136232292105,7091.054279113936,7116.892567137884,7142.730856507963,7168.458878707776,7194.1399290720965,7219.598702571175,7245.186600775303,7270.882750854935,7296.6440994638615,7322.427928757789,7348.212144715102,7374.04108521837,7399.889464105752,7425.715930651758,7451.6159195197215,7477.4835499275605,7503.460622046968,7529.396531228919,7555.2443221838275,7580.776833235502,7605.8860474059275,7630.617331621034,7655.400362497347,7704.666492971523,7729.428114043916,7754.0677939266725,7778.745526950791,7803.240684680122,7827.5596539103,7851.780297271061,7875.971976023846,7900.092362278313,7924.130936281132,7947.987939904855,7971.706669990786,7995.324378897785,8018.880421921035,8042.248036379162,8065.423958617434,8088.465734022627,8111.273261387956,8133.974340714958,8156.5412455930855,8179.014739653571,8201.396572056283,8223.397078643076,8245.135680542671,8266.15775355762,8286.969962065152,8307.27318113428,8326.537178137654,8344.750799207897,8362.080214211053,8379.096766335608,8395.589412704838,8411.268779650802,8425.829721366199,8439.044762191481,8451.560091641251,8463.412185483701,8473.791793574697,8482.809285648853,8491.293656795651,8501.397489409272,8511.41884356963,8521.41897529072,8531.050487964834,8541.585126139158,8553.078756968644,8564.86350840494,8576.128536596592,8587.497916844286,8598.990659890478,8610.024895290186,8620.655267289154,8631.65084987679,8643.143184359107,8654.756214805648,8666.505450954739,8678.321033544684,8690.541316496858,8702.153024199784,8714.81248865283,8727.730635027645,8741.098469056722,8755.066958062675,8768.975179173394,8782.823189386321,8796.507725488595,8809.873851044049,8822.891304268269,8836.226349431607,8849.847657557413,8863.75718919687,8877.32535195362,8890.205603056324,8902.878266095771,8915.1014338223,8927.055162850771,8938.651711130033,8950.32430166011,8961.621087794112,8972.583109481475,8983.34901146091,8994.375362755725,9005.440155744403,9016.459663979726,9027.570304148292,9038.87222140071,9050.275336551469,9061.873561000244,9073.5706046982,9085.551159058106,9097.812527885495,9109.828200359005,9122.266014405286,9134.822462963899,9147.192393888925,9159.66810372892,9172.2629497742,9184.595633051062,9197.14956786863,9209.606280247577,9221.936925460532,9234.251662023786,9246.482308209212,9258.69522607259,9270.712848231115,9282.730471718534,9294.664878898906,9306.744457970082,9318.868398342387,9330.830295749858,9342.797595365297,9354.697585431793,9366.750812837354,9378.775895465227,9390.922105432546,9403.152772575557,9415.552214841353,9427.848768357915,9440.123825644532,9452.420803450139,9464.781042565632,9477.036654786332,9489.251348291276,9501.52885991865,9513.825848302538,9526.270912707287,9538.641443929639,9551.055589758798,9563.313437258072,9575.501212010864,9587.679098660401,9599.690788518688,9611.790660523748,9623.960118422903,9636.139052168284,9648.27160761207,9660.456081117789,9672.614291657086,9684.876859686428,9697.16921392105,9709.42708413351,9721.619047568047,9733.936557515357,9746.212846586062,9758.416570660866,9770.68477443875,9783.028701009203,9795.243450067206,9807.466491045192,9819.635600187989,9831.805416719999,9844.018682691281,9856.284142057199,9868.52751741351,9880.781572305792,9893.258874534795,9905.633752153331,9917.976379276854,9930.27664545268,9942.516735696508,9954.754470804219,9967.107242793374,9979.419645694117,9991.7220320931,10003.897373697777,10015.951435638062,10027.965297988338,10040.140199840385,10052.174841400736,10064.284420430002,10076.177379563422,10087.962128186799,10099.638729322094,10111.534455917534,10123.243838439683,10135.053213609994,10146.938067893663,10158.838090004383,10170.788961118817,10182.47041664965,10194.000827528496,10205.60665680437,10217.07862138228,10228.693007569904,10240.36782579904,10252.210326633889,10263.992696805166,10276.011096673183,10287.836097259049,10299.76246450342,10311.513061907834,10323.182019139516,10334.649606822895,10346.166901582415,10357.658155129666,10369.06833487416,10380.489558262923,10391.956530815558,10403.393920482755,10414.872964500371,10426.364548616826,10437.745747178293,10449.188556723424,10460.672953867786,10472.094459248316,10483.128657105199,10494.121415055137,10505.466893844909,10516.971492080302,10528.482635456505,10540.043047349502,10551.948294744428,10563.673932796233,10575.309551320863,10586.925987863626,10598.556999306165,10610.339970732955,10622.137628746108,10634.058050887825,10646.049314570106,10658.116546449148,10670.127473009892,10682.11669855123,10694.265126032238,10706.495531730116,10718.794994904598,10731.123713836916,10743.324906823826,10755.524009140889,10767.670020389018,10779.78661816573,10792.14904789298,10804.3725832309,10816.471936441118,10828.445345654238,10840.412788597536,10852.375206051196,10864.302136504324,10876.259868319637,10888.442623607072,10900.676267316769,10912.922561640533,10925.298404920459,10937.619001314451,10949.990144329793,10962.43634038914,10974.963141378448,10987.536235350364,11000.150754740389,11012.783407289648,11025.526574547777,11038.30306808429,11051.095430007494,11063.787681982545,11076.47993553276,11089.195651017244,11101.94484701119,11114.680924801276,11127.47249733833,11140.389408625544,11153.12400737665,11165.80181218137,11178.641512075186,11191.668205662676,11204.893648989162,11218.152147287596,11231.503866500208,11245.060424864856,11258.7018158337,11272.40718193557,11286.219664406202],\"xaxis\":\"x\",\"y\":[22.27988256,23.599674800000003,24.47207984,25.70239464,26.86560136,27.64852896,28.34197912,30.131527920000003,32.07766224,33.75536424,35.4554356,36.99892144,38.11738944,39.14638,39.97404632,40.7122352,41.4951628,42.34519848,43.239972879999996,44.13474728,44.91767488,45.67823312,46.46116072,47.24408832,48.02701592,48.809943520000004,49.48102432,49.9955196,50.95740208,51.65085224,52.14297816,52.545626639999995,52.88116704,53.21670744,53.61935592,53.86541888,54.20095928,54.49176096,54.9167788,55.09573368,55.27468856,55.40890472,55.54312088,55.54312088,55.54312088,55.54312088,55.43127408,55.4760128,55.54312088,55.520751520000005,55.40890472,55.43127408,55.45364344,55.61022896,55.85629192,56.23657104,56.61685016,57.108976080000005,57.7129488,58.20507472,58.74193936,59.278804,59.79329928,60.35253328,60.91176728,61.51574,62.4105144,63.26055008,63.95400024,64.62508104,65.2066844,65.83302648,66.41462984,66.9962332,67.51072848,68.04759312,68.47261096,69.0094756,69.47923216,69.83714192,70.75428568,71.17930352,71.40299712000001,71.51484392,71.581952,71.6937988,71.67142944,71.60432136,71.73853752000001,71.71616816000001,71.71616816000001,71.71616816000001,71.55958264,71.33588904,71.1345648,71.00034864,70.7990244,70.70954696,70.66480824,70.75428568,70.84376312,71.00034864,71.22404224,71.44773584,71.55958264,71.73853752000001,71.89512304,71.96223112,72.07407792,72.07407792,72.23066344,72.38724896,72.54383448,72.74515872,73.05832975999999,73.32676208000001,73.7070412,73.95310416000001,74.35575264,74.69129304,74.937356,75.2728964,75.47422064,75.85449976,76.21240952000001,76.68216608,77.15192264000001,77.64404856,78.35986808,78.98621016000001,79.79150712,80.73102024,82.16265928,82.81137072000001,83.21401920000001,83.72851448,84.13116296,84.39959528,84.64565824,84.8917212,85.04830672000001,84.98119864,84.95882927999999,84.82461312000001,84.80224376,84.57855016,84.46670336,84.42196464,84.31011783999999,84.26537912,84.13116296,83.92983872,83.68377575999999,83.50482088,83.39297408,83.325866,83.23638856000001,83.03506431999999,82.78900136,82.49819968000001,82.16265928,81.89422696,81.51394784,81.04419127999999,80.4178492,79.61255224000001,79.1875344,78.82962464,78.53882296,78.13617448,77.68878728,77.28613879999999,76.77164352,76.3913644,76.14530144,75.74265296,75.02683344,74.24390584,73.55045568000001,72.96885232,72.38724896,71.60432136,71.15693415999999,71.15693415999999,71.40299712000001,71.85038431999999,72.56620384,73.37150079999999,74.28864456000001,75.31763512,76.2795176,76.88349031999999,77.33087752,77.77826472000001,78.4046068,79.03094888,79.81387648,80.46258792,80.84286704,80.93234448,81.31262360000001,81.08893,80.77575896,80.37311048,79.94809264,79.09805696,78.4046068,77.9572196,77.28613879999999,76.77164352,75.89923848,75.2728964,75.34000448,74.69129304,74.02021224,73.43860888,72.83463616,72.20829408,71.60432136,70.77665504000001,70.10557424,69.36738536,68.69630456,68.06996248,67.53309784000001,66.8843864,66.4369992,66.12382816,65.78828776,65.40800863999999,65.16194568,64.91588272,64.6474504,64.40138744,64.0882164,63.8645228,63.6408292,63.28291944,62.99211776,62.67894672,62.388145040000005,62.09734336,61.896019120000005,61.69469488,61.44863192,61.13546088,60.8446592,60.68807368,60.59859624,60.59859624,60.44201072,60.26305584000001,59.994623520000005,59.48012824,59.0551104,58.85378616,58.18270536000001,57.86953432,57.69057944,57.62347136,57.55636328,57.53399392,57.44451648,57.13134544,56.86291312,56.795805040000005,56.57211144,56.54974208,56.54974208,56.46026464,56.34841784,56.303679120000005,56.2589404,56.2589404,56.32604848,56.52737272,57.66821008,58.18270536000001,58.09322792,57.31030032,56.90765184000001,56.86291312,56.88528248,57.041868,57.13134544,57.22082288,57.3774084,57.51162456,57.53399392,57.62347136,57.73531816,57.89190368,58.02611984000001,58.070858560000005,58.00375048,58.09322792,57.914273040000005,57.7129488,57.51162456,57.265561600000005,56.97475992,56.90765184000001,56.90765184000001,56.90765184000001,56.952390560000005,57.041868,57.108976080000005,57.46688584,57.3774084,57.35503904,57.176084159999995,56.952390560000005,56.639219520000005,56.41552592,56.19183232,55.901030639999995,55.833922560000005,55.85629192,55.76681448,55.94576936000001,56.147093600000005,56.34841784,56.54974208,56.72869696,56.97475992,56.97475992,57.08660672,57.13134544,57.69057944,57.914273040000005,58.31692152,58.09322792,58.58535384,58.89852488,58.9432636,59.032741040000005,59.12221848,59.256434639999995,59.6143444,60.151209040000005,60.79992048,61.44863192,62.20919016,63.12633392,64.04347768,64.93825208,66.03435072,67.53309784000001,69.16606112000001,70.66480824,72.11881664,73.41623952,74.60181560000001,75.9439772,77.17429200000001,78.33749872000001,79.54544416,81.02182192,81.8718576,82.07318183999999,82.56530776,83.01269496,83.57192896,83.95220808,83.79562256,82.96795624,82.27450608000001,81.40210104,80.12704752,78.89673272,76.055824,72.67805064000001,69.47923216,66.52647664,62.7460548,58.160336,54.73782392,52.61273472,50.7784472,48.5415112,46.7519624,45.23084592,44.15711664,43.10575672,42.121504879999996,41.11488368,40.22010928,38.922686399999996,36.976552080000005,34.71724672,32.27898648,29.68414072,27.7380064,26.57479968,25.21026872,24.89709768,24.047062,22.481206800000002,21.42984688,20.199532079999997,19.7968836,18.76789304,17.73890248,17.291515280000002,16.6651732,15.7703988,15.36775032,14.92036312,14.517714640000001,14.18217424,14.00321936,13.80189512,13.6453096,13.35450792,13.421616,13.51109344,13.46635472,13.55583216,13.734787039999999,13.77952576,13.93611128,14.02558872,14.04795808,14.2045436,14.294021039999999,14.49534528,14.719038880000001,14.69666952,14.80851632,14.875624400000001,14.80851632,14.67430016,14.67430016,14.719038880000001,14.69666952,14.62956144,14.60719208,14.540084,14.49534528,14.36112912,14.294021039999999,14.24928232,14.0926968,14.04795808,13.958480640000001,13.98085,13.91374192,14.07032744,13.80189512,13.91374192,13.958480640000001,14.18217424,14.18217424,14.27165168,14.18217424,14.27165168,14.33875976,14.36112912,14.38349848,14.294021039999999,14.33875976,14.316390400000001,14.33875976,14.226912960000002,14.11506616,14.13743552,14.07032744,14.02558872,14.00321936,13.84663384,13.84663384,14.00321936,14.07032744,14.0926968,14.159804880000001,14.02558872,13.89137256,13.91374192,13.89137256,14.00321936,14.18217424,14.33875976,14.69666952,14.719038880000001,14.719038880000001,14.719038880000001,14.58482272,14.24928232,14.36112912,14.45060656,14.49534528,14.517714640000001,14.45060656,14.517714640000001,14.47297592,14.36112912,14.2045436,14.11506616,14.04795808,13.98085,13.89137256,13.91374192,13.84663384,13.84663384,14.540084,14.226912960000002,14.00321936,13.80189512,13.77952576,13.6453096,13.62294024,13.600570880000001,13.6453096,13.6453096,13.667678960000002,13.667678960000002,13.667678960000002,13.71241768,13.667678960000002,13.46635472,13.57820152,13.6453096,13.82426448,13.91374192,14.02558872,14.00321936,14.00321936,14.00321936,14.04795808,14.11506616,14.11506616,14.13743552,14.13743552,14.0926968,13.8690032,13.89137256,14.00321936,13.98085,14.36112912,14.159804880000001,14.02558872,13.98085,13.93611128,13.757156400000001,13.667678960000002,13.8690032,13.77952576,13.91374192,14.07032744,14.517714640000001,14.94273248,15.345380960000002,15.72566008,16.19541664,16.4414796,16.5533264,16.642803840000003,16.75465064,16.732281280000002,16.70991192,16.41911024,16.173047280000002,15.85987624,15.59144392,15.23353416,15.03220992,14.786146960000002,14.517714640000001,14.36112912,14.24928232,14.11506616,14.07032744,14.159804880000001,14.13743552,14.07032744,14.07032744,13.958480640000001,13.89137256,13.8690032,13.84663384,13.89137256,13.958480640000001,13.89137256,14.02558872,14.18217424,14.33875976,14.49534528,14.719038880000001,15.12168736,15.658552,16.26252472,16.911236159999998,17.6717944,17.962596079999997,18.253397760000002,18.566568800000002,18.85737048,19.14817216,19.55082064,19.95346912,20.42322568,21.29563072,21.85486472,22.19040512],\"yaxis\":\"y\",\"type\":\"scatter\"}],                        {\"template\":{\"data\":{\"histogram2dcontour\":[{\"type\":\"histogram2dcontour\",\"colorbar\":{\"outlinewidth\":0,\"ticks\":\"\"},\"colorscale\":[[0.0,\"#0d0887\"],[0.1111111111111111,\"#46039f\"],[0.2222222222222222,\"#7201a8\"],[0.3333333333333333,\"#9c179e\"],[0.4444444444444444,\"#bd3786\"],[0.5555555555555556,\"#d8576b\"],[0.6666666666666666,\"#ed7953\"],[0.7777777777777778,\"#fb9f3a\"],[0.8888888888888888,\"#fdca26\"],[1.0,\"#f0f921\"]]}],\"choropleth\":[{\"type\":\"choropleth\",\"colorbar\":{\"outlinewidth\":0,\"ticks\":\"\"}}],\"histogram2d\":[{\"type\":\"histogram2d\",\"colorbar\":{\"outlinewidth\":0,\"ticks\":\"\"},\"colorscale\":[[0.0,\"#0d0887\"],[0.1111111111111111,\"#46039f\"],[0.2222222222222222,\"#7201a8\"],[0.3333333333333333,\"#9c179e\"],[0.4444444444444444,\"#bd3786\"],[0.5555555555555556,\"#d8576b\"],[0.6666666666666666,\"#ed7953\"],[0.7777777777777778,\"#fb9f3a\"],[0.8888888888888888,\"#fdca26\"],[1.0,\"#f0f921\"]]}],\"heatmap\":[{\"type\":\"heatmap\",\"colorbar\":{\"outlinewidth\":0,\"ticks\":\"\"},\"colorscale\":[[0.0,\"#0d0887\"],[0.1111111111111111,\"#46039f\"],[0.2222222222222222,\"#7201a8\"],[0.3333333333333333,\"#9c179e\"],[0.4444444444444444,\"#bd3786\"],[0.5555555555555556,\"#d8576b\"],[0.6666666666666666,\"#ed7953\"],[0.7777777777777778,\"#fb9f3a\"],[0.8888888888888888,\"#fdca26\"],[1.0,\"#f0f921\"]]}],\"heatmapgl\":[{\"type\":\"heatmapgl\",\"colorbar\":{\"outlinewidth\":0,\"ticks\":\"\"},\"colorscale\":[[0.0,\"#0d0887\"],[0.1111111111111111,\"#46039f\"],[0.2222222222222222,\"#7201a8\"],[0.3333333333333333,\"#9c179e\"],[0.4444444444444444,\"#bd3786\"],[0.5555555555555556,\"#d8576b\"],[0.6666666666666666,\"#ed7953\"],[0.7777777777777778,\"#fb9f3a\"],[0.8888888888888888,\"#fdca26\"],[1.0,\"#f0f921\"]]}],\"contourcarpet\":[{\"type\":\"contourcarpet\",\"colorbar\":{\"outlinewidth\":0,\"ticks\":\"\"}}],\"contour\":[{\"type\":\"contour\",\"colorbar\":{\"outlinewidth\":0,\"ticks\":\"\"},\"colorscale\":[[0.0,\"#0d0887\"],[0.1111111111111111,\"#46039f\"],[0.2222222222222222,\"#7201a8\"],[0.3333333333333333,\"#9c179e\"],[0.4444444444444444,\"#bd3786\"],[0.5555555555555556,\"#d8576b\"],[0.6666666666666666,\"#ed7953\"],[0.7777777777777778,\"#fb9f3a\"],[0.8888888888888888,\"#fdca26\"],[1.0,\"#f0f921\"]]}],\"surface\":[{\"type\":\"surface\",\"colorbar\":{\"outlinewidth\":0,\"ticks\":\"\"},\"colorscale\":[[0.0,\"#0d0887\"],[0.1111111111111111,\"#46039f\"],[0.2222222222222222,\"#7201a8\"],[0.3333333333333333,\"#9c179e\"],[0.4444444444444444,\"#bd3786\"],[0.5555555555555556,\"#d8576b\"],[0.6666666666666666,\"#ed7953\"],[0.7777777777777778,\"#fb9f3a\"],[0.8888888888888888,\"#fdca26\"],[1.0,\"#f0f921\"]]}],\"mesh3d\":[{\"type\":\"mesh3d\",\"colorbar\":{\"outlinewidth\":0,\"ticks\":\"\"}}],\"scatter\":[{\"fillpattern\":{\"fillmode\":\"overlay\",\"size\":10,\"solidity\":0.2},\"type\":\"scatter\"}],\"parcoords\":[{\"type\":\"parcoords\",\"line\":{\"colorbar\":{\"outlinewidth\":0,\"ticks\":\"\"}}}],\"scatterpolargl\":[{\"type\":\"scatterpolargl\",\"marker\":{\"colorbar\":{\"outlinewidth\":0,\"ticks\":\"\"}}}],\"bar\":[{\"error_x\":{\"color\":\"#2a3f5f\"},\"error_y\":{\"color\":\"#2a3f5f\"},\"marker\":{\"line\":{\"color\":\"#E5ECF6\",\"width\":0.5},\"pattern\":{\"fillmode\":\"overlay\",\"size\":10,\"solidity\":0.2}},\"type\":\"bar\"}],\"scattergeo\":[{\"type\":\"scattergeo\",\"marker\":{\"colorbar\":{\"outlinewidth\":0,\"ticks\":\"\"}}}],\"scatterpolar\":[{\"type\":\"scatterpolar\",\"marker\":{\"colorbar\":{\"outlinewidth\":0,\"ticks\":\"\"}}}],\"histogram\":[{\"marker\":{\"pattern\":{\"fillmode\":\"overlay\",\"size\":10,\"solidity\":0.2}},\"type\":\"histogram\"}],\"scattergl\":[{\"type\":\"scattergl\",\"marker\":{\"colorbar\":{\"outlinewidth\":0,\"ticks\":\"\"}}}],\"scatter3d\":[{\"type\":\"scatter3d\",\"line\":{\"colorbar\":{\"outlinewidth\":0,\"ticks\":\"\"}},\"marker\":{\"colorbar\":{\"outlinewidth\":0,\"ticks\":\"\"}}}],\"scattermapbox\":[{\"type\":\"scattermapbox\",\"marker\":{\"colorbar\":{\"outlinewidth\":0,\"ticks\":\"\"}}}],\"scatterternary\":[{\"type\":\"scatterternary\",\"marker\":{\"colorbar\":{\"outlinewidth\":0,\"ticks\":\"\"}}}],\"scattercarpet\":[{\"type\":\"scattercarpet\",\"marker\":{\"colorbar\":{\"outlinewidth\":0,\"ticks\":\"\"}}}],\"carpet\":[{\"aaxis\":{\"endlinecolor\":\"#2a3f5f\",\"gridcolor\":\"white\",\"linecolor\":\"white\",\"minorgridcolor\":\"white\",\"startlinecolor\":\"#2a3f5f\"},\"baxis\":{\"endlinecolor\":\"#2a3f5f\",\"gridcolor\":\"white\",\"linecolor\":\"white\",\"minorgridcolor\":\"white\",\"startlinecolor\":\"#2a3f5f\"},\"type\":\"carpet\"}],\"table\":[{\"cells\":{\"fill\":{\"color\":\"#EBF0F8\"},\"line\":{\"color\":\"white\"}},\"header\":{\"fill\":{\"color\":\"#C8D4E3\"},\"line\":{\"color\":\"white\"}},\"type\":\"table\"}],\"barpolar\":[{\"marker\":{\"line\":{\"color\":\"#E5ECF6\",\"width\":0.5},\"pattern\":{\"fillmode\":\"overlay\",\"size\":10,\"solidity\":0.2}},\"type\":\"barpolar\"}],\"pie\":[{\"automargin\":true,\"type\":\"pie\"}]},\"layout\":{\"autotypenumbers\":\"strict\",\"colorway\":[\"#636efa\",\"#EF553B\",\"#00cc96\",\"#ab63fa\",\"#FFA15A\",\"#19d3f3\",\"#FF6692\",\"#B6E880\",\"#FF97FF\",\"#FECB52\"],\"font\":{\"color\":\"#2a3f5f\"},\"hovermode\":\"closest\",\"hoverlabel\":{\"align\":\"left\"},\"paper_bgcolor\":\"white\",\"plot_bgcolor\":\"#E5ECF6\",\"polar\":{\"bgcolor\":\"#E5ECF6\",\"angularaxis\":{\"gridcolor\":\"white\",\"linecolor\":\"white\",\"ticks\":\"\"},\"radialaxis\":{\"gridcolor\":\"white\",\"linecolor\":\"white\",\"ticks\":\"\"}},\"ternary\":{\"bgcolor\":\"#E5ECF6\",\"aaxis\":{\"gridcolor\":\"white\",\"linecolor\":\"white\",\"ticks\":\"\"},\"baxis\":{\"gridcolor\":\"white\",\"linecolor\":\"white\",\"ticks\":\"\"},\"caxis\":{\"gridcolor\":\"white\",\"linecolor\":\"white\",\"ticks\":\"\"}},\"coloraxis\":{\"colorbar\":{\"outlinewidth\":0,\"ticks\":\"\"}},\"colorscale\":{\"sequential\":[[0.0,\"#0d0887\"],[0.1111111111111111,\"#46039f\"],[0.2222222222222222,\"#7201a8\"],[0.3333333333333333,\"#9c179e\"],[0.4444444444444444,\"#bd3786\"],[0.5555555555555556,\"#d8576b\"],[0.6666666666666666,\"#ed7953\"],[0.7777777777777778,\"#fb9f3a\"],[0.8888888888888888,\"#fdca26\"],[1.0,\"#f0f921\"]],\"sequentialminus\":[[0.0,\"#0d0887\"],[0.1111111111111111,\"#46039f\"],[0.2222222222222222,\"#7201a8\"],[0.3333333333333333,\"#9c179e\"],[0.4444444444444444,\"#bd3786\"],[0.5555555555555556,\"#d8576b\"],[0.6666666666666666,\"#ed7953\"],[0.7777777777777778,\"#fb9f3a\"],[0.8888888888888888,\"#fdca26\"],[1.0,\"#f0f921\"]],\"diverging\":[[0,\"#8e0152\"],[0.1,\"#c51b7d\"],[0.2,\"#de77ae\"],[0.3,\"#f1b6da\"],[0.4,\"#fde0ef\"],[0.5,\"#f7f7f7\"],[0.6,\"#e6f5d0\"],[0.7,\"#b8e186\"],[0.8,\"#7fbc41\"],[0.9,\"#4d9221\"],[1,\"#276419\"]]},\"xaxis\":{\"gridcolor\":\"white\",\"linecolor\":\"white\",\"ticks\":\"\",\"title\":{\"standoff\":15},\"zerolinecolor\":\"white\",\"automargin\":true,\"zerolinewidth\":2},\"yaxis\":{\"gridcolor\":\"white\",\"linecolor\":\"white\",\"ticks\":\"\",\"title\":{\"standoff\":15},\"zerolinecolor\":\"white\",\"automargin\":true,\"zerolinewidth\":2},\"scene\":{\"xaxis\":{\"backgroundcolor\":\"#E5ECF6\",\"gridcolor\":\"white\",\"linecolor\":\"white\",\"showbackground\":true,\"ticks\":\"\",\"zerolinecolor\":\"white\",\"gridwidth\":2},\"yaxis\":{\"backgroundcolor\":\"#E5ECF6\",\"gridcolor\":\"white\",\"linecolor\":\"white\",\"showbackground\":true,\"ticks\":\"\",\"zerolinecolor\":\"white\",\"gridwidth\":2},\"zaxis\":{\"backgroundcolor\":\"#E5ECF6\",\"gridcolor\":\"white\",\"linecolor\":\"white\",\"showbackground\":true,\"ticks\":\"\",\"zerolinecolor\":\"white\",\"gridwidth\":2}},\"shapedefaults\":{\"line\":{\"color\":\"#2a3f5f\"}},\"annotationdefaults\":{\"arrowcolor\":\"#2a3f5f\",\"arrowhead\":0,\"arrowwidth\":1},\"geo\":{\"bgcolor\":\"white\",\"landcolor\":\"#E5ECF6\",\"subunitcolor\":\"white\",\"showland\":true,\"showlakes\":true,\"lakecolor\":\"white\"},\"title\":{\"x\":0.05},\"mapbox\":{\"style\":\"light\"}}},\"xaxis\":{\"anchor\":\"y\",\"domain\":[0.0,1.0],\"title\":{\"text\":\"horizontal_distance\"},\"showspikes\":true,\"spikecolor\":\"black\",\"spikethickness\":0.5},\"yaxis\":{\"anchor\":\"x\",\"domain\":[0.0,1.0],\"title\":{\"text\":\"vertical_speed\"},\"showspikes\":true,\"spikecolor\":\"black\",\"spikethickness\":0.5},\"legend\":{\"tracegroupgap\":0},\"margin\":{\"t\":60}},                        {\"responsive\": true}                    ).then(function(){\n",
       "                            \n",
       "var gd = document.getElementById('1dc1d3df-aff2-47a3-86fe-87d1250377ea');\n",
       "var x = new MutationObserver(function (mutations, observer) {{\n",
       "        var display = window.getComputedStyle(gd).display;\n",
       "        if (!display || display === 'none') {{\n",
       "            console.log([gd, 'removed!']);\n",
       "            Plotly.purge(gd);\n",
       "            observer.disconnect();\n",
       "        }}\n",
       "}});\n",
       "\n",
       "// Listen for the removal of the full notebook cells\n",
       "var notebookContainer = gd.closest('#notebook-container');\n",
       "if (notebookContainer) {{\n",
       "    x.observe(notebookContainer, {childList: true});\n",
       "}}\n",
       "\n",
       "// Listen for the clearing of the current output cell\n",
       "var outputEl = gd.closest('.output');\n",
       "if (outputEl) {{\n",
       "    x.observe(outputEl, {childList: true});\n",
       "}}\n",
       "\n",
       "                        })                };                });            </script>        </div>"
      ]
     },
     "metadata": {},
     "output_type": "display_data"
    }
   ],
   "source": [
    "fig = px.line(df, x=\"horizontal_distance\", y=\"vertical_speed\")\n",
    "fig.update_traces(mode=\"lines\")\n",
    "fig.update_xaxes(showspikes=True, spikecolor=\"black\", spikethickness=0.5)\n",
    "fig.update_yaxes(showspikes=True, spikecolor=\"black\", spikethickness=0.5)\n",
    "fig.show()"
   ]
  },
  {
   "cell_type": "code",
   "execution_count": 36,
   "id": "e90a59ca",
   "metadata": {
    "scrolled": false
   },
   "outputs": [
    {
     "data": {
      "application/vnd.plotly.v1+json": {
       "config": {
        "plotlyServerURL": "https://plot.ly"
       },
       "data": [
        {
         "hovertemplate": "lat=%{lat}<br>lon=%{lon}<extra></extra>",
         "lat": [
          53.6322164,
          53.6322474,
          53.6322553,
          53.6322564,
          53.6322638,
          53.6322682,
          53.6322751,
          53.6322824,
          53.6322877,
          53.6322976,
          53.6323045,
          53.6323111,
          53.6323162,
          53.6323235,
          53.6323315,
          53.6323411,
          53.6323482,
          53.632356,
          53.6323633,
          53.6323702,
          53.6323775,
          53.6323841,
          53.6323906,
          53.632397,
          53.6324034,
          53.6324102,
          53.6324168,
          53.6324232,
          53.6324297,
          53.632436,
          53.6324424,
          53.6324491,
          53.6324561,
          53.6324635,
          53.6324709,
          53.6324786,
          53.6324866,
          53.632495,
          53.6325037,
          53.6325127,
          53.6325213,
          53.6325296,
          53.6325372,
          53.6325444,
          53.6325512,
          53.6325574,
          53.6325634,
          53.6325687,
          53.6325737,
          53.6325783,
          53.6325816,
          53.6325847,
          53.6325876,
          53.6325896,
          53.6325912,
          53.6325926,
          53.6325937,
          53.6325945,
          53.6325946,
          53.6325939,
          53.6325933,
          53.6325927,
          53.6325923,
          53.6325913,
          53.6325901,
          53.6325886,
          53.6325866,
          53.6325851,
          53.6325837,
          53.6325823,
          53.6325805,
          53.6325784,
          53.6325762,
          53.6325738,
          53.6325712,
          53.6325678,
          53.6325638,
          53.6325598,
          53.6325558,
          53.6325516,
          53.6325484,
          53.6325452,
          53.6325421,
          53.6325392,
          53.6325371,
          53.6325355,
          53.6325343,
          53.6325332,
          53.6325326,
          53.6325322,
          53.6325318,
          53.6325313,
          53.6325307,
          53.63253,
          53.6325293,
          53.6325287,
          53.6325282,
          53.6325281,
          53.6325283,
          53.6325291,
          53.6325305,
          53.6325325,
          53.6325353,
          53.632539,
          53.6325435,
          53.6325481,
          53.6325534,
          53.6325587,
          53.6325642,
          53.6325698,
          53.6325754,
          53.6325807,
          53.6325861,
          53.6325917,
          53.6325975,
          53.6326034,
          53.63261,
          53.6326169,
          53.6326244,
          53.6326327,
          53.6326427,
          53.6326544,
          53.6326679,
          53.6326834,
          53.6327015,
          53.6327222,
          53.6327452,
          53.6327704,
          53.6327987,
          53.6328288,
          53.6328613,
          53.6328968,
          53.6329345,
          53.6329737,
          53.6330143,
          53.6330568,
          53.6331007,
          53.6331462,
          53.633193,
          53.6332412,
          53.6332909,
          53.6333417,
          53.6333939,
          53.6334474,
          53.6335022,
          53.6335583,
          53.6336151,
          53.6336731,
          53.6337316,
          53.6337911,
          53.6338512,
          53.6339125,
          53.6339742,
          53.6340366,
          53.6340993,
          53.6341623,
          53.6342254,
          53.6342887,
          53.6343522,
          53.6344162,
          53.6344805,
          53.6345449,
          53.6346097,
          53.6346752,
          53.634741,
          53.634874,
          53.6349411,
          53.6350085,
          53.6350758,
          53.6351438,
          53.6352123,
          53.6352812,
          53.6353501,
          53.635419,
          53.6354875,
          53.6355559,
          53.6356245,
          53.6356934,
          53.6357614,
          53.6358301,
          53.6358982,
          53.6359662,
          53.6360331,
          53.6360986,
          53.6361623,
          53.6362237,
          53.6362825,
          53.636339,
          53.6363931,
          53.6364454,
          53.6364964,
          53.6365461,
          53.6365949,
          53.6366421,
          53.6366881,
          53.6367328,
          53.6367765,
          53.6368196,
          53.6368615,
          53.6369015,
          53.6369391,
          53.6369765,
          53.6370133,
          53.6370491,
          53.6370838,
          53.6371164,
          53.6371484,
          53.6371799,
          53.6372107,
          53.6372411,
          53.6372707,
          53.6372992,
          53.6373264,
          53.6373523,
          53.6373769,
          53.6374003,
          53.637422,
          53.6374414,
          53.6374586,
          53.6374741,
          53.6374882,
          53.6375004,
          53.6375113,
          53.637521,
          53.6375295,
          53.6375371,
          53.6375442,
          53.6375509,
          53.6375575,
          53.6375638,
          53.6375702,
          53.6375768,
          53.6375836,
          53.6375906,
          53.6375974,
          53.6376036,
          53.6376093,
          53.6376149,
          53.6376204,
          53.6376253,
          53.6376291,
          53.6376317,
          53.6376336,
          53.6376351,
          53.6376364,
          53.6376364,
          53.6376348,
          53.6376313,
          53.6376263,
          53.6376201,
          53.6376126,
          53.6376032,
          53.6375931,
          53.6375824,
          53.6375718,
          53.6375613,
          53.6375522,
          53.6375438,
          53.6375359,
          53.6375288,
          53.6375227,
          53.6375173,
          53.6375119,
          53.6375062,
          53.6374994,
          53.6374913,
          53.6374824,
          53.6374728,
          53.6374629,
          53.6374533,
          53.6374432,
          53.6374334,
          53.6374242,
          53.6374157,
          53.6374087,
          53.6374032,
          53.6373974,
          53.637392,
          53.6373863,
          53.6373806,
          53.637374,
          53.6373664,
          53.6373576,
          53.6373477,
          53.6373365,
          53.6373247,
          53.6373131,
          53.6373021,
          53.6372915,
          53.6372808,
          53.6372698,
          53.6372583,
          53.6372465,
          53.6372349,
          53.6372232,
          53.6372109,
          53.6371983,
          53.6371856,
          53.6371729,
          53.6371606,
          53.6371491,
          53.6371385,
          53.6371292,
          53.6371209,
          53.6371139,
          53.6371079,
          53.6371032,
          53.6370994,
          53.6370961,
          53.6370932,
          53.6370908,
          53.6370886,
          53.6370864,
          53.6370844,
          53.6370828,
          53.6370823,
          53.6370823,
          53.6370825,
          53.6370829,
          53.6370836,
          53.6370844,
          53.6370855,
          53.6370861,
          53.6370856,
          53.6370837,
          53.6370809,
          53.6370768,
          53.6370717,
          53.6370646,
          53.6370573,
          53.6370493,
          53.6370411,
          53.6370318,
          53.6370132,
          53.6370039,
          53.6369949,
          53.636986,
          53.6369778,
          53.6369697,
          53.6369614,
          53.6369528,
          53.6369439,
          53.6369345,
          53.6369245,
          53.6369143,
          53.636904,
          53.6368933,
          53.6368822,
          53.6368711,
          53.6368601,
          53.6368491,
          53.6368381,
          53.6368272,
          53.6368161,
          53.6368051,
          53.6367944,
          53.6367838,
          53.6367731,
          53.636763,
          53.6367532,
          53.636744,
          53.6367346,
          53.6367235,
          53.6367119,
          53.636701,
          53.636691,
          53.6366823,
          53.6366746,
          53.6366662,
          53.6366567,
          53.6366462,
          53.6366354,
          53.6366237,
          53.6366117,
          53.6366009,
          53.6365939,
          53.6365853,
          53.6365699,
          53.6365506,
          53.6365296,
          53.6365074,
          53.636483,
          53.6364563,
          53.6364284,
          53.6364,
          53.63637,
          53.6363385,
          53.6363068,
          53.636275,
          53.6362433,
          53.6362103,
          53.6361785,
          53.6361438,
          53.6361086,
          53.6360725,
          53.6360349,
          53.6359981,
          53.6359622,
          53.6359269,
          53.6358928,
          53.635861,
          53.6358302,
          53.6357992,
          53.6357663,
          53.6357339,
          53.6357029,
          53.6356718,
          53.6356419,
          53.6356125,
          53.6355839,
          53.6355549,
          53.6355266,
          53.6354984,
          53.6354706,
          53.6354423,
          53.635414,
          53.6353864,
          53.6353582,
          53.6353301,
          53.6353023,
          53.6352739,
          53.6352455,
          53.6352172,
          53.6351885,
          53.6351603,
          53.6351317,
          53.6351026,
          53.6350743,
          53.6350455,
          53.6350157,
          53.6349867,
          53.6349571,
          53.6349276,
          53.6348978,
          53.6348678,
          53.6348375,
          53.6348069,
          53.6347766,
          53.6347463,
          53.634716,
          53.6346852,
          53.6346542,
          53.6346237,
          53.6345934,
          53.6345634,
          53.6345332,
          53.6345033,
          53.6344732,
          53.6344429,
          53.6344127,
          53.6343832,
          53.6343539,
          53.6343247,
          53.6342953,
          53.6342663,
          53.6342375,
          53.6342085,
          53.6341793,
          53.6341497,
          53.6341202,
          53.6340903,
          53.6340606,
          53.6340309,
          53.6340012,
          53.6339718,
          53.6339421,
          53.6339121,
          53.6338821,
          53.6338523,
          53.6338224,
          53.6337927,
          53.6337628,
          53.6337329,
          53.6337032,
          53.6336738,
          53.6336444,
          53.6336153,
          53.6335865,
          53.6335576,
          53.6335286,
          53.6334998,
          53.6334708,
          53.6334417,
          53.6334128,
          53.6333839,
          53.6333548,
          53.6333256,
          53.6332964,
          53.6332664,
          53.6332364,
          53.6332065,
          53.6331767,
          53.6331469,
          53.6331172,
          53.6330873,
          53.6330574,
          53.6330275,
          53.6329979,
          53.6329684,
          53.6329393,
          53.6329094,
          53.6328799,
          53.6328502,
          53.6328207,
          53.6327915,
          53.6327626,
          53.6327329,
          53.6327036,
          53.632674,
          53.6326442,
          53.6326141,
          53.6325838,
          53.6325543,
          53.6325251,
          53.6324958,
          53.6324667,
          53.6324373,
          53.6324076,
          53.6323775,
          53.6323477,
          53.6323172,
          53.6322872,
          53.6322569,
          53.632227,
          53.6321972,
          53.6321679,
          53.6321385,
          53.6321092,
          53.63208,
          53.6320507,
          53.6320212,
          53.6319917,
          53.6319621,
          53.6319324,
          53.631903,
          53.6318734,
          53.6318437,
          53.6318141,
          53.6317854,
          53.6317568,
          53.6317274,
          53.6316976,
          53.6316677,
          53.6316378,
          53.6316069,
          53.6315765,
          53.6315463,
          53.6315163,
          53.6314863,
          53.6314559,
          53.6314255,
          53.6313947,
          53.6313638,
          53.6313327,
          53.6313017,
          53.6312707,
          53.6312393,
          53.6312076,
          53.6311756,
          53.6311434,
          53.6311114,
          53.6310793,
          53.6310473,
          53.6310153,
          53.6309827,
          53.6309503,
          53.6309181,
          53.6308861,
          53.6308542,
          53.6308223,
          53.6307905,
          53.6307587,
          53.6307264,
          53.6306941,
          53.6306619,
          53.6306294,
          53.6305973,
          53.6305654,
          53.6305335,
          53.6305015,
          53.6304696,
          53.6304378,
          53.6304061,
          53.6303742,
          53.6303422,
          53.6303101,
          53.6302783,
          53.6302465,
          53.6302145,
          53.6301822,
          53.6301497,
          53.6301169,
          53.6300838,
          53.6300511,
          53.6300185,
          53.6299853,
          53.6299513,
          53.6299166,
          53.6298817,
          53.6298465,
          53.6298107,
          53.6297745,
          53.629738,
          53.6297011
         ],
         "legendgroup": "",
         "line": {
          "color": "#636efa"
         },
         "lon": [
          -114.1941555,
          -114.1942516,
          -114.1943456,
          -114.194444,
          -114.1945308,
          -114.1946206,
          -114.1947084,
          -114.194794,
          -114.1948735,
          -114.1949537,
          -114.1950327,
          -114.1951096,
          -114.1951889,
          -114.1952677,
          -114.195346,
          -114.1954241,
          -114.1955028,
          -114.1955826,
          -114.1956622,
          -114.1957418,
          -114.1958202,
          -114.1958997,
          -114.1959793,
          -114.196058,
          -114.1961363,
          -114.1962137,
          -114.1962911,
          -114.1963693,
          -114.1964445,
          -114.1965197,
          -114.1965942,
          -114.1966682,
          -114.1967429,
          -114.1968175,
          -114.1968917,
          -114.1969659,
          -114.1970391,
          -114.1971121,
          -114.1971858,
          -114.1972596,
          -114.1973335,
          -114.1974073,
          -114.1974816,
          -114.1975559,
          -114.1976302,
          -114.1977041,
          -114.1977781,
          -114.1978521,
          -114.1979263,
          -114.198,
          -114.198074,
          -114.1981474,
          -114.1982212,
          -114.1982948,
          -114.1983688,
          -114.1984428,
          -114.1985175,
          -114.1985927,
          -114.1986683,
          -114.1987445,
          -114.1988216,
          -114.198899,
          -114.1989772,
          -114.1990551,
          -114.1991332,
          -114.1992116,
          -114.1992916,
          -114.1993724,
          -114.1994537,
          -114.1995355,
          -114.1996179,
          -114.1997012,
          -114.1997849,
          -114.1998695,
          -114.1999547,
          -114.2000406,
          -114.2001271,
          -114.2002146,
          -114.2003029,
          -114.2003917,
          -114.2004806,
          -114.20057,
          -114.20066,
          -114.2007499,
          -114.2008403,
          -114.2009314,
          -114.2010229,
          -114.2011147,
          -114.2012072,
          -114.2013004,
          -114.2013939,
          -114.2014883,
          -114.2015834,
          -114.2016795,
          -114.201776,
          -114.2018732,
          -114.2019711,
          -114.2020696,
          -114.2021684,
          -114.2022674,
          -114.2023666,
          -114.2024659,
          -114.2025651,
          -114.2026647,
          -114.2027649,
          -114.2028658,
          -114.2029669,
          -114.2030683,
          -114.2031703,
          -114.2032732,
          -114.2033763,
          -114.2034793,
          -114.2035822,
          -114.2036855,
          -114.2037887,
          -114.203892,
          -114.2039954,
          -114.2040991,
          -114.2042027,
          -114.2043058,
          -114.2044083,
          -114.2045099,
          -114.2046099,
          -114.2047081,
          -114.204804,
          -114.204897,
          -114.2049863,
          -114.2050718,
          -114.2051525,
          -114.2052291,
          -114.2053011,
          -114.2053674,
          -114.2054286,
          -114.2054857,
          -114.2055383,
          -114.2055878,
          -114.2056337,
          -114.205676,
          -114.2057157,
          -114.2057532,
          -114.2057889,
          -114.2058223,
          -114.205853,
          -114.2058809,
          -114.2059065,
          -114.2059297,
          -114.2059508,
          -114.2059701,
          -114.2059883,
          -114.2060055,
          -114.2060214,
          -114.2060362,
          -114.2060501,
          -114.2060634,
          -114.2060769,
          -114.2060908,
          -114.2061057,
          -114.2061214,
          -114.2061386,
          -114.2061562,
          -114.206174,
          -114.2061921,
          -114.20621,
          -114.206227,
          -114.2062424,
          -114.2062687,
          -114.206279,
          -114.2062875,
          -114.2062939,
          -114.2062983,
          -114.2063012,
          -114.2063033,
          -114.2063044,
          -114.2063055,
          -114.2063075,
          -114.20631,
          -114.2063118,
          -114.2063114,
          -114.2063096,
          -114.2063055,
          -114.2062989,
          -114.206287,
          -114.2062711,
          -114.2062506,
          -114.2062249,
          -114.2061941,
          -114.2061584,
          -114.2061176,
          -114.2060722,
          -114.2060217,
          -114.2059659,
          -114.2059068,
          -114.2058437,
          -114.2057771,
          -114.2057057,
          -114.2056307,
          -114.205553,
          -114.2054721,
          -114.2053882,
          -114.2053007,
          -114.2052091,
          -114.2051142,
          -114.2050173,
          -114.2049182,
          -114.2048164,
          -114.2047121,
          -114.2046059,
          -114.2044985,
          -114.2043897,
          -114.2042797,
          -114.2041672,
          -114.2040527,
          -114.2039361,
          -114.203817,
          -114.2036965,
          -114.2035745,
          -114.2034509,
          -114.2033259,
          -114.2031996,
          -114.2030722,
          -114.2029434,
          -114.2028133,
          -114.2026825,
          -114.202551,
          -114.2024189,
          -114.202286,
          -114.2021527,
          -114.2020192,
          -114.2018854,
          -114.2017512,
          -114.2016169,
          -114.2014828,
          -114.2013487,
          -114.2012145,
          -114.2010802,
          -114.2009456,
          -114.2008107,
          -114.2006755,
          -114.2005402,
          -114.2004052,
          -114.2002703,
          -114.2001353,
          -114.2000004,
          -114.1998649,
          -114.1997295,
          -114.1995942,
          -114.1994594,
          -114.1993251,
          -114.1991915,
          -114.1990581,
          -114.1989249,
          -114.1987915,
          -114.1986578,
          -114.1985245,
          -114.1983922,
          -114.1982612,
          -114.1981314,
          -114.1980022,
          -114.1978737,
          -114.1977456,
          -114.1976174,
          -114.19749,
          -114.1973627,
          -114.1972353,
          -114.1971087,
          -114.1969825,
          -114.1968566,
          -114.1967308,
          -114.196605,
          -114.1964795,
          -114.196353,
          -114.1962274,
          -114.1961021,
          -114.195977,
          -114.1958528,
          -114.1957285,
          -114.1956053,
          -114.1954812,
          -114.1953569,
          -114.1952341,
          -114.195111,
          -114.1949878,
          -114.1948647,
          -114.1947419,
          -114.1946193,
          -114.1944969,
          -114.1943751,
          -114.1942536,
          -114.1941316,
          -114.1940098,
          -114.1938881,
          -114.1937666,
          -114.1936451,
          -114.1935241,
          -114.1934031,
          -114.1932823,
          -114.1931611,
          -114.1930398,
          -114.1929182,
          -114.1927963,
          -114.192674,
          -114.1925521,
          -114.1924304,
          -114.1923087,
          -114.1921877,
          -114.1920676,
          -114.1919475,
          -114.1918278,
          -114.1917079,
          -114.1915883,
          -114.1914689,
          -114.1913495,
          -114.1912301,
          -114.1911112,
          -114.1909925,
          -114.1908748,
          -114.1907565,
          -114.1906377,
          -114.1905186,
          -114.1903994,
          -114.1902802,
          -114.1901608,
          -114.1900413,
          -114.1899219,
          -114.1898022,
          -114.1896827,
          -114.1895628,
          -114.1894432,
          -114.1893243,
          -114.1892069,
          -114.1890916,
          -114.1889781,
          -114.1888646,
          -114.188639,
          -114.1885256,
          -114.1884127,
          -114.1882996,
          -114.1881872,
          -114.1880756,
          -114.1879645,
          -114.1878536,
          -114.1877431,
          -114.1876331,
          -114.1875241,
          -114.1874158,
          -114.187308,
          -114.1872006,
          -114.1870942,
          -114.1869887,
          -114.1868838,
          -114.18678,
          -114.1866767,
          -114.186574,
          -114.1864718,
          -114.18637,
          -114.1862699,
          -114.186171,
          -114.1860755,
          -114.1859808,
          -114.1858884,
          -114.1858007,
          -114.185718,
          -114.1856401,
          -114.1855639,
          -114.1854899,
          -114.1854194,
          -114.1853537,
          -114.185294,
          -114.1852379,
          -114.1851855,
          -114.1851409,
          -114.1851034,
          -114.1850695,
          -114.1850274,
          -114.1849848,
          -114.1849401,
          -114.184898,
          -114.1848568,
          -114.1848148,
          -114.1847734,
          -114.1847372,
          -114.1847045,
          -114.1846763,
          -114.1846566,
          -114.1846456,
          -114.1846407,
          -114.1846413,
          -114.1846462,
          -114.1846548,
          -114.184666,
          -114.1846757,
          -114.184678,
          -114.1846785,
          -114.184672,
          -114.1846614,
          -114.1846492,
          -114.1846324,
          -114.1846116,
          -114.1845902,
          -114.1845676,
          -114.1845403,
          -114.1845071,
          -114.184472,
          -114.1844395,
          -114.1844087,
          -114.1843802,
          -114.1843541,
          -114.1843286,
          -114.1843042,
          -114.1842808,
          -114.184258,
          -114.1842368,
          -114.1842193,
          -114.1842026,
          -114.1841847,
          -114.1841663,
          -114.1841456,
          -114.1841262,
          -114.1841042,
          -114.1840801,
          -114.184056,
          -114.1840309,
          -114.1840028,
          -114.1839733,
          -114.1839446,
          -114.1839133,
          -114.1838823,
          -114.1838508,
          -114.1838197,
          -114.1837903,
          -114.183761,
          -114.1837314,
          -114.1837024,
          -114.1836755,
          -114.1836494,
          -114.1836252,
          -114.1836023,
          -114.1835805,
          -114.1835587,
          -114.1835379,
          -114.1835174,
          -114.1834972,
          -114.1834769,
          -114.1834557,
          -114.1834341,
          -114.1834115,
          -114.1833881,
          -114.1833641,
          -114.1833399,
          -114.1833136,
          -114.1832861,
          -114.1832582,
          -114.1832298,
          -114.1832014,
          -114.1831728,
          -114.183144,
          -114.1831152,
          -114.1830868,
          -114.1830582,
          -114.18303,
          -114.1830026,
          -114.1829761,
          -114.1829503,
          -114.1829246,
          -114.1828996,
          -114.1828747,
          -114.1828501,
          -114.1828254,
          -114.1828005,
          -114.1827754,
          -114.1827499,
          -114.182724,
          -114.1826978,
          -114.1826713,
          -114.1826445,
          -114.1826165,
          -114.182588,
          -114.1825593,
          -114.1825303,
          -114.1825009,
          -114.1824721,
          -114.1824438,
          -114.1824163,
          -114.1823882,
          -114.1823597,
          -114.1823313,
          -114.1823034,
          -114.1822754,
          -114.1822477,
          -114.182221,
          -114.1821943,
          -114.1821677,
          -114.1821417,
          -114.1821154,
          -114.1820886,
          -114.1820622,
          -114.1820359,
          -114.1820099,
          -114.1819848,
          -114.1819588,
          -114.1819338,
          -114.1819089,
          -114.1818839,
          -114.1818605,
          -114.1818372,
          -114.181814,
          -114.1817913,
          -114.1817692,
          -114.1817471,
          -114.1817249,
          -114.1817037,
          -114.1816827,
          -114.1816617,
          -114.1816413,
          -114.1816204,
          -114.1816003,
          -114.1815797,
          -114.1815596,
          -114.1815391,
          -114.1815181,
          -114.1814971,
          -114.1814764,
          -114.1814557,
          -114.1814355,
          -114.1814159,
          -114.1813967,
          -114.1813773,
          -114.1813578,
          -114.1813389,
          -114.1813203,
          -114.181302,
          -114.1812841,
          -114.1812661,
          -114.1812484,
          -114.1812308,
          -114.1812133,
          -114.1811957,
          -114.1811785,
          -114.1811624,
          -114.1811464,
          -114.1811293,
          -114.1811119,
          -114.1810949,
          -114.1810772,
          -114.1810595,
          -114.1810419,
          -114.1810246,
          -114.1810066,
          -114.1809884,
          -114.18097,
          -114.1809514,
          -114.180933,
          -114.1809141,
          -114.1808951,
          -114.1808764,
          -114.180858,
          -114.1808393,
          -114.1808209,
          -114.180803,
          -114.1807857,
          -114.1807693,
          -114.1807535,
          -114.180738,
          -114.180723,
          -114.1807074,
          -114.180693,
          -114.1806796,
          -114.1806673,
          -114.1806544,
          -114.1806416,
          -114.1806288,
          -114.1806154,
          -114.1806011,
          -114.1805859,
          -114.1805699,
          -114.1805535,
          -114.1805358,
          -114.1805164,
          -114.180496,
          -114.180475,
          -114.180453,
          -114.1804301,
          -114.1804066,
          -114.1803826,
          -114.1803586,
          -114.1803348,
          -114.180311,
          -114.1802872,
          -114.1802639,
          -114.1802414,
          -114.1802199,
          -114.180199,
          -114.1801778,
          -114.1801572,
          -114.1801369,
          -114.1801172,
          -114.1800988,
          -114.1800811,
          -114.180064,
          -114.1800471,
          -114.1800303,
          -114.1800145,
          -114.1799995,
          -114.1799852
         ],
         "mode": "lines",
         "name": "",
         "showlegend": false,
         "subplot": "mapbox",
         "type": "scattermapbox"
        }
       ],
       "layout": {
        "legend": {
         "tracegroupgap": 0
        },
        "mapbox": {
         "accesstoken": "pk.eyJ1IjoiYWlieWJydW0iLCJhIjoiY2xhdmRldnhyMDRkNTNybWg0NTl6eHgwZSJ9.phqQCg9UWIXx5wFkc_i0kg",
         "center": {
          "lat": 53.63441512350993,
          "lon": -114.19228581821194
         },
         "domain": {
          "x": [
           0,
           1
          ],
          "y": [
           0,
           1
          ]
         },
         "style": "satellite-streets",
         "zoom": 14
        },
        "margin": {
         "b": 0,
         "l": 0,
         "r": 0,
         "t": 0
        },
        "template": {
         "data": {
          "bar": [
           {
            "error_x": {
             "color": "#2a3f5f"
            },
            "error_y": {
             "color": "#2a3f5f"
            },
            "marker": {
             "line": {
              "color": "#E5ECF6",
              "width": 0.5
             },
             "pattern": {
              "fillmode": "overlay",
              "size": 10,
              "solidity": 0.2
             }
            },
            "type": "bar"
           }
          ],
          "barpolar": [
           {
            "marker": {
             "line": {
              "color": "#E5ECF6",
              "width": 0.5
             },
             "pattern": {
              "fillmode": "overlay",
              "size": 10,
              "solidity": 0.2
             }
            },
            "type": "barpolar"
           }
          ],
          "carpet": [
           {
            "aaxis": {
             "endlinecolor": "#2a3f5f",
             "gridcolor": "white",
             "linecolor": "white",
             "minorgridcolor": "white",
             "startlinecolor": "#2a3f5f"
            },
            "baxis": {
             "endlinecolor": "#2a3f5f",
             "gridcolor": "white",
             "linecolor": "white",
             "minorgridcolor": "white",
             "startlinecolor": "#2a3f5f"
            },
            "type": "carpet"
           }
          ],
          "choropleth": [
           {
            "colorbar": {
             "outlinewidth": 0,
             "ticks": ""
            },
            "type": "choropleth"
           }
          ],
          "contour": [
           {
            "colorbar": {
             "outlinewidth": 0,
             "ticks": ""
            },
            "colorscale": [
             [
              0,
              "#0d0887"
             ],
             [
              0.1111111111111111,
              "#46039f"
             ],
             [
              0.2222222222222222,
              "#7201a8"
             ],
             [
              0.3333333333333333,
              "#9c179e"
             ],
             [
              0.4444444444444444,
              "#bd3786"
             ],
             [
              0.5555555555555556,
              "#d8576b"
             ],
             [
              0.6666666666666666,
              "#ed7953"
             ],
             [
              0.7777777777777778,
              "#fb9f3a"
             ],
             [
              0.8888888888888888,
              "#fdca26"
             ],
             [
              1,
              "#f0f921"
             ]
            ],
            "type": "contour"
           }
          ],
          "contourcarpet": [
           {
            "colorbar": {
             "outlinewidth": 0,
             "ticks": ""
            },
            "type": "contourcarpet"
           }
          ],
          "heatmap": [
           {
            "colorbar": {
             "outlinewidth": 0,
             "ticks": ""
            },
            "colorscale": [
             [
              0,
              "#0d0887"
             ],
             [
              0.1111111111111111,
              "#46039f"
             ],
             [
              0.2222222222222222,
              "#7201a8"
             ],
             [
              0.3333333333333333,
              "#9c179e"
             ],
             [
              0.4444444444444444,
              "#bd3786"
             ],
             [
              0.5555555555555556,
              "#d8576b"
             ],
             [
              0.6666666666666666,
              "#ed7953"
             ],
             [
              0.7777777777777778,
              "#fb9f3a"
             ],
             [
              0.8888888888888888,
              "#fdca26"
             ],
             [
              1,
              "#f0f921"
             ]
            ],
            "type": "heatmap"
           }
          ],
          "heatmapgl": [
           {
            "colorbar": {
             "outlinewidth": 0,
             "ticks": ""
            },
            "colorscale": [
             [
              0,
              "#0d0887"
             ],
             [
              0.1111111111111111,
              "#46039f"
             ],
             [
              0.2222222222222222,
              "#7201a8"
             ],
             [
              0.3333333333333333,
              "#9c179e"
             ],
             [
              0.4444444444444444,
              "#bd3786"
             ],
             [
              0.5555555555555556,
              "#d8576b"
             ],
             [
              0.6666666666666666,
              "#ed7953"
             ],
             [
              0.7777777777777778,
              "#fb9f3a"
             ],
             [
              0.8888888888888888,
              "#fdca26"
             ],
             [
              1,
              "#f0f921"
             ]
            ],
            "type": "heatmapgl"
           }
          ],
          "histogram": [
           {
            "marker": {
             "pattern": {
              "fillmode": "overlay",
              "size": 10,
              "solidity": 0.2
             }
            },
            "type": "histogram"
           }
          ],
          "histogram2d": [
           {
            "colorbar": {
             "outlinewidth": 0,
             "ticks": ""
            },
            "colorscale": [
             [
              0,
              "#0d0887"
             ],
             [
              0.1111111111111111,
              "#46039f"
             ],
             [
              0.2222222222222222,
              "#7201a8"
             ],
             [
              0.3333333333333333,
              "#9c179e"
             ],
             [
              0.4444444444444444,
              "#bd3786"
             ],
             [
              0.5555555555555556,
              "#d8576b"
             ],
             [
              0.6666666666666666,
              "#ed7953"
             ],
             [
              0.7777777777777778,
              "#fb9f3a"
             ],
             [
              0.8888888888888888,
              "#fdca26"
             ],
             [
              1,
              "#f0f921"
             ]
            ],
            "type": "histogram2d"
           }
          ],
          "histogram2dcontour": [
           {
            "colorbar": {
             "outlinewidth": 0,
             "ticks": ""
            },
            "colorscale": [
             [
              0,
              "#0d0887"
             ],
             [
              0.1111111111111111,
              "#46039f"
             ],
             [
              0.2222222222222222,
              "#7201a8"
             ],
             [
              0.3333333333333333,
              "#9c179e"
             ],
             [
              0.4444444444444444,
              "#bd3786"
             ],
             [
              0.5555555555555556,
              "#d8576b"
             ],
             [
              0.6666666666666666,
              "#ed7953"
             ],
             [
              0.7777777777777778,
              "#fb9f3a"
             ],
             [
              0.8888888888888888,
              "#fdca26"
             ],
             [
              1,
              "#f0f921"
             ]
            ],
            "type": "histogram2dcontour"
           }
          ],
          "mesh3d": [
           {
            "colorbar": {
             "outlinewidth": 0,
             "ticks": ""
            },
            "type": "mesh3d"
           }
          ],
          "parcoords": [
           {
            "line": {
             "colorbar": {
              "outlinewidth": 0,
              "ticks": ""
             }
            },
            "type": "parcoords"
           }
          ],
          "pie": [
           {
            "automargin": true,
            "type": "pie"
           }
          ],
          "scatter": [
           {
            "fillpattern": {
             "fillmode": "overlay",
             "size": 10,
             "solidity": 0.2
            },
            "type": "scatter"
           }
          ],
          "scatter3d": [
           {
            "line": {
             "colorbar": {
              "outlinewidth": 0,
              "ticks": ""
             }
            },
            "marker": {
             "colorbar": {
              "outlinewidth": 0,
              "ticks": ""
             }
            },
            "type": "scatter3d"
           }
          ],
          "scattercarpet": [
           {
            "marker": {
             "colorbar": {
              "outlinewidth": 0,
              "ticks": ""
             }
            },
            "type": "scattercarpet"
           }
          ],
          "scattergeo": [
           {
            "marker": {
             "colorbar": {
              "outlinewidth": 0,
              "ticks": ""
             }
            },
            "type": "scattergeo"
           }
          ],
          "scattergl": [
           {
            "marker": {
             "colorbar": {
              "outlinewidth": 0,
              "ticks": ""
             }
            },
            "type": "scattergl"
           }
          ],
          "scattermapbox": [
           {
            "marker": {
             "colorbar": {
              "outlinewidth": 0,
              "ticks": ""
             }
            },
            "type": "scattermapbox"
           }
          ],
          "scatterpolar": [
           {
            "marker": {
             "colorbar": {
              "outlinewidth": 0,
              "ticks": ""
             }
            },
            "type": "scatterpolar"
           }
          ],
          "scatterpolargl": [
           {
            "marker": {
             "colorbar": {
              "outlinewidth": 0,
              "ticks": ""
             }
            },
            "type": "scatterpolargl"
           }
          ],
          "scatterternary": [
           {
            "marker": {
             "colorbar": {
              "outlinewidth": 0,
              "ticks": ""
             }
            },
            "type": "scatterternary"
           }
          ],
          "surface": [
           {
            "colorbar": {
             "outlinewidth": 0,
             "ticks": ""
            },
            "colorscale": [
             [
              0,
              "#0d0887"
             ],
             [
              0.1111111111111111,
              "#46039f"
             ],
             [
              0.2222222222222222,
              "#7201a8"
             ],
             [
              0.3333333333333333,
              "#9c179e"
             ],
             [
              0.4444444444444444,
              "#bd3786"
             ],
             [
              0.5555555555555556,
              "#d8576b"
             ],
             [
              0.6666666666666666,
              "#ed7953"
             ],
             [
              0.7777777777777778,
              "#fb9f3a"
             ],
             [
              0.8888888888888888,
              "#fdca26"
             ],
             [
              1,
              "#f0f921"
             ]
            ],
            "type": "surface"
           }
          ],
          "table": [
           {
            "cells": {
             "fill": {
              "color": "#EBF0F8"
             },
             "line": {
              "color": "white"
             }
            },
            "header": {
             "fill": {
              "color": "#C8D4E3"
             },
             "line": {
              "color": "white"
             }
            },
            "type": "table"
           }
          ]
         },
         "layout": {
          "annotationdefaults": {
           "arrowcolor": "#2a3f5f",
           "arrowhead": 0,
           "arrowwidth": 1
          },
          "autotypenumbers": "strict",
          "coloraxis": {
           "colorbar": {
            "outlinewidth": 0,
            "ticks": ""
           }
          },
          "colorscale": {
           "diverging": [
            [
             0,
             "#8e0152"
            ],
            [
             0.1,
             "#c51b7d"
            ],
            [
             0.2,
             "#de77ae"
            ],
            [
             0.3,
             "#f1b6da"
            ],
            [
             0.4,
             "#fde0ef"
            ],
            [
             0.5,
             "#f7f7f7"
            ],
            [
             0.6,
             "#e6f5d0"
            ],
            [
             0.7,
             "#b8e186"
            ],
            [
             0.8,
             "#7fbc41"
            ],
            [
             0.9,
             "#4d9221"
            ],
            [
             1,
             "#276419"
            ]
           ],
           "sequential": [
            [
             0,
             "#0d0887"
            ],
            [
             0.1111111111111111,
             "#46039f"
            ],
            [
             0.2222222222222222,
             "#7201a8"
            ],
            [
             0.3333333333333333,
             "#9c179e"
            ],
            [
             0.4444444444444444,
             "#bd3786"
            ],
            [
             0.5555555555555556,
             "#d8576b"
            ],
            [
             0.6666666666666666,
             "#ed7953"
            ],
            [
             0.7777777777777778,
             "#fb9f3a"
            ],
            [
             0.8888888888888888,
             "#fdca26"
            ],
            [
             1,
             "#f0f921"
            ]
           ],
           "sequentialminus": [
            [
             0,
             "#0d0887"
            ],
            [
             0.1111111111111111,
             "#46039f"
            ],
            [
             0.2222222222222222,
             "#7201a8"
            ],
            [
             0.3333333333333333,
             "#9c179e"
            ],
            [
             0.4444444444444444,
             "#bd3786"
            ],
            [
             0.5555555555555556,
             "#d8576b"
            ],
            [
             0.6666666666666666,
             "#ed7953"
            ],
            [
             0.7777777777777778,
             "#fb9f3a"
            ],
            [
             0.8888888888888888,
             "#fdca26"
            ],
            [
             1,
             "#f0f921"
            ]
           ]
          },
          "colorway": [
           "#636efa",
           "#EF553B",
           "#00cc96",
           "#ab63fa",
           "#FFA15A",
           "#19d3f3",
           "#FF6692",
           "#B6E880",
           "#FF97FF",
           "#FECB52"
          ],
          "font": {
           "color": "#2a3f5f"
          },
          "geo": {
           "bgcolor": "white",
           "lakecolor": "white",
           "landcolor": "#E5ECF6",
           "showlakes": true,
           "showland": true,
           "subunitcolor": "white"
          },
          "hoverlabel": {
           "align": "left"
          },
          "hovermode": "closest",
          "mapbox": {
           "style": "light"
          },
          "paper_bgcolor": "white",
          "plot_bgcolor": "#E5ECF6",
          "polar": {
           "angularaxis": {
            "gridcolor": "white",
            "linecolor": "white",
            "ticks": ""
           },
           "bgcolor": "#E5ECF6",
           "radialaxis": {
            "gridcolor": "white",
            "linecolor": "white",
            "ticks": ""
           }
          },
          "scene": {
           "xaxis": {
            "backgroundcolor": "#E5ECF6",
            "gridcolor": "white",
            "gridwidth": 2,
            "linecolor": "white",
            "showbackground": true,
            "ticks": "",
            "zerolinecolor": "white"
           },
           "yaxis": {
            "backgroundcolor": "#E5ECF6",
            "gridcolor": "white",
            "gridwidth": 2,
            "linecolor": "white",
            "showbackground": true,
            "ticks": "",
            "zerolinecolor": "white"
           },
           "zaxis": {
            "backgroundcolor": "#E5ECF6",
            "gridcolor": "white",
            "gridwidth": 2,
            "linecolor": "white",
            "showbackground": true,
            "ticks": "",
            "zerolinecolor": "white"
           }
          },
          "shapedefaults": {
           "line": {
            "color": "#2a3f5f"
           }
          },
          "ternary": {
           "aaxis": {
            "gridcolor": "white",
            "linecolor": "white",
            "ticks": ""
           },
           "baxis": {
            "gridcolor": "white",
            "linecolor": "white",
            "ticks": ""
           },
           "bgcolor": "#E5ECF6",
           "caxis": {
            "gridcolor": "white",
            "linecolor": "white",
            "ticks": ""
           }
          },
          "title": {
           "x": 0.05
          },
          "xaxis": {
           "automargin": true,
           "gridcolor": "white",
           "linecolor": "white",
           "ticks": "",
           "title": {
            "standoff": 15
           },
           "zerolinecolor": "white",
           "zerolinewidth": 2
          },
          "yaxis": {
           "automargin": true,
           "gridcolor": "white",
           "linecolor": "white",
           "ticks": "",
           "title": {
            "standoff": 15
           },
           "zerolinecolor": "white",
           "zerolinewidth": 2
          }
         }
        }
       }
      },
      "text/html": [
       "<div>                            <div id=\"7ba5f4ce-a447-48e8-bf5d-e3ee8c55c462\" class=\"plotly-graph-div\" style=\"height:525px; width:100%;\"></div>            <script type=\"text/javascript\">                require([\"plotly\"], function(Plotly) {                    window.PLOTLYENV=window.PLOTLYENV || {};                                    if (document.getElementById(\"7ba5f4ce-a447-48e8-bf5d-e3ee8c55c462\")) {                    Plotly.newPlot(                        \"7ba5f4ce-a447-48e8-bf5d-e3ee8c55c462\",                        [{\"hovertemplate\":\"lat=%{lat}<br>lon=%{lon}<extra></extra>\",\"lat\":[53.6322164,53.6322474,53.6322553,53.6322564,53.6322638,53.6322682,53.6322751,53.6322824,53.6322877,53.6322976,53.6323045,53.6323111,53.6323162,53.6323235,53.6323315,53.6323411,53.6323482,53.632356,53.6323633,53.6323702,53.6323775,53.6323841,53.6323906,53.632397,53.6324034,53.6324102,53.6324168,53.6324232,53.6324297,53.632436,53.6324424,53.6324491,53.6324561,53.6324635,53.6324709,53.6324786,53.6324866,53.632495,53.6325037,53.6325127,53.6325213,53.6325296,53.6325372,53.6325444,53.6325512,53.6325574,53.6325634,53.6325687,53.6325737,53.6325783,53.6325816,53.6325847,53.6325876,53.6325896,53.6325912,53.6325926,53.6325937,53.6325945,53.6325946,53.6325939,53.6325933,53.6325927,53.6325923,53.6325913,53.6325901,53.6325886,53.6325866,53.6325851,53.6325837,53.6325823,53.6325805,53.6325784,53.6325762,53.6325738,53.6325712,53.6325678,53.6325638,53.6325598,53.6325558,53.6325516,53.6325484,53.6325452,53.6325421,53.6325392,53.6325371,53.6325355,53.6325343,53.6325332,53.6325326,53.6325322,53.6325318,53.6325313,53.6325307,53.63253,53.6325293,53.6325287,53.6325282,53.6325281,53.6325283,53.6325291,53.6325305,53.6325325,53.6325353,53.632539,53.6325435,53.6325481,53.6325534,53.6325587,53.6325642,53.6325698,53.6325754,53.6325807,53.6325861,53.6325917,53.6325975,53.6326034,53.63261,53.6326169,53.6326244,53.6326327,53.6326427,53.6326544,53.6326679,53.6326834,53.6327015,53.6327222,53.6327452,53.6327704,53.6327987,53.6328288,53.6328613,53.6328968,53.6329345,53.6329737,53.6330143,53.6330568,53.6331007,53.6331462,53.633193,53.6332412,53.6332909,53.6333417,53.6333939,53.6334474,53.6335022,53.6335583,53.6336151,53.6336731,53.6337316,53.6337911,53.6338512,53.6339125,53.6339742,53.6340366,53.6340993,53.6341623,53.6342254,53.6342887,53.6343522,53.6344162,53.6344805,53.6345449,53.6346097,53.6346752,53.634741,53.634874,53.6349411,53.6350085,53.6350758,53.6351438,53.6352123,53.6352812,53.6353501,53.635419,53.6354875,53.6355559,53.6356245,53.6356934,53.6357614,53.6358301,53.6358982,53.6359662,53.6360331,53.6360986,53.6361623,53.6362237,53.6362825,53.636339,53.6363931,53.6364454,53.6364964,53.6365461,53.6365949,53.6366421,53.6366881,53.6367328,53.6367765,53.6368196,53.6368615,53.6369015,53.6369391,53.6369765,53.6370133,53.6370491,53.6370838,53.6371164,53.6371484,53.6371799,53.6372107,53.6372411,53.6372707,53.6372992,53.6373264,53.6373523,53.6373769,53.6374003,53.637422,53.6374414,53.6374586,53.6374741,53.6374882,53.6375004,53.6375113,53.637521,53.6375295,53.6375371,53.6375442,53.6375509,53.6375575,53.6375638,53.6375702,53.6375768,53.6375836,53.6375906,53.6375974,53.6376036,53.6376093,53.6376149,53.6376204,53.6376253,53.6376291,53.6376317,53.6376336,53.6376351,53.6376364,53.6376364,53.6376348,53.6376313,53.6376263,53.6376201,53.6376126,53.6376032,53.6375931,53.6375824,53.6375718,53.6375613,53.6375522,53.6375438,53.6375359,53.6375288,53.6375227,53.6375173,53.6375119,53.6375062,53.6374994,53.6374913,53.6374824,53.6374728,53.6374629,53.6374533,53.6374432,53.6374334,53.6374242,53.6374157,53.6374087,53.6374032,53.6373974,53.637392,53.6373863,53.6373806,53.637374,53.6373664,53.6373576,53.6373477,53.6373365,53.6373247,53.6373131,53.6373021,53.6372915,53.6372808,53.6372698,53.6372583,53.6372465,53.6372349,53.6372232,53.6372109,53.6371983,53.6371856,53.6371729,53.6371606,53.6371491,53.6371385,53.6371292,53.6371209,53.6371139,53.6371079,53.6371032,53.6370994,53.6370961,53.6370932,53.6370908,53.6370886,53.6370864,53.6370844,53.6370828,53.6370823,53.6370823,53.6370825,53.6370829,53.6370836,53.6370844,53.6370855,53.6370861,53.6370856,53.6370837,53.6370809,53.6370768,53.6370717,53.6370646,53.6370573,53.6370493,53.6370411,53.6370318,53.6370132,53.6370039,53.6369949,53.636986,53.6369778,53.6369697,53.6369614,53.6369528,53.6369439,53.6369345,53.6369245,53.6369143,53.636904,53.6368933,53.6368822,53.6368711,53.6368601,53.6368491,53.6368381,53.6368272,53.6368161,53.6368051,53.6367944,53.6367838,53.6367731,53.636763,53.6367532,53.636744,53.6367346,53.6367235,53.6367119,53.636701,53.636691,53.6366823,53.6366746,53.6366662,53.6366567,53.6366462,53.6366354,53.6366237,53.6366117,53.6366009,53.6365939,53.6365853,53.6365699,53.6365506,53.6365296,53.6365074,53.636483,53.6364563,53.6364284,53.6364,53.63637,53.6363385,53.6363068,53.636275,53.6362433,53.6362103,53.6361785,53.6361438,53.6361086,53.6360725,53.6360349,53.6359981,53.6359622,53.6359269,53.6358928,53.635861,53.6358302,53.6357992,53.6357663,53.6357339,53.6357029,53.6356718,53.6356419,53.6356125,53.6355839,53.6355549,53.6355266,53.6354984,53.6354706,53.6354423,53.635414,53.6353864,53.6353582,53.6353301,53.6353023,53.6352739,53.6352455,53.6352172,53.6351885,53.6351603,53.6351317,53.6351026,53.6350743,53.6350455,53.6350157,53.6349867,53.6349571,53.6349276,53.6348978,53.6348678,53.6348375,53.6348069,53.6347766,53.6347463,53.634716,53.6346852,53.6346542,53.6346237,53.6345934,53.6345634,53.6345332,53.6345033,53.6344732,53.6344429,53.6344127,53.6343832,53.6343539,53.6343247,53.6342953,53.6342663,53.6342375,53.6342085,53.6341793,53.6341497,53.6341202,53.6340903,53.6340606,53.6340309,53.6340012,53.6339718,53.6339421,53.6339121,53.6338821,53.6338523,53.6338224,53.6337927,53.6337628,53.6337329,53.6337032,53.6336738,53.6336444,53.6336153,53.6335865,53.6335576,53.6335286,53.6334998,53.6334708,53.6334417,53.6334128,53.6333839,53.6333548,53.6333256,53.6332964,53.6332664,53.6332364,53.6332065,53.6331767,53.6331469,53.6331172,53.6330873,53.6330574,53.6330275,53.6329979,53.6329684,53.6329393,53.6329094,53.6328799,53.6328502,53.6328207,53.6327915,53.6327626,53.6327329,53.6327036,53.632674,53.6326442,53.6326141,53.6325838,53.6325543,53.6325251,53.6324958,53.6324667,53.6324373,53.6324076,53.6323775,53.6323477,53.6323172,53.6322872,53.6322569,53.632227,53.6321972,53.6321679,53.6321385,53.6321092,53.63208,53.6320507,53.6320212,53.6319917,53.6319621,53.6319324,53.631903,53.6318734,53.6318437,53.6318141,53.6317854,53.6317568,53.6317274,53.6316976,53.6316677,53.6316378,53.6316069,53.6315765,53.6315463,53.6315163,53.6314863,53.6314559,53.6314255,53.6313947,53.6313638,53.6313327,53.6313017,53.6312707,53.6312393,53.6312076,53.6311756,53.6311434,53.6311114,53.6310793,53.6310473,53.6310153,53.6309827,53.6309503,53.6309181,53.6308861,53.6308542,53.6308223,53.6307905,53.6307587,53.6307264,53.6306941,53.6306619,53.6306294,53.6305973,53.6305654,53.6305335,53.6305015,53.6304696,53.6304378,53.6304061,53.6303742,53.6303422,53.6303101,53.6302783,53.6302465,53.6302145,53.6301822,53.6301497,53.6301169,53.6300838,53.6300511,53.6300185,53.6299853,53.6299513,53.6299166,53.6298817,53.6298465,53.6298107,53.6297745,53.629738,53.6297011],\"legendgroup\":\"\",\"line\":{\"color\":\"#636efa\"},\"lon\":[-114.1941555,-114.1942516,-114.1943456,-114.194444,-114.1945308,-114.1946206,-114.1947084,-114.194794,-114.1948735,-114.1949537,-114.1950327,-114.1951096,-114.1951889,-114.1952677,-114.195346,-114.1954241,-114.1955028,-114.1955826,-114.1956622,-114.1957418,-114.1958202,-114.1958997,-114.1959793,-114.196058,-114.1961363,-114.1962137,-114.1962911,-114.1963693,-114.1964445,-114.1965197,-114.1965942,-114.1966682,-114.1967429,-114.1968175,-114.1968917,-114.1969659,-114.1970391,-114.1971121,-114.1971858,-114.1972596,-114.1973335,-114.1974073,-114.1974816,-114.1975559,-114.1976302,-114.1977041,-114.1977781,-114.1978521,-114.1979263,-114.198,-114.198074,-114.1981474,-114.1982212,-114.1982948,-114.1983688,-114.1984428,-114.1985175,-114.1985927,-114.1986683,-114.1987445,-114.1988216,-114.198899,-114.1989772,-114.1990551,-114.1991332,-114.1992116,-114.1992916,-114.1993724,-114.1994537,-114.1995355,-114.1996179,-114.1997012,-114.1997849,-114.1998695,-114.1999547,-114.2000406,-114.2001271,-114.2002146,-114.2003029,-114.2003917,-114.2004806,-114.20057,-114.20066,-114.2007499,-114.2008403,-114.2009314,-114.2010229,-114.2011147,-114.2012072,-114.2013004,-114.2013939,-114.2014883,-114.2015834,-114.2016795,-114.201776,-114.2018732,-114.2019711,-114.2020696,-114.2021684,-114.2022674,-114.2023666,-114.2024659,-114.2025651,-114.2026647,-114.2027649,-114.2028658,-114.2029669,-114.2030683,-114.2031703,-114.2032732,-114.2033763,-114.2034793,-114.2035822,-114.2036855,-114.2037887,-114.203892,-114.2039954,-114.2040991,-114.2042027,-114.2043058,-114.2044083,-114.2045099,-114.2046099,-114.2047081,-114.204804,-114.204897,-114.2049863,-114.2050718,-114.2051525,-114.2052291,-114.2053011,-114.2053674,-114.2054286,-114.2054857,-114.2055383,-114.2055878,-114.2056337,-114.205676,-114.2057157,-114.2057532,-114.2057889,-114.2058223,-114.205853,-114.2058809,-114.2059065,-114.2059297,-114.2059508,-114.2059701,-114.2059883,-114.2060055,-114.2060214,-114.2060362,-114.2060501,-114.2060634,-114.2060769,-114.2060908,-114.2061057,-114.2061214,-114.2061386,-114.2061562,-114.206174,-114.2061921,-114.20621,-114.206227,-114.2062424,-114.2062687,-114.206279,-114.2062875,-114.2062939,-114.2062983,-114.2063012,-114.2063033,-114.2063044,-114.2063055,-114.2063075,-114.20631,-114.2063118,-114.2063114,-114.2063096,-114.2063055,-114.2062989,-114.206287,-114.2062711,-114.2062506,-114.2062249,-114.2061941,-114.2061584,-114.2061176,-114.2060722,-114.2060217,-114.2059659,-114.2059068,-114.2058437,-114.2057771,-114.2057057,-114.2056307,-114.205553,-114.2054721,-114.2053882,-114.2053007,-114.2052091,-114.2051142,-114.2050173,-114.2049182,-114.2048164,-114.2047121,-114.2046059,-114.2044985,-114.2043897,-114.2042797,-114.2041672,-114.2040527,-114.2039361,-114.203817,-114.2036965,-114.2035745,-114.2034509,-114.2033259,-114.2031996,-114.2030722,-114.2029434,-114.2028133,-114.2026825,-114.202551,-114.2024189,-114.202286,-114.2021527,-114.2020192,-114.2018854,-114.2017512,-114.2016169,-114.2014828,-114.2013487,-114.2012145,-114.2010802,-114.2009456,-114.2008107,-114.2006755,-114.2005402,-114.2004052,-114.2002703,-114.2001353,-114.2000004,-114.1998649,-114.1997295,-114.1995942,-114.1994594,-114.1993251,-114.1991915,-114.1990581,-114.1989249,-114.1987915,-114.1986578,-114.1985245,-114.1983922,-114.1982612,-114.1981314,-114.1980022,-114.1978737,-114.1977456,-114.1976174,-114.19749,-114.1973627,-114.1972353,-114.1971087,-114.1969825,-114.1968566,-114.1967308,-114.196605,-114.1964795,-114.196353,-114.1962274,-114.1961021,-114.195977,-114.1958528,-114.1957285,-114.1956053,-114.1954812,-114.1953569,-114.1952341,-114.195111,-114.1949878,-114.1948647,-114.1947419,-114.1946193,-114.1944969,-114.1943751,-114.1942536,-114.1941316,-114.1940098,-114.1938881,-114.1937666,-114.1936451,-114.1935241,-114.1934031,-114.1932823,-114.1931611,-114.1930398,-114.1929182,-114.1927963,-114.192674,-114.1925521,-114.1924304,-114.1923087,-114.1921877,-114.1920676,-114.1919475,-114.1918278,-114.1917079,-114.1915883,-114.1914689,-114.1913495,-114.1912301,-114.1911112,-114.1909925,-114.1908748,-114.1907565,-114.1906377,-114.1905186,-114.1903994,-114.1902802,-114.1901608,-114.1900413,-114.1899219,-114.1898022,-114.1896827,-114.1895628,-114.1894432,-114.1893243,-114.1892069,-114.1890916,-114.1889781,-114.1888646,-114.188639,-114.1885256,-114.1884127,-114.1882996,-114.1881872,-114.1880756,-114.1879645,-114.1878536,-114.1877431,-114.1876331,-114.1875241,-114.1874158,-114.187308,-114.1872006,-114.1870942,-114.1869887,-114.1868838,-114.18678,-114.1866767,-114.186574,-114.1864718,-114.18637,-114.1862699,-114.186171,-114.1860755,-114.1859808,-114.1858884,-114.1858007,-114.185718,-114.1856401,-114.1855639,-114.1854899,-114.1854194,-114.1853537,-114.185294,-114.1852379,-114.1851855,-114.1851409,-114.1851034,-114.1850695,-114.1850274,-114.1849848,-114.1849401,-114.184898,-114.1848568,-114.1848148,-114.1847734,-114.1847372,-114.1847045,-114.1846763,-114.1846566,-114.1846456,-114.1846407,-114.1846413,-114.1846462,-114.1846548,-114.184666,-114.1846757,-114.184678,-114.1846785,-114.184672,-114.1846614,-114.1846492,-114.1846324,-114.1846116,-114.1845902,-114.1845676,-114.1845403,-114.1845071,-114.184472,-114.1844395,-114.1844087,-114.1843802,-114.1843541,-114.1843286,-114.1843042,-114.1842808,-114.184258,-114.1842368,-114.1842193,-114.1842026,-114.1841847,-114.1841663,-114.1841456,-114.1841262,-114.1841042,-114.1840801,-114.184056,-114.1840309,-114.1840028,-114.1839733,-114.1839446,-114.1839133,-114.1838823,-114.1838508,-114.1838197,-114.1837903,-114.183761,-114.1837314,-114.1837024,-114.1836755,-114.1836494,-114.1836252,-114.1836023,-114.1835805,-114.1835587,-114.1835379,-114.1835174,-114.1834972,-114.1834769,-114.1834557,-114.1834341,-114.1834115,-114.1833881,-114.1833641,-114.1833399,-114.1833136,-114.1832861,-114.1832582,-114.1832298,-114.1832014,-114.1831728,-114.183144,-114.1831152,-114.1830868,-114.1830582,-114.18303,-114.1830026,-114.1829761,-114.1829503,-114.1829246,-114.1828996,-114.1828747,-114.1828501,-114.1828254,-114.1828005,-114.1827754,-114.1827499,-114.182724,-114.1826978,-114.1826713,-114.1826445,-114.1826165,-114.182588,-114.1825593,-114.1825303,-114.1825009,-114.1824721,-114.1824438,-114.1824163,-114.1823882,-114.1823597,-114.1823313,-114.1823034,-114.1822754,-114.1822477,-114.182221,-114.1821943,-114.1821677,-114.1821417,-114.1821154,-114.1820886,-114.1820622,-114.1820359,-114.1820099,-114.1819848,-114.1819588,-114.1819338,-114.1819089,-114.1818839,-114.1818605,-114.1818372,-114.181814,-114.1817913,-114.1817692,-114.1817471,-114.1817249,-114.1817037,-114.1816827,-114.1816617,-114.1816413,-114.1816204,-114.1816003,-114.1815797,-114.1815596,-114.1815391,-114.1815181,-114.1814971,-114.1814764,-114.1814557,-114.1814355,-114.1814159,-114.1813967,-114.1813773,-114.1813578,-114.1813389,-114.1813203,-114.181302,-114.1812841,-114.1812661,-114.1812484,-114.1812308,-114.1812133,-114.1811957,-114.1811785,-114.1811624,-114.1811464,-114.1811293,-114.1811119,-114.1810949,-114.1810772,-114.1810595,-114.1810419,-114.1810246,-114.1810066,-114.1809884,-114.18097,-114.1809514,-114.180933,-114.1809141,-114.1808951,-114.1808764,-114.180858,-114.1808393,-114.1808209,-114.180803,-114.1807857,-114.1807693,-114.1807535,-114.180738,-114.180723,-114.1807074,-114.180693,-114.1806796,-114.1806673,-114.1806544,-114.1806416,-114.1806288,-114.1806154,-114.1806011,-114.1805859,-114.1805699,-114.1805535,-114.1805358,-114.1805164,-114.180496,-114.180475,-114.180453,-114.1804301,-114.1804066,-114.1803826,-114.1803586,-114.1803348,-114.180311,-114.1802872,-114.1802639,-114.1802414,-114.1802199,-114.180199,-114.1801778,-114.1801572,-114.1801369,-114.1801172,-114.1800988,-114.1800811,-114.180064,-114.1800471,-114.1800303,-114.1800145,-114.1799995,-114.1799852],\"mode\":\"lines\",\"name\":\"\",\"showlegend\":false,\"subplot\":\"mapbox\",\"type\":\"scattermapbox\"}],                        {\"template\":{\"data\":{\"histogram2dcontour\":[{\"type\":\"histogram2dcontour\",\"colorbar\":{\"outlinewidth\":0,\"ticks\":\"\"},\"colorscale\":[[0.0,\"#0d0887\"],[0.1111111111111111,\"#46039f\"],[0.2222222222222222,\"#7201a8\"],[0.3333333333333333,\"#9c179e\"],[0.4444444444444444,\"#bd3786\"],[0.5555555555555556,\"#d8576b\"],[0.6666666666666666,\"#ed7953\"],[0.7777777777777778,\"#fb9f3a\"],[0.8888888888888888,\"#fdca26\"],[1.0,\"#f0f921\"]]}],\"choropleth\":[{\"type\":\"choropleth\",\"colorbar\":{\"outlinewidth\":0,\"ticks\":\"\"}}],\"histogram2d\":[{\"type\":\"histogram2d\",\"colorbar\":{\"outlinewidth\":0,\"ticks\":\"\"},\"colorscale\":[[0.0,\"#0d0887\"],[0.1111111111111111,\"#46039f\"],[0.2222222222222222,\"#7201a8\"],[0.3333333333333333,\"#9c179e\"],[0.4444444444444444,\"#bd3786\"],[0.5555555555555556,\"#d8576b\"],[0.6666666666666666,\"#ed7953\"],[0.7777777777777778,\"#fb9f3a\"],[0.8888888888888888,\"#fdca26\"],[1.0,\"#f0f921\"]]}],\"heatmap\":[{\"type\":\"heatmap\",\"colorbar\":{\"outlinewidth\":0,\"ticks\":\"\"},\"colorscale\":[[0.0,\"#0d0887\"],[0.1111111111111111,\"#46039f\"],[0.2222222222222222,\"#7201a8\"],[0.3333333333333333,\"#9c179e\"],[0.4444444444444444,\"#bd3786\"],[0.5555555555555556,\"#d8576b\"],[0.6666666666666666,\"#ed7953\"],[0.7777777777777778,\"#fb9f3a\"],[0.8888888888888888,\"#fdca26\"],[1.0,\"#f0f921\"]]}],\"heatmapgl\":[{\"type\":\"heatmapgl\",\"colorbar\":{\"outlinewidth\":0,\"ticks\":\"\"},\"colorscale\":[[0.0,\"#0d0887\"],[0.1111111111111111,\"#46039f\"],[0.2222222222222222,\"#7201a8\"],[0.3333333333333333,\"#9c179e\"],[0.4444444444444444,\"#bd3786\"],[0.5555555555555556,\"#d8576b\"],[0.6666666666666666,\"#ed7953\"],[0.7777777777777778,\"#fb9f3a\"],[0.8888888888888888,\"#fdca26\"],[1.0,\"#f0f921\"]]}],\"contourcarpet\":[{\"type\":\"contourcarpet\",\"colorbar\":{\"outlinewidth\":0,\"ticks\":\"\"}}],\"contour\":[{\"type\":\"contour\",\"colorbar\":{\"outlinewidth\":0,\"ticks\":\"\"},\"colorscale\":[[0.0,\"#0d0887\"],[0.1111111111111111,\"#46039f\"],[0.2222222222222222,\"#7201a8\"],[0.3333333333333333,\"#9c179e\"],[0.4444444444444444,\"#bd3786\"],[0.5555555555555556,\"#d8576b\"],[0.6666666666666666,\"#ed7953\"],[0.7777777777777778,\"#fb9f3a\"],[0.8888888888888888,\"#fdca26\"],[1.0,\"#f0f921\"]]}],\"surface\":[{\"type\":\"surface\",\"colorbar\":{\"outlinewidth\":0,\"ticks\":\"\"},\"colorscale\":[[0.0,\"#0d0887\"],[0.1111111111111111,\"#46039f\"],[0.2222222222222222,\"#7201a8\"],[0.3333333333333333,\"#9c179e\"],[0.4444444444444444,\"#bd3786\"],[0.5555555555555556,\"#d8576b\"],[0.6666666666666666,\"#ed7953\"],[0.7777777777777778,\"#fb9f3a\"],[0.8888888888888888,\"#fdca26\"],[1.0,\"#f0f921\"]]}],\"mesh3d\":[{\"type\":\"mesh3d\",\"colorbar\":{\"outlinewidth\":0,\"ticks\":\"\"}}],\"scatter\":[{\"fillpattern\":{\"fillmode\":\"overlay\",\"size\":10,\"solidity\":0.2},\"type\":\"scatter\"}],\"parcoords\":[{\"type\":\"parcoords\",\"line\":{\"colorbar\":{\"outlinewidth\":0,\"ticks\":\"\"}}}],\"scatterpolargl\":[{\"type\":\"scatterpolargl\",\"marker\":{\"colorbar\":{\"outlinewidth\":0,\"ticks\":\"\"}}}],\"bar\":[{\"error_x\":{\"color\":\"#2a3f5f\"},\"error_y\":{\"color\":\"#2a3f5f\"},\"marker\":{\"line\":{\"color\":\"#E5ECF6\",\"width\":0.5},\"pattern\":{\"fillmode\":\"overlay\",\"size\":10,\"solidity\":0.2}},\"type\":\"bar\"}],\"scattergeo\":[{\"type\":\"scattergeo\",\"marker\":{\"colorbar\":{\"outlinewidth\":0,\"ticks\":\"\"}}}],\"scatterpolar\":[{\"type\":\"scatterpolar\",\"marker\":{\"colorbar\":{\"outlinewidth\":0,\"ticks\":\"\"}}}],\"histogram\":[{\"marker\":{\"pattern\":{\"fillmode\":\"overlay\",\"size\":10,\"solidity\":0.2}},\"type\":\"histogram\"}],\"scattergl\":[{\"type\":\"scattergl\",\"marker\":{\"colorbar\":{\"outlinewidth\":0,\"ticks\":\"\"}}}],\"scatter3d\":[{\"type\":\"scatter3d\",\"line\":{\"colorbar\":{\"outlinewidth\":0,\"ticks\":\"\"}},\"marker\":{\"colorbar\":{\"outlinewidth\":0,\"ticks\":\"\"}}}],\"scattermapbox\":[{\"type\":\"scattermapbox\",\"marker\":{\"colorbar\":{\"outlinewidth\":0,\"ticks\":\"\"}}}],\"scatterternary\":[{\"type\":\"scatterternary\",\"marker\":{\"colorbar\":{\"outlinewidth\":0,\"ticks\":\"\"}}}],\"scattercarpet\":[{\"type\":\"scattercarpet\",\"marker\":{\"colorbar\":{\"outlinewidth\":0,\"ticks\":\"\"}}}],\"carpet\":[{\"aaxis\":{\"endlinecolor\":\"#2a3f5f\",\"gridcolor\":\"white\",\"linecolor\":\"white\",\"minorgridcolor\":\"white\",\"startlinecolor\":\"#2a3f5f\"},\"baxis\":{\"endlinecolor\":\"#2a3f5f\",\"gridcolor\":\"white\",\"linecolor\":\"white\",\"minorgridcolor\":\"white\",\"startlinecolor\":\"#2a3f5f\"},\"type\":\"carpet\"}],\"table\":[{\"cells\":{\"fill\":{\"color\":\"#EBF0F8\"},\"line\":{\"color\":\"white\"}},\"header\":{\"fill\":{\"color\":\"#C8D4E3\"},\"line\":{\"color\":\"white\"}},\"type\":\"table\"}],\"barpolar\":[{\"marker\":{\"line\":{\"color\":\"#E5ECF6\",\"width\":0.5},\"pattern\":{\"fillmode\":\"overlay\",\"size\":10,\"solidity\":0.2}},\"type\":\"barpolar\"}],\"pie\":[{\"automargin\":true,\"type\":\"pie\"}]},\"layout\":{\"autotypenumbers\":\"strict\",\"colorway\":[\"#636efa\",\"#EF553B\",\"#00cc96\",\"#ab63fa\",\"#FFA15A\",\"#19d3f3\",\"#FF6692\",\"#B6E880\",\"#FF97FF\",\"#FECB52\"],\"font\":{\"color\":\"#2a3f5f\"},\"hovermode\":\"closest\",\"hoverlabel\":{\"align\":\"left\"},\"paper_bgcolor\":\"white\",\"plot_bgcolor\":\"#E5ECF6\",\"polar\":{\"bgcolor\":\"#E5ECF6\",\"angularaxis\":{\"gridcolor\":\"white\",\"linecolor\":\"white\",\"ticks\":\"\"},\"radialaxis\":{\"gridcolor\":\"white\",\"linecolor\":\"white\",\"ticks\":\"\"}},\"ternary\":{\"bgcolor\":\"#E5ECF6\",\"aaxis\":{\"gridcolor\":\"white\",\"linecolor\":\"white\",\"ticks\":\"\"},\"baxis\":{\"gridcolor\":\"white\",\"linecolor\":\"white\",\"ticks\":\"\"},\"caxis\":{\"gridcolor\":\"white\",\"linecolor\":\"white\",\"ticks\":\"\"}},\"coloraxis\":{\"colorbar\":{\"outlinewidth\":0,\"ticks\":\"\"}},\"colorscale\":{\"sequential\":[[0.0,\"#0d0887\"],[0.1111111111111111,\"#46039f\"],[0.2222222222222222,\"#7201a8\"],[0.3333333333333333,\"#9c179e\"],[0.4444444444444444,\"#bd3786\"],[0.5555555555555556,\"#d8576b\"],[0.6666666666666666,\"#ed7953\"],[0.7777777777777778,\"#fb9f3a\"],[0.8888888888888888,\"#fdca26\"],[1.0,\"#f0f921\"]],\"sequentialminus\":[[0.0,\"#0d0887\"],[0.1111111111111111,\"#46039f\"],[0.2222222222222222,\"#7201a8\"],[0.3333333333333333,\"#9c179e\"],[0.4444444444444444,\"#bd3786\"],[0.5555555555555556,\"#d8576b\"],[0.6666666666666666,\"#ed7953\"],[0.7777777777777778,\"#fb9f3a\"],[0.8888888888888888,\"#fdca26\"],[1.0,\"#f0f921\"]],\"diverging\":[[0,\"#8e0152\"],[0.1,\"#c51b7d\"],[0.2,\"#de77ae\"],[0.3,\"#f1b6da\"],[0.4,\"#fde0ef\"],[0.5,\"#f7f7f7\"],[0.6,\"#e6f5d0\"],[0.7,\"#b8e186\"],[0.8,\"#7fbc41\"],[0.9,\"#4d9221\"],[1,\"#276419\"]]},\"xaxis\":{\"gridcolor\":\"white\",\"linecolor\":\"white\",\"ticks\":\"\",\"title\":{\"standoff\":15},\"zerolinecolor\":\"white\",\"automargin\":true,\"zerolinewidth\":2},\"yaxis\":{\"gridcolor\":\"white\",\"linecolor\":\"white\",\"ticks\":\"\",\"title\":{\"standoff\":15},\"zerolinecolor\":\"white\",\"automargin\":true,\"zerolinewidth\":2},\"scene\":{\"xaxis\":{\"backgroundcolor\":\"#E5ECF6\",\"gridcolor\":\"white\",\"linecolor\":\"white\",\"showbackground\":true,\"ticks\":\"\",\"zerolinecolor\":\"white\",\"gridwidth\":2},\"yaxis\":{\"backgroundcolor\":\"#E5ECF6\",\"gridcolor\":\"white\",\"linecolor\":\"white\",\"showbackground\":true,\"ticks\":\"\",\"zerolinecolor\":\"white\",\"gridwidth\":2},\"zaxis\":{\"backgroundcolor\":\"#E5ECF6\",\"gridcolor\":\"white\",\"linecolor\":\"white\",\"showbackground\":true,\"ticks\":\"\",\"zerolinecolor\":\"white\",\"gridwidth\":2}},\"shapedefaults\":{\"line\":{\"color\":\"#2a3f5f\"}},\"annotationdefaults\":{\"arrowcolor\":\"#2a3f5f\",\"arrowhead\":0,\"arrowwidth\":1},\"geo\":{\"bgcolor\":\"white\",\"landcolor\":\"#E5ECF6\",\"subunitcolor\":\"white\",\"showland\":true,\"showlakes\":true,\"lakecolor\":\"white\"},\"title\":{\"x\":0.05},\"mapbox\":{\"style\":\"light\"}}},\"mapbox\":{\"domain\":{\"x\":[0.0,1.0],\"y\":[0.0,1.0]},\"center\":{\"lat\":53.63441512350993,\"lon\":-114.19228581821194},\"zoom\":14,\"style\":\"satellite-streets\",\"accesstoken\":\"pk.eyJ1IjoiYWlieWJydW0iLCJhIjoiY2xhdmRldnhyMDRkNTNybWg0NTl6eHgwZSJ9.phqQCg9UWIXx5wFkc_i0kg\"},\"legend\":{\"tracegroupgap\":0},\"margin\":{\"t\":0,\"r\":0,\"l\":0,\"b\":0}},                        {\"responsive\": true}                    ).then(function(){\n",
       "                            \n",
       "var gd = document.getElementById('7ba5f4ce-a447-48e8-bf5d-e3ee8c55c462');\n",
       "var x = new MutationObserver(function (mutations, observer) {{\n",
       "        var display = window.getComputedStyle(gd).display;\n",
       "        if (!display || display === 'none') {{\n",
       "            console.log([gd, 'removed!']);\n",
       "            Plotly.purge(gd);\n",
       "            observer.disconnect();\n",
       "        }}\n",
       "}});\n",
       "\n",
       "// Listen for the removal of the full notebook cells\n",
       "var notebookContainer = gd.closest('#notebook-container');\n",
       "if (notebookContainer) {{\n",
       "    x.observe(notebookContainer, {childList: true});\n",
       "}}\n",
       "\n",
       "// Listen for the clearing of the current output cell\n",
       "var outputEl = gd.closest('.output');\n",
       "if (outputEl) {{\n",
       "    x.observe(outputEl, {childList: true});\n",
       "}}\n",
       "\n",
       "                        })                };                });            </script>        </div>"
      ]
     },
     "metadata": {},
     "output_type": "display_data"
    }
   ],
   "source": [
    "token = \"pk.eyJ1IjoiYWlieWJydW0iLCJhIjoiY2xhdmRldnhyMDRkNTNybWg0NTl6eHgwZSJ9.phqQCg9UWIXx5wFkc_i0kg\"\n",
    "\n",
    "fig = px.line_mapbox(df, lat=\"lat\", lon=\"lon\", zoom=14)\n",
    "fig.update_layout(mapbox_style=\"satellite-streets\", mapbox_accesstoken=token)\n",
    "fig.update_layout(margin={\"r\":0,\"t\":0,\"l\":0,\"b\":0})\n",
    "fig.show()"
   ]
  },
  {
   "cell_type": "code",
   "execution_count": 16,
   "id": "161121ec",
   "metadata": {},
   "outputs": [],
   "source": [
    "df.to_csv('first_test.csv')"
   ]
  }
 ],
 "metadata": {
  "kernelspec": {
   "display_name": "Python 3 (ipykernel)",
   "language": "python",
   "name": "python3"
  },
  "language_info": {
   "codemirror_mode": {
    "name": "ipython",
    "version": 3
   },
   "file_extension": ".py",
   "mimetype": "text/x-python",
   "name": "python",
   "nbconvert_exporter": "python",
   "pygments_lexer": "ipython3",
   "version": "3.10.8"
  },
  "vscode": {
   "interpreter": {
    "hash": "54475913ceedc2ed8e3fa627f259efe0f9ecd0309282493369d913b54a513e00"
   }
  }
 },
 "nbformat": 4,
 "nbformat_minor": 5
}
